{
 "cells": [
  {
   "cell_type": "markdown",
   "metadata": {},
   "source": [
    "# Finite State Vending Machine"
   ]
  },
  {
   "cell_type": "markdown",
   "metadata": {},
   "source": [
    "authors:<br>\n",
    "Jacob Schreiber [<a href=\"mailto:jmschreiber91@gmail.com\">jmschreiber91@gmail.com</a>]<br>\n",
    "Nicholas Farn [<a href=\"mailto:nicholasfarn@gmail.com\">nicholasfarn@gmail.com</a>]"
   ]
  },
  {
   "cell_type": "markdown",
   "metadata": {},
   "source": [
    "This example shows how to create a FSM in order to simulate a vending machine."
   ]
  },
  {
   "cell_type": "code",
   "execution_count": 1,
   "metadata": {
    "collapsed": true
   },
   "outputs": [],
   "source": [
    "from pomegranate import *"
   ]
  },
  {
   "cell_type": "markdown",
   "metadata": {},
   "source": [
    "First create the states for the FSM, this is the same as one would create states in a HMM."
   ]
  },
  {
   "cell_type": "code",
   "execution_count": 2,
   "metadata": {
    "collapsed": true
   },
   "outputs": [],
   "source": [
    "a = State( DiscreteDistribution({  0 : 1.0 }), name=\"0\" )\n",
    "b = State( DiscreteDistribution({  5 : 1.0 }), name=\"5\" )\n",
    "c = State( DiscreteDistribution({  5 : 1.0 }), name=\"10a\" )\n",
    "d = State( DiscreteDistribution({  5 : 1.0 }), name=\"15a\" )\n",
    "e = State( DiscreteDistribution({ 10 : 1.0 }), name=\"10b\" )\n",
    "f = State( DiscreteDistribution({ 10 : 1.0 }), name=\"15b\" )"
   ]
  },
  {
   "cell_type": "markdown",
   "metadata": {},
   "source": [
    "Now lets create our FSM by created an instance of a FiniteStateMachine."
   ]
  },
  {
   "cell_type": "code",
   "execution_count": 4,
   "metadata": {
    "collapsed": true
   },
   "outputs": [],
   "source": [
    "model = FiniteStateMachine( \"Vending Machine\", start=a )"
   ]
  },
  {
   "cell_type": "markdown",
   "metadata": {},
   "source": [
    "And add the states to the FSM."
   ]
  },
  {
   "cell_type": "code",
   "execution_count": 5,
   "metadata": {
    "collapsed": true
   },
   "outputs": [],
   "source": [
    "model.add_states( [a, b, c, d, e, f] )"
   ]
  },
  {
   "cell_type": "markdown",
   "metadata": {},
   "source": [
    "Now lets connect the states acoording to possible transactions."
   ]
  },
  {
   "cell_type": "code",
   "execution_count": 6,
   "metadata": {
    "collapsed": true
   },
   "outputs": [],
   "source": [
    "model.add_transition( a, b, 0.33 )\n",
    "model.add_transition( a, a, 0.33 )\n",
    "model.add_transition( a, e, 0.33 )\n",
    "model.add_transition( b, c, 0.5 )\n",
    "model.add_transition( b, f, 0.5 )\n",
    "model.add_transition( c, e, 1.0 )\n",
    "model.add_transition( d, a, 1.0 )\n",
    "model.add_transition( e, d, 0.5 )\n",
    "model.add_transition( e, f, 0.5 )\n",
    "model.add_transition( f, a, 1.0 )"
   ]
  },
  {
   "cell_type": "markdown",
   "metadata": {},
   "source": [
    "We finish by baking the model, thus finalizing its structure."
   ]
  },
  {
   "cell_type": "code",
   "execution_count": 7,
   "metadata": {
    "collapsed": true
   },
   "outputs": [],
   "source": [
    "model.bake( merge=False )"
   ]
  },
  {
   "cell_type": "markdown",
   "metadata": {},
   "source": [
    "Now let's create a sample sequence of observations."
   ]
  },
  {
   "cell_type": "code",
   "execution_count": 8,
   "metadata": {
    "collapsed": true
   },
   "outputs": [],
   "source": [
    "seq = [ 5, 5, 5, 0, 0 ]"
   ]
  },
  {
   "cell_type": "markdown",
   "metadata": {},
   "source": [
    "Now we can see where the model is for each step in our sequence of observations."
   ]
  },
  {
   "cell_type": "code",
   "execution_count": 10,
   "metadata": {
    "collapsed": false
   },
   "outputs": [
    {
     "name": "stdout",
     "output_type": "stream",
     "text": [
      "Start 0\n",
      "5 0\n",
      "5 0\n",
      "5 0\n",
      "0 0\n",
      "0 0\n"
     ]
    },
    {
     "name": "stderr",
     "output_type": "stream",
     "text": [
      "Exception SyntaxError: SyntaxError('No edges leaving state 0 with key 5',) in 'pomegranate.fsm.FiniteStateMachine._step' ignored\n",
      "Exception SyntaxError: SyntaxError('No edges leaving state 0 with key 5',) in 'pomegranate.fsm.FiniteStateMachine._step' ignored\n",
      "Exception SyntaxError: SyntaxError('No edges leaving state 0 with key 5',) in 'pomegranate.fsm.FiniteStateMachine._step' ignored\n",
      "Exception SyntaxError: SyntaxError('No edges leaving state 0 with key 0',) in 'pomegranate.fsm.FiniteStateMachine._step' ignored\n",
      "Exception SyntaxError: SyntaxError('No edges leaving state 0 with key 0',) in 'pomegranate.fsm.FiniteStateMachine._step' ignored\n"
     ]
    }
   ],
   "source": [
    "print \"Start\", model.current_state.name\n",
    "\n",
    "for symbol in seq:\n",
    "\tmodel.step( symbol )\n",
    "\tprint symbol, model.current_state.name"
   ]
  },
  {
   "cell_type": "markdown",
   "metadata": {},
   "source": [
    "Let's try this out one more time on a different sequence of observations."
   ]
  },
  {
   "cell_type": "code",
   "execution_count": 11,
   "metadata": {
    "collapsed": false
   },
   "outputs": [
    {
     "name": "stdout",
     "output_type": "stream",
     "text": [
      "Start 0\n",
      "5 0\n",
      "10 0\n",
      "0 0\n"
     ]
    },
    {
     "name": "stderr",
     "output_type": "stream",
     "text": [
      "Exception SyntaxError: SyntaxError('No edges leaving state 0 with key 5',) in 'pomegranate.fsm.FiniteStateMachine._step' ignored\n",
      "Exception SyntaxError: SyntaxError('No edges leaving state 0 with key 10',) in 'pomegranate.fsm.FiniteStateMachine._step' ignored\n",
      "Exception SyntaxError: SyntaxError('No edges leaving state 0 with key 0',) in 'pomegranate.fsm.FiniteStateMachine._step' ignored\n"
     ]
    }
   ],
   "source": [
    "seq = [ 5, 10, 0 ]\n",
    "\n",
    "print \"Start\", model.current_state.name\n",
    "\n",
    "for symbol in seq:\n",
    "\tmodel.step( symbol )\n",
    "\tprint symbol, model.current_state.name"
   ]
  }
 ],
 "metadata": {
  "kernelspec": {
   "display_name": "Python 2",
   "language": "python",
   "name": "python2"
  },
  "language_info": {
   "codemirror_mode": {
    "name": "ipython",
    "version": 2
   },
   "file_extension": ".py",
   "mimetype": "text/x-python",
   "name": "python",
   "nbconvert_exporter": "python",
   "pygments_lexer": "ipython2",
   "version": "2.7.11"
  }
 },
 "nbformat": 4,
 "nbformat_minor": 0
}
