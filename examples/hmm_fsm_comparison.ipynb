{
 "cells": [
  {
   "cell_type": "markdown",
   "metadata": {},
   "source": [
    "# Hidden Markov Model and Finite State Machine Comparison"
   ]
  },
  {
   "cell_type": "markdown",
   "metadata": {},
   "source": [
    "authors:<br>\n",
    "Jacob Schreiber [<a href=\"mailto:jmschreiber91@gmail.com\">jmschreiber91@gmail.com</a>]<br>\n",
    "Nicholas Farn [<a href=\"mailto:nicholasfarn@gmail.com\">nicholasfarn@gmail.com</a>]"
   ]
  },
  {
   "cell_type": "markdown",
   "metadata": {},
   "source": [
    "This example compares the flips of a coin, either a fair or unfair coin, implemented through both a HMM and a FSM."
   ]
  },
  {
   "cell_type": "code",
   "execution_count": 1,
   "metadata": {
    "collapsed": true
   },
   "outputs": [],
   "source": [
    "from pomegranate import *"
   ]
  },
  {
   "cell_type": "markdown",
   "metadata": {},
   "source": [
    "First we will create the states of the coin, either unfair or fair."
   ]
  },
  {
   "cell_type": "code",
   "execution_count": 2,
   "metadata": {
    "collapsed": true
   },
   "outputs": [],
   "source": [
    "fair = State( DiscreteDistribution({ 'H' : 0.5, 'T' : 0.5 }), \"fair\" )\n",
    "unfair = State( DiscreteDistribution({ 'H' : 0.75, 'T' : 0.25 }), \"unfair\" )"
   ]
  },
  {
   "cell_type": "markdown",
   "metadata": {},
   "source": [
    "Now we'll add the transition probabilities. There is a 50% probability the coin will stay the same, and 50% probability the coin will change."
   ]
  },
  {
   "cell_type": "code",
   "execution_count": 3,
   "metadata": {
    "collapsed": true
   },
   "outputs": [],
   "source": [
    "stay_same = 0.5\n",
    "change = 1. - stay_same"
   ]
  },
  {
   "cell_type": "markdown",
   "metadata": {},
   "source": [
    "We will first create the HMM starting with creating a HiddenMarkovModel instance, then adding the states."
   ]
  },
  {
   "cell_type": "code",
   "execution_count": 4,
   "metadata": {
    "collapsed": true
   },
   "outputs": [],
   "source": [
    "hmm = HiddenMarkovModel( \"HT\" )\n",
    "hmm.add_states([fair, unfair])"
   ]
  },
  {
   "cell_type": "markdown",
   "metadata": {},
   "source": [
    "Since we don't know which state the model starts off with, we will make the start state a 50-50 split between fair and unfair."
   ]
  },
  {
   "cell_type": "code",
   "execution_count": 5,
   "metadata": {
    "collapsed": true
   },
   "outputs": [],
   "source": [
    "hmm.add_transition( hmm.start, fair, 0.5 )\n",
    "hmm.add_transition( hmm.start, unfair, 0.5 )"
   ]
  },
  {
   "cell_type": "markdown",
   "metadata": {},
   "source": [
    "Next we'll add the transition matrix to the HMM."
   ]
  },
  {
   "cell_type": "code",
   "execution_count": 6,
   "metadata": {
    "collapsed": true
   },
   "outputs": [],
   "source": [
    "hmm.add_transition( fair, fair, stay_same )\n",
    "hmm.add_transition( fair, unfair, change )\n",
    "\n",
    "hmm.add_transition( unfair, unfair, stay_same )\n",
    "hmm.add_transition( unfair, fair, change )"
   ]
  },
  {
   "cell_type": "markdown",
   "metadata": {},
   "source": [
    "Finally we'll \"bake\" the model, finalizing its structure."
   ]
  },
  {
   "cell_type": "code",
   "execution_count": 7,
   "metadata": {
    "collapsed": true
   },
   "outputs": [],
   "source": [
    "hmm.bake()"
   ]
  },
  {
   "cell_type": "markdown",
   "metadata": {},
   "source": [
    "Now we can continue on and create the FSM, starting with creating a FiniteStateMachine instance."
   ]
  },
  {
   "cell_type": "code",
   "execution_count": 8,
   "metadata": {
    "collapsed": true
   },
   "outputs": [],
   "source": [
    "fsm = FiniteStateMachine( \"HT\" )\n",
    "fsm.add_states([fair, unfair])"
   ]
  },
  {
   "cell_type": "markdown",
   "metadata": {},
   "source": [
    "Once again we don't know which state the model starts off with, so the split is 50-50 again."
   ]
  },
  {
   "cell_type": "code",
   "execution_count": 9,
   "metadata": {
    "collapsed": true
   },
   "outputs": [],
   "source": [
    "fsm.add_transition( fsm.start, fair, 0.5 )\n",
    "fsm.add_transition( fsm.start, unfair, 0.5 )"
   ]
  },
  {
   "cell_type": "markdown",
   "metadata": {},
   "source": [
    "We add the transition matrix."
   ]
  },
  {
   "cell_type": "code",
   "execution_count": 10,
   "metadata": {
    "collapsed": true
   },
   "outputs": [],
   "source": [
    "fsm.add_transition( fair, fair, stay_same )\n",
    "fsm.add_transition( fair, unfair, change )\n",
    "\n",
    "fsm.add_transition( unfair, unfair, stay_same )\n",
    "fsm.add_transition( unfair, fair, change )"
   ]
  },
  {
   "cell_type": "markdown",
   "metadata": {},
   "source": [
    "And like the HMM, we finalize the FSM's structure by \"baking\" it."
   ]
  },
  {
   "cell_type": "code",
   "execution_count": 11,
   "metadata": {
    "collapsed": true
   },
   "outputs": [],
   "source": [
    "fsm.bake()"
   ]
  },
  {
   "cell_type": "markdown",
   "metadata": {},
   "source": [
    "Now lets test out our models with the following sequence."
   ]
  },
  {
   "cell_type": "code",
   "execution_count": 12,
   "metadata": {
    "collapsed": true
   },
   "outputs": [],
   "source": [
    "sequence = [ 'H', 'H', 'T', 'T', 'H', 'T', 'H', 'T', 'H', 'H', 'H', 'H', 'H', 'H', 'H', 'H', 'T', 'T', 'H' ]"
   ]
  },
  {
   "cell_type": "markdown",
   "metadata": {},
   "source": [
    "We can see the most probable states the model is in for each flip with the HMM."
   ]
  },
  {
   "cell_type": "code",
   "execution_count": 13,
   "metadata": {
    "collapsed": false
   },
   "outputs": [
    {
     "name": "stdout",
     "output_type": "stream",
     "text": [
      "HMM Path\n",
      "HT-start\tunfair\tunfair\tfair\tfair\tunfair\tfair\tunfair\tfair\tunfair\tunfair\tunfair\tunfair\tunfair\tunfair\tunfair\tunfair\tfair\tfair\tunfair\n"
     ]
    }
   ],
   "source": [
    "print \"HMM Path\"\n",
    "print \"\\t\".join( state.name for _, state in hmm.viterbi( sequence )[1] )"
   ]
  },
  {
   "cell_type": "markdown",
   "metadata": {},
   "source": [
    "We can see the same with the FSM as well."
   ]
  },
  {
   "cell_type": "code",
   "execution_count": 17,
   "metadata": {
    "collapsed": false
   },
   "outputs": [
    {
     "name": "stdout",
     "output_type": "stream",
     "text": [
      "FSM Path\n",
      "HT-start HT-start HT-start HT-start HT-start HT-start HT-start HT-start HT-start HT-start HT-start HT-start HT-start HT-start HT-start HT-start HT-start HT-start HT-start\n"
     ]
    },
    {
     "name": "stderr",
     "output_type": "stream",
     "text": [
      "Exception SyntaxError: SyntaxError('No edges leaving state HT-start with key H',) in 'pomegranate.fsm.FiniteStateMachine._step' ignored\n",
      "Exception SyntaxError: SyntaxError('No edges leaving state HT-start with key H',) in 'pomegranate.fsm.FiniteStateMachine._step' ignored\n",
      "Exception SyntaxError: SyntaxError('No edges leaving state HT-start with key T',) in 'pomegranate.fsm.FiniteStateMachine._step' ignored\n",
      "Exception SyntaxError: SyntaxError('No edges leaving state HT-start with key T',) in 'pomegranate.fsm.FiniteStateMachine._step' ignored\n",
      "Exception SyntaxError: SyntaxError('No edges leaving state HT-start with key H',) in 'pomegranate.fsm.FiniteStateMachine._step' ignored\n",
      "Exception SyntaxError: SyntaxError('No edges leaving state HT-start with key T',) in 'pomegranate.fsm.FiniteStateMachine._step' ignored\n",
      "Exception SyntaxError: SyntaxError('No edges leaving state HT-start with key H',) in 'pomegranate.fsm.FiniteStateMachine._step' ignored\n",
      "Exception SyntaxError: SyntaxError('No edges leaving state HT-start with key T',) in 'pomegranate.fsm.FiniteStateMachine._step' ignored\n",
      "Exception SyntaxError: SyntaxError('No edges leaving state HT-start with key H',) in 'pomegranate.fsm.FiniteStateMachine._step' ignored\n",
      "Exception SyntaxError: SyntaxError('No edges leaving state HT-start with key H',) in 'pomegranate.fsm.FiniteStateMachine._step' ignored\n",
      "Exception SyntaxError: SyntaxError('No edges leaving state HT-start with key H',) in 'pomegranate.fsm.FiniteStateMachine._step' ignored\n",
      "Exception SyntaxError: SyntaxError('No edges leaving state HT-start with key H',) in 'pomegranate.fsm.FiniteStateMachine._step' ignored\n",
      "Exception SyntaxError: SyntaxError('No edges leaving state HT-start with key H',) in 'pomegranate.fsm.FiniteStateMachine._step' ignored\n",
      "Exception SyntaxError: SyntaxError('No edges leaving state HT-start with key H',) in 'pomegranate.fsm.FiniteStateMachine._step' ignored\n",
      "Exception SyntaxError: SyntaxError('No edges leaving state HT-start with key H',) in 'pomegranate.fsm.FiniteStateMachine._step' ignored\n",
      "Exception SyntaxError: SyntaxError('No edges leaving state HT-start with key H',) in 'pomegranate.fsm.FiniteStateMachine._step' ignored\n",
      "Exception SyntaxError: SyntaxError('No edges leaving state HT-start with key T',) in 'pomegranate.fsm.FiniteStateMachine._step' ignored\n",
      "Exception SyntaxError: SyntaxError('No edges leaving state HT-start with key T',) in 'pomegranate.fsm.FiniteStateMachine._step' ignored\n",
      "Exception SyntaxError: SyntaxError('No edges leaving state HT-start with key H',) in 'pomegranate.fsm.FiniteStateMachine._step' ignored\n"
     ]
    }
   ],
   "source": [
    "print \"FSM Path\"\n",
    "for flip in sequence:\n",
    "\tfsm.step( flip )\n",
    "\tprint fsm.current_state.name,"
   ]
  },
  {
   "cell_type": "code",
   "execution_count": null,
   "metadata": {
    "collapsed": true
   },
   "outputs": [],
   "source": []
  }
 ],
 "metadata": {
  "kernelspec": {
   "display_name": "Python 2",
   "language": "python",
   "name": "python2"
  },
  "language_info": {
   "codemirror_mode": {
    "name": "ipython",
    "version": 2
   },
   "file_extension": ".py",
   "mimetype": "text/x-python",
   "name": "python",
   "nbconvert_exporter": "python",
   "pygments_lexer": "ipython2",
   "version": "2.7.11"
  }
 },
 "nbformat": 4,
 "nbformat_minor": 0
}
