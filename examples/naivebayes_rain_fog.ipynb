{
 "cells": [
  {
   "cell_type": "markdown",
   "metadata": {},
   "source": [
    "# Rain Influences Fog or Vice Versa?"
   ]
  },
  {
   "cell_type": "markdown",
   "metadata": {},
   "source": [
    "author: Nicholas Farn [<a href =\"sendto:nicholasfarn@gmail.com\">nicholasfarn@gmail.com</a>]"
   ]
  },
  {
   "cell_type": "markdown",
   "metadata": {},
   "source": [
    "In this example we will use a naive bayes classifier to compare two models for a bayesian network, one in which rain influences the probability of fog occurring, another in which fog influences the probability of rain occurring, and a third in which they are independent from one another. All of which affect whether or not grass is wet."
   ]
  },
  {
   "cell_type": "code",
   "execution_count": 1,
   "metadata": {
    "collapsed": true
   },
   "outputs": [],
   "source": [
    "from pomegranate import *\n",
    "import numpy as np"
   ]
  },
  {
   "cell_type": "markdown",
   "metadata": {},
   "source": [
    "First we'll create the bayesian network in which rain influences the occurrence of fog. To do that we first create a discrete distribution for the occurrence of rain."
   ]
  },
  {
   "cell_type": "code",
   "execution_count": 2,
   "metadata": {
    "collapsed": true
   },
   "outputs": [],
   "source": [
    "dist_rain = DiscreteDistribution( { 'T': 0.6, 'F': 0.4 } )"
   ]
  },
  {
   "cell_type": "markdown",
   "metadata": {},
   "source": [
    "Now we can create a conditional probability table for fog which is dependent on rain."
   ]
  },
  {
   "cell_type": "code",
   "execution_count": 3,
   "metadata": {
    "collapsed": false
   },
   "outputs": [],
   "source": [
    "dist_fog = ConditionalProbabilityTable(\n",
    "    [[ 'T', 'T', 0.1 ],\n",
    "     [ 'T', 'F', 0.9 ],\n",
    "     [ 'F', 'T', 0.4 ],\n",
    "     [ 'F', 'F', 0.6 ]], [ dist_rain ] )"
   ]
  },
  {
   "cell_type": "markdown",
   "metadata": {},
   "source": [
    "And finally the conditional probability table for whether the grass is wet, which is dependent upon rain and fog."
   ]
  },
  {
   "cell_type": "code",
   "execution_count": 4,
   "metadata": {
    "collapsed": true
   },
   "outputs": [],
   "source": [
    "dist_grass = ConditionalProbabilityTable(\n",
    "    [[ 'T', 'T', 'T', 0.99 ],\n",
    "     [ 'T', 'T', 'F', 0.01 ],\n",
    "     [ 'T', 'F', 'T', 0.9 ],\n",
    "     [ 'T', 'F', 'F', 0.1 ],\n",
    "     [ 'F', 'T', 'T', 0.7 ],\n",
    "     [ 'F', 'T', 'F', 0.3 ],\n",
    "     [ 'F', 'F', 'T', 0.1 ],\n",
    "     [ 'F', 'F', 'F', 0.9 ]], [ dist_rain, dist_fog ] )"
   ]
  },
  {
   "cell_type": "markdown",
   "metadata": {},
   "source": [
    "Now that we have our distributions, we can create states for our bayesian network out of them."
   ]
  },
  {
   "cell_type": "code",
   "execution_count": 5,
   "metadata": {
    "collapsed": true
   },
   "outputs": [],
   "source": [
    "rain = State( dist_rain, 'rain' )\n",
    "fog = State( dist_fog, 'fog' )\n",
    "grass = State( dist_grass, 'grass' )"
   ]
  },
  {
   "cell_type": "markdown",
   "metadata": {},
   "source": [
    "And finally we can create our bayesian network in which fog is dependent upon rain. We add the states in and the possible transitions as well."
   ]
  },
  {
   "cell_type": "code",
   "execution_count": 6,
   "metadata": {
    "collapsed": true
   },
   "outputs": [],
   "source": [
    "rain2fog = BayesianNetwork( 'rain2fog' )\n",
    "rain2fog.add_states( [ rain, fog, grass ] )\n",
    "rain2fog.add_transition( rain, fog )\n",
    "rain2fog.add_transition( rain, grass )\n",
    "rain2fog.add_transition( fog, grass )"
   ]
  },
  {
   "cell_type": "markdown",
   "metadata": {},
   "source": [
    "Finally we bake it in order to finalize it's structure."
   ]
  },
  {
   "cell_type": "code",
   "execution_count": 7,
   "metadata": {
    "collapsed": false
   },
   "outputs": [],
   "source": [
    "rain2fog.bake()"
   ]
  },
  {
   "cell_type": "markdown",
   "metadata": {},
   "source": [
    "Now let's create our bayesian network in which fog influencesthe occurrence of rain. This process is similar to the creation of our last bayesian network. However instead this time we start by creating a discrete distribution for the occurrence of fog."
   ]
  },
  {
   "cell_type": "code",
   "execution_count": 8,
   "metadata": {
    "collapsed": false
   },
   "outputs": [],
   "source": [
    "dist_fog = DiscreteDistribution( { 'T': 0.7, 'F': 0.3 } )"
   ]
  },
  {
   "cell_type": "markdown",
   "metadata": {},
   "source": [
    "Then the conditional probability table for rain, which is logically dependent on fog."
   ]
  },
  {
   "cell_type": "code",
   "execution_count": 9,
   "metadata": {
    "collapsed": true
   },
   "outputs": [],
   "source": [
    "dist_rain = ConditionalProbabilityTable(\n",
    "    [[ 'T', 'T', 0.2 ],\n",
    "     [ 'T', 'F', 0.8 ],\n",
    "     [ 'F', 'T', 0.6 ],\n",
    "     [ 'F', 'F', 0.4 ]], [ dist_fog ])"
   ]
  },
  {
   "cell_type": "markdown",
   "metadata": {},
   "source": [
    "And the conditional probability table for whether the grass is wet, which is dependent on fog and rain."
   ]
  },
  {
   "cell_type": "code",
   "execution_count": 10,
   "metadata": {
    "collapsed": true
   },
   "outputs": [],
   "source": [
    "dist_grass = ConditionalProbabilityTable(\n",
    "    [[ 'T', 'T', 'T', 0.99 ],\n",
    "     [ 'T', 'T', 'F', 0.01 ],\n",
    "     [ 'T', 'F', 'T', 0.9 ],\n",
    "     [ 'T', 'F', 'F', 0.1 ],\n",
    "     [ 'F', 'T', 'T', 0.7 ],\n",
    "     [ 'F', 'T', 'F', 0.3 ],\n",
    "     [ 'F', 'F', 'T', 0.1 ],\n",
    "     [ 'F', 'F', 'F', 0.9 ]], [ dist_rain, dist_fog ] )"
   ]
  },
  {
   "cell_type": "markdown",
   "metadata": {},
   "source": [
    "Like last time we convert these distributions into states for our bayesian network."
   ]
  },
  {
   "cell_type": "code",
   "execution_count": 11,
   "metadata": {
    "collapsed": true
   },
   "outputs": [],
   "source": [
    "rain = State( dist_rain, 'rain' )\n",
    "fog = State( dist_fog, 'fog' )\n",
    "grass = State( dist_grass, 'grass' )"
   ]
  },
  {
   "cell_type": "markdown",
   "metadata": {},
   "source": [
    "Then create our bayesian network, adding in our states and possible transitions."
   ]
  },
  {
   "cell_type": "code",
   "execution_count": 12,
   "metadata": {
    "collapsed": true
   },
   "outputs": [],
   "source": [
    "fog2rain = BayesianNetwork( 'fog2rain' )\n",
    "fog2rain.add_states( [ rain, fog, grass ] )\n",
    "fog2rain.add_transition( fog, rain )\n",
    "fog2rain.add_transition( fog, grass )\n",
    "fog2rain.add_transition( rain, grass )"
   ]
  },
  {
   "cell_type": "markdown",
   "metadata": {},
   "source": [
    "Then we bake it to finalize its structure."
   ]
  },
  {
   "cell_type": "code",
   "execution_count": 13,
   "metadata": {
    "collapsed": false
   },
   "outputs": [],
   "source": [
    "fog2rain.bake()"
   ]
  },
  {
   "cell_type": "markdown",
   "metadata": {},
   "source": [
    "Then finally there's our bayesian network in which the occurrence of rain and fog are independent of one another. We start creating this by making discrete distributions for rain and fog."
   ]
  },
  {
   "cell_type": "code",
   "execution_count": 14,
   "metadata": {
    "collapsed": true
   },
   "outputs": [],
   "source": [
    "dist_rain = DiscreteDistribution( { 'T': 0.4, 'F': 0.7 } )\n",
    "dist_fog = DiscreteDistribution( { 'T': 0.5, 'F': 0.5 } )"
   ]
  },
  {
   "cell_type": "markdown",
   "metadata": {},
   "source": [
    "Then the conditional probability table for whether the grass is wet."
   ]
  },
  {
   "cell_type": "code",
   "execution_count": 16,
   "metadata": {
    "collapsed": false
   },
   "outputs": [],
   "source": [
    "dist_grass = ConditionalProbabilityTable(\n",
    "\t[[ 'T', 'T', 'T', 0.99 ],\n",
    "\t [ 'T', 'T', 'F', 0.01 ],\n",
    "\t [ 'T', 'F', 'T', 0.9 ],\n",
    "\t [ 'T', 'F', 'F', 0.1 ],\n",
    "\t [ 'F', 'T', 'T', 0.7 ],\n",
    "\t [ 'F', 'T', 'F', 0.3 ],\n",
    "\t [ 'F', 'F', 'T', 0.1 ],\n",
    "\t [ 'F', 'F', 'F', 0.9 ]], [ dist_rain, dist_fog ] )"
   ]
  },
  {
   "cell_type": "markdown",
   "metadata": {},
   "source": [
    "Convert these into states."
   ]
  },
  {
   "cell_type": "code",
   "execution_count": 18,
   "metadata": {
    "collapsed": false
   },
   "outputs": [],
   "source": [
    "rain = State( dist_rain, 'rain' )\n",
    "fog = State( dist_fog, 'fog' )\n",
    "grass = State( dist_grass, 'grass' )"
   ]
  },
  {
   "cell_type": "markdown",
   "metadata": {},
   "source": [
    "Then create our bayesian network."
   ]
  },
  {
   "cell_type": "code",
   "execution_count": 20,
   "metadata": {
    "collapsed": false
   },
   "outputs": [],
   "source": [
    "indie = BayesianNetwork( 'indie' )\n",
    "indie.add_states( [rain, fog, grass ] )\n",
    "indie.add_transition( rain, grass )\n",
    "indie.add_transition( fog, grass )"
   ]
  },
  {
   "cell_type": "markdown",
   "metadata": {},
   "source": [
    "Then finishing by calling the method bake to finalize its structure."
   ]
  },
  {
   "cell_type": "code",
   "execution_count": 21,
   "metadata": {
    "collapsed": true
   },
   "outputs": [],
   "source": [
    "indie.bake()"
   ]
  },
  {
   "cell_type": "markdown",
   "metadata": {},
   "source": [
    "Now we can finally create our naive bayes classifier. Compared to before, this is relatively straight forward."
   ]
  },
  {
   "cell_type": "code",
   "execution_count": 22,
   "metadata": {
    "collapsed": true
   },
   "outputs": [],
   "source": [
    "clf = NaiveBayes( [ rain2fog, fog2rain, indie ] )"
   ]
  },
  {
   "cell_type": "markdown",
   "metadata": {},
   "source": [
    "Done! Now let's test it out on the following set of data. Note that each state must be specified in the input."
   ]
  },
  {
   "cell_type": "code",
   "execution_count": 23,
   "metadata": {
    "collapsed": true
   },
   "outputs": [],
   "source": [
    "data = np.array( [[ 'T', 'F', 'T' ],\n",
    "                  [ 'T', 'F', 'T' ],\n",
    "                  [ 'T', 'F', 'F' ],\n",
    "                  [ 'F', 'T', 'T' ],\n",
    "                  [ 'T', 'T', 'T' ]] )"
   ]
  },
  {
   "cell_type": "markdown",
   "metadata": {},
   "source": [
    "First we can check the probabilities of each sample occurring under each bayesian network."
   ]
  },
  {
   "cell_type": "code",
   "execution_count": 24,
   "metadata": {
    "collapsed": false
   },
   "outputs": [
    {
     "data": {
      "text/plain": [
       "array([[ 0.58695652,  0.19565217,  0.2173913 ],\n",
       "       [ 0.58695652,  0.19565217,  0.2173913 ],\n",
       "       [ 0.58695652,  0.19565217,  0.2173913 ],\n",
       "       [ 0.14953271,  0.52336449,  0.3271028 ],\n",
       "       [ 0.15      ,  0.35      ,  0.5       ]])"
      ]
     },
     "execution_count": 24,
     "metadata": {},
     "output_type": "execute_result"
    }
   ],
   "source": [
    "clf.predict_proba( data )"
   ]
  },
  {
   "cell_type": "markdown",
   "metadata": {},
   "source": [
    "And the classification of the data overall."
   ]
  },
  {
   "cell_type": "code",
   "execution_count": 25,
   "metadata": {
    "collapsed": false,
    "scrolled": true
   },
   "outputs": [
    {
     "data": {
      "text/plain": [
       "array([0, 0, 0, 1, 2])"
      ]
     },
     "execution_count": 25,
     "metadata": {},
     "output_type": "execute_result"
    }
   ],
   "source": [
    "clf.predict( data )"
   ]
  },
  {
   "cell_type": "markdown",
   "metadata": {},
   "source": [
    "It looks like our first bayesian network fits the data better overall, though not be much."
   ]
  },
  {
   "cell_type": "markdown",
   "metadata": {},
   "source": [
    "We can also train our naive bayes classifier to fit a set of data. For instance the following."
   ]
  },
  {
   "cell_type": "code",
   "execution_count": 28,
   "metadata": {
    "collapsed": true
   },
   "outputs": [],
   "source": [
    "X = np.array([[ 'T', 'F', 'F' ],\n",
    "              [ 'T', 'T', 'F' ],\n",
    "              [ 'T', 'T', 'T' ],\n",
    "              [ 'F', 'F', 'F' ],\n",
    "              [ 'T', 'F', 'F' ],\n",
    "              [ 'F', 'T', 'F' ],\n",
    "              [ 'T', 'T', 'F' ],\n",
    "              [ 'T', 'F', 'T' ],\n",
    "              [ 'T', 'F', 'T' ],\n",
    "              [ 'F', 'T', 'T' ],\n",
    "              [ 'T', 'F', 'T' ],\n",
    "              [ 'F', 'T', 'T' ],\n",
    "              [ 'F', 'F', 'T' ],\n",
    "              [ 'F', 'T', 'T' ],\n",
    "              [ 'F', 'F', 'T' ]])\n",
    "\n",
    "y = np.array([ 2, 2, 2, 0, 2, 1, 0, 0, 2, 2, 0, 2, 1, 1, 2 ])"
   ]
  },
  {
   "cell_type": "markdown",
   "metadata": {},
   "source": [
    "This is also rather straightforward to do. Just make sure that every state is specified for the sample and that both input arrays have the same length."
   ]
  },
  {
   "cell_type": "code",
   "execution_count": 27,
   "metadata": {
    "collapsed": false
   },
   "outputs": [
    {
     "ename": "ZeroDivisionError",
     "evalue": "float division by zero",
     "output_type": "error",
     "traceback": [
      "\u001b[1;31m---------------------------------------------------------------------------\u001b[0m",
      "\u001b[1;31mZeroDivisionError\u001b[0m                         Traceback (most recent call last)",
      "\u001b[1;32m<ipython-input-27-35162d5db25e>\u001b[0m in \u001b[0;36m<module>\u001b[1;34m()\u001b[0m\n\u001b[1;32m----> 1\u001b[1;33m \u001b[0mclf\u001b[0m\u001b[1;33m.\u001b[0m\u001b[0mfit\u001b[0m\u001b[1;33m(\u001b[0m \u001b[0mX\u001b[0m\u001b[1;33m,\u001b[0m \u001b[0my\u001b[0m \u001b[1;33m)\u001b[0m\u001b[1;33m\u001b[0m\u001b[0m\n\u001b[0m",
      "\u001b[1;32mpomegranate/NaiveBayes.pyx\u001b[0m in \u001b[0;36mpomegranate.NaiveBayes.NaiveBayes.fit (pomegranate/NaiveBayes.c:2685)\u001b[1;34m()\u001b[0m\n",
      "\u001b[1;32mpomegranate/NaiveBayes.pyx\u001b[0m in \u001b[0;36mpomegranate.NaiveBayes.NaiveBayes.fit (pomegranate/NaiveBayes.c:2540)\u001b[1;34m()\u001b[0m\n",
      "\u001b[1;32mpomegranate/BayesianNetwork.pyx\u001b[0m in \u001b[0;36mpomegranate.BayesianNetwork.BayesianNetwork.fit (pomegranate/BayesianNetwork.c:5216)\u001b[1;34m()\u001b[0m\n",
      "\u001b[1;32mpomegranate/BayesianNetwork.pyx\u001b[0m in \u001b[0;36mpomegranate.BayesianNetwork.BayesianNetwork.train (pomegranate/BayesianNetwork.c:5745)\u001b[1;34m()\u001b[0m\n",
      "\u001b[1;32mpomegranate/distributions.pyx\u001b[0m in \u001b[0;36mpomegranate.distributions.DiscreteDistribution.from_sample (pomegranate/distributions.c:22451)\u001b[1;34m()\u001b[0m\n",
      "\u001b[1;32mpomegranate/distributions.pyx\u001b[0m in \u001b[0;36mpomegranate.distributions.DiscreteDistribution.from_summaries (pomegranate/distributions.c:23284)\u001b[1;34m()\u001b[0m\n",
      "\u001b[1;31mZeroDivisionError\u001b[0m: float division by zero"
     ]
    }
   ],
   "source": [
    "clf.fit( X, y )"
   ]
  },
  {
   "cell_type": "markdown",
   "metadata": {},
   "source": [
    "Using the same data as before we can check the new probabilities."
   ]
  },
  {
   "cell_type": "code",
   "execution_count": null,
   "metadata": {
    "collapsed": false
   },
   "outputs": [],
   "source": [
    "clf.predict_proba( data )"
   ]
  },
  {
   "cell_type": "markdown",
   "metadata": {},
   "source": [
    "And classifications."
   ]
  },
  {
   "cell_type": "code",
   "execution_count": null,
   "metadata": {
    "collapsed": false
   },
   "outputs": [],
   "source": [
    "clf.predict( data )"
   ]
  },
  {
   "cell_type": "markdown",
   "metadata": {},
   "source": [
    "Looks like the second bayesian network fits the data better this time, however by only a slim margin."
   ]
  }
 ],
 "metadata": {
  "kernelspec": {
   "display_name": "Python 2",
   "language": "python",
   "name": "python2"
  },
  "language_info": {
   "codemirror_mode": {
    "name": "ipython",
    "version": 2
   },
   "file_extension": ".py",
   "mimetype": "text/x-python",
   "name": "python",
   "nbconvert_exporter": "python",
   "pygments_lexer": "ipython2",
   "version": "2.7.11"
  }
 },
 "nbformat": 4,
 "nbformat_minor": 0
}
