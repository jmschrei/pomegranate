{
 "cells": [
  {
   "cell_type": "markdown",
   "metadata": {},
   "source": [
    "# Tied States Hidden Markov Model"
   ]
  },
  {
   "cell_type": "markdown",
   "metadata": {},
   "source": [
    "authors:<br>\n",
    "Jacob Schreiber [<a href=\"sendto:jmchreiber91@gmail.com\">jmchreiber91@gmail.com</a>],<br>\n",
    "Nicholas Farn [<a href=\"sendto:nicholasfarn@gmail.com\">nicholasfarn@gmail.com</a>]"
   ]
  },
  {
   "cell_type": "markdown",
   "metadata": {},
   "source": [
    "An example of using tied states to represent the same distribution across multiple states. This example is a toy example derived from biology, where we will look at DNA sequences.\n",
    "\n",
    "The fake structure we will pretend exists is:\n",
    "```\n",
    "start -> background -> CG island -> background -> poly-T region\n",
    "```\n",
    "DNA is comprised of four nucleotides, A, C, G, and T. Lets say that in the background sequence, all of these occur at the same frequency. In the CG island, the nucleotides C and G occur more frequently. In the poly T region, T occurs most frequently.\n",
    "\n",
    "We need the graph structure, because we fake know that the sequence must return to the background distribution between the CG island and the poly-T region. However, we also fake know that both background distributions need to be the same."
   ]
  },
  {
   "cell_type": "code",
   "execution_count": 1,
   "metadata": {
    "collapsed": true
   },
   "outputs": [],
   "source": [
    "from pomegranate import *\n",
    "import random\n",
    "import numpy as np\n",
    "\n",
    "random.seed(0)"
   ]
  },
  {
   "cell_type": "markdown",
   "metadata": {},
   "source": [
    "Lets start off with an example without tied states and see what happens."
   ]
  },
  {
   "cell_type": "code",
   "execution_count": 2,
   "metadata": {
    "collapsed": true
   },
   "outputs": [],
   "source": [
    "untiedmodel = HiddenMarkovModel( \"No Tied States\" )"
   ]
  },
  {
   "cell_type": "markdown",
   "metadata": {},
   "source": [
    "Here we'll define the four states."
   ]
  },
  {
   "cell_type": "code",
   "execution_count": 3,
   "metadata": {
    "collapsed": true
   },
   "outputs": [],
   "source": [
    "background_one = State( DiscreteDistribution({'A': 0.25, 'C':0.25, 'G': 0.25, 'T':0.25 }), name=\"B1\" )\n",
    "CG_island = State( DiscreteDistribution({'A': 0.1, 'C':0.4, 'G': 0.4, 'T':0.1 }), name=\"CG\" )\n",
    "background_two = State( DiscreteDistribution({'A': 0.25, 'C':0.25, 'G': 0.25, 'T':0.25 }), name=\"B2\" )\n",
    "poly_T = State( DiscreteDistribution({'A': 0.1, 'C':0.1, 'G': 0.1, 'T':0.7 }), name=\"PT\" )"
   ]
  },
  {
   "cell_type": "markdown",
   "metadata": {},
   "source": [
    "Then add the starting transitions."
   ]
  },
  {
   "cell_type": "code",
   "execution_count": 4,
   "metadata": {
    "collapsed": false
   },
   "outputs": [],
   "source": [
    "untiedmodel.add_transition( untiedmodel.start, background_one, 1. )"
   ]
  },
  {
   "cell_type": "markdown",
   "metadata": {},
   "source": [
    "The transition matrix."
   ]
  },
  {
   "cell_type": "code",
   "execution_count": 5,
   "metadata": {
    "collapsed": true
   },
   "outputs": [],
   "source": [
    "untiedmodel.add_transition( background_one, background_one, 0.9 )\n",
    "untiedmodel.add_transition( background_one, CG_island, 0.1 )\n",
    "untiedmodel.add_transition( CG_island, CG_island, 0.8 )\n",
    "untiedmodel.add_transition( CG_island, background_two, 0.2 )\n",
    "untiedmodel.add_transition( background_two, background_two, 0.8 )\n",
    "untiedmodel.add_transition( background_two, poly_T, 0.2 )\n",
    "untiedmodel.add_transition( poly_T, poly_T, 0.7 )"
   ]
  },
  {
   "cell_type": "markdown",
   "metadata": {},
   "source": [
    "And finally the ending transitions."
   ]
  },
  {
   "cell_type": "code",
   "execution_count": 6,
   "metadata": {
    "collapsed": true
   },
   "outputs": [],
   "source": [
    "untiedmodel.add_transition( poly_T, untiedmodel.end, 0.3)"
   ]
  },
  {
   "cell_type": "markdown",
   "metadata": {},
   "source": [
    "Finishing with the method \"bake\" to finalize the structure of our model."
   ]
  },
  {
   "cell_type": "code",
   "execution_count": 7,
   "metadata": {
    "collapsed": true
   },
   "outputs": [],
   "source": [
    "untiedmodel.bake( verbose=True )"
   ]
  },
  {
   "cell_type": "markdown",
   "metadata": {},
   "source": [
    "Now let's define the following sequences. Keep in mind training must by done on a list of lists, not on a string in order to allow strings of any length."
   ]
  },
  {
   "cell_type": "code",
   "execution_count": 8,
   "metadata": {
    "collapsed": true
   },
   "outputs": [],
   "source": [
    "sequences = [ numpy.array(list(\"TAGCACATCGCAGCGCATCACGCGCGCTAGCATATAAGCACGATCAGCACGACTGTTTTT\")),\n",
    "\t      numpy.array(list(\"TAGAATCGCTACATAGACGCGCGCTCGCCGCGCTCGATAAGCTACGAACACGATTTTTTA\")),\n",
    "\t      numpy.array(list(\"GATAGCTACGACTACGCGACTCACGCGCGCGCTCCGCATCAGACACGAATATAGATAAGATATTTTTT\")) ]"
   ]
  },
  {
   "cell_type": "markdown",
   "metadata": {},
   "source": [
    "Lets check our distributions before training our model."
   ]
  },
  {
   "cell_type": "code",
   "execution_count": 9,
   "metadata": {
    "collapsed": false
   },
   "outputs": [
    {
     "name": "stdout",
     "output_type": "stream",
     "text": [
      "CG: {\n",
      "    \"frozen\" : false,\n",
      "    \"class\" : \"Distribution\",\n",
      "    \"parameters\" : [\n",
      "        {\n",
      "            \"A\" : 0.1,\n",
      "            \"C\" : 0.4,\n",
      "            \"T\" : 0.1,\n",
      "            \"G\" : 0.4\n",
      "        }\n",
      "    ],\n",
      "    \"name\" : \"DiscreteDistribution\"\n",
      "}\n",
      "B1: {\n",
      "    \"frozen\" : false,\n",
      "    \"class\" : \"Distribution\",\n",
      "    \"parameters\" : [\n",
      "        {\n",
      "            \"A\" : 0.25,\n",
      "            \"C\" : 0.25,\n",
      "            \"T\" : 0.25,\n",
      "            \"G\" : 0.25\n",
      "        }\n",
      "    ],\n",
      "    \"name\" : \"DiscreteDistribution\"\n",
      "}\n",
      "B2: {\n",
      "    \"frozen\" : false,\n",
      "    \"class\" : \"Distribution\",\n",
      "    \"parameters\" : [\n",
      "        {\n",
      "            \"A\" : 0.25,\n",
      "            \"C\" : 0.25,\n",
      "            \"T\" : 0.25,\n",
      "            \"G\" : 0.25\n",
      "        }\n",
      "    ],\n",
      "    \"name\" : \"DiscreteDistribution\"\n",
      "}\n",
      "PT: {\n",
      "    \"frozen\" : false,\n",
      "    \"class\" : \"Distribution\",\n",
      "    \"parameters\" : [\n",
      "        {\n",
      "            \"A\" : 0.1,\n",
      "            \"C\" : 0.1,\n",
      "            \"T\" : 0.7,\n",
      "            \"G\" : 0.1\n",
      "        }\n",
      "    ],\n",
      "    \"name\" : \"DiscreteDistribution\"\n",
      "}\n"
     ]
    }
   ],
   "source": [
    "print \"\\n\".join( \"{}: {}\".format( state.name, state.distribution ) \n",
    "\tfor state in untiedmodel.states if not state.is_silent() )"
   ]
  },
  {
   "cell_type": "markdown",
   "metadata": {},
   "source": [
    "Now lets train our model."
   ]
  },
  {
   "cell_type": "code",
   "execution_count": 10,
   "metadata": {
    "collapsed": false
   },
   "outputs": [
    {
     "name": "stdout",
     "output_type": "stream",
     "text": [
      "Training improvement: 19.7253759036\n",
      "Training improvement: 0.769885149273\n",
      "Training improvement: 0.0879753072275\n",
      "Training improvement: 0.0192626481549\n",
      "Training improvement: 0.0108075566004\n",
      "Training improvement: 0.00979561932911\n",
      "Total Training Improvement: 20.6231021842\n"
     ]
    },
    {
     "data": {
      "text/plain": [
       "20.623102184194636"
      ]
     },
     "execution_count": 10,
     "metadata": {},
     "output_type": "execute_result"
    }
   ],
   "source": [
    "untiedmodel.train( sequences, stop_threshold=0.01 )"
   ]
  },
  {
   "cell_type": "markdown",
   "metadata": {},
   "source": [
    "And check our new distributions after training."
   ]
  },
  {
   "cell_type": "code",
   "execution_count": 11,
   "metadata": {
    "collapsed": false
   },
   "outputs": [
    {
     "name": "stdout",
     "output_type": "stream",
     "text": [
      "CG: {\n",
      "    \"frozen\" : false,\n",
      "    \"class\" : \"Distribution\",\n",
      "    \"parameters\" : [\n",
      "        {\n",
      "            \"A\" : 0.061102410527201785,\n",
      "            \"C\" : 0.5058121809386026,\n",
      "            \"T\" : 0.09464208215706989,\n",
      "            \"G\" : 0.33844332637712565\n",
      "        }\n",
      "    ],\n",
      "    \"name\" : \"DiscreteDistribution\"\n",
      "}\n",
      "B1: {\n",
      "    \"frozen\" : false,\n",
      "    \"class\" : \"Distribution\",\n",
      "    \"parameters\" : [\n",
      "        {\n",
      "            \"A\" : 0.3163979050794353,\n",
      "            \"C\" : 0.29204314286286204,\n",
      "            \"T\" : 0.17964525080253835,\n",
      "            \"G\" : 0.2119137012551643\n",
      "        }\n",
      "    ],\n",
      "    \"name\" : \"DiscreteDistribution\"\n",
      "}\n",
      "B2: {\n",
      "    \"frozen\" : false,\n",
      "    \"class\" : \"Distribution\",\n",
      "    \"parameters\" : [\n",
      "        {\n",
      "            \"A\" : 0.41787296061641566,\n",
      "            \"C\" : 0.22068400964255325,\n",
      "            \"T\" : 0.1658562589843641,\n",
      "            \"G\" : 0.1955867707566671\n",
      "        }\n",
      "    ],\n",
      "    \"name\" : \"DiscreteDistribution\"\n",
      "}\n",
      "PT: {\n",
      "    \"frozen\" : false,\n",
      "    \"class\" : \"Distribution\",\n",
      "    \"parameters\" : [\n",
      "        {\n",
      "            \"A\" : 0.09055188417721123,\n",
      "            \"C\" : 4.501540436607892e-09,\n",
      "            \"T\" : 0.8980608274242032,\n",
      "            \"G\" : 0.011387283897044997\n",
      "        }\n",
      "    ],\n",
      "    \"name\" : \"DiscreteDistribution\"\n",
      "}\n"
     ]
    }
   ],
   "source": [
    "print \"\\n\".join( \"{}: {}\".format( state.name, state.distribution ) \n",
    "\tfor state in untiedmodel.states if not state.is_silent() )"
   ]
  },
  {
   "cell_type": "markdown",
   "metadata": {},
   "source": [
    "Now we can try our example with tied states."
   ]
  },
  {
   "cell_type": "code",
   "execution_count": 12,
   "metadata": {
    "collapsed": true
   },
   "outputs": [],
   "source": [
    "tiedmodel = HiddenMarkovModel( \"Tied States\" )"
   ]
  },
  {
   "cell_type": "markdown",
   "metadata": {},
   "source": [
    "Lets redefine the four states."
   ]
  },
  {
   "cell_type": "code",
   "execution_count": 13,
   "metadata": {
    "collapsed": true
   },
   "outputs": [],
   "source": [
    "background = DiscreteDistribution({'A': 0.25, 'C':0.25, 'G': 0.25, 'T':0.25 })\n",
    "\n",
    "background_one = State( background, name=\"B1\" )\n",
    "CG_island = State( DiscreteDistribution({'A': 0.1, \n",
    "\t'C':0.4, 'G': 0.4, 'T':0.1 }), name=\"CG\" )\n",
    "background_two = State( background, name=\"B2\" )\n",
    "poly_T = State( DiscreteDistribution({'A': 0.1, \n",
    "\t'C':0.1, 'G': 0.1, 'T':0.7 }), name=\"PT\" )"
   ]
  },
  {
   "cell_type": "markdown",
   "metadata": {},
   "source": [
    "Then add the starting transitions."
   ]
  },
  {
   "cell_type": "code",
   "execution_count": 14,
   "metadata": {
    "collapsed": false
   },
   "outputs": [],
   "source": [
    "tiedmodel.add_transition( tiedmodel.start, background_one, 1. );"
   ]
  },
  {
   "cell_type": "markdown",
   "metadata": {},
   "source": [
    "Then the tranisiton matrix."
   ]
  },
  {
   "cell_type": "code",
   "execution_count": 15,
   "metadata": {
    "collapsed": false
   },
   "outputs": [],
   "source": [
    "tiedmodel.add_transition( background_one, background_one, 0.9 )\n",
    "tiedmodel.add_transition( background_one, CG_island, 0.1 )\n",
    "tiedmodel.add_transition( CG_island, CG_island, 0.8 )\n",
    "tiedmodel.add_transition( CG_island, background_two, 0.2 )\n",
    "tiedmodel.add_transition( background_two, background_two, 0.8 )\n",
    "tiedmodel.add_transition( background_two, poly_T, 0.2 )\n",
    "tiedmodel.add_transition( poly_T, poly_T, 0.7 )"
   ]
  },
  {
   "cell_type": "markdown",
   "metadata": {},
   "source": [
    "Finally adding the ending transitions."
   ]
  },
  {
   "cell_type": "code",
   "execution_count": 16,
   "metadata": {
    "collapsed": false
   },
   "outputs": [],
   "source": [
    "tiedmodel.add_transition( poly_T, tiedmodel.end, 0.3 )"
   ]
  },
  {
   "cell_type": "markdown",
   "metadata": {},
   "source": [
    "We \"bake\" the model to finalize its structure."
   ]
  },
  {
   "cell_type": "code",
   "execution_count": 18,
   "metadata": {
    "collapsed": false
   },
   "outputs": [],
   "source": [
    "tiedmodel.bake( verbose=True )"
   ]
  },
  {
   "cell_type": "markdown",
   "metadata": {
    "collapsed": true
   },
   "source": [
    "Now let's use the following sequences to train our model."
   ]
  },
  {
   "cell_type": "code",
   "execution_count": 19,
   "metadata": {
    "collapsed": true
   },
   "outputs": [],
   "source": [
    "sequences = [ numpy.array(list(\"TAGCACATCGCAGCGCATCACGCGCGCTAGCATATAAGCACGATCAGCACGACTGTTTTT\")),\n",
    "\t\t\t  numpy.array(list(\"TAGAATCGCTACATAGACGCGCGCTCGCCGCGCTCGATAAGCTACGAACACGATTTTTTA\")),\n",
    "\t\t\t  numpy.array(list(\"GATAGCTACGACTACGCGACTCACGCGCGCGCTCCGCATCAGACACGAATATAGATAAGATATTTTTT\")) ]"
   ]
  },
  {
   "cell_type": "markdown",
   "metadata": {},
   "source": [
    "But before that let's check the distributions in our model."
   ]
  },
  {
   "cell_type": "code",
   "execution_count": 21,
   "metadata": {
    "collapsed": false
   },
   "outputs": [
    {
     "name": "stdout",
     "output_type": "stream",
     "text": [
      "PT: {\n",
      "    \"frozen\" : false,\n",
      "    \"class\" : \"Distribution\",\n",
      "    \"parameters\" : [\n",
      "        {\n",
      "            \"A\" : 0.1,\n",
      "            \"C\" : 0.1,\n",
      "            \"T\" : 0.7,\n",
      "            \"G\" : 0.1\n",
      "        }\n",
      "    ],\n",
      "    \"name\" : \"DiscreteDistribution\"\n",
      "}\n",
      "CG: {\n",
      "    \"frozen\" : false,\n",
      "    \"class\" : \"Distribution\",\n",
      "    \"parameters\" : [\n",
      "        {\n",
      "            \"A\" : 0.1,\n",
      "            \"C\" : 0.4,\n",
      "            \"T\" : 0.1,\n",
      "            \"G\" : 0.4\n",
      "        }\n",
      "    ],\n",
      "    \"name\" : \"DiscreteDistribution\"\n",
      "}\n",
      "B2: {\n",
      "    \"frozen\" : false,\n",
      "    \"class\" : \"Distribution\",\n",
      "    \"parameters\" : [\n",
      "        {\n",
      "            \"A\" : 0.25,\n",
      "            \"C\" : 0.25,\n",
      "            \"T\" : 0.25,\n",
      "            \"G\" : 0.25\n",
      "        }\n",
      "    ],\n",
      "    \"name\" : \"DiscreteDistribution\"\n",
      "}\n",
      "B1: {\n",
      "    \"frozen\" : false,\n",
      "    \"class\" : \"Distribution\",\n",
      "    \"parameters\" : [\n",
      "        {\n",
      "            \"A\" : 0.25,\n",
      "            \"C\" : 0.25,\n",
      "            \"T\" : 0.25,\n",
      "            \"G\" : 0.25\n",
      "        }\n",
      "    ],\n",
      "    \"name\" : \"DiscreteDistribution\"\n",
      "}\n"
     ]
    }
   ],
   "source": [
    "print \"\\n\".join( \"{}: {}\".format( state.name, state.distribution ) \n",
    "\tfor state in tiedmodel.states if not state.is_silent() )"
   ]
  },
  {
   "cell_type": "markdown",
   "metadata": {},
   "source": [
    "Now let's train our model."
   ]
  },
  {
   "cell_type": "code",
   "execution_count": 22,
   "metadata": {
    "collapsed": false
   },
   "outputs": [
    {
     "name": "stdout",
     "output_type": "stream",
     "text": [
      "Training improvement: 18.899098024\n",
      "Training improvement: 1.02844145696\n",
      "Training improvement: 0.104990390553\n",
      "Training improvement: 0.0288219799336\n",
      "Training improvement: 0.0201465885748\n",
      "Training improvement: 0.0176448412084\n",
      "Training improvement: 0.0159525833467\n",
      "Training improvement: 0.014326928996\n",
      "Training improvement: 0.0126408543289\n",
      "Training improvement: 0.0109215967644\n",
      "Training improvement: 0.009240557249\n",
      "Total Training Improvement: 20.1622258019\n"
     ]
    },
    {
     "data": {
      "text/plain": [
       "20.162225801917685"
      ]
     },
     "execution_count": 22,
     "metadata": {},
     "output_type": "execute_result"
    }
   ],
   "source": [
    "tiedmodel.train( sequences, stop_threshold=0.01 )"
   ]
  },
  {
   "cell_type": "markdown",
   "metadata": {},
   "source": [
    "Now let's check our new distributions."
   ]
  },
  {
   "cell_type": "code",
   "execution_count": 24,
   "metadata": {
    "collapsed": false
   },
   "outputs": [
    {
     "name": "stdout",
     "output_type": "stream",
     "text": [
      "PT: {\n",
      "    \"frozen\" : false,\n",
      "    \"class\" : \"Distribution\",\n",
      "    \"parameters\" : [\n",
      "        {\n",
      "            \"A\" : 0.09294944999091706,\n",
      "            \"C\" : 1.428098972154014e-17,\n",
      "            \"T\" : 0.9009639984757185,\n",
      "            \"G\" : 0.006086551533364436\n",
      "        }\n",
      "    ],\n",
      "    \"name\" : \"DiscreteDistribution\"\n",
      "}\n",
      "CG: {\n",
      "    \"frozen\" : false,\n",
      "    \"class\" : \"Distribution\",\n",
      "    \"parameters\" : [\n",
      "        {\n",
      "            \"A\" : 0.10879783006206063,\n",
      "            \"C\" : 0.47798416226766144,\n",
      "            \"T\" : 0.10028625045198492,\n",
      "            \"G\" : 0.3129317572182929\n",
      "        }\n",
      "    ],\n",
      "    \"name\" : \"DiscreteDistribution\"\n",
      "}\n",
      "B2: {\n",
      "    \"frozen\" : false,\n",
      "    \"class\" : \"Distribution\",\n",
      "    \"parameters\" : [\n",
      "        {\n",
      "            \"A\" : 0.3825505694630478,\n",
      "            \"C\" : 0.23803901803476132,\n",
      "            \"T\" : 0.17897219800796565,\n",
      "            \"G\" : 0.20043821449422533\n",
      "        }\n",
      "    ],\n",
      "    \"name\" : \"DiscreteDistribution\"\n",
      "}\n",
      "B1: {\n",
      "    \"frozen\" : false,\n",
      "    \"class\" : \"Distribution\",\n",
      "    \"parameters\" : [\n",
      "        {\n",
      "            \"A\" : 0.3825505694630478,\n",
      "            \"C\" : 0.23803901803476132,\n",
      "            \"T\" : 0.17897219800796565,\n",
      "            \"G\" : 0.20043821449422533\n",
      "        }\n",
      "    ],\n",
      "    \"name\" : \"DiscreteDistribution\"\n",
      "}\n"
     ]
    }
   ],
   "source": [
    "print \"\\n\".join( \"{}: {}\".format( state.name, state.distribution ) \n",
    "\tfor state in tiedmodel.states if not state.is_silent() )"
   ]
  },
  {
   "cell_type": "markdown",
   "metadata": {},
   "source": [
    "Notice that states B1 and B2 are the same after training with tied states, not so without tied states."
   ]
  }
 ],
 "metadata": {
  "kernelspec": {
   "display_name": "Python 2",
   "language": "python",
   "name": "python2"
  },
  "language_info": {
   "codemirror_mode": {
    "name": "ipython",
    "version": 2
   },
   "file_extension": ".py",
   "mimetype": "text/x-python",
   "name": "python",
   "nbconvert_exporter": "python",
   "pygments_lexer": "ipython2",
   "version": "2.7.11"
  }
 },
 "nbformat": 4,
 "nbformat_minor": 0
}
