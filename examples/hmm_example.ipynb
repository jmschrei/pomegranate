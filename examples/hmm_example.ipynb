{
 "cells": [
  {
   "cell_type": "markdown",
   "metadata": {},
   "source": [
    "# Hidden Markov Model Example"
   ]
  },
  {
   "cell_type": "markdown",
   "metadata": {},
   "source": [
    "authors:<br>\n",
    "Jacob Schreiber [<a href=\"mailto:jmschreiber91@gmail.com\">jmschreiber91@gmail.com</a>]<br>\n",
    "Nicholas Farn [<a href=\"mailto:nicholasfarn@gmail.com\">nicholasfarn@gmail.com</a>]"
   ]
  },
  {
   "cell_type": "markdown",
   "metadata": {},
   "source": [
    "A simple example highlighting how to build a model using states, add\n",
    "transitions, and then run the algorithms, including showing how training\n",
    "on a sequence improves the probability of the sequence."
   ]
  },
  {
   "cell_type": "code",
   "execution_count": 1,
   "metadata": {
    "collapsed": true
   },
   "outputs": [],
   "source": [
    "import random\n",
    "from pomegranate import *\n",
    "\n",
    "random.seed(0)"
   ]
  },
  {
   "cell_type": "markdown",
   "metadata": {},
   "source": [
    "First we will create the states of the model, one uniform and one normal."
   ]
  },
  {
   "cell_type": "code",
   "execution_count": 2,
   "metadata": {
    "collapsed": true
   },
   "outputs": [],
   "source": [
    "state1 = State( UniformDistribution(0.0, 1.0), name=\"uniform\" )\n",
    "state2 = State( NormalDistribution(0, 2), name=\"normal\" )"
   ]
  },
  {
   "cell_type": "markdown",
   "metadata": {},
   "source": [
    "We will then create the model by creating a HiddenMarkovModel instance. Then we will add the states."
   ]
  },
  {
   "cell_type": "code",
   "execution_count": 3,
   "metadata": {
    "collapsed": true
   },
   "outputs": [],
   "source": [
    "model = HiddenMarkovModel( name=\"ExampleModel\" )\n",
    "model.add_state( state1 )\n",
    "model.add_state( state2 )"
   ]
  },
  {
   "cell_type": "markdown",
   "metadata": {},
   "source": [
    "Now we'll add the start states to the model."
   ]
  },
  {
   "cell_type": "code",
   "execution_count": 4,
   "metadata": {
    "collapsed": false
   },
   "outputs": [],
   "source": [
    "model.add_transition( model.start, state1, 0.5 )\n",
    "model.add_transition( model.start, state2, 0.5 )"
   ]
  },
  {
   "cell_type": "markdown",
   "metadata": {},
   "source": [
    "And the transition matrix."
   ]
  },
  {
   "cell_type": "code",
   "execution_count": 5,
   "metadata": {
    "collapsed": false
   },
   "outputs": [],
   "source": [
    "model.add_transition( state1, state1, 0.4 )\n",
    "model.add_transition( state1, state2, 0.4 )\n",
    "model.add_transition( state2, state2, 0.4 )\n",
    "model.add_transition( state2, state1, 0.4 )"
   ]
  },
  {
   "cell_type": "markdown",
   "metadata": {},
   "source": [
    "Finally the ending states to the model."
   ]
  },
  {
   "cell_type": "code",
   "execution_count": 6,
   "metadata": {
    "collapsed": true
   },
   "outputs": [],
   "source": [
    "model.add_transition( state1, model.end, 0.2 )\n",
    "model.add_transition( state2, model.end, 0.2 )"
   ]
  },
  {
   "cell_type": "markdown",
   "metadata": {},
   "source": [
    "To finalize the model, we \"bake\" it."
   ]
  },
  {
   "cell_type": "code",
   "execution_count": 7,
   "metadata": {
    "collapsed": true
   },
   "outputs": [],
   "source": [
    "model.bake()"
   ]
  },
  {
   "cell_type": "markdown",
   "metadata": {},
   "source": [
    "New we'll create a sample sequence using our model."
   ]
  },
  {
   "cell_type": "code",
   "execution_count": 8,
   "metadata": {
    "collapsed": false
   },
   "outputs": [
    {
     "name": "stdout",
     "output_type": "stream",
     "text": [
      "[1.5274637107103914, 0.5112747213686085, 0.7837985890347726, 0.4765969541523558, 0.9081128851953352, 0.28183784439970383, 0.5418732995377225, 2.0002157719882274, -0.10628268527487571, 0.6108869734438016, 3.061151607219626, -4.214776768782847, 0.014041700164018955, -1.9819131664119138, 1.6681440067850635, 0.8704712321086546]\n"
     ]
    }
   ],
   "source": [
    "sequence = model.sample()\n",
    "print sequence"
   ]
  },
  {
   "cell_type": "markdown",
   "metadata": {},
   "source": [
    "Now we'll feed the sequence through a forward algorithm with our model."
   ]
  },
  {
   "cell_type": "code",
   "execution_count": 9,
   "metadata": {
    "collapsed": false
   },
   "outputs": [
    {
     "name": "stdout",
     "output_type": "stream",
     "text": [
      "-30.7877201736\n"
     ]
    }
   ],
   "source": [
    "print model.forward( sequence )[ len(sequence), model.end_index ]"
   ]
  },
  {
   "cell_type": "markdown",
   "metadata": {},
   "source": [
    "Next we'll do the same, except with a backwards algorithm."
   ]
  },
  {
   "cell_type": "code",
   "execution_count": 10,
   "metadata": {
    "collapsed": false
   },
   "outputs": [
    {
     "name": "stdout",
     "output_type": "stream",
     "text": [
      "-30.7877201736\n"
     ]
    }
   ],
   "source": [
    "print model.backward( sequence )[0,model.start_index]"
   ]
  },
  {
   "cell_type": "markdown",
   "metadata": {},
   "source": [
    "Then we'll feed the sequence again, through a forward-backward algorithm."
   ]
  },
  {
   "cell_type": "code",
   "execution_count": 11,
   "metadata": {
    "collapsed": false
   },
   "outputs": [
    {
     "name": "stdout",
     "output_type": "stream",
     "text": [
      "[[ 3.53248613  3.18245005  0.          0.84642086]\n",
      " [ 4.02887091  4.25619291  0.          0.15357914]\n",
      " [ 0.          1.          0.          0.        ]\n",
      " [ 0.          0.          0.          0.        ]]\n",
      "[[            -inf  -7.10542736e-15]\n",
      " [ -1.76520353e-01  -1.82128130e+00]\n",
      " [ -1.69512053e-01  -1.85839030e+00]\n",
      " [ -1.77214528e-01  -1.81769332e+00]\n",
      " [ -1.65457868e-01  -1.88062721e+00]\n",
      " [ -1.80236365e-01  -1.80225115e+00]\n",
      " [ -1.75869632e-01  -1.82465868e+00]\n",
      " [            -inf  -3.55271368e-15]\n",
      " [            -inf  -3.55271368e-15]\n",
      " [ -1.74272524e-01  -1.83300610e+00]\n",
      " [            -inf   3.55271368e-15]\n",
      " [            -inf   0.00000000e+00]\n",
      " [ -1.81876645e-01  -1.79398700e+00]\n",
      " [            -inf   0.00000000e+00]\n",
      " [            -inf   0.00000000e+00]\n",
      " [ -1.66738568e-01  -1.87353930e+00]]\n"
     ]
    }
   ],
   "source": [
    "trans, ems = model.forward_backward( sequence )\n",
    "print trans\n",
    "print ems"
   ]
  },
  {
   "cell_type": "markdown",
   "metadata": {},
   "source": [
    "Finally we'll train our model with our example sequence."
   ]
  },
  {
   "cell_type": "code",
   "execution_count": 12,
   "metadata": {
    "collapsed": false
   },
   "outputs": [
    {
     "name": "stdout",
     "output_type": "stream",
     "text": [
      "Training improvement: -3.98210169539\n",
      "Total Training Improvement: -3.98210169539\n"
     ]
    },
    {
     "data": {
      "text/plain": [
       "-3.9821016953916804"
      ]
     },
     "execution_count": 12,
     "metadata": {},
     "output_type": "execute_result"
    }
   ],
   "source": [
    "model.fit( [ sequence ] )"
   ]
  },
  {
   "cell_type": "markdown",
   "metadata": {},
   "source": [
    "Then repeat the algorithms we fed the sequence through before on our improved model."
   ]
  },
  {
   "cell_type": "code",
   "execution_count": 13,
   "metadata": {
    "collapsed": false,
    "scrolled": true
   },
   "outputs": [
    {
     "name": "stdout",
     "output_type": "stream",
     "text": [
      "Forward\n",
      "-34.769821869\n",
      "\n",
      "Backward\n",
      "-34.769821869\n",
      "\n",
      "[[ 3.52461411  3.11179488  0.          0.82870988]\n",
      " [ 3.94050476  4.42308625  0.          0.17129012]\n",
      " [ 0.          1.          0.          0.        ]\n",
      " [ 0.          0.          0.          0.        ]]\n",
      "[[       -inf  0.        ]\n",
      " [-0.94711096 -0.49079418]\n",
      " [-0.89877918 -0.52267271]\n",
      " [-0.90801472 -0.51638126]\n",
      " [-0.88929212 -0.52923835]\n",
      " [-0.90942433 -0.51542956]\n",
      " [-0.90079279 -0.52129265]\n",
      " [-0.74333193 -0.64536104]\n",
      " [-0.89116472 -0.52793403]\n",
      " [-0.88484315 -0.53235389]\n",
      " [-0.4858335  -0.95499058]\n",
      " [-0.15029912 -1.96933634]\n",
      " [-0.84903826 -0.55831247]\n",
      " [-0.60685232 -0.78759822]\n",
      " [-0.75247216 -0.63714543]\n",
      " [-0.18788515 -1.76439654]]\n"
     ]
    }
   ],
   "source": [
    "print \"Forward\"\n",
    "print model.forward( sequence )[ len(sequence), model.end_index ]\n",
    "print\n",
    "print \"Backward\"\n",
    "print model.backward( sequence )[ 0,model.start_index ]\n",
    "print\n",
    "trans, ems = model.forward_backward( sequence )\n",
    "print trans\n",
    "print ems"
   ]
  }
 ],
 "metadata": {
  "kernelspec": {
   "display_name": "Python 2",
   "language": "python",
   "name": "python2"
  },
  "language_info": {
   "codemirror_mode": {
    "name": "ipython",
    "version": 2
   },
   "file_extension": ".py",
   "mimetype": "text/x-python",
   "name": "python",
   "nbconvert_exporter": "python",
   "pygments_lexer": "ipython2",
   "version": "2.7.11"
  }
 },
 "nbformat": 4,
 "nbformat_minor": 0
}
