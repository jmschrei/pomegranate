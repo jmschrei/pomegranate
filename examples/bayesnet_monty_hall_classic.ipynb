{
 "cells": [
  {
   "cell_type": "markdown",
   "metadata": {},
   "source": [
    "# Classic Monty Hall Bayesian Network"
   ]
  },
  {
   "cell_type": "markdown",
   "metadata": {},
   "source": [
    "authors:<br>\n",
    "Jacob Schreiber [<a href=\"mailto:jmschreiber91@gmail.com\">jmschreiber91@gmail.com</a>]<br>\n",
    "Nicholas Farn [<a href=\"mailto:nicholasfarn@gmail.com\">nicholasfarn@gmail.com</a>]"
   ]
  },
  {
   "cell_type": "markdown",
   "metadata": {},
   "source": [
    "Lets test out the Bayesian Network framework to produce the Monty Hall problem, but modified a little. The Monty Hall problem is basically a game show where a guest chooses one of three doors to open, with an unknown one having a prize behind it. Monty then opens another non-chosen door without a prize behind it, and asks the guest if they would like to change their answer. Many people were surprised to find that if the guest changed their answer, there was a 66% chance of success as opposed to a 50% as might be expected if there were two doors.\n",
    "\n",
    "This can be modelled as a Bayesian network with three nodes-- guest, prize, and Monty, each over the domain of door 'A', 'B', 'C'. Monty is dependent on both guest and prize, in that it can't be either of them. Lets extend this a little bit to say the guest has an untrustworthy friend whose answer he will not go with."
   ]
  },
  {
   "cell_type": "code",
   "execution_count": 1,
   "metadata": {
    "collapsed": true
   },
   "outputs": [],
   "source": [
    "import math\n",
    "from pomegranate import *"
   ]
  },
  {
   "cell_type": "markdown",
   "metadata": {},
   "source": [
    "Let's create the distributions for the guest and the prize. Note that both distributions are independent of one another."
   ]
  },
  {
   "cell_type": "code",
   "execution_count": 2,
   "metadata": {
    "collapsed": true
   },
   "outputs": [],
   "source": [
    "guest = DiscreteDistribution( { 'A': 1./3, 'B': 1./3, 'C': 1./3 } )\n",
    "prize = DiscreteDistribution( { 'A': 1./3, 'B': 1./3, 'C': 1./3 } )"
   ]
  },
  {
   "cell_type": "markdown",
   "metadata": {},
   "source": [
    "Now let's create the conditional probability table for our Monty. The table is dependent on both the guest and the prize."
   ]
  },
  {
   "cell_type": "code",
   "execution_count": 3,
   "metadata": {
    "collapsed": false
   },
   "outputs": [],
   "source": [
    "monty = ConditionalProbabilityTable(\n",
    "\t[[ 'A', 'A', 'A', 0.0 ],\n",
    "\t [ 'A', 'A', 'B', 0.5 ],\n",
    "\t [ 'A', 'A', 'C', 0.5 ],\n",
    "\t [ 'A', 'B', 'A', 0.0 ],\n",
    "\t [ 'A', 'B', 'B', 0.0 ],\n",
    "\t [ 'A', 'B', 'C', 1.0 ],\n",
    "\t [ 'A', 'C', 'A', 0.0 ],\n",
    "\t [ 'A', 'C', 'B', 1.0 ],\n",
    "\t [ 'A', 'C', 'C', 0.0 ],\n",
    "\t [ 'B', 'A', 'A', 0.0 ],\n",
    "\t [ 'B', 'A', 'B', 0.0 ],\n",
    "\t [ 'B', 'A', 'C', 1.0 ],\n",
    "\t [ 'B', 'B', 'A', 0.5 ],\n",
    "\t [ 'B', 'B', 'B', 0.0 ],\n",
    "\t [ 'B', 'B', 'C', 0.5 ],\n",
    "\t [ 'B', 'C', 'A', 1.0 ],\n",
    "\t [ 'B', 'C', 'B', 0.0 ],\n",
    "\t [ 'B', 'C', 'C', 0.0 ],\n",
    "\t [ 'C', 'A', 'A', 0.0 ],\n",
    "\t [ 'C', 'A', 'B', 1.0 ],\n",
    "\t [ 'C', 'A', 'C', 0.0 ],\n",
    "\t [ 'C', 'B', 'A', 1.0 ],\n",
    "\t [ 'C', 'B', 'B', 0.0 ],\n",
    "\t [ 'C', 'B', 'C', 0.0 ],\n",
    "\t [ 'C', 'C', 'A', 0.5 ],\n",
    "\t [ 'C', 'C', 'B', 0.5 ],\n",
    "\t [ 'C', 'C', 'C', 0.0 ]], [guest, prize] )"
   ]
  },
  {
   "cell_type": "markdown",
   "metadata": {},
   "source": [
    "Now lets create the states for the bayesian network."
   ]
  },
  {
   "cell_type": "code",
   "execution_count": 6,
   "metadata": {
    "collapsed": true
   },
   "outputs": [],
   "source": [
    "s1 = State( guest, name=\"guest\" )\n",
    "s2 = State( prize, name=\"prize\" )\n",
    "s3 = State( monty, name=\"monty\" )"
   ]
  },
  {
   "cell_type": "markdown",
   "metadata": {},
   "source": [
    "Then the bayesian network itself, adding the states in after."
   ]
  },
  {
   "cell_type": "code",
   "execution_count": 7,
   "metadata": {
    "collapsed": true
   },
   "outputs": [],
   "source": [
    "network = BayesianNetwork( \"test\" )\n",
    "network.add_states( [ s1, s2, s3 ] )"
   ]
  },
  {
   "cell_type": "markdown",
   "metadata": {},
   "source": [
    "Then the transitions."
   ]
  },
  {
   "cell_type": "code",
   "execution_count": 8,
   "metadata": {
    "collapsed": true
   },
   "outputs": [],
   "source": [
    "network.add_transition( s1, s3 )\n",
    "network.add_transition( s2, s3 )"
   ]
  },
  {
   "cell_type": "markdown",
   "metadata": {},
   "source": [
    "With a \"bake\" to finalize the structure of our network."
   ]
  },
  {
   "cell_type": "code",
   "execution_count": 9,
   "metadata": {
    "collapsed": true
   },
   "outputs": [],
   "source": [
    "network.bake()"
   ]
  },
  {
   "cell_type": "markdown",
   "metadata": {},
   "source": [
    "Now we can check the possible states in our network."
   ]
  },
  {
   "cell_type": "code",
   "execution_count": 10,
   "metadata": {
    "collapsed": false
   },
   "outputs": [
    {
     "name": "stdout",
     "output_type": "stream",
     "text": [
      "guest\tprize\tmonty\n"
     ]
    }
   ],
   "source": [
    "print \"\\t\".join([ state.name for state in network.states ])"
   ]
  },
  {
   "cell_type": "markdown",
   "metadata": {},
   "source": [
    "Now we can see what happens to our network when our Guest chooses 'A'."
   ]
  },
  {
   "cell_type": "code",
   "execution_count": 11,
   "metadata": {
    "collapsed": false
   },
   "outputs": [
    {
     "name": "stdout",
     "output_type": "stream",
     "text": [
      "guest\t{\n",
      "    \"frozen\" : false,\n",
      "    \"class\" : \"Distribution\",\n",
      "    \"parameters\" : [\n",
      "        {\n",
      "            \"A\" : 1.0,\n",
      "            \"C\" : 0.0,\n",
      "            \"B\" : 0.0\n",
      "        }\n",
      "    ],\n",
      "    \"name\" : \"DiscreteDistribution\"\n",
      "}\n",
      "prize\t{\n",
      "    \"frozen\" : false,\n",
      "    \"class\" : \"Distribution\",\n",
      "    \"parameters\" : [\n",
      "        {\n",
      "            \"A\" : 0.33333333333333337,\n",
      "            \"C\" : 0.33333333333333337,\n",
      "            \"B\" : 0.33333333333333337\n",
      "        }\n",
      "    ],\n",
      "    \"name\" : \"DiscreteDistribution\"\n",
      "}\n",
      "monty\t{\n",
      "    \"frozen\" : false,\n",
      "    \"class\" : \"Distribution\",\n",
      "    \"parameters\" : [\n",
      "        {\n",
      "            \"A\" : 0.0,\n",
      "            \"C\" : 0.5,\n",
      "            \"B\" : 0.5\n",
      "        }\n",
      "    ],\n",
      "    \"name\" : \"DiscreteDistribution\"\n",
      "}\n"
     ]
    }
   ],
   "source": [
    "observations = { 'guest' : 'A' }\n",
    "beliefs = map( str, network.forward_backward( observations ) )\n",
    "print \"\\n\".join( \"{}\\t{}\".format( state.name, belief ) for state, belief in zip( network.states, beliefs ) )"
   ]
  },
  {
   "cell_type": "markdown",
   "metadata": {},
   "source": [
    "Now our host chooses 'B'. (note that prize goes to 66% if you switch)"
   ]
  },
  {
   "cell_type": "code",
   "execution_count": 12,
   "metadata": {
    "collapsed": false
   },
   "outputs": [
    {
     "name": "stdout",
     "output_type": "stream",
     "text": [
      "guest\t{\n",
      "    \"frozen\" : false,\n",
      "    \"class\" : \"Distribution\",\n",
      "    \"parameters\" : [\n",
      "        {\n",
      "            \"A\" : 1.0,\n",
      "            \"C\" : 0.0,\n",
      "            \"B\" : 0.0\n",
      "        }\n",
      "    ],\n",
      "    \"name\" : \"DiscreteDistribution\"\n",
      "}\n",
      "prize\t{\n",
      "    \"frozen\" : false,\n",
      "    \"class\" : \"Distribution\",\n",
      "    \"parameters\" : [\n",
      "        {\n",
      "            \"A\" : 0.3333333333333334,\n",
      "            \"C\" : 0.6666666666666666,\n",
      "            \"B\" : 0.0\n",
      "        }\n",
      "    ],\n",
      "    \"name\" : \"DiscreteDistribution\"\n",
      "}\n",
      "monty\t{\n",
      "    \"frozen\" : false,\n",
      "    \"class\" : \"Distribution\",\n",
      "    \"parameters\" : [\n",
      "        {\n",
      "            \"A\" : 0.0,\n",
      "            \"C\" : 0.0,\n",
      "            \"B\" : 1.0\n",
      "        }\n",
      "    ],\n",
      "    \"name\" : \"DiscreteDistribution\"\n",
      "}\n"
     ]
    }
   ],
   "source": [
    "observations = { 'guest' : 'A', 'monty' : 'B' }\n",
    "beliefs = map( str, network.forward_backward( observations ) )\n",
    "print \"\\n\".join( \"{}\\t{}\".format( state.name, belief ) for state, belief in zip( network.states, beliefs ) )"
   ]
  },
  {
   "cell_type": "markdown",
   "metadata": {},
   "source": [
    "We can also see what happens if our host simply chooses 'B'."
   ]
  },
  {
   "cell_type": "code",
   "execution_count": 13,
   "metadata": {
    "collapsed": false
   },
   "outputs": [
    {
     "name": "stdout",
     "output_type": "stream",
     "text": [
      "guest\t{\n",
      "    \"frozen\" : false,\n",
      "    \"class\" : \"Distribution\",\n",
      "    \"parameters\" : [\n",
      "        {\n",
      "            \"A\" : 0.5,\n",
      "            \"C\" : 0.5,\n",
      "            \"B\" : 0.0\n",
      "        }\n",
      "    ],\n",
      "    \"name\" : \"DiscreteDistribution\"\n",
      "}\n",
      "prize\t{\n",
      "    \"frozen\" : false,\n",
      "    \"class\" : \"Distribution\",\n",
      "    \"parameters\" : [\n",
      "        {\n",
      "            \"A\" : 0.5,\n",
      "            \"C\" : 0.5,\n",
      "            \"B\" : 0.0\n",
      "        }\n",
      "    ],\n",
      "    \"name\" : \"DiscreteDistribution\"\n",
      "}\n",
      "monty\t{\n",
      "    \"frozen\" : false,\n",
      "    \"class\" : \"Distribution\",\n",
      "    \"parameters\" : [\n",
      "        {\n",
      "            \"A\" : 0.0,\n",
      "            \"C\" : 0.0,\n",
      "            \"B\" : 1.0\n",
      "        }\n",
      "    ],\n",
      "    \"name\" : \"DiscreteDistribution\"\n",
      "}\n"
     ]
    }
   ],
   "source": [
    "observations = { 'monty' : 'B' }\n",
    "beliefs = map( str, network.forward_backward( observations ) )\n",
    "print \"\\n\".join( \"{}\\t{}\".format( state.name, belief ) for state, belief in zip( network.states, beliefs ) )"
   ]
  },
  {
   "cell_type": "markdown",
   "metadata": {},
   "source": [
    "Now let's train our network on the following set of data."
   ]
  },
  {
   "cell_type": "code",
   "execution_count": 14,
   "metadata": {
    "collapsed": false
   },
   "outputs": [],
   "source": [
    "data = [[ 'A', 'A', 'C' ],\n",
    "\t\t[ 'A', 'A', 'C' ],\n",
    "\t\t[ 'A', 'A', 'B' ],\n",
    "\t\t[ 'A', 'A', 'A' ],\n",
    "\t\t[ 'A', 'A', 'C' ],\n",
    "\t\t[ 'B', 'B', 'B' ],\n",
    "\t\t[ 'B', 'B', 'C' ],\n",
    "\t\t[ 'C', 'C', 'A' ],\n",
    "\t\t[ 'C', 'C', 'C' ],\n",
    "\t\t[ 'C', 'C', 'C' ],\n",
    "\t\t[ 'C', 'C', 'C' ],\n",
    "\t\t[ 'C', 'B', 'A' ]]\n",
    "\n",
    "network.from_sample( data )"
   ]
  },
  {
   "cell_type": "markdown",
   "metadata": {},
   "source": [
    "Let's see the results! Starting with the Monty."
   ]
  },
  {
   "cell_type": "code",
   "execution_count": 15,
   "metadata": {
    "collapsed": false
   },
   "outputs": [
    {
     "name": "stdout",
     "output_type": "stream",
     "text": [
      "C\tC\tC\t0.75\n",
      "C\tC\tB\t0.0\n",
      "C\tC\tA\t0.25\n",
      "C\tB\tC\t0.0\n",
      "C\tB\tB\t0.0\n",
      "C\tB\tA\t1.0\n",
      "C\tA\tC\t0.333333333333\n",
      "C\tA\tB\t0.333333333333\n",
      "C\tA\tA\t0.333333333333\n",
      "B\tC\tC\t0.333333333333\n",
      "B\tC\tB\t0.333333333333\n",
      "B\tC\tA\t0.333333333333\n",
      "B\tB\tC\t0.5\n",
      "B\tB\tB\t0.5\n",
      "B\tB\tA\t0.0\n",
      "B\tA\tC\t0.333333333333\n",
      "B\tA\tB\t0.333333333333\n",
      "B\tA\tA\t0.333333333333\n",
      "A\tC\tC\t0.333333333333\n",
      "A\tC\tB\t0.333333333333\n",
      "A\tC\tA\t0.333333333333\n",
      "A\tB\tC\t0.333333333333\n",
      "A\tB\tB\t0.333333333333\n",
      "A\tB\tA\t0.333333333333\n",
      "A\tA\tC\t0.6\n",
      "A\tA\tB\t0.2\n",
      "A\tA\tA\t0.2\n"
     ]
    }
   ],
   "source": [
    "print monty"
   ]
  },
  {
   "cell_type": "markdown",
   "metadata": {},
   "source": [
    "Then our Prize."
   ]
  },
  {
   "cell_type": "code",
   "execution_count": 16,
   "metadata": {
    "collapsed": false
   },
   "outputs": [
    {
     "name": "stdout",
     "output_type": "stream",
     "text": [
      "{\n",
      "    \"frozen\" : false,\n",
      "    \"class\" : \"Distribution\",\n",
      "    \"parameters\" : [\n",
      "        {\n",
      "            \"A\" : 0.41666666666666669,\n",
      "            \"C\" : 0.33333333333333331,\n",
      "            \"B\" : 0.25\n",
      "        }\n",
      "    ],\n",
      "    \"name\" : \"DiscreteDistribution\"\n",
      "}\n"
     ]
    }
   ],
   "source": [
    "print prize"
   ]
  },
  {
   "cell_type": "markdown",
   "metadata": {},
   "source": [
    "Finally our Guest."
   ]
  },
  {
   "cell_type": "code",
   "execution_count": 18,
   "metadata": {
    "collapsed": false
   },
   "outputs": [
    {
     "name": "stdout",
     "output_type": "stream",
     "text": [
      "{\n",
      "    \"frozen\" : false,\n",
      "    \"class\" : \"Distribution\",\n",
      "    \"parameters\" : [\n",
      "        {\n",
      "            \"A\" : 0.41666666666666669,\n",
      "            \"C\" : 0.41666666666666669,\n",
      "            \"B\" : 0.16666666666666666\n",
      "        }\n",
      "    ],\n",
      "    \"name\" : \"DiscreteDistribution\"\n",
      "}\n"
     ]
    }
   ],
   "source": [
    "print guest"
   ]
  }
 ],
 "metadata": {
  "kernelspec": {
   "display_name": "Python 2",
   "language": "python",
   "name": "python2"
  },
  "language_info": {
   "codemirror_mode": {
    "name": "ipython",
    "version": 2
   },
   "file_extension": ".py",
   "mimetype": "text/x-python",
   "name": "python",
   "nbconvert_exporter": "python",
   "pygments_lexer": "ipython2",
   "version": "2.7.11"
  }
 },
 "nbformat": 4,
 "nbformat_minor": 0
}
