{
 "cells": [
  {
   "cell_type": "markdown",
   "metadata": {},
   "source": [
    "## Bayes Classifier with Hidden Markov Model emissions Coin Toss\n",
    "\n",
    "author: Nicholas Farn [<a href=\"sendto:nicholasfarn@gmail.com\">nicholasfarn@gmail.com</a>],\n",
    "        Jacob Schreiber [<a href=\"sendto:jmschreiber91@gmail.com\">jmschreiber91@gmail.com</a>]\n",
    "        \n",
    "In this example we will be using a simple Hidden Markov Model to demonstrate how it can be used in a Bayes classifier. In this particular example we have a couple friends who enjoy playing a game of chance. Someone tosses a coin and whenever it lands on heads, the tosser gains \\$1, otherwise he pays \\$1. However some of our friends are prone to using rigged coins in order to come out ahead in the long run.\n",
    "\n",
    "Players fall into 3 categories, non-cheaters, smart cheaters, and dumb cheaters. Non-cheaters, as the name implies, do not use rigged coins. Smart cheaters make sure to switch between rigged and unrigged coins in order to keep the deception going. Dumb cheaters only use rigged coins."
   ]
  },
  {
   "cell_type": "code",
   "execution_count": 1,
   "metadata": {},
   "outputs": [
    {
     "name": "stdout",
     "output_type": "stream",
     "text": [
      "Populating the interactive namespace from numpy and matplotlib\n"
     ]
    }
   ],
   "source": [
    "from pomegranate import *\n",
    "import numpy as np\n",
    "%pylab inline"
   ]
  },
  {
   "cell_type": "markdown",
   "metadata": {},
   "source": [
    "Let's start by creating our hmm's. Since this is a simple example, we will only have 2 states, rigged and unrigged, with discrete distributions."
   ]
  },
  {
   "cell_type": "code",
   "execution_count": 2,
   "metadata": {},
   "outputs": [],
   "source": [
    "rigged = State(DiscreteDistribution({'H': 0.8, 'T': 0.2}), name=\"rigged\")\n",
    "unrigged = State(DiscreteDistribution({'H': 0.5, 'T': 0.5}), name=\"unrigged\")"
   ]
  },
  {
   "cell_type": "markdown",
   "metadata": {},
   "source": [
    "Now let's create our non-cheater and dumb cheater since their hmm's consist of a single state."
   ]
  },
  {
   "cell_type": "code",
   "execution_count": 3,
   "metadata": {},
   "outputs": [],
   "source": [
    "non_cheater = HiddenMarkovModel(name=\"non-cheater\")\n",
    "non_cheater.add_state(unrigged)\n",
    "\n",
    "dumb_cheater = HiddenMarkovModel(name=\"dumb-cheater\")\n",
    "dumb_cheater.add_state(rigged)"
   ]
  },
  {
   "cell_type": "markdown",
   "metadata": {},
   "source": [
    "We can now add our starting states to our models."
   ]
  },
  {
   "cell_type": "code",
   "execution_count": 4,
   "metadata": {},
   "outputs": [],
   "source": [
    "non_cheater.start = unrigged\n",
    "dumb_cheater.start = rigged"
   ]
  },
  {
   "cell_type": "markdown",
   "metadata": {},
   "source": [
    "We can also add the transitions to our non-cheater and dumb cheater."
   ]
  },
  {
   "cell_type": "code",
   "execution_count": 5,
   "metadata": {},
   "outputs": [],
   "source": [
    "non_cheater.add_transition(unrigged, unrigged, 1)\n",
    "dumb_cheater.add_transition(rigged, rigged, 1)"
   ]
  },
  {
   "cell_type": "markdown",
   "metadata": {},
   "source": [
    "Now we bake our models to finalize the structure."
   ]
  },
  {
   "cell_type": "code",
   "execution_count": 6,
   "metadata": {},
   "outputs": [],
   "source": [
    "non_cheater.bake()\n",
    "dumb_cheater.bake()"
   ]
  },
  {
   "cell_type": "markdown",
   "metadata": {},
   "source": [
    "Now we can create our smart cheater."
   ]
  },
  {
   "cell_type": "code",
   "execution_count": 7,
   "metadata": {},
   "outputs": [],
   "source": [
    "smart_cheater = HiddenMarkovModel(name=\"smart-cheater\")"
   ]
  },
  {
   "cell_type": "markdown",
   "metadata": {},
   "source": [
    "The structure of our smart cheater hmm should look like the following."
   ]
  },
  {
   "cell_type": "markdown",
   "metadata": {},
   "source": [
    "Let's add in our starting transitions. Smart cheaters start out half the time with an unrigged coin, half the time without."
   ]
  },
  {
   "cell_type": "code",
   "execution_count": 8,
   "metadata": {},
   "outputs": [],
   "source": [
    "smart_cheater.add_transition(smart_cheater.start, unrigged, 0.5)\n",
    "smart_cheater.add_transition(smart_cheater.start, rigged, 0.5)"
   ]
  },
  {
   "cell_type": "markdown",
   "metadata": {},
   "source": [
    "Then we can add our transition matrix."
   ]
  },
  {
   "cell_type": "code",
   "execution_count": 9,
   "metadata": {},
   "outputs": [],
   "source": [
    "smart_cheater.add_transition(rigged, rigged, 0.5)\n",
    "smart_cheater.add_transition(rigged, unrigged, 0.5)\n",
    "smart_cheater.add_transition(unrigged, rigged, 0.5)\n",
    "smart_cheater.add_transition(unrigged, unrigged, 0.5)"
   ]
  },
  {
   "cell_type": "markdown",
   "metadata": {},
   "source": [
    "Finally we can bake the model to finalize its structure."
   ]
  },
  {
   "cell_type": "code",
   "execution_count": 10,
   "metadata": {},
   "outputs": [],
   "source": [
    "smart_cheater.bake()"
   ]
  },
  {
   "cell_type": "markdown",
   "metadata": {},
   "source": [
    "We can view the structures of all our hmm's in the images below."
   ]
  },
  {
   "cell_type": "code",
   "execution_count": 11,
   "metadata": {},
   "outputs": [
    {
     "data": {
      "image/png": "[encoded data removed]",
      "text/plain": [
       "<Figure size 432x288 with 1 Axes>"
      ]
     },
     "metadata": {
      "needs_background": "light"
     },
     "output_type": "display_data"
    }
   ],
   "source": [
    "plt.title(\"smart cheater hmm\")\n",
    "smart_cheater.plot()\n",
    "\n",
    "plt.title(\"dumb cheater hmm\")\n",
    "dumb_cheater.plot()\n",
    "\n",
    "plt.title(\"non-cheater hmm\")\n",
    "non_cheater.plot()"
   ]
  },
  {
   "cell_type": "markdown",
   "metadata": {},
   "source": [
    "Now we can finally create our Naive Bayes classifier. We'll let 0 stand for a non-cheater, 1 stand for a smart cheater, and 2 stand for a dumb cheater."
   ]
  },
  {
   "cell_type": "code",
   "execution_count": 12,
   "metadata": {},
   "outputs": [],
   "source": [
    "players = BayesClassifier([non_cheater, smart_cheater, dumb_cheater])"
   ]
  },
  {
   "cell_type": "markdown",
   "metadata": {},
   "source": [
    "Now let's create a sequence of coin tosses to test our classifier on."
   ]
  },
  {
   "cell_type": "code",
   "execution_count": 13,
   "metadata": {},
   "outputs": [],
   "source": [
    "data = np.array([list('HHHHHTHTHTTTTHHHTHHTTHHHHHTH'),\n",
    "                 list('HHHHHHHTHHHHTTHHHHHHHTTHHHHH'),\n",
    "                 list('THTHTHTHTHTHTTHHTHHHHTTHHHTT')])"
   ]
  },
  {
   "cell_type": "markdown",
   "metadata": {},
   "source": [
    "We can now check the log probability of each string of data occurring under each model."
   ]
  },
  {
   "cell_type": "code",
   "execution_count": 14,
   "metadata": {},
   "outputs": [
    {
     "name": "stdout",
     "output_type": "stream",
     "text": [
      "For sequence 1, 21.4% non-cheater, 68.0% smart cheater, 10.6% dumb cheater.\n",
      "For sequence 2, 0.173% non-cheater, 12.1% smart cheater, 87.7% dumb cheater.\n",
      "For sequence 3, 66.5% non-cheater, 33.0% smart cheater, 0.515% dumb cheater.\n"
     ]
    }
   ],
   "source": [
    "probs = players.predict_proba(data)\n",
    "\n",
    "for i in range(len(probs)):\n",
    "    print(\"For sequence {}, {:.3}% non-cheater, {:.3}% smart cheater, {:.3}% dumb cheater.\".format(i+1, 100*probs[i][0], 100*probs[i][1], 100*probs[i][2]))"
   ]
  },
  {
   "cell_type": "markdown",
   "metadata": {},
   "source": [
    "Finally we can classify whether a non-cheater (0), smart cheater (1), or dumb cheater (2) created the string of data."
   ]
  },
  {
   "cell_type": "code",
   "execution_count": 15,
   "metadata": {},
   "outputs": [
    {
     "name": "stdout",
     "output_type": "stream",
     "text": [
      "Sequence 1 is a smart cheater\n",
      "Sequence 2 is a dumb cheater\n",
      "Sequence 3 is a non-cheater\n"
     ]
    }
   ],
   "source": [
    "output = players.predict(data)\n",
    "\n",
    "for i in range(len(output)):\n",
    "    print(\"Sequence {} is a {}\".format(i+1, \"non-cheater\" if output[i] == 0 else \"smart cheater\" if output[i] == 1 else \"dumb cheater\"))"
   ]
  },
  {
   "cell_type": "markdown",
   "metadata": {},
   "source": [
    "We can also train our hmm's through Naive Bayes. Let's used the following data, all marked as known games for smart cheaters."
   ]
  },
  {
   "cell_type": "code",
   "execution_count": 16,
   "metadata": {},
   "outputs": [],
   "source": [
    "X = np.array([list('HHHHHTHTHTTTTH'),\n",
    "              list('HHTHHTTHHHHHTH')])\n",
    "\n",
    "y = np.array([1, 1])"
   ]
  },
  {
   "cell_type": "markdown",
   "metadata": {},
   "source": [
    "Now let's fit our Bayes classifier to our data."
   ]
  },
  {
   "cell_type": "code",
   "execution_count": 17,
   "metadata": {},
   "outputs": [
    {
     "data": {
      "text/plain": [
       "{\n",
       "    \"class\" : \"BayesClassifier\",\n",
       "    \"models\" : [\n",
       "        {\n",
       "            \"class\" : \"HiddenMarkovModel\",\n",
       "            \"name\" : \"non-cheater\",\n",
       "            \"start\" : {\n",
       "                \"class\" : \"State\",\n",
       "                \"distribution\" : {\n",
       "                    \"class\" : \"Distribution\",\n",
       "                    \"dtype\" : \"str\",\n",
       "                    \"name\" : \"DiscreteDistribution\",\n",
       "                    \"parameters\" : [\n",
       "                        {\n",
       "                            \"H\" : 0.49218749999999994,\n",
       "                            \"T\" : 0.5078125000000001\n",
       "                        }\n",
       "                    ],\n",
       "                    \"frozen\" : false\n",
       "                },\n",
       "                \"name\" : \"unrigged\",\n",
       "                \"weight\" : 1.0\n",
       "            },\n",
       "            \"end\" : {\n",
       "                \"class\" : \"State\",\n",
       "                \"distribution\" : null,\n",
       "                \"name\" : \"non-cheater-end\",\n",
       "                \"weight\" : 1.0\n",
       "            },\n",
       "            \"states\" : [\n",
       "                {\n",
       "                    \"class\" : \"State\",\n",
       "                    \"distribution\" : {\n",
       "                        \"class\" : \"Distribution\",\n",
       "                        \"dtype\" : \"str\",\n",
       "                        \"name\" : \"DiscreteDistribution\",\n",
       "                        \"parameters\" : [\n",
       "                            {\n",
       "                                \"H\" : 0.49218749999999994,\n",
       "                                \"T\" : 0.5078125000000001\n",
       "                            }\n",
       "                        ],\n",
       "                        \"frozen\" : false\n",
       "                    },\n",
       "                    \"name\" : \"unrigged\",\n",
       "                    \"weight\" : 1.0\n",
       "                },\n",
       "                {\n",
       "                    \"class\" : \"State\",\n",
       "                    \"distribution\" : null,\n",
       "                    \"name\" : \"non-cheater-end\",\n",
       "                    \"weight\" : 1.0\n",
       "                }\n",
       "            ],\n",
       "            \"end_index\" : 1,\n",
       "            \"start_index\" : 0,\n",
       "            \"silent_index\" : 1,\n",
       "            \"edges\" : [\n",
       "                [\n",
       "                    0,\n",
       "                    0,\n",
       "                    1.0,\n",
       "                    1,\n",
       "                    null\n",
       "                ]\n",
       "            ],\n",
       "            \"distribution ties\" : []\n",
       "        },\n",
       "        {\n",
       "            \"class\" : \"HiddenMarkovModel\",\n",
       "            \"name\" : \"smart-cheater\",\n",
       "            \"start\" : {\n",
       "                \"class\" : \"State\",\n",
       "                \"distribution\" : null,\n",
       "                \"name\" : \"smart-cheater-start\",\n",
       "                \"weight\" : 1.0\n",
       "            },\n",
       "            \"end\" : {\n",
       "                \"class\" : \"State\",\n",
       "                \"distribution\" : null,\n",
       "                \"name\" : \"smart-cheater-end\",\n",
       "                \"weight\" : 1.0\n",
       "            },\n",
       "            \"states\" : [\n",
       "                {\n",
       "                    \"class\" : \"State\",\n",
       "                    \"distribution\" : {\n",
       "                        \"class\" : \"Distribution\",\n",
       "                        \"dtype\" : \"str\",\n",
       "                        \"name\" : \"DiscreteDistribution\",\n",
       "                        \"parameters\" : [\n",
       "                            {\n",
       "                                \"H\" : 0.7949526813880127,\n",
       "                                \"T\" : 0.2050473186119874\n",
       "                            }\n",
       "                        ],\n",
       "                        \"frozen\" : false\n",
       "                    },\n",
       "                    \"name\" : \"rigged\",\n",
       "                    \"weight\" : 1.0\n",
       "                },\n",
       "                {\n",
       "                    \"class\" : \"State\",\n",
       "                    \"distribution\" : {\n",
       "                        \"class\" : \"Distribution\",\n",
       "                        \"dtype\" : \"str\",\n",
       "                        \"name\" : \"DiscreteDistribution\",\n",
       "                        \"parameters\" : [\n",
       "                            {\n",
       "                                \"H\" : 0.49218749999999994,\n",
       "                                \"T\" : 0.5078125000000001\n",
       "                            }\n",
       "                        ],\n",
       "                        \"frozen\" : false\n",
       "                    },\n",
       "                    \"name\" : \"unrigged\",\n",
       "                    \"weight\" : 1.0\n",
       "                },\n",
       "                {\n",
       "                    \"class\" : \"State\",\n",
       "                    \"distribution\" : null,\n",
       "                    \"name\" : \"smart-cheater-start\",\n",
       "                    \"weight\" : 1.0\n",
       "                },\n",
       "                {\n",
       "                    \"class\" : \"State\",\n",
       "                    \"distribution\" : null,\n",
       "                    \"name\" : \"smart-cheater-end\",\n",
       "                    \"weight\" : 1.0\n",
       "                }\n",
       "            ],\n",
       "            \"end_index\" : 3,\n",
       "            \"start_index\" : 2,\n",
       "            \"silent_index\" : 2,\n",
       "            \"edges\" : [\n",
       "                [\n",
       "                    2,\n",
       "                    1,\n",
       "                    0.5,\n",
       "                    0.5,\n",
       "                    null\n",
       "                ],\n",
       "                [\n",
       "                    2,\n",
       "                    0,\n",
       "                    0.5,\n",
       "                    0.5,\n",
       "                    null\n",
       "                ],\n",
       "                [\n",
       "                    1,\n",
       "                    0,\n",
       "                    0.5,\n",
       "                    0.5,\n",
       "                    null\n",
       "                ],\n",
       "                [\n",
       "                    1,\n",
       "                    1,\n",
       "                    0.5,\n",
       "                    0.5,\n",
       "                    null\n",
       "                ],\n",
       "                [\n",
       "                    0,\n",
       "                    0,\n",
       "                    0.5,\n",
       "                    0.5,\n",
       "                    null\n",
       "                ],\n",
       "                [\n",
       "                    0,\n",
       "                    1,\n",
       "                    0.5,\n",
       "                    0.5,\n",
       "                    null\n",
       "                ]\n",
       "            ],\n",
       "            \"distribution ties\" : []\n",
       "        },\n",
       "        {\n",
       "            \"class\" : \"HiddenMarkovModel\",\n",
       "            \"name\" : \"dumb-cheater\",\n",
       "            \"start\" : {\n",
       "                \"class\" : \"State\",\n",
       "                \"distribution\" : {\n",
       "                    \"class\" : \"Distribution\",\n",
       "                    \"dtype\" : \"str\",\n",
       "                    \"name\" : \"DiscreteDistribution\",\n",
       "                    \"parameters\" : [\n",
       "                        {\n",
       "                            \"H\" : 0.7949526813880127,\n",
       "                            \"T\" : 0.2050473186119874\n",
       "                        }\n",
       "                    ],\n",
       "                    \"frozen\" : false\n",
       "                },\n",
       "                \"name\" : \"rigged\",\n",
       "                \"weight\" : 1.0\n",
       "            },\n",
       "            \"end\" : {\n",
       "                \"class\" : \"State\",\n",
       "                \"distribution\" : null,\n",
       "                \"name\" : \"dumb-cheater-end\",\n",
       "                \"weight\" : 1.0\n",
       "            },\n",
       "            \"states\" : [\n",
       "                {\n",
       "                    \"class\" : \"State\",\n",
       "                    \"distribution\" : {\n",
       "                        \"class\" : \"Distribution\",\n",
       "                        \"dtype\" : \"str\",\n",
       "                        \"name\" : \"DiscreteDistribution\",\n",
       "                        \"parameters\" : [\n",
       "                            {\n",
       "                                \"H\" : 0.7949526813880127,\n",
       "                                \"T\" : 0.2050473186119874\n",
       "                            }\n",
       "                        ],\n",
       "                        \"frozen\" : false\n",
       "                    },\n",
       "                    \"name\" : \"rigged\",\n",
       "                    \"weight\" : 1.0\n",
       "                },\n",
       "                {\n",
       "                    \"class\" : \"State\",\n",
       "                    \"distribution\" : null,\n",
       "                    \"name\" : \"dumb-cheater-end\",\n",
       "                    \"weight\" : 1.0\n",
       "                }\n",
       "            ],\n",
       "            \"end_index\" : 1,\n",
       "            \"start_index\" : 0,\n",
       "            \"silent_index\" : 1,\n",
       "            \"edges\" : [\n",
       "                [\n",
       "                    0,\n",
       "                    0,\n",
       "                    1.0,\n",
       "                    1,\n",
       "                    null\n",
       "                ]\n",
       "            ],\n",
       "            \"distribution ties\" : []\n",
       "        }\n",
       "    ],\n",
       "    \"weights\" : [\n",
       "        -Infinity,\n",
       "        0.0,\n",
       "        -Infinity\n",
       "    ]\n",
       "}"
      ]
     },
     "execution_count": 17,
     "metadata": {},
     "output_type": "execute_result"
    }
   ],
   "source": [
    "players.fit(X, y)"
   ]
  }
 ],
 "metadata": {
  "kernelspec": {
   "display_name": "Python 3",
   "language": "python",
   "name": "python3"
  },
  "language_info": {
   "codemirror_mode": {
    "name": "ipython",
    "version": 3
   },
   "file_extension": ".py",
   "mimetype": "text/x-python",
   "name": "python",
   "nbconvert_exporter": "python",
   "pygments_lexer": "ipython3",
   "version": "3.7.3"
  }
 },
 "nbformat": 4,
 "nbformat_minor": 1
}
