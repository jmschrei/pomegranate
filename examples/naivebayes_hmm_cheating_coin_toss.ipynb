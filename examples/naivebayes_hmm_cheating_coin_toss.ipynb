{
 "cells": [
  {
   "cell_type": "markdown",
   "metadata": {},
   "source": [
    "# Naive Bayes Hidden Markov Coin Toss"
   ]
  },
  {
   "cell_type": "markdown",
   "metadata": {},
   "source": [
    "author: Nicholas Farn [<a href=\"sendto:nicholasfarn@gmail.com\">nicholasfarn@gmail.com</a>]"
   ]
  },
  {
   "cell_type": "markdown",
   "metadata": {},
   "source": [
    "In this example we will be using a simple Hidden Markov Model to demonstrate how it can be used in a Naive Bayes classifier. In this particular example we have a couple friends who enjoy playing a game of chance. Someone tosses a coin and whenever it lands on heads, the tosser gains \\$1, otherwise he pays \\$1. However some of our friends are prone to using rigged coins in order to come out ahead in the long run.\n",
    "\n",
    "Players fall into 3 categories, non-cheaters, smart cheaters, and dumb cheaters. Non-cheaters, as the name implies, do not use rigged coins. Smart cheaters make sure to switch between rigged and unrigged coins in order to keep the deception going. Dumb cheaters only use rigged coins."
   ]
  },
  {
   "cell_type": "code",
   "execution_count": 1,
   "metadata": {
    "collapsed": false
   },
   "outputs": [
    {
     "name": "stdout",
     "output_type": "stream",
     "text": [
      "Populating the interactive namespace from numpy and matplotlib\n"
     ]
    },
    {
     "name": "stderr",
     "output_type": "stream",
     "text": [
      "WARNING: pylab import has clobbered these variables: ['log', 'random']\n",
      "`%matplotlib` prevents importing * from pylab and numpy\n"
     ]
    }
   ],
   "source": [
    "from pomegranate import *\n",
    "import numpy as np\n",
    "%pylab inline"
   ]
  },
  {
   "cell_type": "markdown",
   "metadata": {},
   "source": [
    "Let's start by creating our hmm's. Since this is a simple example, we will only have 2 states, rigged and unrigged, with discrete distributions."
   ]
  },
  {
   "cell_type": "code",
   "execution_count": 2,
   "metadata": {
    "collapsed": true
   },
   "outputs": [],
   "source": [
    "rigged = State( DiscreteDistribution({'H': 0.8, 'T': 0.2}), name=\"rigged\" )\n",
    "unrigged = State( DiscreteDistribution({'H': 0.5, 'T': 0.5}), name=\"unrigged\" )"
   ]
  },
  {
   "cell_type": "markdown",
   "metadata": {},
   "source": [
    "Now let's create our non-cheater and dumb cheater since their hmm's consist of a single state."
   ]
  },
  {
   "cell_type": "code",
   "execution_count": 3,
   "metadata": {
    "collapsed": true
   },
   "outputs": [],
   "source": [
    "non_cheater = HiddenMarkovModel( name=\"non-cheater\" )\n",
    "non_cheater.add_state( unrigged )\n",
    "\n",
    "dumb_cheater = HiddenMarkovModel( name=\"dumb-cheater\" )\n",
    "dumb_cheater.add_state( rigged )"
   ]
  },
  {
   "cell_type": "markdown",
   "metadata": {},
   "source": [
    "We can now add our starting states to our models."
   ]
  },
  {
   "cell_type": "code",
   "execution_count": 4,
   "metadata": {
    "collapsed": true
   },
   "outputs": [],
   "source": [
    "non_cheater.start = unrigged\n",
    "dumb_cheater.start = rigged"
   ]
  },
  {
   "cell_type": "markdown",
   "metadata": {},
   "source": [
    "We can also add the transitions to our non-cheater and dumb cheater."
   ]
  },
  {
   "cell_type": "code",
   "execution_count": 5,
   "metadata": {
    "collapsed": true
   },
   "outputs": [],
   "source": [
    "non_cheater.add_transition( unrigged, unrigged, 1 )\n",
    "dumb_cheater.add_transition( rigged, rigged, 1 )"
   ]
  },
  {
   "cell_type": "markdown",
   "metadata": {},
   "source": [
    "Now we bake our models to finalize the structure."
   ]
  },
  {
   "cell_type": "code",
   "execution_count": 6,
   "metadata": {
    "collapsed": true
   },
   "outputs": [],
   "source": [
    "non_cheater.bake()\n",
    "dumb_cheater.bake()"
   ]
  },
  {
   "cell_type": "markdown",
   "metadata": {},
   "source": [
    "Now we can create our smart cheater."
   ]
  },
  {
   "cell_type": "code",
   "execution_count": 7,
   "metadata": {
    "collapsed": false
   },
   "outputs": [],
   "source": [
    "smart_cheater = HiddenMarkovModel( name=\"smart-cheater\" )"
   ]
  },
  {
   "cell_type": "markdown",
   "metadata": {},
   "source": [
    "The structure of our smart cheater hmm should look like the following."
   ]
  },
  {
   "cell_type": "markdown",
   "metadata": {},
   "source": [
    "Let's add in our starting transitions. Smart cheaters start out half the time with an unrigged coin, half the time without."
   ]
  },
  {
   "cell_type": "code",
   "execution_count": 8,
   "metadata": {
    "collapsed": true
   },
   "outputs": [],
   "source": [
    "smart_cheater.add_transition( smart_cheater.start, unrigged, 0.5 )\n",
    "smart_cheater.add_transition( smart_cheater.start, rigged, 0.5 )"
   ]
  },
  {
   "cell_type": "markdown",
   "metadata": {},
   "source": [
    "Then we can add our transition matrix."
   ]
  },
  {
   "cell_type": "code",
   "execution_count": 9,
   "metadata": {
    "collapsed": true
   },
   "outputs": [],
   "source": [
    "smart_cheater.add_transition( rigged, rigged, 0.5 )\n",
    "smart_cheater.add_transition( rigged, unrigged, 0.5 )\n",
    "smart_cheater.add_transition( unrigged, rigged, 0.5 )\n",
    "smart_cheater.add_transition( unrigged, unrigged, 0.5 )"
   ]
  },
  {
   "cell_type": "markdown",
   "metadata": {},
   "source": [
    "Finally we can bake the model to finalize its structure."
   ]
  },
  {
   "cell_type": "code",
   "execution_count": 10,
   "metadata": {
    "collapsed": false
   },
   "outputs": [],
   "source": [
    "smart_cheater.bake()"
   ]
  },
  {
   "cell_type": "markdown",
   "metadata": {},
   "source": [
    "We can view the structures of all our hmm's in the images below."
   ]
  },
  {
   "cell_type": "code",
   "execution_count": 11,
   "metadata": {
    "collapsed": false
   },
   "outputs": [
    {
     "data": {
      "image/png": "[encoded data removed]",
      "text/plain": [
       "<matplotlib.figure.Figure at 0x7f0639bacd10>"
      ]
     },
     "metadata": {},
     "output_type": "display_data"
    },
    {
     "data": {
      "image/png": "[encoded data removed]",
      "text/plain": [
       "<matplotlib.figure.Figure at 0x7f0637253ad0>"
      ]
     },
     "metadata": {},
     "output_type": "display_data"
    },
    {
     "data": {
      "image/png": "[encoded data removed]",
      "text/plain": [
       "<matplotlib.figure.Figure at 0x7f0636107f50>"
      ]
     },
     "metadata": {},
     "output_type": "display_data"
    }
   ],
   "source": [
    "plt.title(\"smart cheater hmm\")\n",
    "smart_cheater.plot()\n",
    "\n",
    "plt.title(\"dumb cheater hmm\")\n",
    "dumb_cheater.plot()\n",
    "\n",
    "plt.title(\"non-cheater hmm\")\n",
    "non_cheater.plot()"
   ]
  },
  {
   "cell_type": "markdown",
   "metadata": {},
   "source": [
    "Now we can finally create our Naive Bayes classifier. We'll let 0 stand for a non-cheater, 1 stand for a smart cheater, and 2 stand for a dumb cheater."
   ]
  },
  {
   "cell_type": "code",
   "execution_count": 12,
   "metadata": {
    "collapsed": true
   },
   "outputs": [],
   "source": [
    "players = NaiveBayes([ non_cheater, smart_cheater, dumb_cheater ])"
   ]
  },
  {
   "cell_type": "markdown",
   "metadata": {},
   "source": [
    "Now let's create a sequence of coin tosses to test our classifier on."
   ]
  },
  {
   "cell_type": "code",
   "execution_count": 13,
   "metadata": {
    "collapsed": true
   },
   "outputs": [],
   "source": [
    "data = np.array([list( 'HHHHHTHTHTTTTHHHTHHTTHHHHHTH' ),\n",
    "                 list( 'HHHHHHHTHHHHTTHHHHHHHTTHHHHH' ),\n",
    "                 list( 'THTHTHTHTHTHTTHHTHHHHTTHHHTT' )])"
   ]
  },
  {
   "cell_type": "markdown",
   "metadata": {},
   "source": [
    "We can now check the log probability of each string of data occurring under each model."
   ]
  },
  {
   "cell_type": "code",
   "execution_count": 14,
   "metadata": {
    "collapsed": false
   },
   "outputs": [
    {
     "name": "stdout",
     "output_type": "stream",
     "text": [
      "For sequence 1, 21.4% non-cheater, 68.0% smart cheater, 10.6% dumb cheater.\n",
      "For sequence 2, 0.173% non-cheater, 12.1% smart cheater, 87.7% dumb cheater.\n",
      "For sequence 3, 66.5% non-cheater, 33.0% smart cheater, 0.515% dumb cheater.\n"
     ]
    }
   ],
   "source": [
    "probs = players.predict_proba( data )\n",
    "\n",
    "for i in range(len(probs)):\n",
    "    print \"For sequence {}, {:.3}% non-cheater, {:.3}% smart cheater, {:.3}% dumb cheater.\".format( i+1, 100*probs[i][0], 100*probs[i][1], 100*probs[i][2])"
   ]
  },
  {
   "cell_type": "markdown",
   "metadata": {},
   "source": [
    "Finally we can classify whether a non-cheater (0), smart cheater (1), or dumb cheater (2) created the string of data."
   ]
  },
  {
   "cell_type": "code",
   "execution_count": 15,
   "metadata": {
    "collapsed": false
   },
   "outputs": [
    {
     "name": "stdout",
     "output_type": "stream",
     "text": [
      "Sequence 1 is a smart cheater\n",
      "Sequence 2 is a dumb cheater\n",
      "Sequence 3 is a non-cheater\n"
     ]
    }
   ],
   "source": [
    "output = players.predict( data )\n",
    "\n",
    "for i in range(len(output)):\n",
    "    print \"Sequence {} is a {}\".format( i+1, \"non-cheater\" if output[i] == 0 else \"smart cheater\" if output[i] == 1 else \"dumb cheater\")"
   ]
  },
  {
   "cell_type": "markdown",
   "metadata": {},
   "source": [
    "We can also train our hmm's through Naive Bayes. Let's used the following data, all marked as known games for smart cheaters."
   ]
  },
  {
   "cell_type": "code",
   "execution_count": 16,
   "metadata": {
    "collapsed": false
   },
   "outputs": [],
   "source": [
    "X = np.array([list( 'HHHHHTHTHTTTTH' ),\n",
    "              list( 'HHTHHTTHHHHHTH' )])\n",
    "\n",
    "y = np.array([ 1, 1 ])"
   ]
  },
  {
   "cell_type": "markdown",
   "metadata": {},
   "source": [
    "Now let's fit our NaiveBayes classifier to our data."
   ]
  },
  {
   "cell_type": "code",
   "execution_count": 17,
   "metadata": {
    "collapsed": false
   },
   "outputs": [
    {
     "name": "stdout",
     "output_type": "stream",
     "text": [
      "Training improvement: 0.0\n",
      "Total Training Improvement: 0.0\n",
      "Training improvement: 0.119626039306\n",
      "Training improvement: 0.108202574524\n",
      "Training improvement: 0.104478279961\n",
      "Training improvement: 0.100554693953\n",
      "Training improvement: 0.0940703375681\n",
      "Training improvement: 0.0851380638555\n",
      "Training improvement: 0.075082021487\n",
      "Training improvement: 0.0650635300605\n",
      "Training improvement: 0.0556040117724\n",
      "Training improvement: 0.0468627929096\n",
      "Training improvement: 0.0389964243578\n",
      "Training improvement: 0.0322379948637\n",
      "Training improvement: 0.0267737991521\n",
      "Training improvement: 0.0226278400989\n",
      "Training improvement: 0.0196552869568\n",
      "Training improvement: 0.0176151265599\n",
      "Training improvement: 0.0162527488872\n",
      "Training improvement: 0.0153517762543\n",
      "Training improvement: 0.0147512027147\n",
      "Training improvement: 0.0143409364153\n",
      "Training improvement: 0.0140492075781\n",
      "Training improvement: 0.013829823556\n",
      "Training improvement: 0.0136523569919\n",
      "Training improvement: 0.0134956437015\n",
      "Training improvement: 0.0133439323293\n",
      "Training improvement: 0.0131848506511\n",
      "Training improvement: 0.0130084911129\n",
      "Training improvement: 0.0128071143937\n",
      "Training improvement: 0.0125751360828\n",
      "Training improvement: 0.0123091835201\n",
      "Training improvement: 0.0120080966702\n",
      "Training improvement: 0.0116728102101\n",
      "Training improvement: 0.0113061013654\n",
      "Training improvement: 0.0109122225279\n",
      "Training improvement: 0.0104964598306\n",
      "Training improvement: 0.0100646686751\n",
      "Training improvement: 0.00962283573703\n",
      "Training improvement: 0.00917670682795\n",
      "Training improvement: 0.00873150490831\n",
      "Training improvement: 0.00829174651701\n",
      "Training improvement: 0.00786115115611\n",
      "Training improvement: 0.00744262867112\n",
      "Training improvement: 0.0070383248928\n",
      "Training improvement: 0.00664970514329\n",
      "Training improvement: 0.00627765744269\n",
      "Training improvement: 0.00592260104824\n",
      "Training improvement: 0.0055845901957\n",
      "Training improvement: 0.00526340682531\n",
      "Training improvement: 0.0049586392538\n",
      "Training improvement: 0.00466974607413\n",
      "Training improvement: 0.0043961060777\n",
      "Training improvement: 0.00413705584458\n",
      "Training improvement: 0.00389191700845\n",
      "Training improvement: 0.00366001523404\n",
      "Training improvement: 0.00344069278094\n",
      "Training improvement: 0.00323331626452\n",
      "Training improvement: 0.0030372809334\n",
      "Training improvement: 0.00285201250226\n",
      "Training improvement: 0.00267696733124\n",
      "Training improvement: 0.00251163153984\n",
      "Training improvement: 0.00235551947977\n",
      "Training improvement: 0.00220817186769\n",
      "Training improvement: 0.00206915378561\n",
      "Training improvement: 0.00193805268839\n",
      "Training improvement: 0.00181447650891\n",
      "Training improvement: 0.00169805191518\n",
      "Training improvement: 0.00158842274904\n",
      "Training improvement: 0.00148524865748\n",
      "Training improvement: 0.00138820391486\n",
      "Training improvement: 0.00129697642623\n",
      "Training improvement: 0.00121126689503\n",
      "Training improvement: 0.00113078813668\n",
      "Training improvement: 0.00105526451669\n",
      "Training improvement: 0.000984431492135\n",
      "Training improvement: 0.000918035236609\n",
      "Training improvement: 0.000855832329577\n",
      "Training improvement: 0.000797589493438\n",
      "Training improvement: 0.000743083363592\n",
      "Training improvement: 0.000692100279554\n",
      "Training improvement: 0.000644436086809\n",
      "Training improvement: 0.000599895941683\n",
      "Training improvement: 0.000558294113659\n",
      "Training improvement: 0.000519453780441\n",
      "Training improvement: 0.000483206813627\n",
      "Training improvement: 0.000449393553204\n",
      "Training improvement: 0.000417862570835\n",
      "Training improvement: 0.000388470421797\n",
      "Training improvement: 0.000361081387055\n",
      "Training improvement: 0.000335567206378\n",
      "Training improvement: 0.00031180680449\n",
      "Training improvement: 0.000289686011826\n",
      "Training improvement: 0.000269097281784\n",
      "Training improvement: 0.000249939406356\n",
      "Training improvement: 0.000232117231967\n",
      "Training improvement: 0.00021554137675\n",
      "Training improvement: 0.000200127951366\n",
      "Training improvement: 0.000185798284186\n",
      "Training improvement: 0.000172478652313\n",
      "Training improvement: 0.00016010001908\n",
      "Training improvement: 0.000148597779415\n",
      "Training improvement: 0.000137911513136\n",
      "Training improvement: 0.00012798474712\n",
      "Training improvement: 0.000118764726484\n",
      "Training improvement: 0.000110202195238\n",
      "Training improvement: 0.000102251186448\n",
      "Training improvement: 9.4868821968e-05\n",
      "Training improvement: 8.80151217153e-05\n",
      "Training improvement: 8.16528225549e-05\n",
      "Training improvement: 7.5747206445e-05\n",
      "Training improvement: 7.02659376017e-05\n",
      "Training improvement: 6.5178908784e-05\n",
      "Training improvement: 6.04580960051e-05\n",
      "Training improvement: 5.60774216112e-05\n",
      "Training improvement: 5.20126254351e-05\n",
      "Training improvement: 4.82411435314e-05\n",
      "Training improvement: 4.47419942162e-05\n",
      "Training improvement: 4.14956713541e-05\n",
      "Training improvement: 3.84840439125e-05\n",
      "Training improvement: 3.5690262159e-05\n",
      "Training improvement: 3.30986697392e-05\n",
      "Training improvement: 3.06947213815e-05\n",
      "Training improvement: 2.84649060802e-05\n",
      "Training improvement: 2.63966751213e-05\n",
      "Training improvement: 2.44783751135e-05\n",
      "Training improvement: 2.26991852941e-05\n",
      "Training improvement: 2.10490591925e-05\n",
      "Training improvement: 1.95186700509e-05\n",
      "Training improvement: 1.80993601759e-05\n",
      "Training improvement: 1.6783093578e-05\n",
      "Training improvement: 1.55624119635e-05\n",
      "Training improvement: 1.44303936445e-05\n",
      "Training improvement: 1.33806154849e-05\n",
      "Training improvement: 1.24071172856e-05\n",
      "Training improvement: 1.15043687643e-05\n",
      "Training improvement: 1.06672388576e-05\n",
      "Training improvement: 9.89096715642e-06\n",
      "Training improvement: 9.17113725407e-06\n",
      "Training improvement: 8.50365215044e-06\n",
      "Training improvement: 7.8847113123e-06\n",
      "Training improvement: 7.31078930372e-06\n",
      "Training improvement: 6.77861598319e-06\n",
      "Training improvement: 6.2851581788e-06\n",
      "Training improvement: 5.82760256407e-06\n",
      "Training improvement: 5.40333977384e-06\n",
      "Training improvement: 5.00994972796e-06\n",
      "Training improvement: 4.64518791432e-06\n",
      "Training improvement: 4.30697273401e-06\n",
      "Training improvement: 3.99337367085e-06\n",
      "Training improvement: 3.70260039873e-06\n",
      "Training improvement: 3.43299264927e-06\n",
      "Training improvement: 3.18301069768e-06\n",
      "Training improvement: 2.95122676874e-06\n",
      "Training improvement: 2.73631678027e-06\n",
      "Training improvement: 2.53705290731e-06\n",
      "Training improvement: 2.35229662238e-06\n",
      "Training improvement: 2.18099210159e-06\n",
      "Training improvement: 2.02216034495e-06\n",
      "Training improvement: 1.87489354886e-06\n",
      "Training improvement: 1.73834993689e-06\n",
      "Training improvement: 1.61174889257e-06\n",
      "Training improvement: 1.49436672103e-06\n",
      "Training improvement: 1.38553225071e-06\n",
      "Training improvement: 1.28462320959e-06"
     ]
    },
    {
     "name": "stderr",
     "output_type": "stream",
     "text": [
      "Exception ZeroDivisionError: 'float division by zero' in 'pomegranate.hmm.HiddenMarkovModel._baum_welch_update' ignored\n",
      "Exception "
     ]
    },
    {
     "name": "stdout",
     "output_type": "stream",
     "text": [
      "\n",
      "Training improvement: 1.19106263341e-06\n",
      "Training improvement: 1.10431544442e-06\n",
      "Training improvement: 1.02388560919e-06\n",
      "Training improvement: 9.49313136545e-07\n",
      "Training improvement: 8.80171530326e-07\n",
      "Training improvement: 8.16065359288e-07\n",
      "Training improvement: 7.56627958509e-07\n",
      "Training improvement: 7.01519304869e-07\n",
      "Training improvement: 6.50424247794e-07\n",
      "Training improvement: 6.03050484216e-07\n",
      "Training improvement: 5.59126984712e-07\n",
      "Training improvement: 5.18402565319e-07\n",
      "Training improvement: 4.80644146705e-07\n",
      "Training improvement: 4.4563584467e-07\n",
      "Training improvement: 4.13177286163e-07\n",
      "Training improvement: 3.83082809918e-07\n",
      "Training improvement: 3.55180254985e-07\n",
      "Training improvement: 3.29309969516e-07\n",
      "Training improvement: 3.05323940353e-07\n",
      "Training improvement: 2.83084933272e-07\n",
      "Training improvement: 2.62465732703e-07\n",
      "Training improvement: 2.43348331708e-07\n",
      "Training improvement: 2.2562339197e-07\n",
      "Training improvement: 2.0918946575e-07\n",
      "Training improvement: 1.9395251627e-07\n",
      "Training improvement: 1.79825381252e-07\n",
      "Training improvement: 1.66727236461e-07\n",
      "Training improvement: 1.54583098322e-07\n",
      "Training improvement: 1.43323532598e-07\n",
      "Training improvement: 1.32884061088e-07\n",
      "Training improvement: 1.23204998204e-07\n",
      "Training improvement: 1.14230932269e-07\n",
      "Training improvement: 1.05910491044e-07\n",
      "Training improvement: 9.81961321145e-08\n",
      "Training improvement: 9.10436419588e-08\n",
      "Training improvement: 8.44121501586e-08\n",
      "Training improvement: 7.82636568886e-08\n",
      "Training improvement: 7.25630329157e-08\n",
      "Training improvement: 6.72776110378e-08\n",
      "Training improvement: 6.23771967412e-08\n",
      "Training improvement: 5.78337058244e-08\n",
      "Training improvement: 5.36211537394e-08\n",
      "Training improvement: 4.97154459822e-08\n",
      "Training improvement: 4.60942253255e-08\n",
      "Training improvement: 4.27367581324e-08\n",
      "Training improvement: 3.96238633016e-08\n",
      "Training improvement: 3.67376884469e-08\n",
      "Training improvement: 3.40617596351e-08\n",
      "Training improvement: 3.15807042739e-08\n",
      "Training improvement: 2.92804287483e-08\n",
      "Training improvement: 2.71476494618e-08\n",
      "Training improvement: 2.51702374499e-08\n",
      "Training improvement: 2.33368666613e-08\n",
      "Training improvement: 2.16370246164e-08\n",
      "Training improvement: 2.00609910905e-08\n",
      "Training improvement: 1.85997706126e-08\n",
      "Training improvement: 1.72449858837e-08\n",
      "Training improvement: 1.59888671192e-08\n",
      "Training improvement: 1.48242520481e-08\n",
      "Training improvement: 1.37444580162e-08\n",
      "Training improvement: 1.27433388286e-08\n",
      "Training improvement: 1.18151071149e-08\n",
      "Training improvement: 1.09545119642e-08\n",
      "Training improvement: 1.01565831301e-08\n",
      "Training improvement: 9.41680511346e-09\n",
      "Training improvement: 8.73087557807e-09\n",
      "Training improvement: 8.09492917142e-09\n",
      "Training improvement: 7.50530304572e-09\n",
      "Training improvement: 6.95861857025e-09\n",
      "Training improvement: 6.45175646241e-09\n",
      "Training improvement: 5.98181770783e-09\n",
      "Training improvement: 5.54610579684e-09\n",
      "Training improvement: 5.14213382985e-09\n",
      "Training improvement: 4.76758543755e-09\n",
      "Training improvement: 4.42031478087e-09\n",
      "Training improvement: 4.09833944559e-09\n",
      "Training improvement: 3.7998155733e-09\n",
      "Training improvement: 3.5230520723e-09\n",
      "Training improvement: 3.26643601056e-09\n",
      "Training improvement: 3.02849656464e-09\n",
      "Training improvement: 2.80791567775e-09\n",
      "Training improvement: 2.60337884583e-09\n",
      "Training improvement: 2.41376341137e-09\n",
      "Training improvement: 2.23793605869e-09\n",
      "Training improvement: 2.07493755511e-09\n",
      "Training improvement: 1.92378024622e-09\n",
      "Training improvement: 1.78367542958e-09\n",
      "Training improvement: 1.65373847949e-09\n",
      "Training improvement: 1.53328727492e-09\n",
      "Training improvement: 1.42159706229e-09\n",
      "Training improvement: 1.31806388026e-09\n",
      "Training improvement: 1.22204824038e-09\n",
      "Training improvement: 1.13302434102e-09\n",
      "Training improvement: 1.05050190768e-09\n",
      "Training improvement: 9.73994218612e-10\n",
      "Total Training Improvement: 1.43865856281\n",
      "Training improvement: 0.0\n",
      "Total Training Improvement: 0.0\n"
     ]
    },
    {
     "name": "stderr",
     "output_type": "stream",
     "text": [
      "ZeroDivisionError: 'float division by zero' in 'pomegranate.hmm.HiddenMarkovModel._baum_welch_update' ignored\n"
     ]
    }
   ],
   "source": [
    "players.fit( X, y )"
   ]
  }
 ],
 "metadata": {
  "kernelspec": {
   "display_name": "Python 2",
   "language": "python",
   "name": "python2"
  },
  "language_info": {
   "codemirror_mode": {
    "name": "ipython",
    "version": 2
   },
   "file_extension": ".py",
   "mimetype": "text/x-python",
   "name": "python",
   "nbconvert_exporter": "python",
   "pygments_lexer": "ipython2",
   "version": "2.7.11"
  }
 },
 "nbformat": 4,
 "nbformat_minor": 0
}
