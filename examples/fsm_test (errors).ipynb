{
 "cells": [
  {
   "cell_type": "markdown",
   "metadata": {},
   "source": [
    "# Finite State Machine Test"
   ]
  },
  {
   "cell_type": "markdown",
   "metadata": {},
   "source": [
    "authors:<br>\n",
    "Jacob Schreiber [<a href=\"mailto:jmschreiber91@gmail.com\">jmschreiber91@gmail.com</a>]<br>\n",
    "Nicholas Farn [<a href=\"mailto:nicholasfarn@gmail.com\">nicholasfarn@gmail.com</a>]"
   ]
  },
  {
   "cell_type": "markdown",
   "metadata": {},
   "source": [
    "This is a test example showing how to set up a FSM using pomegranate."
   ]
  },
  {
   "cell_type": "code",
   "execution_count": 1,
   "metadata": {
    "collapsed": true
   },
   "outputs": [],
   "source": [
    "from pomegranate import *"
   ]
  },
  {
   "cell_type": "markdown",
   "metadata": {},
   "source": [
    "Let's create the states for our FSM, this is the same way as one would create states for a HMM."
   ]
  },
  {
   "cell_type": "code",
   "execution_count": 2,
   "metadata": {
    "collapsed": true
   },
   "outputs": [],
   "source": [
    "a = State( NormalDistribution( 5, 1 ), \"a\" )\n",
    "b = State( NormalDistribution( 23, 1 ), \"b\" )\n",
    "c = State( NormalDistribution( 100, 1 ), \"c\" )"
   ]
  },
  {
   "cell_type": "markdown",
   "metadata": {},
   "source": [
    "Now we can create our FSM and add the states to it."
   ]
  },
  {
   "cell_type": "code",
   "execution_count": 4,
   "metadata": {
    "collapsed": true
   },
   "outputs": [],
   "source": [
    "model = FiniteStateMachine( \"test\" )\n",
    "model.add_states( [a, b, c] )"
   ]
  },
  {
   "cell_type": "markdown",
   "metadata": {},
   "source": [
    "We can add the transitions as well."
   ]
  },
  {
   "cell_type": "code",
   "execution_count": 5,
   "metadata": {
    "collapsed": true
   },
   "outputs": [],
   "source": [
    "model.add_transition( model.start, a, 1.0 )\n",
    "model.add_transition( a, a, 0.33 )\n",
    "model.add_transition( a, b, 0.33 )\n",
    "model.add_transition( b, b, 0.5 )\n",
    "model.add_transition( b, a, 0.5 )\n",
    "model.add_transition( a, c, 0.33 )\n",
    "model.add_transition( c, a, 0.5 )\n",
    "model.add_transition( c, c, 0.5 )"
   ]
  },
  {
   "cell_type": "markdown",
   "metadata": {},
   "source": [
    "Finishing with the method \"bake\" to finalize the structure of the model."
   ]
  },
  {
   "cell_type": "code",
   "execution_count": 6,
   "metadata": {
    "collapsed": true
   },
   "outputs": [],
   "source": [
    "model.bake( verbose=True )"
   ]
  },
  {
   "cell_type": "markdown",
   "metadata": {},
   "source": [
    "Now let's create a sequence of observations to test out our model with."
   ]
  },
  {
   "cell_type": "code",
   "execution_count": 7,
   "metadata": {
    "collapsed": true
   },
   "outputs": [],
   "source": [
    "seq = [ 5, 5, 5, 5, 23, 23, 5, 23, 23, 100, 23, 23, 23, 23, 5, 5, 100, 5, 23 ]"
   ]
  },
  {
   "cell_type": "markdown",
   "metadata": {},
   "source": [
    "We should check on the possible states of our model first."
   ]
  },
  {
   "cell_type": "code",
   "execution_count": 8,
   "metadata": {
    "collapsed": false
   },
   "outputs": [
    {
     "name": "stdout",
     "output_type": "stream",
     "text": [
      "test-start\n",
      "a\n",
      "b\n",
      "c\n"
     ]
    }
   ],
   "source": [
    "print \"\\n\".join( state.name for state in model.states )"
   ]
  },
  {
   "cell_type": "markdown",
   "metadata": {},
   "source": [
    "Now we can check which state our model is currently in."
   ]
  },
  {
   "cell_type": "code",
   "execution_count": 9,
   "metadata": {
    "collapsed": false
   },
   "outputs": [
    {
     "name": "stdout",
     "output_type": "stream",
     "text": [
      "test-start\n",
      "5 test-start\n",
      "5 test-start\n",
      "5 test-start\n",
      "5 test-start\n",
      "23 test-start\n",
      "23 test-start\n",
      "5 test-start\n",
      "23 test-start\n",
      "23 test-start\n",
      "100 test-start\n",
      "23 test-start\n",
      "23 test-start\n",
      "23 test-start\n",
      "23 test-start\n",
      "5 test-start\n",
      "5 test-start\n",
      "100 test-start\n",
      "5 test-start\n",
      "23 test-start\n"
     ]
    },
    {
     "name": "stderr",
     "output_type": "stream",
     "text": [
      "Exception SyntaxError: SyntaxError('No edges leaving state test-start with key 5',) in 'pomegranate.fsm.FiniteStateMachine._step' ignored\n",
      "Exception SyntaxError: SyntaxError('No edges leaving state test-start with key 5',) in 'pomegranate.fsm.FiniteStateMachine._step' ignored\n",
      "Exception SyntaxError: SyntaxError('No edges leaving state test-start with key 5',) in 'pomegranate.fsm.FiniteStateMachine._step' ignored\n",
      "Exception SyntaxError: SyntaxError('No edges leaving state test-start with key 5',) in 'pomegranate.fsm.FiniteStateMachine._step' ignored\n",
      "Exception SyntaxError: SyntaxError('No edges leaving state test-start with key 23',) in 'pomegranate.fsm.FiniteStateMachine._step' ignored\n",
      "Exception SyntaxError: SyntaxError('No edges leaving state test-start with key 23',) in 'pomegranate.fsm.FiniteStateMachine._step' ignored\n",
      "Exception SyntaxError: SyntaxError('No edges leaving state test-start with key 5',) in 'pomegranate.fsm.FiniteStateMachine._step' ignored\n",
      "Exception SyntaxError: SyntaxError('No edges leaving state test-start with key 23',) in 'pomegranate.fsm.FiniteStateMachine._step' ignored\n",
      "Exception SyntaxError: SyntaxError('No edges leaving state test-start with key 23',) in 'pomegranate.fsm.FiniteStateMachine._step' ignored\n",
      "Exception SyntaxError: SyntaxError('No edges leaving state test-start with key 100',) in 'pomegranate.fsm.FiniteStateMachine._step' ignored\n",
      "Exception SyntaxError: SyntaxError('No edges leaving state test-start with key 23',) in 'pomegranate.fsm.FiniteStateMachine._step' ignored\n",
      "Exception SyntaxError: SyntaxError('No edges leaving state test-start with key 23',) in 'pomegranate.fsm.FiniteStateMachine._step' ignored\n",
      "Exception SyntaxError: SyntaxError('No edges leaving state test-start with key 23',) in 'pomegranate.fsm.FiniteStateMachine._step' ignored\n",
      "Exception SyntaxError: SyntaxError('No edges leaving state test-start with key 23',) in 'pomegranate.fsm.FiniteStateMachine._step' ignored\n",
      "Exception SyntaxError: SyntaxError('No edges leaving state test-start with key 5',) in 'pomegranate.fsm.FiniteStateMachine._step' ignored\n",
      "Exception SyntaxError: SyntaxError('No edges leaving state test-start with key 5',) in 'pomegranate.fsm.FiniteStateMachine._step' ignored\n",
      "Exception SyntaxError: SyntaxError('No edges leaving state test-start with key 100',) in 'pomegranate.fsm.FiniteStateMachine._step' ignored\n",
      "Exception SyntaxError: SyntaxError('No edges leaving state test-start with key 5',) in 'pomegranate.fsm.FiniteStateMachine._step' ignored\n",
      "Exception SyntaxError: SyntaxError('No edges leaving state test-start with key 23',) in 'pomegranate.fsm.FiniteStateMachine._step' ignored\n"
     ]
    }
   ],
   "source": [
    "print model.current_state.name\n",
    "\n",
    "for symbol in seq:\n",
    "\tmodel.step( symbol )\n",
    "\tprint symbol, model.current_state.name"
   ]
  }
 ],
 "metadata": {
  "kernelspec": {
   "display_name": "Python 2",
   "language": "python",
   "name": "python2"
  },
  "language_info": {
   "codemirror_mode": {
    "name": "ipython",
    "version": 2
   },
   "file_extension": ".py",
   "mimetype": "text/x-python",
   "name": "python",
   "nbconvert_exporter": "python",
   "pygments_lexer": "ipython2",
   "version": "2.7.11"
  }
 },
 "nbformat": 4,
 "nbformat_minor": 0
}
