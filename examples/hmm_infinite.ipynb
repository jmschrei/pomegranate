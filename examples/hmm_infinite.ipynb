{
 "cells": [
  {
   "cell_type": "markdown",
   "metadata": {},
   "source": [
    "# Infinite Hidden Markov Model"
   ]
  },
  {
   "cell_type": "markdown",
   "metadata": {},
   "source": [
    "authors:<br>\n",
    "Jacob Schreiber [<a href=\"mailto:jmschreiber91@gmail.com\">jmschreiber91@gmail.com</a>]<br>\n",
    "Nicholas Farn [<a href=\"mailto:nicholasfarn@gmail.com\">nicholasfarn@gmail.com</a>]"
   ]
  },
  {
   "cell_type": "markdown",
   "metadata": {},
   "source": [
    "This example shows how to use pomegranate to sample from an infinite HMM. The premise is that you have an HMM which does not have transitions to the end state, and so can continue on forever. This is done by not adding transitions to the end state. If you bake a model with no transitions to the end state, you get an infinite model, with no extra work! This change is passed on to all the algorithms."
   ]
  },
  {
   "cell_type": "code",
   "execution_count": 1,
   "metadata": {},
   "outputs": [],
   "source": [
    "from pomegranate import *\n",
    "import itertools as it\n",
    "import numpy as np"
   ]
  },
  {
   "cell_type": "markdown",
   "metadata": {},
   "source": [
    "First we define the possible states in the model. In this case we make them all have normal distributions."
   ]
  },
  {
   "cell_type": "code",
   "execution_count": 2,
   "metadata": {},
   "outputs": [],
   "source": [
    "s1 = State( NormalDistribution( 5, 2 ), name=\"S1\" )\n",
    "s2 = State( NormalDistribution( 15, 2 ), name=\"S2\" )\n",
    "s3 = State( NormalDistribution( 25, 2 ), name=\"S3\" )"
   ]
  },
  {
   "cell_type": "markdown",
   "metadata": {},
   "source": [
    "We then create the HMM object, naming it, logically, \"infinite\"."
   ]
  },
  {
   "cell_type": "code",
   "execution_count": 3,
   "metadata": {},
   "outputs": [],
   "source": [
    "model = HiddenMarkovModel( \"infinite\" )"
   ]
  },
  {
   "cell_type": "markdown",
   "metadata": {},
   "source": [
    "We then add the possible transition, making sure not to add an end state. Thus with no end state, the model is infinite!"
   ]
  },
  {
   "cell_type": "code",
   "execution_count": 4,
   "metadata": {},
   "outputs": [],
   "source": [
    "model.add_transition( model.start, s1, 0.7 )\n",
    "model.add_transition( model.start, s2, 0.2 )\n",
    "model.add_transition( model.start, s3, 0.1 )\n",
    "model.add_transition( s1, s1, 0.6 )\n",
    "model.add_transition( s1, s2, 0.1 )\n",
    "model.add_transition( s1, s3, 0.3 )\n",
    "model.add_transition( s2, s1, 0.4 )\n",
    "model.add_transition( s2, s2, 0.4 )\n",
    "model.add_transition( s2, s3, 0.2 )\n",
    "model.add_transition( s3, s1, 0.05 )\n",
    "model.add_transition( s3, s2, 0.15 )\n",
    "model.add_transition( s3, s3, 0.8 )"
   ]
  },
  {
   "cell_type": "markdown",
   "metadata": {},
   "source": [
    "Finally we \"bake\" the model, finalizing the model."
   ]
  },
  {
   "cell_type": "code",
   "execution_count": 5,
   "metadata": {},
   "outputs": [],
   "source": [
    "model.bake()"
   ]
  },
  {
   "cell_type": "markdown",
   "metadata": {},
   "source": [
    "Now we can check whether or not our model is infinite."
   ]
  },
  {
   "cell_type": "code",
   "execution_count": 6,
   "metadata": {},
   "outputs": [],
   "source": [
    "# Not implemented: print model.is_infinite()"
   ]
  },
  {
   "cell_type": "markdown",
   "metadata": {},
   "source": [
    "Now lets the possible states in the model."
   ]
  },
  {
   "cell_type": "code",
   "execution_count": 7,
   "metadata": {},
   "outputs": [
    {
     "name": "stdout",
     "output_type": "stream",
     "text": [
      "States\n",
      "S1\n",
      "S2\n",
      "S3\n",
      "infinite-start\n",
      "infinite-end\n"
     ]
    }
   ],
   "source": [
    "print(\"States\")\n",
    "print(\"\\n\".join( state.name for state in model.states ))"
   ]
  },
  {
   "cell_type": "markdown",
   "metadata": {},
   "source": [
    "Now lets test out our model by feeding it a sequence of values. We feed our sequence of values first through a forward algorithm in our HMM."
   ]
  },
  {
   "cell_type": "code",
   "execution_count": 8,
   "metadata": {},
   "outputs": [
    {
     "name": "stdout",
     "output_type": "stream",
     "text": [
      "Forward\n",
      "[[        -inf         -inf         -inf   0.                 -inf]\n",
      " [ -1.97376066 -16.22652363 -54.91967081         -inf         -inf]\n",
      " [ -4.14167156 -16.93342888 -51.83481875         -inf         -inf]\n",
      " [-51.86583105 -18.40758124  -7.05897823         -inf         -inf]\n",
      " [-65.74670193 -25.1481525   -8.97420455         -inf         -inf]\n",
      " [-24.39327178 -12.54465999 -25.12068379         -inf         -inf]\n",
      " [-72.85427528 -31.60428336 -16.04740908         -inf         -inf]\n",
      " [-35.50647567 -19.65786431 -28.2338883          -inf         -inf]\n",
      " [-22.21746699 -33.46742001 -70.40988373         -inf         -inf]\n",
      " [-24.34161966 -38.38333577 -74.53476684         -inf         -inf]]\n"
     ]
    }
   ],
   "source": [
    "sequence = [ 4.8, 5.6, 24.1, 25.8, 14.3, 26.5, 15.9, 5.5, 5.1 ]\n",
    "\n",
    "print(\"Forward\")\n",
    "print(model.forward( sequence ))"
   ]
  },
  {
   "cell_type": "markdown",
   "metadata": {},
   "source": [
    "That looks good as well. Now lets feed our sequence into the model through a backwards algorithm."
   ]
  },
  {
   "cell_type": "code",
   "execution_count": 9,
   "metadata": {},
   "outputs": [
    {
     "name": "stdout",
     "output_type": "stream",
     "text": [
      "Backward\n",
      "[[-24.49576972 -24.90123357 -26.9806721  -24.34161886         -inf]\n",
      " [-22.36785863 -22.77331446 -24.85273373 -22.21370663         -inf]\n",
      " [-20.19994915 -20.60539952 -19.21912118 -21.29854671         -inf]\n",
      " [-18.26347263 -18.6689355  -17.28264358 -19.36208268         -inf]\n",
      " [-15.77270345 -14.38657639 -15.36741456 -15.07964315         -inf]\n",
      " [-11.39151868 -11.7969834  -10.41068947 -12.49013058         -inf]\n",
      " [ -8.69968233  -7.31340196  -8.29421024  -8.00654767         -inf]\n",
      " [ -4.27832043  -4.68377831  -6.76320251  -4.12416872         -inf]\n",
      " [ -2.12416054  -2.52962166  -4.60905363  -1.97000929         -inf]\n",
      " [  0.           0.           0.                 -inf         -inf]]\n"
     ]
    }
   ],
   "source": [
    "print(\"Backward\")\n",
    "print(model.backward( sequence ))"
   ]
  },
  {
   "cell_type": "markdown",
   "metadata": {},
   "source": [
    "Continuing on we now feed the sequence in through a forward-backward algorithm."
   ]
  },
  {
   "cell_type": "code",
   "execution_count": 10,
   "metadata": {},
   "outputs": [
    {
     "name": "stdout",
     "output_type": "stream",
     "text": [
      "Forward-Backward\n",
      "[[1.99998844e+00 5.59973220e-06 1.00000592e+00 0.00000000e+00\n",
      "  0.00000000e+00]\n",
      " [9.99976663e-01 9.85835713e-06 9.99979797e-01 0.00000000e+00\n",
      "  0.00000000e+00]\n",
      " [3.44897138e-05 1.99995123e+00 1.00004800e+00 0.00000000e+00\n",
      "  0.00000000e+00]\n",
      " [9.99999569e-01 4.30542744e-07 8.44725590e-25 0.00000000e+00\n",
      "  0.00000000e+00]\n",
      " [0.00000000e+00 0.00000000e+00 0.00000000e+00 0.00000000e+00\n",
      "  0.00000000e+00]]\n",
      "[[-4.30542826e-07 -1.46582192e+01 -5.54307857e+01]\n",
      " [-1.85577414e-06 -1.31972095e+01 -4.67123211e+01]\n",
      " [-4.57876848e+01 -1.27348979e+01 -2.94648857e-06]\n",
      " [-5.71777865e+01 -1.51931100e+01 -2.52183224e-07]\n",
      " [-1.14431716e+01 -2.45377600e-05 -1.11897544e+01]\n",
      " [-5.72123388e+01 -1.45760665e+01 -4.67406625e-07]\n",
      " [-1.54431772e+01 -2.37681755e-05 -1.06554720e+01]\n",
      " [-8.67193612e-06 -1.16554228e+01 -5.06773185e+01]\n",
      " [-7.97553827e-07 -1.40417169e+01 -5.01931480e+01]]\n"
     ]
    }
   ],
   "source": [
    "print(\"Forward-Backward\")\n",
    "trans, emissions = model.forward_backward( sequence )\n",
    "print(trans)\n",
    "print(emissions)"
   ]
  },
  {
   "cell_type": "markdown",
   "metadata": {},
   "source": [
    "Finally we feed the sequence through a Viterbi algorithm to find the most probable sequence of states."
   ]
  },
  {
   "cell_type": "code",
   "execution_count": 11,
   "metadata": {},
   "outputs": [
    {
     "name": "stdout",
     "output_type": "stream",
     "text": [
      "Viterbi\n",
      "Prob: -24.341682585068853\n",
      "infinite-start\n",
      "S1\n",
      "S1\n",
      "S3\n",
      "S3\n",
      "S2\n",
      "S3\n",
      "S2\n",
      "S1\n",
      "S1\n",
      "\n",
      "MAP\n",
      "Prob: -6.372782082308959e-05\n",
      "S1\n",
      "S1\n",
      "S3\n",
      "S3\n",
      "S2\n",
      "S3\n",
      "S2\n",
      "S1\n",
      "S1\n"
     ]
    }
   ],
   "source": [
    "print(\"Viterbi\")\n",
    "prob, states = model.viterbi( sequence )\n",
    "print(\"Prob: {}\".format( prob ))\n",
    "print(\"\\n\".join( state[1].name for state in states ))\n",
    "print()\n",
    "print(\"MAP\")\n",
    "prob, states = model.maximum_a_posteriori( sequence )\n",
    "print(\"Prob: {}\".format( prob ))\n",
    "print(\"\\n\".join( state[1].name for state in states ))"
   ]
  },
  {
   "cell_type": "markdown",
   "metadata": {},
   "source": [
    "Finally we try and reproduce the transition matrix from 100,000 samples."
   ]
  },
  {
   "cell_type": "code",
   "execution_count": null,
   "metadata": {},
   "outputs": [],
   "source": [
    "print(\"Should produce a matrix close to the following: \")\n",
    "print(\" [ [ 0.60, 0.10, 0.30 ] \")\n",
    "print(\"   [ 0.40, 0.40, 0.20 ] \")\n",
    "print(\"   [ 0.05, 0.15, 0.80 ] ] \")\n",
    "print()\n",
    "print(\"Transition Matrix From 100000 Samples:\")\n",
    "sample, path = model.sample( 100000, path=True )\n",
    "trans = np.zeros((3,3))\n",
    "\n",
    "for state, n_state in it.izip( path[1:-2], path[2:-1] ):\n",
    "\tstate_name = int( state.name[1:] )-1\n",
    "\tn_state_name = int( n_state.name[1:] )-1\n",
    "\ttrans[ state_name, n_state_name ] += 1\n",
    "\n",
    "trans = (trans.T / trans.sum( axis=1 )).T\n",
    "print(trans)"
   ]
  }
 ],
 "metadata": {
  "kernelspec": {
   "display_name": "Python 3",
   "language": "python",
   "name": "python3"
  },
  "language_info": {
   "codemirror_mode": {
    "name": "ipython",
    "version": 3
   },
   "file_extension": ".py",
   "mimetype": "text/x-python",
   "name": "python",
   "nbconvert_exporter": "python",
   "pygments_lexer": "ipython3",
   "version": "3.7.4"
  },
  "toc": {
   "base_numbering": 1,
   "nav_menu": {},
   "number_sections": true,
   "sideBar": true,
   "skip_h1_title": false,
   "title_cell": "Table of Contents",
   "title_sidebar": "Contents",
   "toc_cell": false,
   "toc_position": {},
   "toc_section_display": true,
   "toc_window_display": false
  }
 },
 "nbformat": 4,
 "nbformat_minor": 1
}
