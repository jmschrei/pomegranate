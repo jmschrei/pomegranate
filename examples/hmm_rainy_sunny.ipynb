{
 "cells": [
  {
   "cell_type": "markdown",
   "metadata": {},
   "source": [
    "# Rainy or Sunny Hidden Markov Model"
   ]
  },
  {
   "cell_type": "markdown",
   "metadata": {},
   "source": [
    "authors:<br>\n",
    "Jacob Schreiber [<a href=\"mailto:jmschreiber91@gmail.com\">jmschreiber91@gmail.com</a>]<br>\n",
    "Nicholas Farn [<a href=\"mailto:nicholasfarn@gmail.com\">nicholasfarn@gmail.com</a>]"
   ]
  },
  {
   "cell_type": "markdown",
   "metadata": {},
   "source": [
    "This is an example of a sunny-rainy hidden markov model using yahmm. The example is drawn from the Wikipedia <a href=https://en.wikipedia.org/wiki/Hidden_Markov_model#A_concrete_example>article</a> on Hidden Markov Models describing what Bob likes to do on rainy or sunny days."
   ]
  },
  {
   "cell_type": "code",
   "execution_count": 1,
   "metadata": {
    "collapsed": false
   },
   "outputs": [],
   "source": [
    "from pomegranate import *\n",
    "import random\n",
    "import math\n",
    "\n",
    "random.seed(0)"
   ]
  },
  {
   "cell_type": "markdown",
   "metadata": {},
   "source": [
    "We first create a `HiddenMarkovModel` object, and name it \"Rainy-Sunny\"."
   ]
  },
  {
   "cell_type": "code",
   "execution_count": 2,
   "metadata": {
    "collapsed": false
   },
   "outputs": [],
   "source": [
    "model = HiddenMarkovModel( name=\"Rainy-Sunny\" )"
   ]
  },
  {
   "cell_type": "markdown",
   "metadata": {},
   "source": [
    "We then create the two possible states of the model, \"rainy\" and \"sunny\". We make them both discrete distributions, with the possibilities of Bob either walking, shopping, or cleaning."
   ]
  },
  {
   "cell_type": "code",
   "execution_count": 3,
   "metadata": {
    "collapsed": true
   },
   "outputs": [],
   "source": [
    "rainy = State( DiscreteDistribution({ 'walk': 0.1, 'shop': 0.4, 'clean': 0.5 }), name='Rainy' )\n",
    "sunny = State( DiscreteDistribution({ 'walk': 0.6, 'shop': 0.3, 'clean': 0.1 }), name='Sunny' )"
   ]
  },
  {
   "cell_type": "markdown",
   "metadata": {},
   "source": [
    "We then add the transitions probabilities, starting with the probability the model starts as sunny or rainy."
   ]
  },
  {
   "cell_type": "code",
   "execution_count": 4,
   "metadata": {
    "collapsed": false
   },
   "outputs": [],
   "source": [
    "model.add_transition( model.start, rainy, 0.6 )\n",
    "model.add_transition( model.start, sunny, 0.4 )"
   ]
  },
  {
   "cell_type": "markdown",
   "metadata": {},
   "source": [
    "We then add the transition matrix. We make sure to subtract 0.05 from each probability to add to the probability of exiting the hmm."
   ]
  },
  {
   "cell_type": "code",
   "execution_count": 5,
   "metadata": {
    "collapsed": false
   },
   "outputs": [],
   "source": [
    "model.add_transition( rainy, rainy, 0.65 )\n",
    "model.add_transition( rainy, sunny, 0.25 )\n",
    "model.add_transition( sunny, rainy, 0.35 )\n",
    "model.add_transition( sunny, sunny, 0.55 )"
   ]
  },
  {
   "cell_type": "markdown",
   "metadata": {},
   "source": [
    "Last, we add transitions to mark the end of the model."
   ]
  },
  {
   "cell_type": "code",
   "execution_count": 6,
   "metadata": {
    "collapsed": false
   },
   "outputs": [],
   "source": [
    "model.add_transition( rainy, model.end, 0.1 )\n",
    "model.add_transition( sunny, model.end, 0.1 )"
   ]
  },
  {
   "cell_type": "markdown",
   "metadata": {},
   "source": [
    "Finally we \"bake\" the model, finalizing its structure."
   ]
  },
  {
   "cell_type": "code",
   "execution_count": 7,
   "metadata": {
    "collapsed": false
   },
   "outputs": [],
   "source": [
    "model.bake( verbose=True )"
   ]
  },
  {
   "cell_type": "markdown",
   "metadata": {},
   "source": [
    "Now lets check on Bob each hour and see what he is doing! In other words lets create a sequence of observations."
   ]
  },
  {
   "cell_type": "code",
   "execution_count": 8,
   "metadata": {
    "collapsed": true
   },
   "outputs": [],
   "source": [
    "sequence = [ 'walk', 'shop', 'clean', 'clean', 'clean', 'walk', 'clean' ]"
   ]
  },
  {
   "cell_type": "markdown",
   "metadata": {},
   "source": [
    "Now lets check the probability of observing this sequence."
   ]
  },
  {
   "cell_type": "code",
   "execution_count": 9,
   "metadata": {
    "collapsed": false
   },
   "outputs": [
    {
     "name": "stdout",
     "output_type": "stream",
     "text": [
      "Probability of Sequence:  1.8545269908e-05\n",
      "Probability of Cleaning at Time Step 3 Given This Sequence:  0.912099070419\n",
      "Probability of the Sequence Given It's Sunny at Time Step 4:  0.0004459435\n",
      "Sunny Rainy Rainy Rainy Rainy Sunny Rainy\n"
     ]
    }
   ],
   "source": [
    "print \"Probability of Sequence: \", \\\n",
    "\tmath.e**model.forward( sequence )[ len(sequence), model.end_index ]\n",
    "print \"Probability of Cleaning at Time Step 3 Given This Sequence: \", \\\n",
    "\tmath.e**model.forward_backward( sequence )[1][ 2, model.states.index( rainy ) ]\n",
    "print \"Probability of the Sequence Given It's Sunny at Time Step 4: \", \\\n",
    "\tmath.e**model.backward( sequence )[ 3, model.states.index( sunny ) ]\n",
    "\n",
    "print \" \".join( state.name for i, state in model.maximum_a_posteriori( sequence )[1] )"
   ]
  }
 ],
 "metadata": {
  "kernelspec": {
   "display_name": "Python 2",
   "language": "python",
   "name": "python2"
  },
  "language_info": {
   "codemirror_mode": {
    "name": "ipython",
    "version": 2
   },
   "file_extension": ".py",
   "mimetype": "text/x-python",
   "name": "python",
   "nbconvert_exporter": "python",
   "pygments_lexer": "ipython2",
   "version": "2.7.11"
  }
 },
 "nbformat": 4,
 "nbformat_minor": 0
}
