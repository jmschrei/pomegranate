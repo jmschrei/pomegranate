{
 "cells": [
  {
   "cell_type": "markdown",
   "metadata": {},
   "source": [
    "# Distribution Test Tables"
   ]
  },
  {
   "cell_type": "markdown",
   "metadata": {},
   "source": [
    "This example demonstrates how to create some conditional probability tables and a bayesian network."
   ]
  },
  {
   "cell_type": "code",
   "execution_count": 2,
   "metadata": {
    "collapsed": true
   },
   "outputs": [],
   "source": [
    "from pomegranate import *\n",
    "import math"
   ]
  },
  {
   "cell_type": "markdown",
   "metadata": {},
   "source": [
    "First let's define some conditional probability tables."
   ]
  },
  {
   "cell_type": "code",
   "execution_count": 3,
   "metadata": {
    "collapsed": true
   },
   "outputs": [],
   "source": [
    "c_table = [[0, 0, 0, 0.6],\n",
    "\t\t   [0, 0, 1, 0.4],\n",
    "\t\t   [0, 1, 0, 0.7],\n",
    "\t\t   [0, 1, 1, 0.3],\n",
    "\t\t   [1, 0, 0, 0.2],\n",
    "\t\t   [1, 0, 1, 0.8],\n",
    "\t\t   [1, 1, 0, 0.9],\n",
    "\t\t   [1, 1, 1, 0.1]]\n",
    "\n",
    "d_table = [[ 0, 0, 0.5 ],\n",
    "\t\t   [ 0, 1, 0.5 ],\n",
    "\t\t   [ 1, 0, 0.3 ],\n",
    "\t\t   [ 1, 1, 0.7 ]]\n",
    "\n",
    "f_table = [[ 0, 0, 0, 0.8 ],\n",
    "\t\t   [ 0, 0, 1, 0.2 ],\n",
    "\t\t   [ 0, 1, 0, 0.3 ],\n",
    "\t\t   [ 0, 1, 1, 0.7 ],\n",
    "\t\t   [ 1, 0, 0, 0.6 ],\n",
    "\t\t   [ 1, 0, 1, 0.4 ],\n",
    "\t\t   [ 1, 1, 0, 0.9 ],\n",
    "\t\t   [ 1, 1, 1, 0.1 ]]\n",
    "\n",
    "e_table = [[ 0, 0, 0.7 ],\n",
    "\t\t   [ 0, 1, 0.3 ],\n",
    "\t\t   [ 1, 0, 0.2 ],\n",
    "\t\t   [ 1, 1, 0.8 ]]\n",
    "\n",
    "g_table = [[ 0, 0, 0, 0.34 ],\n",
    "\t\t   [ 0, 0, 1, 0.66 ],\n",
    "\t\t   [ 0, 1, 0, 0.83 ],\n",
    "\t\t   [ 0, 1, 1, 0.17 ],\n",
    "\t\t   [ 1, 0, 0, 0.77 ],\n",
    "\t\t   [ 1, 0, 1, 0.23 ],\n",
    "\t\t   [ 1, 1, 0, 0.12 ],\n",
    "\t\t   [ 1, 1, 1, 0.88 ]]"
   ]
  },
  {
   "cell_type": "markdown",
   "metadata": {},
   "source": [
    "Then let's convert them into distribution objects."
   ]
  },
  {
   "cell_type": "code",
   "execution_count": 4,
   "metadata": {
    "collapsed": true
   },
   "outputs": [],
   "source": [
    "a = DiscreteDistribution({ 0: 0.5, 1: 0.5 })\n",
    "b = DiscreteDistribution({ 0: 0.7, 1: 0.3 })\n",
    "e = ConditionalProbabilityTable( e_table, [b] )\n",
    "c = ConditionalProbabilityTable( c_table, [a,b] )\n",
    "d = ConditionalProbabilityTable( d_table, [c] )\n",
    "f = ConditionalProbabilityTable( f_table, [c,e] )\n",
    "g = ConditionalProbabilityTable( g_table, [c,e] )"
   ]
  },
  {
   "cell_type": "markdown",
   "metadata": {},
   "source": [
    "Next we can convert these distributions into states."
   ]
  },
  {
   "cell_type": "code",
   "execution_count": 5,
   "metadata": {
    "collapsed": true
   },
   "outputs": [],
   "source": [
    "a_s = State( a, \"a\" )\n",
    "b_s = State( b, \"b\" )\n",
    "c_s = State( c, \"c\" )\n",
    "d_s = State( d, \"d\" )\n",
    "e_s = State( e, \"e\" )\n",
    "f_s = State( f, \"f\" )\n",
    "g_s = State( g, \"g\" )"
   ]
  },
  {
   "cell_type": "markdown",
   "metadata": {},
   "source": [
    "Now that we have our states created, we can finally start making our bayesian network."
   ]
  },
  {
   "cell_type": "code",
   "execution_count": 6,
   "metadata": {
    "collapsed": true
   },
   "outputs": [],
   "source": [
    "model = BayesianNetwork( \"derp\" )\n",
    "model.add_nodes( [a_s, b_s, c_s, d_s, e_s, f_s, g_s] )"
   ]
  },
  {
   "cell_type": "markdown",
   "metadata": {},
   "source": [
    "Then we define the edges."
   ]
  },
  {
   "cell_type": "code",
   "execution_count": 7,
   "metadata": {
    "collapsed": true
   },
   "outputs": [],
   "source": [
    "model.add_edge( a_s, c_s )\n",
    "model.add_edge( b_s, c_s )\n",
    "model.add_edge( c_s, d_s )\n",
    "model.add_edge( c_s, f_s )\n",
    "model.add_edge( b_s, e_s )\n",
    "model.add_edge( e_s, f_s )\n",
    "model.add_edge( c_s, g_s )\n",
    "model.add_edge( e_s, g_s )"
   ]
  },
  {
   "cell_type": "markdown",
   "metadata": {},
   "source": [
    "We finish by baking the network to finalize its structure."
   ]
  },
  {
   "cell_type": "code",
   "execution_count": 8,
   "metadata": {
    "collapsed": true
   },
   "outputs": [],
   "source": [
    "model.bake()"
   ]
  },
  {
   "cell_type": "markdown",
   "metadata": {},
   "source": [
    "Now we can check on the structure of our bayesian network."
   ]
  },
  {
   "cell_type": "code",
   "execution_count": 9,
   "metadata": {
    "collapsed": false,
    "scrolled": true
   },
   "outputs": [
    {
     "name": "stdout",
     "output_type": "stream",
     "text": [
      "a          : {0: 0.5, 1: 0.5000000000000001}\n",
      "b          : {0: 0.6999999999999998, 1: 0.30000000000000016}\n",
      "c          : {0: 0.5199999999999999, 1: 0.4800000000000001}\n",
      "d          : {0: 0.404, 1: 0.5960000000000001}\n",
      "e          : {0: 0.55, 1: 0.4499999999999999}\n",
      "f          : {0: 0.6518000000000002, 1: 0.34819999999999995}\n",
      "g          : {0: 0.5206600000000001, 1: 0.47933999999999993}\n"
     ]
    }
   ],
   "source": [
    "print \"\\n\".join( \"{:10.10} : {}\".format( state.name, belief.parameters[0] ) for state, belief in zip( model.states, model.forward_backward( max_iterations=100 ) ) )"
   ]
  }
 ],
 "metadata": {
  "kernelspec": {
   "display_name": "Python 2",
   "language": "python",
   "name": "python2"
  },
  "language_info": {
   "codemirror_mode": {
    "name": "ipython",
    "version": 2
   },
   "file_extension": ".py",
   "mimetype": "text/x-python",
   "name": "python",
   "nbconvert_exporter": "python",
   "pygments_lexer": "ipython2",
   "version": "2.7.11"
  }
 },
 "nbformat": 4,
 "nbformat_minor": 0
}
