{
 "cells": [
  {
   "cell_type": "markdown",
   "metadata": {},
   "source": [
    "# Bayesian Networks in Naive Bayes"
   ]
  },
  {
   "cell_type": "markdown",
   "metadata": {},
   "source": [
    "author: Nicholas Farn [<a href=\"sendto:nicholasfarn@gmail.com\">nichoalsfarn@gmail.com</a>]"
   ]
  },
  {
   "cell_type": "markdown",
   "metadata": {},
   "source": [
    "In this example we will compare two bayesian networks and see which fits a set of data better through the use of a Naive Bayes classifier. In this example we will see if a set of data corresponds more to a city in an arid or wet climate.\n",
    "\n",
    "This will be done by checking how often the grass is wet, whether it is due to rain or sprinklers. This is a variation of the [example](https://en.wikipedia.org/wiki/Bayesian_network#Example) given by Wikipedia on Bayesian Networks."
   ]
  },
  {
   "cell_type": "code",
   "execution_count": 1,
   "metadata": {
    "collapsed": true
   },
   "outputs": [],
   "source": [
    "from pomegranate import *\n",
    "import numpy as np"
   ]
  },
  {
   "cell_type": "markdown",
   "metadata": {
    "collapsed": true
   },
   "source": [
    "Let's create the bayesian network for our aridcity first. You can think of an arid city as a place like Pheonix, Arizona."
   ]
  },
  {
   "cell_type": "code",
   "execution_count": 2,
   "metadata": {
    "collapsed": false
   },
   "outputs": [],
   "source": [
    "arid_rain = DiscreteDistribution( { 'T': 0.1, 'F': 0.9 } )"
   ]
  },
  {
   "cell_type": "markdown",
   "metadata": {},
   "source": [
    "The probability that people will use a sprinkler is dependent upon the probability that it has rained."
   ]
  },
  {
   "cell_type": "code",
   "execution_count": 3,
   "metadata": {
    "collapsed": true
   },
   "outputs": [],
   "source": [
    "arid_sprinkler = ConditionalProbabilityTable(\n",
    "    [[ 'T', 'T', 0.01 ],\n",
    "     [ 'T', 'F', 0.99 ],\n",
    "     [ 'F', 'T', 0.5 ],\n",
    "     [ 'F', 'F', 0.6 ]], [arid_rain])"
   ]
  },
  {
   "cell_type": "markdown",
   "metadata": {
    "collapsed": true
   },
   "source": [
    "Finally there is the probability that the grass is wet, which is dependent upon both the rain and whether the sprinklers are on."
   ]
  },
  {
   "cell_type": "code",
   "execution_count": 4,
   "metadata": {
    "collapsed": false
   },
   "outputs": [],
   "source": [
    "arid_grass = ConditionalProbabilityTable(\n",
    "    [[ 'T', 'T', 'T', 0.99 ],\n",
    "     [ 'T', 'T', 'F', 0.01 ],\n",
    "     [ 'T', 'F', 'T', 0.8 ],\n",
    "     [ 'T', 'F', 'F', 0.3 ],\n",
    "     [ 'F', 'T', 'T', 0.9 ],\n",
    "     [ 'F', 'T', 'F', 0.1 ],\n",
    "     [ 'F', 'F', 'T', 0.0 ],\n",
    "     [ 'F', 'F', 'F', 1.0 ]], [ arid_rain, arid_sprinkler ])"
   ]
  },
  {
   "cell_type": "markdown",
   "metadata": {},
   "source": [
    "Next we need to create the states for our \"arid\" bayesian network."
   ]
  },
  {
   "cell_type": "code",
   "execution_count": 5,
   "metadata": {
    "collapsed": true
   },
   "outputs": [],
   "source": [
    "s1 = State( arid_rain, name=\"rain\" )\n",
    "s2 = State( arid_sprinkler, name=\"sprinkler\" )\n",
    "s3 = State( arid_grass, name=\"grass\" )"
   ]
  },
  {
   "cell_type": "markdown",
   "metadata": {},
   "source": [
    "Then the bayesian network itself, along with its states and transitions between them."
   ]
  },
  {
   "cell_type": "code",
   "execution_count": 6,
   "metadata": {
    "collapsed": true
   },
   "outputs": [],
   "source": [
    "arid = BayesianNetwork( \"arid\" )\n",
    "arid.add_states( [ s1, s2, s3 ] )\n",
    "arid.add_transition( s1, s2 )\n",
    "arid.add_transition( s1, s3 )\n",
    "arid.add_transition( s2, s3 )"
   ]
  },
  {
   "cell_type": "markdown",
   "metadata": {},
   "source": [
    "Finally we need to \"bake\" our bayesian network to finalize its structure."
   ]
  },
  {
   "cell_type": "code",
   "execution_count": 7,
   "metadata": {
    "collapsed": false,
    "scrolled": true
   },
   "outputs": [],
   "source": [
    "arid.bake()"
   ]
  },
  {
   "cell_type": "markdown",
   "metadata": {},
   "source": [
    "Now that we've created a bayesian network for an arid city, we can create our bayesian network for our wet city. We can think of a wet city as a place like Seattle, Washington, which has a high probability of rainfall.\n",
    "\n",
    "The bayesian network is the same as before, just with different probabilities. So we will start with similar probability distributions."
   ]
  },
  {
   "cell_type": "code",
   "execution_count": 8,
   "metadata": {
    "collapsed": true
   },
   "outputs": [],
   "source": [
    "wet_rain = DiscreteDistribution( { 'T': 0.6, 'F': 0.4 } )\n",
    "\n",
    "wet_sprinkler = ConditionalProbabilityTable(\n",
    "    [[ 'T', 'T', 0.01 ],\n",
    "     [ 'T', 'F', 0.99 ],\n",
    "     [ 'F', 'T', 0.4 ],\n",
    "     [ 'T', 'F', 0.6 ]], [ wet_rain ] )\n",
    "\n",
    "wet_grass = ConditionalProbabilityTable(\n",
    "    [[ 'T', 'T', 'T', 0.99 ],\n",
    "     [ 'T', 'T', 'F', 0.01 ],\n",
    "     [ 'T', 'F', 'T', 0.8 ],\n",
    "     [ 'T', 'F', 'F', 0.2 ],\n",
    "     [ 'F', 'T', 'T', 0.9 ],\n",
    "     [ 'F', 'T', 'F', 0.1 ],\n",
    "     [ 'F', 'F', 'T', 0.0 ],\n",
    "     [ 'F', 'F', 'F', 1.0 ]], [ wet_rain, wet_sprinkler ])"
   ]
  },
  {
   "cell_type": "markdown",
   "metadata": {},
   "source": [
    "Then our states"
   ]
  },
  {
   "cell_type": "code",
   "execution_count": 9,
   "metadata": {
    "collapsed": true
   },
   "outputs": [],
   "source": [
    "s4 = State( wet_rain, \"rain\" )\n",
    "s5 = State( wet_sprinkler, \"sprinkler\" )\n",
    "s6 = State( wet_grass, \"grass\" )"
   ]
  },
  {
   "cell_type": "markdown",
   "metadata": {},
   "source": [
    "Then create our bayesian network."
   ]
  },
  {
   "cell_type": "code",
   "execution_count": 10,
   "metadata": {
    "collapsed": true
   },
   "outputs": [],
   "source": [
    "wet = BayesianNetwork( \"wet\" )\n",
    "wet.add_states( [ s4, s5, s6 ] )\n",
    "wet.add_transition( s4, s5 )\n",
    "wet.add_transition( s4, s6 )\n",
    "wet.add_transition( s5, s6 )"
   ]
  },
  {
   "cell_type": "markdown",
   "metadata": {},
   "source": [
    "And \"bake\" it to finalize its structure."
   ]
  },
  {
   "cell_type": "code",
   "execution_count": 11,
   "metadata": {
    "collapsed": false
   },
   "outputs": [],
   "source": [
    "wet.bake()"
   ]
  },
  {
   "cell_type": "markdown",
   "metadata": {},
   "source": [
    "Now that we have finally created our two bayesian networks, we can finally make our naive bayes classifier."
   ]
  },
  {
   "cell_type": "code",
   "execution_count": 12,
   "metadata": {
    "collapsed": true
   },
   "outputs": [],
   "source": [
    "clf = NaiveBayes( [ arid, wet ] )"
   ]
  },
  {
   "cell_type": "markdown",
   "metadata": {},
   "source": [
    "Something to note is that while both bayesian networks have the same structure in this example, that is not necessary to use bayesian networks for naive bayes. All that is needed is for them to share the same inputs."
   ]
  },
  {
   "cell_type": "markdown",
   "metadata": {
    "collapsed": true
   },
   "source": [
    "We can now produce our data set to test out our naive bayes classifier. Currently, in order to recieve a probability, all states in a bayesian network have to be specified."
   ]
  },
  {
   "cell_type": "code",
   "execution_count": 13,
   "metadata": {
    "collapsed": false
   },
   "outputs": [],
   "source": [
    "data = np.array( [[ 'T', 'F', 'T' ],\n",
    "                  [ 'T', 'F', 'T' ],\n",
    "                  [ 'T', 'F', 'F' ],\n",
    "                  [ 'F', 'T', 'T' ],\n",
    "                  [ 'T', 'T', 'T' ]] )"
   ]
  },
  {
   "cell_type": "markdown",
   "metadata": {},
   "source": [
    "Now we can check the probabilities of each sample occurring under each bayesian network."
   ]
  },
  {
   "cell_type": "code",
   "execution_count": 14,
   "metadata": {
    "collapsed": false
   },
   "outputs": [
    {
     "data": {
      "text/plain": [
       "array([[ 0.14285714,  0.85714286],\n",
       "       [ 0.14285714,  0.85714286],\n",
       "       [ 0.2       ,  0.8       ],\n",
       "       [ 0.73770492,  0.26229508],\n",
       "       [ 0.14285714,  0.85714286]])"
      ]
     },
     "execution_count": 14,
     "metadata": {},
     "output_type": "execute_result"
    }
   ],
   "source": [
    "clf.predict_proba( data )"
   ]
  },
  {
   "cell_type": "markdown",
   "metadata": {},
   "source": [
    "And the classification of the data overall."
   ]
  },
  {
   "cell_type": "code",
   "execution_count": 15,
   "metadata": {
    "collapsed": false
   },
   "outputs": [
    {
     "data": {
      "text/plain": [
       "array([1, 1, 1, 0, 1])"
      ]
     },
     "execution_count": 15,
     "metadata": {},
     "output_type": "execute_result"
    }
   ],
   "source": [
    "clf.predict( data )"
   ]
  },
  {
   "cell_type": "markdown",
   "metadata": {},
   "source": [
    "As we can see, more data seems to occur under the second bayesian network. Therefore the data must occur more often for a city in a \"wet\" enviroment."
   ]
  }
 ],
 "metadata": {
  "kernelspec": {
   "display_name": "Python 2",
   "language": "python",
   "name": "python2"
  },
  "language_info": {
   "codemirror_mode": {
    "name": "ipython",
    "version": 2
   },
   "file_extension": ".py",
   "mimetype": "text/x-python",
   "name": "python",
   "nbconvert_exporter": "python",
   "pygments_lexer": "ipython2",
   "version": "2.7.11"
  }
 },
 "nbformat": 4,
 "nbformat_minor": 0
}
