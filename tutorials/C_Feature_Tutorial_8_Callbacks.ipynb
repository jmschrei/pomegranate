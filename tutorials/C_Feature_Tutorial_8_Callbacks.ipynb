{
 "cells": [
  {
   "cell_type": "markdown",
   "metadata": {},
   "source": [
    "## Callbacks\n",
    "\n",
    "author: Jacob Schreiber <br>\n",
    "contact: jmschreiber91@gmail.com\n",
    "\n",
    "It is sometimes convenient to be able to implement custom code at certain points in the training process. A \"callback\" is one way of doing this. Essentially, a callback is an object that has certain methods implemented. When the object is passed in to the `fit` method of a pomegranate object, these methods will be automatically called at predetermined points during training. These methods an implement a wide variety of functionality, but a few common callbacks include model checkpointing, where the model is written out to disk after each epoch, early stopping, where the training of a model stops early based on performance on a validation set, and even TensorBoard, which displays the results of training of multiple models.\n",
    "\n",
    "Callbacks are implemented in pomegranate using a similar approach to that of keras. The base callback looks like the following: \n",
    "\n",
    "```python\n",
    "class Callback(object):\n",
    "\t\"\"\"An object that adds functionality during training.\n",
    "\n",
    "\tA callback is a function or group of functions that can be executed during\n",
    "\tthe training process for any of pomegranate's models that have iterative\n",
    "\ttraining procedures. A callback can be called at three stages-- the\n",
    "\tbeginning of training, at the end of each epoch (or iteration), and at\n",
    "\tthe end of training. Users can define any functions that they wish in\n",
    "\tthe corresponding functions.\n",
    "\t\"\"\"\n",
    "\n",
    "\tdef __init__(self):\n",
    "\t\tself.model = None\n",
    "\t\tself.params = None\n",
    "\n",
    "\tdef on_training_begin(self):\n",
    "\t\t\"\"\"Functionality to add to the beginning of training.\n",
    "\n",
    "\t\tThis method will be called at the beginning of each model's training\n",
    "\t\tprocedure.\n",
    "\t\t\"\"\"\n",
    "\n",
    "\t\tpass\n",
    "\n",
    "\tdef on_training_end(self, logs):\n",
    "\t\t\"\"\"Functionality to add to the end of training.\n",
    "\n",
    "\t\tThis method will be called at the end of each model's training\n",
    "\t\tprocedure.\n",
    "\t\t\"\"\"\n",
    "\n",
    "\t\tpass\n",
    "\n",
    "\tdef on_epoch_end(self, logs):\n",
    "\t\t\"\"\"Functionality to add to the end of each epoch.\n",
    "\n",
    "\t\tThis method will be called at the end of each epoch during the model's\n",
    "\t\titerative training procedure.\n",
    "\t\t\"\"\"\n",
    "\n",
    "\t\tpass\n",
    "```\n",
    "\n",
    "During the training process the `self.model` attribute gets set to the model that is being trained, allowing users to interact with it and use the methods. \n",
    "\n",
    "A user can define a custom callback by simply by inheriting from this object (in pomegranate.callbacks) and implementing the methods that they care about. This doesn't have to be all of the methods.\n",
    "\n",
    "There are a few callbacks that are built-in to pomegranate:\n",
    "1. ModelCheckpoint: This callback will save a copy of the model every few epochs in case the user is performing a long-running job.\n",
    "2. History: This callback will save the logs generated during training and return them in a convenient object.\n",
    "3. CSVLogger: This callback is similar to History except that it will save the logs to a given CSV file\n",
    "4. LambdaCallback: This callback allows one to pass in function objects for each of the three methods to execute rather than define ones own custom callback."
   ]
  },
  {
   "cell_type": "code",
   "execution_count": 1,
   "metadata": {},
   "outputs": [
    {
     "name": "stdout",
     "output_type": "stream",
     "text": [
      "Sun Dec 01 2019 \n",
      "\n",
      "numpy 1.17.2\n",
      "scipy 1.3.1\n",
      "pomegranate 0.11.3\n",
      "\n",
      "compiler   : GCC 7.3.0\n",
      "system     : Linux\n",
      "release    : 4.15.0-66-generic\n",
      "machine    : x86_64\n",
      "processor  : x86_64\n",
      "CPU cores  : 8\n",
      "interpreter: 64bit\n"
     ]
    }
   ],
   "source": [
    "%matplotlib inline\n",
    "import numpy\n",
    "import matplotlib.pyplot as plt\n",
    "import seaborn; seaborn.set_style('whitegrid')\n",
    "\n",
    "from pomegranate import *\n",
    "\n",
    "numpy.random.seed(0)\n",
    "numpy.set_printoptions(suppress=True)\n",
    "\n",
    "%load_ext watermark\n",
    "%watermark -m -n -p numpy,scipy,pomegranate"
   ]
  },
  {
   "cell_type": "markdown",
   "metadata": {},
   "source": [
    "### Using a callback\n",
    "\n",
    "Let's first take a look at how to use the built-in callbacks. We'll start off with the History callback, which is already automatically created and updated during training. You can return the history object with the data stored in it using the `return_history` parameter during training."
   ]
  },
  {
   "cell_type": "code",
   "execution_count": 2,
   "metadata": {},
   "outputs": [],
   "source": [
    "X = numpy.random.randn(10000, 13)\n",
    "\n",
    "d1 = MultivariateGaussianDistribution(numpy.zeros(13), numpy.eye(13))\n",
    "d2 = MultivariateGaussianDistribution(numpy.ones(13), numpy.eye(13))\n",
    "\n",
    "model = GeneralMixtureModel([d1, d2])\n",
    "_, history = model.fit(X, return_history=True)"
   ]
  },
  {
   "cell_type": "markdown",
   "metadata": {},
   "source": [
    "After training we can use the history object to make several useful plots. An intuitive plot is the log probability of the data set given the model $P(D|M)$ over the number of epochs of training."
   ]
  },
  {
   "cell_type": "code",
   "execution_count": 3,
   "metadata": {},
   "outputs": [
    {
     "data": {
      "text/plain": [
       "Text(0, 0.5, 'Log Probability')"
      ]
     },
     "execution_count": 3,
     "metadata": {},
     "output_type": "execute_result"
    },
    {
     "data": {
      "image/png": "[encoded data removed]",
      "text/plain": [
       "<Figure size 432x288 with 1 Axes>"
      ]
     },
     "metadata": {
      "needs_background": "light"
     },
     "output_type": "display_data"
    }
   ],
   "source": [
    "plt.plot(history.epochs, history.log_probabilities)\n",
    "plt.xlabel(\"Epoch\", fontsize=12)\n",
    "plt.ylabel(\"Log Probability\", fontsize=12)"
   ]
  },
  {
   "cell_type": "markdown",
   "metadata": {},
   "source": [
    "As we expected, the log probability of the data set goes up during training, because the model is being explicitly fit to the data set.\n",
    "\n",
    "Now let's look at how to pass in additional callbacks. Let's take a look at the CSV logger. All we have to do is create the CSVLogger object by passing in the name of the file to save to and then pass that object in to the fit function."
   ]
  },
  {
   "cell_type": "code",
   "execution_count": 4,
   "metadata": {},
   "outputs": [
    {
     "data": {
      "text/html": [
       "<div>\n",
       "<style scoped>\n",
       "    .dataframe tbody tr th:only-of-type {\n",
       "        vertical-align: middle;\n",
       "    }\n",
       "\n",
       "    .dataframe tbody tr th {\n",
       "        vertical-align: top;\n",
       "    }\n",
       "\n",
       "    .dataframe thead th {\n",
       "        text-align: right;\n",
       "    }\n",
       "</style>\n",
       "<table border=\"1\" class=\"dataframe\">\n",
       "  <thead>\n",
       "    <tr style=\"text-align: right;\">\n",
       "      <th></th>\n",
       "      <th>epoch</th>\n",
       "      <th>duration</th>\n",
       "      <th>total_improvement</th>\n",
       "      <th>improvement</th>\n",
       "      <th>log_probability</th>\n",
       "      <th>last_log_probability</th>\n",
       "      <th>epoch_start_time</th>\n",
       "      <th>epoch_end_time</th>\n",
       "      <th>n_seen_batches</th>\n",
       "      <th>learning_rate</th>\n",
       "    </tr>\n",
       "  </thead>\n",
       "  <tbody>\n",
       "    <tr>\n",
       "      <th>0</th>\n",
       "      <td>1</td>\n",
       "      <td>0.002165</td>\n",
       "      <td>6079.062778</td>\n",
       "      <td>6079.062778</td>\n",
       "      <td>-184116.511097</td>\n",
       "      <td>-190195.573874</td>\n",
       "      <td>1.575228e+09</td>\n",
       "      <td>1.575228e+09</td>\n",
       "      <td>None</td>\n",
       "      <td>0.0</td>\n",
       "    </tr>\n",
       "    <tr>\n",
       "      <th>1</th>\n",
       "      <td>2</td>\n",
       "      <td>0.002047</td>\n",
       "      <td>6102.391290</td>\n",
       "      <td>23.328513</td>\n",
       "      <td>-184093.182584</td>\n",
       "      <td>-184116.511097</td>\n",
       "      <td>1.575228e+09</td>\n",
       "      <td>1.575228e+09</td>\n",
       "      <td>None</td>\n",
       "      <td>0.0</td>\n",
       "    </tr>\n",
       "    <tr>\n",
       "      <th>2</th>\n",
       "      <td>3</td>\n",
       "      <td>0.002156</td>\n",
       "      <td>6112.050803</td>\n",
       "      <td>9.659512</td>\n",
       "      <td>-184083.523072</td>\n",
       "      <td>-184093.182584</td>\n",
       "      <td>1.575228e+09</td>\n",
       "      <td>1.575228e+09</td>\n",
       "      <td>None</td>\n",
       "      <td>0.0</td>\n",
       "    </tr>\n",
       "    <tr>\n",
       "      <th>3</th>\n",
       "      <td>4</td>\n",
       "      <td>0.002037</td>\n",
       "      <td>6117.923677</td>\n",
       "      <td>5.872874</td>\n",
       "      <td>-184077.650198</td>\n",
       "      <td>-184083.523072</td>\n",
       "      <td>1.575228e+09</td>\n",
       "      <td>1.575228e+09</td>\n",
       "      <td>None</td>\n",
       "      <td>0.0</td>\n",
       "    </tr>\n",
       "    <tr>\n",
       "      <th>4</th>\n",
       "      <td>5</td>\n",
       "      <td>0.002295</td>\n",
       "      <td>6122.236641</td>\n",
       "      <td>4.312964</td>\n",
       "      <td>-184073.337234</td>\n",
       "      <td>-184077.650198</td>\n",
       "      <td>1.575228e+09</td>\n",
       "      <td>1.575228e+09</td>\n",
       "      <td>None</td>\n",
       "      <td>0.0</td>\n",
       "    </tr>\n",
       "  </tbody>\n",
       "</table>\n",
       "</div>"
      ],
      "text/plain": [
       "   epoch  duration  total_improvement  improvement  log_probability  \\\n",
       "0      1  0.002165        6079.062778  6079.062778   -184116.511097   \n",
       "1      2  0.002047        6102.391290    23.328513   -184093.182584   \n",
       "2      3  0.002156        6112.050803     9.659512   -184083.523072   \n",
       "3      4  0.002037        6117.923677     5.872874   -184077.650198   \n",
       "4      5  0.002295        6122.236641     4.312964   -184073.337234   \n",
       "\n",
       "   last_log_probability  epoch_start_time  epoch_end_time n_seen_batches  \\\n",
       "0        -190195.573874      1.575228e+09    1.575228e+09           None   \n",
       "1        -184116.511097      1.575228e+09    1.575228e+09           None   \n",
       "2        -184093.182584      1.575228e+09    1.575228e+09           None   \n",
       "3        -184083.523072      1.575228e+09    1.575228e+09           None   \n",
       "4        -184077.650198      1.575228e+09    1.575228e+09           None   \n",
       "\n",
       "   learning_rate  \n",
       "0            0.0  \n",
       "1            0.0  \n",
       "2            0.0  \n",
       "3            0.0  \n",
       "4            0.0  "
      ]
     },
     "execution_count": 4,
     "metadata": {},
     "output_type": "execute_result"
    }
   ],
   "source": [
    "import pandas\n",
    "from pomegranate.callbacks import CSVLogger\n",
    "\n",
    "d1 = MultivariateGaussianDistribution(numpy.zeros(13), numpy.eye(13))\n",
    "d2 = MultivariateGaussianDistribution(numpy.ones(13), numpy.eye(13))\n",
    "\n",
    "model = GeneralMixtureModel([d1, d2])\n",
    "model.fit(X, callbacks=[CSVLogger(\"logs.csv\")])\n",
    "\n",
    "logs = pandas.read_csv(\"logs.csv\")\n",
    "logs.head()"
   ]
  },
  {
   "cell_type": "markdown",
   "metadata": {},
   "source": [
    "The CSV will now contain the information that the History object stores, but in a convenient written format. Note that some of the columns will correspond to information that isn't particularly useful for normal training, such as \"learning rate.\" While conceptually similar to the learning rate used in training neural networks, EM does not necessarily benefit in the same way that gradient descent does from tuning it."
   ]
  },
  {
   "cell_type": "markdown",
   "metadata": {},
   "source": [
    "### Implementing a custom callback\n",
    "\n",
    "Now let's look at an example of creating a custom callback. This callback will take in a training and a validation set and output both the training and validation set log probabilities. Currently, pomegranate does not allow for a user to pass a validation set in to the fit function and monitor performance that way, so this custom callback is an easy way around that limitation."
   ]
  },
  {
   "cell_type": "code",
   "execution_count": 5,
   "metadata": {},
   "outputs": [],
   "source": [
    "from pomegranate.callbacks import Callback\n",
    "\n",
    "class ValidationSetCallback(Callback):\n",
    "    \"\"\"This callback evaluates a validation set after each epoch.\"\"\"\n",
    "\n",
    "    def __init__(self, X_train, X_valid):\n",
    "        self.X_train = X_train\n",
    "        self.X_valid = X_valid\n",
    "        self.model = None\n",
    "        self.params = None\n",
    "\n",
    "    def on_epoch_end(self, logs):\n",
    "        \"\"\"Functionality to add to the end of each epoch.\n",
    "\n",
    "        This method will be called at the end of each epoch during the model's\n",
    "        iterative training procedure.\n",
    "        \"\"\"\n",
    "    \n",
    "        epoch = logs['epoch']\n",
    "        train_logp = self.model.log_probability(self.X_train).sum()\n",
    "        valid_logp = self.model.log_probability(self.X_valid).sum()\n",
    "        \n",
    "        print(\"Epoch {} -- Training LogP: {:4.4} -- Validation LogP: {:4.4}\".format(epoch, train_logp, valid_logp))"
   ]
  },
  {
   "cell_type": "markdown",
   "metadata": {},
   "source": [
    "The above code seems fairly simple. All we do is store the data sets that are passed in and then calculate their respective log probabilities at the end of each epoch and print that out to the screen. Let's see how it works on a data set."
   ]
  },
  {
   "cell_type": "code",
   "execution_count": 6,
   "metadata": {},
   "outputs": [
    {
     "name": "stdout",
     "output_type": "stream",
     "text": [
      "Epoch 1 -- Training LogP: -5.874e+03 -- Validation LogP: -2.949e+03\n",
      "Epoch 2 -- Training LogP: -5.825e+03 -- Validation LogP: -2.93e+03\n",
      "Epoch 3 -- Training LogP: -5.747e+03 -- Validation LogP: -2.895e+03\n",
      "Epoch 4 -- Training LogP: -5.675e+03 -- Validation LogP: -2.859e+03\n",
      "Epoch 5 -- Training LogP: -5.647e+03 -- Validation LogP: -2.845e+03\n",
      "Epoch 6 -- Training LogP: -5.64e+03 -- Validation LogP: -2.842e+03\n",
      "Epoch 7 -- Training LogP: -5.637e+03 -- Validation LogP: -2.842e+03\n",
      "Epoch 8 -- Training LogP: -5.635e+03 -- Validation LogP: -2.842e+03\n",
      "Epoch 9 -- Training LogP: -5.634e+03 -- Validation LogP: -2.843e+03\n",
      "Epoch 10 -- Training LogP: -5.633e+03 -- Validation LogP: -2.843e+03\n",
      "Epoch 11 -- Training LogP: -5.632e+03 -- Validation LogP: -2.844e+03\n",
      "Epoch 12 -- Training LogP: -5.632e+03 -- Validation LogP: -2.844e+03\n",
      "Epoch 13 -- Training LogP: -5.631e+03 -- Validation LogP: -2.844e+03\n",
      "Epoch 14 -- Training LogP: -5.631e+03 -- Validation LogP: -2.844e+03\n",
      "Epoch 15 -- Training LogP: -5.631e+03 -- Validation LogP: -2.845e+03\n",
      "Epoch 16 -- Training LogP: -5.63e+03 -- Validation LogP: -2.845e+03\n",
      "Epoch 17 -- Training LogP: -5.63e+03 -- Validation LogP: -2.845e+03\n",
      "Epoch 18 -- Training LogP: -5.63e+03 -- Validation LogP: -2.845e+03\n"
     ]
    }
   ],
   "source": [
    "numpy.random.seed(0)\n",
    "\n",
    "X_train = numpy.concatenate([\n",
    "    numpy.random.normal(0, 1.0, size=(500, 5)),\n",
    "    numpy.random.normal(0.3, 0.8, size=(500, 5)),\n",
    "    numpy.random.normal(-0.3, 0.4, size=(500, 5))\n",
    "])\n",
    "\n",
    "idx = numpy.arange(X_train.shape[0])\n",
    "numpy.random.shuffle(idx)\n",
    "X_train = X_train[idx]\n",
    "\n",
    "X_valid = X_train[:500]\n",
    "X_train = X_train[500:]\n",
    "\n",
    "\n",
    "callback = ValidationSetCallback(X_train, X_valid)\n",
    "\n",
    "d1 = MultivariateGaussianDistribution(numpy.zeros(5), numpy.eye(5))\n",
    "d2 = MultivariateGaussianDistribution(numpy.ones(5), numpy.eye(5))\n",
    "d3 = MultivariateGaussianDistribution(-numpy.ones(5), numpy.eye(5))\n",
    "\n",
    "model = GeneralMixtureModel([d1, d2, d3])\n",
    "_ = model.fit(X_train, callbacks=[callback])"
   ]
  },
  {
   "cell_type": "markdown",
   "metadata": {},
   "source": [
    "Simple! All we did was create the object and then pass it in to the callbacks parameter during fitting. We can see that the validation log probability initially goes down with the training set log probability, but then goes up a little bit, showing that the model is beginning to overfit a tiny bit to the data set."
   ]
  }
 ],
 "metadata": {
  "kernelspec": {
   "display_name": "Python 3",
   "language": "python",
   "name": "python3"
  },
  "language_info": {
   "codemirror_mode": {
    "name": "ipython",
    "version": 3
   },
   "file_extension": ".py",
   "mimetype": "text/x-python",
   "name": "python",
   "nbconvert_exporter": "python",
   "pygments_lexer": "ipython3",
   "version": "3.7.3"
  }
 },
 "nbformat": 4,
 "nbformat_minor": 2
}
