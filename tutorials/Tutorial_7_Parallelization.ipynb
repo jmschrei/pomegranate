{
 "cells": [
  {
   "cell_type": "markdown",
   "metadata": {},
   "source": [
    "# pomegranate and parallelization\n",
    "\n",
    "pomegranate supports parallelization through a set of built in functions based off of joblib. All computationally intensive functions in pomegranate are implemented in cython with the global interpreter lock (GIL) released, allowing for multithreading to be used for efficient parallel processing. The following functions can be called for parallelization:\n",
    "\n",
    "1. fit\n",
    "2. summarize\n",
    "3. predict\n",
    "4. predict_proba\n",
    "5. predict_log_proba\n",
    "6. log_probability\n",
    "7. probability\n",
    "\n",
    "These wrappers are all fairly simple, just chunking the data and passing them into the appropriate function. Any of the models in pomegranate can use them to varying degrees of efficiency. These functions work best when you have large amounts of data requiring several seconds (preferably more than 10) to process on a single processor. This is because it takes some time to set up the worker pool, and the parallelization is still being improved.\n",
    "\n",
    "In this tutorial, I will show you how you can use the parallelization wrappers to speed up fitting and predictions in models of increasing complexity. First we'll look at a simple multivariate Gaussian mixture model, and compare its performance to sklearn. Then we'll look at the first layer of model stacking that pomegranate supports by showing a hidden Markov model with GMM emissions, known as a GMM-HMM. Lastly, we'll go to the second layer of model stacking by showing a mixture of GMM-HMMs, which is a mixture model stacked inside a hidden markov model stacked inside a mixture model. These can all utilize the build-in parallelization functions that pomegranate has.\n",
    "\n",
    "Let's dive right in!"
   ]
  },
  {
   "cell_type": "code",
   "execution_count": 1,
   "metadata": {
    "collapsed": false
   },
   "outputs": [
    {
     "name": "stdout",
     "output_type": "stream",
     "text": [
      "Populating the interactive namespace from numpy and matplotlib\n"
     ]
    },
    {
     "name": "stderr",
     "output_type": "stream",
     "text": [
      "/home/jmschr/anaconda/lib/python2.7/site-packages/matplotlib/__init__.py:872: UserWarning: axes.color_cycle is deprecated and replaced with axes.prop_cycle; please use the latter.\n",
      "  warnings.warn(self.msg_depr % (key, alt_key))\n"
     ]
    }
   ],
   "source": [
    "%pylab inline\n",
    "from sklearn.mixture import GMM\n",
    "from pomegranate import *\n",
    "import seaborn, time\n",
    "seaborn.set_style('whitegrid')"
   ]
  },
  {
   "cell_type": "code",
   "execution_count": 2,
   "metadata": {
    "collapsed": false
   },
   "outputs": [],
   "source": [
    "def create_dataset(n_samples, n_dim, n_classes, alpha=1):\n",
    "    \"\"\"Create a random dataset with n_samples in each class.\"\"\"\n",
    "    \n",
    "    X = numpy.concatenate([numpy.random.normal(i*alpha, 1, size=(n_samples, n_dim)) for i in range(n_classes)])\n",
    "    y = numpy.concatenate([numpy.zeros(n_samples) + i for i in range(n_classes)])\n",
    "    idx = numpy.arange(X.shape[0])\n",
    "    numpy.random.shuffle(idx)\n",
    "    return X[idx], y[idx]"
   ]
  },
  {
   "cell_type": "markdown",
   "metadata": {},
   "source": [
    "## 1. General Mixture Models\n",
    "\n",
    "pomegranate has a very efficient implementation of mixture models, particularly Gaussian mixture models. Lets take a look at how fast pomegranate is versus sklearn, and then see how much faster parallelization can get it to be."
   ]
  },
  {
   "cell_type": "code",
   "execution_count": 3,
   "metadata": {
    "collapsed": false
   },
   "outputs": [
    {
     "name": "stdout",
     "output_type": "stream",
     "text": [
      "sklearn GMM\n",
      "1 loop, best of 3: 1min 25s per loop\n",
      "\n",
      "pomegranate GMM\n",
      "1 loop, best of 3: 29.1 s per loop\n",
      "\n",
      "pomegranate GMM (4 jobs)\n",
      "1 loop, best of 3: 15.1 s per loop\n"
     ]
    }
   ],
   "source": [
    "n, d, k = 1000000, 5, 3\n",
    "X, y = create_dataset(n, d, k)\n",
    "\n",
    "print \"sklearn GMM\"\n",
    "%timeit GMM(n_components=k, covariance_type='full', n_iter=15, tol=1e-10).fit(X)\n",
    "print \n",
    "print \"pomegranate GMM\"\n",
    "%timeit fit(GeneralMixtureModel(MultivariateGaussianDistribution, n_components=k), X, max_iterations=15, stop_threshold=1e-10)\n",
    "print\n",
    "print \"pomegranate GMM (4 jobs)\"\n",
    "%timeit fit(GeneralMixtureModel(MultivariateGaussianDistribution, n_components=k), X, n_jobs=4, max_iterations=15, stop_threshold=1e-10)"
   ]
  },
  {
   "cell_type": "markdown",
   "metadata": {},
   "source": [
    "It looks like on a large dataset not only is pomegranate faster than sklearn at performing 15 iterations of EM on 3 million 5 dimensional datapoints with 3 clusters, but the parallelization is able to help in speeding things up. \n",
    "\n",
    "Lets now take a look at the time it takes to make predictions using GMMs. Lets fit the model to a small amount of data, and then predict a larger amount of data drawn from the same underlying distributions."
   ]
  },
  {
   "cell_type": "code",
   "execution_count": 4,
   "metadata": {
    "collapsed": false
   },
   "outputs": [
    {
     "data": {
      "text/plain": [
       "134.54620143746433"
      ]
     },
     "execution_count": 4,
     "metadata": {},
     "output_type": "execute_result"
    }
   ],
   "source": [
    "d, k = 25, 2\n",
    "X, y = create_dataset(1000, d, k)\n",
    "a = GMM(k, n_init=1, n_iter=25).fit(X)\n",
    "b = GeneralMixtureModel(MultivariateGaussianDistribution, n_components=k)\n",
    "b.fit(X, max_iterations=25)"
   ]
  },
  {
   "cell_type": "code",
   "execution_count": 5,
   "metadata": {
    "collapsed": false
   },
   "outputs": [
    {
     "name": "stdout",
     "output_type": "stream",
     "text": [
      "sklearn GMM\n",
      "1 loop, best of 3: 1.05 s per loop\n",
      "\n",
      "pomegranate GMM\n",
      "1 loop, best of 3: 1.2 s per loop\n",
      "\n",
      "pomegranate GMM (4 jobs)\n",
      "1 loop, best of 3: 749 ms per loop\n"
     ]
    }
   ],
   "source": [
    "del X, y\n",
    "n = 1000000\n",
    "X, y = create_dataset(n, d, k)\n",
    "\n",
    "print \"sklearn GMM\"\n",
    "%timeit -n 1 a.predict_proba(X)\n",
    "print\n",
    "print \"pomegranate GMM\"\n",
    "%timeit -n 1 b.predict_proba(X)\n",
    "print\n",
    "print \"pomegranate GMM (4 jobs)\"\n",
    "%timeit -n 1 predict_proba(b, X, n_jobs=4)"
   ]
  },
  {
   "cell_type": "markdown",
   "metadata": {},
   "source": [
    "It looks like pomegranate can be slightly slower than sklearn when using a single processor, but that it can be parallelized to get faster performance. At the same time, predictions at this level happen so quickly (millions per second) that this may not be the most reliable test for parallelization.\n",
    "\n",
    "To ensure that we're getting the exact same results just faster, lets subtract the predictions from each other and make sure that the sum is equal to 0."
   ]
  },
  {
   "cell_type": "code",
   "execution_count": 6,
   "metadata": {
    "collapsed": false
   },
   "outputs": [
    {
     "name": "stdout",
     "output_type": "stream",
     "text": [
      "0.0\n"
     ]
    }
   ],
   "source": [
    "print (b.predict_proba(X) - predict_proba(b, X, n_jobs=4)).sum()"
   ]
  },
  {
   "cell_type": "markdown",
   "metadata": {},
   "source": [
    "Great, no difference between the two.\n",
    "\n",
    "Lets now make sure that pomegranate and sklearn are learning basically the same thing. Lets fit both models to some 2 dimensional 2 component data and make sure that they both extract the underlying clusters by plotting them."
   ]
  },
  {
   "cell_type": "code",
   "execution_count": 7,
   "metadata": {
    "collapsed": false
   },
   "outputs": [
    {
     "data": {
      "text/plain": [
       "<matplotlib.collections.PathCollection at 0x7fbd74fdc850>"
      ]
     },
     "execution_count": 7,
     "metadata": {},
     "output_type": "execute_result"
    },
    {
     "data": {
      "image/png": "[encoded data removed]",
      "text/plain": [
       "<matplotlib.figure.Figure at 0x7fbd795a44d0>"
      ]
     },
     "metadata": {},
     "output_type": "display_data"
    }
   ],
   "source": [
    "d, k = 2, 2\n",
    "X, y = create_dataset(1000, d, k, alpha=2)\n",
    "a = GMM(k, n_init=1, n_iter=25).fit(X)\n",
    "b = GeneralMixtureModel(MultivariateGaussianDistribution, n_components=k)\n",
    "b.fit(X, max_iterations=25)\n",
    "\n",
    "y1, y2 = a.predict(X), b.predict(X)\n",
    "\n",
    "plt.figure(figsize=(16,6))\n",
    "plt.subplot(121)\n",
    "plt.title(\"sklearn clusters\", fontsize=14)\n",
    "plt.scatter(X[y1==0, 0], X[y1==0, 1], color='m', edgecolor='m')\n",
    "plt.scatter(X[y1==1, 0], X[y1==1, 1], color='c', edgecolor='c')\n",
    "\n",
    "plt.subplot(122)\n",
    "plt.title(\"pomegranate clusters\", fontsize=14)\n",
    "plt.scatter(X[y2==0, 0], X[y2==0, 1], color='m', edgecolor='m')\n",
    "plt.scatter(X[y2==1, 0], X[y2==1, 1], color='c', edgecolor='c')"
   ]
  },
  {
   "cell_type": "markdown",
   "metadata": {},
   "source": [
    "It looks like we're getting the same basic results for the two. The two algorithms are initialized a bit differently, and so it can be difficult to directly compare the results between them, but it looks like they're getting roughly the same results."
   ]
  },
  {
   "cell_type": "markdown",
   "metadata": {},
   "source": [
    "## 3. GMM-HMM\n",
    "\n",
    "Sometimes a hidden Markov model will have emissions which are not just a simple distribution, but rather a mixture of these distributions. Frequently this is a mixture of Gaussian distributions, and so the term GMM-HMM refers to a Gaussian Mixture Model HMM. pomegranate does support arbitrary mixtures of any type of distributions instead of just Gaussians, but lets use multivariate gaussians in this case. The HMM structure will follow that of a \"profile HMM\" with randomly generated emissions to show that it is simple to parallelize even stacked models."
   ]
  },
  {
   "cell_type": "code",
   "execution_count": 8,
   "metadata": {
    "collapsed": false
   },
   "outputs": [],
   "source": [
    "def create_profile_hmm(distributions, insert):\n",
    "    i0 = State(insert, name=\"i0\")\n",
    "   \n",
    "    model = HiddenMarkovModel()\n",
    "    model.add_state(i0)\n",
    "    model.add_transition(model.start, i0, 0.10)\n",
    "    model.add_transition(i0, i0, 0.30)\n",
    "    \n",
    "    last_insert = i0\n",
    "    last_delete = None\n",
    "    last_match = model.start\n",
    "    \n",
    "    for i in range(1, len(distributions)+1):\n",
    "        ii = State(insert, name=\"i{}\".format(i))\n",
    "        di = State(None, name=\"d{}\".format(i))\n",
    "        mi = State(distributions[i-1], name=\"m{}\".format(i))\n",
    "        \n",
    "        model.add_states(ii, di, mi)\n",
    "        model.add_transition(last_insert, mi, 0.60)\n",
    "        model.add_transition(last_insert, di, 0.10)\n",
    "        model.add_transition(ii, ii, 0.30)\n",
    "        \n",
    "        model.add_transition(last_match, mi, 0.80)\n",
    "        model.add_transition(last_match, di, 0.10)\n",
    "        model.add_transition(mi, ii, 0.10)\n",
    "        \n",
    "        if i > 1:\n",
    "            model.add_transition(last_delete, mi, 0.70)\n",
    "            model.add_transition(last_delete, di, 0.30)\n",
    "        \n",
    "        last_insert, last_delete, last_match = ii, di, mi\n",
    "        \n",
    "    model.add_transition(di, model.end, 1.0)\n",
    "    model.add_transition(ii, model.end, 0.7)\n",
    "    model.add_transition(mi, model.end, 0.9)\n",
    "    model.bake()\n",
    "    return model\n",
    "\n",
    "def create_model(mus):\n",
    "    d = mus.shape[1]\n",
    "    distributions = [ GeneralMixtureModel([ MultivariateGaussianDistribution(mu, numpy.eye(d)),\n",
    "                                            MultivariateGaussianDistribution(mu, numpy.eye(d)*3) ] \n",
    "                                         ) for mu in mus ]\n",
    "\n",
    "    model = create_profile_hmm(distributions, MultivariateGaussianDistribution(numpy.zeros(d), numpy.eye(d)))\n",
    "    return model\n",
    "\n",
    "n, d = 100, 5\n",
    "mus = (numpy.random.randn(d, n) + numpy.random.randn(n)*15).T"
   ]
  },
  {
   "cell_type": "code",
   "execution_count": 9,
   "metadata": {
    "collapsed": false
   },
   "outputs": [
    {
     "name": "stdout",
     "output_type": "stream",
     "text": [
      "pomegranate GMM-HMM (1 job)\n",
      "1 loop, best of 3: 17.6 s per loop\n",
      "\n",
      "pomegranate GMM-HMM (4 jobs)\n",
      "1 loop, best of 3: 3.95 s per loop\n"
     ]
    }
   ],
   "source": [
    "model = create_model(mus)\n",
    "X = [model.sample() for i in range(100)]\n",
    "\n",
    "print \"pomegranate GMM-HMM (1 job)\"\n",
    "%timeit fit(model, X, max_iterations=5, verbose=False)\n",
    "print\n",
    "print \"pomegranate GMM-HMM (4 jobs)\"\n",
    "model = create_model(mus)\n",
    "%timeit fit(model, X, max_iterations=5, verbose=False, n_jobs=4)"
   ]
  },
  {
   "cell_type": "markdown",
   "metadata": {},
   "source": [
    "All we had to do was pass in the n_jobs parameter to the fit function in order to get a speed improvement. It looks like we're getting a really good speed improvement, as well! This is mostly because the HMM algorithms perform a lot more operations than the other models, and so spend the vast majority of time with the GIL released.\n",
    "\n",
    "Now lets look at the prediction function to make sure the we're getting speedups there as well."
   ]
  },
  {
   "cell_type": "code",
   "execution_count": 10,
   "metadata": {
    "collapsed": false
   },
   "outputs": [
    {
     "name": "stdout",
     "output_type": "stream",
     "text": [
      "pomegranate GMM-HMM (1 job)\n",
      "1 loop, best of 3: 12.3 s per loop\n",
      "\n",
      "pomegranate GMM-HMM (4 jobs)\n",
      "1 loop, best of 3: 5.19 s per loop\n"
     ]
    }
   ],
   "source": [
    "model = create_model(mus)\n",
    "X = [model.sample() for i in range(500)]\n",
    "\n",
    "print \"pomegranate GMM-HMM (1 job)\"\n",
    "%timeit predict_proba(model, X)\n",
    "print\n",
    "print \"pomegranate GMM-HMM (4 jobs)\"\n",
    "%timeit predict_proba(model, X, n_jobs=4)"
   ]
  },
  {
   "cell_type": "markdown",
   "metadata": {},
   "source": [
    "Great, we're getting a really good speedup on that as well! Looks like the parallel processing is more efficient with a bigger, more complex model, than with a simple one. This can make sense, because all inference/training is more complex, and so there is more time with the GIL released compared to with the simpler operations."
   ]
  },
  {
   "cell_type": "markdown",
   "metadata": {},
   "source": [
    "## 4. Mixture of Hidden Markov Models\n",
    "\n",
    "Let's stack another layer onto this model by making it a mixture of these GMM-HMMs, instead of a single one. At this point we now are stacking a mixture model in a hidden Markov model into a mixture model again, and now we're going to train this big thing in parallel."
   ]
  },
  {
   "cell_type": "code",
   "execution_count": 23,
   "metadata": {
    "collapsed": true
   },
   "outputs": [],
   "source": [
    "def create_mixture(mus):\n",
    "    hmms = [create_model(mu) for mu in mus]\n",
    "    return GeneralMixtureModel(hmms)\n",
    "\n",
    "n, d = 50, 5\n",
    "mus = [(numpy.random.randn(d, n)*0.2 + numpy.random.randn(n)*2).T for i in range(2)]"
   ]
  },
  {
   "cell_type": "code",
   "execution_count": 25,
   "metadata": {
    "collapsed": false
   },
   "outputs": [
    {
     "name": "stdout",
     "output_type": "stream",
     "text": [
      "pomegranate GMM-HMM-GMM (1 job)\n",
      "1 loop, best of 3: 22.8 s per loop\n",
      "\n",
      "pomegranate GMM-HMM-GMM (4 jobs)\n",
      "1 loop, best of 3: 10.9 s per loop\n"
     ]
    }
   ],
   "source": [
    "model = create_mixture(mus)\n",
    "X = [model.sample() for i in range(250)]\n",
    "\n",
    "print \"pomegranate GMM-HMM-GMM (1 job)\"\n",
    "%timeit fit(model, X, max_iterations=5)\n",
    "print\n",
    "\n",
    "model = create_mixture(mus)\n",
    "print \"pomegranate GMM-HMM-GMM (4 jobs)\"\n",
    "%timeit fit(model, X, max_iterations=5, n_jobs=4)"
   ]
  },
  {
   "cell_type": "markdown",
   "metadata": {},
   "source": [
    "Looks like we're getting a really nice speed improvement when training this complex model. Let's take a look now at the time it takes to do inference with it."
   ]
  },
  {
   "cell_type": "code",
   "execution_count": 26,
   "metadata": {
    "collapsed": false
   },
   "outputs": [
    {
     "name": "stdout",
     "output_type": "stream",
     "text": [
      "pomegranate GMM-HMM-GMM (1 job)\n",
      "1 loop, best of 3: 2.32 s per loop\n",
      "\n",
      "pomegranate GMM-HMM-GMM (4 jobs)\n",
      "1 loop, best of 3: 1.45 s per loop\n"
     ]
    }
   ],
   "source": [
    "model = create_mixture(mus)\n",
    "X = [model.sample() for i in range(500)]\n",
    "\n",
    "print \"pomegranate GMM-HMM-GMM (1 job)\"\n",
    "%timeit predict_proba(model, X)\n",
    "print\n",
    "\n",
    "model = create_mixture(mus)\n",
    "print \"pomegranate GMM-HMM-GMM (4 jobs)\"\n",
    "%timeit predict_proba(model, X, n_jobs=4)"
   ]
  },
  {
   "cell_type": "markdown",
   "metadata": {},
   "source": [
    "We're getting a good speed improvement here too through parallelization."
   ]
  },
  {
   "cell_type": "markdown",
   "metadata": {},
   "source": [
    "## Conclusions\n",
    "\n",
    "Hopefully you'll find pomegranate useful in your work! These parallelization wrappers should allow you to train complex models faster than before. Keep in mind though that there is an overhead to using parallel processing, and so it's possible that on some smaller examples it does not work as well. In general, the bigger the dataset, the closer to a linear speedup you'll get with pomegranate.\n",
    "\n",
    "If you have any interesting examples of how you've used pomegranate in your work, I'd love to hear about them. In addition I'd like to hear any feedback you may have on features you'd like to see. Please shoot me an email. Good luck!"
   ]
  }
 ],
 "metadata": {
  "kernelspec": {
   "display_name": "Python 2",
   "language": "python",
   "name": "python2"
  },
  "language_info": {
   "codemirror_mode": {
    "name": "ipython",
    "version": 2
   },
   "file_extension": ".py",
   "mimetype": "text/x-python",
   "name": "python",
   "nbconvert_exporter": "python",
   "pygments_lexer": "ipython2",
   "version": "2.7.13"
  }
 },
 "nbformat": 4,
 "nbformat_minor": 0
}
