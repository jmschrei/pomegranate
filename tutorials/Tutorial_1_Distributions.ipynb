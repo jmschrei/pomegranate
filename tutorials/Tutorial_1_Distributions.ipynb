{
 "cells": [
  {
   "cell_type": "markdown",
   "metadata": {},
   "source": [
    "# Pomegranate Tutorial 1: Distributions"
   ]
  },
  {
   "cell_type": "markdown",
   "metadata": {},
   "source": [
    "author: Jacob Schreiber <br>\n",
    "contact: jmschreiber91@gmail.com"
   ]
  },
  {
   "cell_type": "markdown",
   "metadata": {},
   "source": [
    "This tutorial will cover the Distributions library, showing the various distributions, their use cases, and how to fully use it. To start off with, the list of distributions currently supported by pomegranate are the following:\n",
    "\n",
    "<ul>\n",
    "  <li> UniformDistribution\n",
    "  <li> NormalDistribution\n",
    "  <li> LogNormalDistribution\n",
    "  <li> ExponentialDistribution\n",
    "  <li> BetaDistribution\n",
    "  <li> GammaDistribution\n",
    "  <li> DiscreteDistribution\n",
    "  <li> LambdaDistribution\n",
    "  <li> GaussianKernelDensity\n",
    "  <li> UniformKernelDensity\n",
    "  <li> TriangleKernelDensity\n",
    "  <li> IndependentComponentsDistribution\n",
    "  <li> MultivariateGaussianDistribution\n",
    "  <li> ConditionalProbabilityTable\n",
    "  <li> JointProbabilityTable\n",
    "</ul>\n",
    "\n",
    "The following methods are supported by all distributions:\n",
    "\n",
    "```\n",
    "copy() : Make a deep copy of the distribution\n",
    "freeze() : Prevent the distribution from updating on training calls\n",
    "thaw() : Reallow the distribution to update on training calls\n",
    "log_probability( symbol ): Return the log probability of the symbol under the distribution\n",
    "sample() : Return a randomly generated sample from the distribution\n",
    "fit / train / from_sample( items, weights=None, inertia=None ) : Update the parameters of the distribution\n",
    "summarize( items, weights=None ) : Store sufficient statistics of a dataset for a future update\n",
    "from_summaries( inertia=0.0 ) : Update the parameters of the distribution from the sufficient statistics\n",
    "to_json() : Return a json formatted string representing the distribution\n",
    "from_json( s ) : Build an appropriate distribution object from the string\n",
    "```\n",
    "\n",
    "Univariate distributions also have a `plot( n=1000, **kwargs )` command, where you can plot a histogram of `n` randomly generated samples from the distribution, which will pass matplotlib keyword arguments to the `plt.hist` function. \n",
    "\n",
    "Lets look at a few examples."
   ]
  },
  {
   "cell_type": "markdown",
   "metadata": {},
   "source": [
    "## The Normal Distribution"
   ]
  },
  {
   "cell_type": "code",
   "execution_count": 1,
   "metadata": {
    "collapsed": false
   },
   "outputs": [
    {
     "name": "stdout",
     "output_type": "stream",
     "text": [
      "Populating the interactive namespace from numpy and matplotlib\n"
     ]
    },
    {
     "name": "stderr",
     "output_type": "stream",
     "text": [
      "WARNING: pylab import has clobbered these variables: ['log', 'random']\n",
      "`%matplotlib` prevents importing * from pylab and numpy\n"
     ]
    }
   ],
   "source": [
    "from pomegranate import *\n",
    "%pylab inline"
   ]
  },
  {
   "cell_type": "markdown",
   "metadata": {},
   "source": [
    "Lets start off by looking at a normal distribution. It is easy to specify, and take a look at."
   ]
  },
  {
   "cell_type": "code",
   "execution_count": 2,
   "metadata": {
    "collapsed": false
   },
   "outputs": [
    {
     "data": {
      "image/png": "[encoded data removed]",
      "text/plain": [
       "<matplotlib.figure.Figure at 0x7f789830d290>"
      ]
     },
     "metadata": {},
     "output_type": "display_data"
    }
   ],
   "source": [
    "d = NormalDistribution( 5, 2 )\n",
    "d.plot( n=100000, edgecolor='c', color='c', bins=50 )"
   ]
  },
  {
   "cell_type": "markdown",
   "metadata": {},
   "source": [
    "We can then calculate the log probability of some points under this distribution."
   ]
  },
  {
   "cell_type": "code",
   "execution_count": 3,
   "metadata": {
    "collapsed": false
   },
   "outputs": [
    {
     "name": "stdout",
     "output_type": "stream",
     "text": [
      "-3.61208571376\n",
      "-1.61208571376\n",
      "-3.61208571376\n"
     ]
    }
   ],
   "source": [
    "print d.log_probability( 1 )\n",
    "print d.log_probability( 5 )\n",
    "print d.log_probability( 9 )"
   ]
  },
  {
   "cell_type": "markdown",
   "metadata": {},
   "source": [
    "We can also fit this distribution to some data we have."
   ]
  },
  {
   "cell_type": "code",
   "execution_count": 4,
   "metadata": {
    "collapsed": true
   },
   "outputs": [],
   "source": [
    "data = np.random.randn(10000) * 0.4 + 9"
   ]
  },
  {
   "cell_type": "code",
   "execution_count": 5,
   "metadata": {
    "collapsed": false
   },
   "outputs": [
    {
     "name": "stdout",
     "output_type": "stream",
     "text": [
      "[8.99861968524466, 0.39755567939702824]\n"
     ]
    },
    {
     "data": {
      "image/png": "[encoded data removed]",
      "text/plain": [
       "<matplotlib.figure.Figure at 0x7f7877ef8650>"
      ]
     },
     "metadata": {},
     "output_type": "display_data"
    }
   ],
   "source": [
    "d.fit( data )\n",
    "d.plot( n=100000, edgecolor='c', color='c', bins=50 )\n",
    "print d.parameters"
   ]
  },
  {
   "cell_type": "markdown",
   "metadata": {},
   "source": [
    "We generated data from a normal distribution with mean 9 and standard deviation 0.4, and we can see that the distribution object was able to recover it. This is not surprising given the amount of data it received.\n",
    "\n",
    "The fitting process discards the previous parameters, and uses a pure MLE estimate on the new data. In this case, it just takes the mean and variance of the new data, discarding its previous parameters. It does not matter if the previous distribution was `NormalDistribution(1, 5)` or `NormalDistribution(10000000, 10000000)`, they would both recover the same parameters after.\n",
    "\n",
    "A way of taking into account current parameters is by using inertia, where the update is equal to `previous parameters * inertia + new parameters * ( 1 - inertia )`. This allows the update to take into account prior parameters a bit. Lets see an example."
   ]
  },
  {
   "cell_type": "code",
   "execution_count": 6,
   "metadata": {
    "collapsed": false
   },
   "outputs": [
    {
     "name": "stdout",
     "output_type": "stream",
     "text": [
      "d -- mu: 8.99861968524 sigma 0.397555679397\n",
      "e -- mu: 104.499309843 sigma 0.698777839699\n"
     ]
    }
   ],
   "source": [
    "d = NormalDistribution( 10, 1 )\n",
    "e = NormalDistribution( 200, 1 )\n",
    "\n",
    "d.fit( data, inertia=0.0 ) # The default setting\n",
    "e.fit( data, inertia=0.5 )\n",
    "\n",
    "print \"d -- mu: {} sigma {}\".format( *d.parameters )\n",
    "print \"e -- mu: {} sigma {}\".format( *e.parameters )"
   ]
  },
  {
   "cell_type": "markdown",
   "metadata": {},
   "source": [
    "Out of core updates are also supported for distributions. This means that we can update a distribution using an amount of data which cannot fit into memory normally, but still produce an exact update. This is done by summarizing the dataset into sufficient statistics at each step, and then producing an update at the end. "
   ]
  },
  {
   "cell_type": "code",
   "execution_count": 7,
   "metadata": {
    "collapsed": false
   },
   "outputs": [
    {
     "name": "stdout",
     "output_type": "stream",
     "text": [
      "d -- mu: 8.99861968524 sigma 0.397555679397\n"
     ]
    }
   ],
   "source": [
    "d = NormalDistribution( 105, 12 )\n",
    "\n",
    "for i in range(10):\n",
    "    d.summarize( data[i::10] )\n",
    "\n",
    "d.from_summaries()\n",
    "print \"d -- mu: {} sigma {}\".format( *d.parameters )"
   ]
  },
  {
   "cell_type": "markdown",
   "metadata": {},
   "source": [
    "In this particular case, the data can all fit in memory, but it doesn't necessarily have to. You just have to call `summarize`, then load up the next set of data, and continue.\n",
    "\n",
    "If we want to weight points, we can easily pass in a weight vector. Weights must be non-negative, and the sum of the weight vector must be greater than 0. Numerical stability issues can arise if you have entirely small weight vectors, so try to avoid that if possible."
   ]
  },
  {
   "cell_type": "code",
   "execution_count": 8,
   "metadata": {
    "collapsed": false
   },
   "outputs": [
    {
     "name": "stdout",
     "output_type": "stream",
     "text": [
      "d -- mu: 8.99430310588 sigma 0.39259189004\n"
     ]
    }
   ],
   "source": [
    "d = NormalDistribution( 105, 12 )\n",
    "weights = np.random.exponential( 100, 10000 )\n",
    "d.fit( data, weights )\n",
    "\n",
    "print \"d -- mu: {} sigma {}\".format( *d.parameters )"
   ]
  },
  {
   "cell_type": "markdown",
   "metadata": {},
   "source": [
    "It doesn't change much in this case since the data was drawn from a perfect normal distribution, but it illustrates the possibility. The analog for summarization is the following:"
   ]
  },
  {
   "cell_type": "code",
   "execution_count": 9,
   "metadata": {
    "collapsed": false
   },
   "outputs": [
    {
     "name": "stdout",
     "output_type": "stream",
     "text": [
      "d -- mu: 8.99430310588 sigma 0.392591890039\n"
     ]
    }
   ],
   "source": [
    "d = NormalDistribution( 105, 12 )\n",
    "\n",
    "for i in range(10):\n",
    "    d.summarize( data[i::10], weights=weights[i::10] )\n",
    "\n",
    "d.from_summaries()\n",
    "print \"d -- mu: {} sigma {}\".format( *d.parameters )"
   ]
  },
  {
   "cell_type": "markdown",
   "metadata": {},
   "source": [
    "We can also easily sample from distributions by calling the `sample` function. `plot` does this internally when we call it, but to be explicit lets reproduce that."
   ]
  },
  {
   "cell_type": "code",
   "execution_count": 10,
   "metadata": {
    "collapsed": false
   },
   "outputs": [
    {
     "data": {
      "text/plain": [
       "(array([  3.00000000e+00,   7.00000000e+00,   1.50000000e+01,\n",
       "          3.60000000e+01,   8.40000000e+01,   1.71000000e+02,\n",
       "          2.28000000e+02,   4.65000000e+02,   6.89000000e+02,\n",
       "          8.49000000e+02,   1.04600000e+03,   1.16200000e+03,\n",
       "          1.21700000e+03,   1.16100000e+03,   9.73000000e+02,\n",
       "          7.16000000e+02,   5.08000000e+02,   3.16000000e+02,\n",
       "          1.84000000e+02,   9.10000000e+01,   4.70000000e+01,\n",
       "          2.50000000e+01,   3.00000000e+00,   3.00000000e+00,\n",
       "          1.00000000e+00]),\n",
       " array([  60.62589314,   64.28006742,   67.93424169,   71.58841597,\n",
       "          75.24259025,   78.89676453,   82.55093881,   86.20511309,\n",
       "          89.85928737,   93.51346165,   97.16763592,  100.8218102 ,\n",
       "         104.47598448,  108.13015876,  111.78433304,  115.43850732,\n",
       "         119.0926816 ,  122.74685588,  126.40103016,  130.05520443,\n",
       "         133.70937871,  137.36355299,  141.01772727,  144.67190155,\n",
       "         148.32607583,  151.98025011]),\n",
       " <a list of 25 Patch objects>)"
      ]
     },
     "execution_count": 10,
     "metadata": {},
     "output_type": "execute_result"
    },
    {
     "data": {
      "image/png": "[encoded data removed]",
      "text/plain": [
       "<matplotlib.figure.Figure at 0x7f7874d11a50>"
      ]
     },
     "metadata": {},
     "output_type": "display_data"
    }
   ],
   "source": [
    "d = NormalDistribution( 105, 12 )\n",
    "samples = [ d.sample() for i in range(10000) ]\n",
    "plt.hist( samples, edgecolor='c', color='c', bins=25 )"
   ]
  },
  {
   "cell_type": "markdown",
   "metadata": {},
   "source": [
    "## The Discrete Distribution"
   ]
  },
  {
   "cell_type": "markdown",
   "metadata": {},
   "source": [
    "A notable deviant from the numerics logic is the Discrete Distribution. Instead of passing parameters as floats, you instead pass in a dictionary where keys can be ~any object~ and values are the probability of them occurring. If you try to calculate the log probability of an item not present in the distribution, the default behavior is to return negative infinity."
   ]
  },
  {
   "cell_type": "code",
   "execution_count": 11,
   "metadata": {
    "collapsed": false
   },
   "outputs": [
    {
     "name": "stdout",
     "output_type": "stream",
     "text": [
      "-2.30258509299\n",
      "-0.69314718056\n",
      "-inf\n"
     ]
    }
   ],
   "source": [
    "d = DiscreteDistribution({'A': 0.1, 'C': 0.25, 'G': 0.50, 'T': 0.15})\n",
    "print d.log_probability( 'A' )\n",
    "print d.log_probability( 'G' )\n",
    "print d.log_probability( '????' )"
   ]
  },
  {
   "cell_type": "markdown",
   "metadata": {},
   "source": [
    "Updating a discrete distributon is the same as updating other distributions."
   ]
  },
  {
   "cell_type": "code",
   "execution_count": 12,
   "metadata": {
    "collapsed": false
   },
   "outputs": [
    {
     "name": "stdout",
     "output_type": "stream",
     "text": [
      "logp(A) = -0.826678573184\n",
      "logp(C) = -1.85629799037\n",
      "logp(G) = -1.56861591791\n",
      "logp(T) = -1.6199092123\n",
      "[{'A': 0.4375, 'C': 0.15625, 'T': 0.19791666666666666, 'G': 0.20833333333333334}]\n"
     ]
    }
   ],
   "source": [
    "items = list('ACGATACACTGAATGACAGCAGTCACTGACAGTAGTACGAGTAGTAGCAGAGAGTAATAAAGAATTAATATATGACACTACGAAAAAAATGCATCG')\n",
    "d.fit( items )\n",
    "\n",
    "for char in 'ACGT':\n",
    "    print \"logp({}) = {}\".format( char, d.log_probability( char ) )\n",
    "\n",
    "print d.parameters"
   ]
  },
  {
   "cell_type": "markdown",
   "metadata": {},
   "source": [
    "We can also take a look at the JSON serialization. JSONs are the perfect way to store these models given their human interpretability, and the ability to recursively store JSONs within other JSONs, such as more complicated models (such as HMMs) will need to store the JSON of each distribution. It is useful to store these models after the computationally intensive task of training them, so that it need not be repeated."
   ]
  },
  {
   "cell_type": "code",
   "execution_count": 13,
   "metadata": {
    "collapsed": false
   },
   "outputs": [
    {
     "name": "stdout",
     "output_type": "stream",
     "text": [
      "{\n",
      "    \"frozen\" : false,\n",
      "    \"class\" : \"Distribution\",\n",
      "    \"parameters\" : [\n",
      "        {\n",
      "            \"A\" : 0.4375,\n",
      "            \"C\" : 0.15625,\n",
      "            \"T\" : 0.19791666666666666,\n",
      "            \"G\" : 0.20833333333333334\n",
      "        }\n",
      "    ],\n",
      "    \"name\" : \"DiscreteDistribution\"\n",
      "}\n"
     ]
    }
   ],
   "source": [
    "print d.to_json()"
   ]
  },
  {
   "cell_type": "markdown",
   "metadata": {},
   "source": [
    "## The Kernel Density"
   ]
  },
  {
   "cell_type": "markdown",
   "metadata": {},
   "source": [
    "The Gaussian Kernel Density is a non-parametric distribution which stores a series of points, their associated weights, and the bandwidth representing the range of influence of each point. This will become apparent with an example."
   ]
  },
  {
   "cell_type": "code",
   "execution_count": 14,
   "metadata": {
    "collapsed": false
   },
   "outputs": [
    {
     "data": {
      "image/png": "[encoded data removed]",
      "text/plain": [
       "<matplotlib.figure.Figure at 0x7f7874dcbb50>"
      ]
     },
     "metadata": {},
     "output_type": "display_data"
    }
   ],
   "source": [
    "d = GaussianKernelDensity( [0.5, 1.2, 4.2, 1.9, 5.4, 3.4], bandwidth=1 )\n",
    "d.plot( n=100000, edgecolor='c', color='c', bins=100 )"
   ]
  },
  {
   "cell_type": "markdown",
   "metadata": {},
   "source": [
    "Changing the bandwidth parameter is equivalent to reducing the variance on a Gaussian. It makes the densities more central around the points, but can cause overfitting."
   ]
  },
  {
   "cell_type": "code",
   "execution_count": 15,
   "metadata": {
    "collapsed": false
   },
   "outputs": [
    {
     "data": {
      "image/png": "[encoded data removed]",
      "text/plain": [
       "<matplotlib.figure.Figure at 0x7f7874d55d50>"
      ]
     },
     "metadata": {},
     "output_type": "display_data"
    }
   ],
   "source": [
    "d = GaussianKernelDensity( [0.5, 1.2, 4.2, 1.9, 5.4, 3.4], bandwidth=0.2 )\n",
    "d.plot( n=100000, edgecolor='c', color='c', bins=100 )"
   ]
  },
  {
   "cell_type": "markdown",
   "metadata": {},
   "source": [
    "We can easily see the influence of weights by weighting a single point. "
   ]
  },
  {
   "cell_type": "code",
   "execution_count": 16,
   "metadata": {
    "collapsed": false
   },
   "outputs": [
    {
     "data": {
      "image/png": "[encoded data removed]",
      "text/plain": [
       "<matplotlib.figure.Figure at 0x7f78748da650>"
      ]
     },
     "metadata": {},
     "output_type": "display_data"
    }
   ],
   "source": [
    "d = GaussianKernelDensity( [0.5, 1.2, 4.2, 1.9, 5.4, 3.4], weights=[1, 1, 1, 3, 1, 1], bandwidth=0.2 )\n",
    "d.plot( n=100000, edgecolor='c', color='c', bins=100 )"
   ]
  },
  {
   "cell_type": "markdown",
   "metadata": {},
   "source": [
    "In addition to the Gaussian kernel density, there is a Triangle kernel density, which has a slightly different shape. Mostly I liked how they looked like pointy hats, so I implemented it."
   ]
  },
  {
   "cell_type": "code",
   "execution_count": 17,
   "metadata": {
    "collapsed": false
   },
   "outputs": [
    {
     "data": {
      "image/png": "[encoded data removed]",
      "text/plain": [
       "<matplotlib.figure.Figure at 0x7f7874ff6bd0>"
      ]
     },
     "metadata": {},
     "output_type": "display_data"
    }
   ],
   "source": [
    "d = TriangleKernelDensity( [0.5, 1.2, 4.2, 1.9, 5.4, 3.4], weights=[1, 1, 1, 3, 1, 1], bandwidth=0.5 )\n",
    "d.plot( n=500000, edgecolor='c', color='c', bins=250 )"
   ]
  },
  {
   "cell_type": "markdown",
   "metadata": {},
   "source": [
    "## Independent Components Distribution"
   ]
  },
  {
   "cell_type": "markdown",
   "metadata": {},
   "source": [
    "Sometimes, a univariate distribution isn't good enough. Many times data comes in the form of multiple, independent, dimensions, each with their own distribution. We can model this with a multivariate distribution which contains a tuple of independent components. \n",
    "\n",
    "A common example may be to look at data whose signal is normally distributed, and whose duration is modelled by an exponential. "
   ]
  },
  {
   "cell_type": "code",
   "execution_count": 18,
   "metadata": {
    "collapsed": false
   },
   "outputs": [
    {
     "name": "stdout",
     "output_type": "stream",
     "text": [
      "-3.61208571376\n"
     ]
    }
   ],
   "source": [
    "d = IndependentComponentsDistribution([ NormalDistribution(10, 1), ExponentialDistribution(0.5) ])\n",
    "print d.log_probability( (11, 3) )"
   ]
  },
  {
   "cell_type": "markdown",
   "metadata": {},
   "source": [
    "We can also weight the distributions. In this example, lets say that the signal is far more important than the duration."
   ]
  },
  {
   "cell_type": "code",
   "execution_count": 19,
   "metadata": {
    "collapsed": false
   },
   "outputs": [
    {
     "name": "stdout",
     "output_type": "stream",
     "text": [
      "-2.5134734251\n"
     ]
    }
   ],
   "source": [
    "d = IndependentComponentsDistribution([ NormalDistribution(10, 1), ExponentialDistribution(0.5) ], weights=[3, 1])\n",
    "print d.log_probability( (11, 3) )"
   ]
  },
  {
   "cell_type": "markdown",
   "metadata": {},
   "source": [
    "We see that the point becomes more probable, because we care more about the good fit to the signal dimension (the normal distribution) than it poorly fits the duration (exponential) distribution. You must be careful with the weightings though, because they don't have to sum to 1. In this sense, `weights = [3,1]` is not the same as `weights = [0.75, 0.25]`. "
   ]
  },
  {
   "cell_type": "markdown",
   "metadata": {},
   "source": [
    "We can do updates in the same manner. Drawing sampels from a Gaussian with `mu = 12` and `sigma = 2`, and an exponential with `mu = 5` (0.2 in pomegranate notation, which is more prominent), we can recover the underlying distributions with 1000 points."
   ]
  },
  {
   "cell_type": "code",
   "execution_count": 20,
   "metadata": {
    "collapsed": false
   },
   "outputs": [
    {
     "name": "stdout",
     "output_type": "stream",
     "text": [
      "[12.030799922655598, 1.977784472467497] [0.19699365419344794]\n"
     ]
    }
   ],
   "source": [
    "data = numpy.zeros((1000, 2))\n",
    "data[:,0] = np.random.randn(1000) * 2 + 12 \n",
    "data[:,1] = np.random.exponential(5, 1000)\n",
    "d.fit(data)\n",
    "\n",
    "print d.parameters[0][0].parameters, d.parameters[0][1].parameters"
   ]
  },
  {
   "cell_type": "markdown",
   "metadata": {},
   "source": [
    "## Multivariate Gaussian Distribution"
   ]
  },
  {
   "cell_type": "markdown",
   "metadata": {},
   "source": [
    "It's not always good enough to have independent distributions, as many signals are heavily correlated. A simple multivariate Gaussian has been written, as this is the most common use case, with full covariance updates. You provide a vector of mus, and a covariance matrix, and you're good to go! Unfortunately, plotting is not natively supported for this distribution."
   ]
  },
  {
   "cell_type": "code",
   "execution_count": 21,
   "metadata": {
    "collapsed": false
   },
   "outputs": [
    {
     "name": "stdout",
     "output_type": "stream",
     "text": [
      "[  1.74658287   5.04598061   9.37220759  15.59744425  20.40541947]\n"
     ]
    }
   ],
   "source": [
    "d = MultivariateGaussianDistribution( np.arange(5) * 5, np.eye(5) )\n",
    "print d.sample()"
   ]
  },
  {
   "cell_type": "code",
   "execution_count": 22,
   "metadata": {
    "collapsed": false
   },
   "outputs": [
    {
     "name": "stdout",
     "output_type": "stream",
     "text": [
      "[[-0.04512195463707575, 8.002536121450724, 16.038758646102238, 23.992721758840425, 32.01862280430998], [[0.9729529469569379, 0.01571487135218882, 0.01313375134308967, 0.0024544702051427975, 0.016218389127761156], [0.01571487135218882, 1.0238162403913156, -0.017572818860106053, -0.030104127335333034, -0.015939632105786587], [0.01313375134308967, -0.017572818860091502, 1.019248933473631, -0.007044888628821354, -0.008670178276312071], [0.002454470205143025, -0.030104127335333034, -0.007044888628821354, 0.9917274083149387, 0.011086647133459337], [0.016218389127761385, -0.015939632105786587, -0.008670178276312071, 0.011086647133459337, 0.9611708979294635]]]\n"
     ]
    }
   ],
   "source": [
    "data = np.random.randn(1000, 5) + np.arange(5) * 8\n",
    "\n",
    "d.fit(data)\n",
    "print d.parameters"
   ]
  },
  {
   "cell_type": "code",
   "execution_count": 23,
   "metadata": {
    "collapsed": false
   },
   "outputs": [
    {
     "name": "stdout",
     "output_type": "stream",
     "text": [
      "[ -0.66433906   7.46870255  15.42662725  24.61964025  31.40205649]\n"
     ]
    }
   ],
   "source": [
    "print d.sample()"
   ]
  },
  {
   "cell_type": "markdown",
   "metadata": {},
   "source": [
    "## Conditional Probability Table"
   ]
  },
  {
   "cell_type": "markdown",
   "metadata": {},
   "source": [
    "Tables are a different type of multivariate distribution. In essence, a multivariate discrete distribution. To use them, we define the values, and give probabilities which sum to 1 for each instance of the parents. They must be linked to parent distributions (which can also be conditional probability tables). Large networks of tables are called Bayesian networks!\n",
    "\n",
    "Lets code up the Monty Hall problem very quickly, without inference (see Bayesian Network introduction for the inference component)."
   ]
  },
  {
   "cell_type": "code",
   "execution_count": 24,
   "metadata": {
    "collapsed": false
   },
   "outputs": [
    {
     "name": "stdout",
     "output_type": "stream",
     "text": [
      "C\tC\tC\t0.0\n",
      "C\tC\tB\t0.5\n",
      "C\tC\tA\t0.5\n",
      "C\tB\tC\t0.5\n",
      "C\tB\tB\t0.0\n",
      "C\tB\tA\t0.5\n",
      "C\tA\tC\t0.5\n",
      "C\tA\tB\t0.5\n",
      "C\tA\tA\t0.0\n",
      "B\tC\tC\t0.0\n",
      "B\tC\tB\t0.5\n",
      "B\tC\tA\t0.5\n",
      "B\tB\tC\t0.5\n",
      "B\tB\tB\t0.0\n",
      "B\tB\tA\t0.5\n",
      "B\tA\tC\t0.5\n",
      "B\tA\tB\t0.5\n",
      "B\tA\tA\t0.0\n",
      "A\tC\tC\t0.0\n",
      "A\tC\tB\t0.5\n",
      "A\tC\tA\t0.5\n",
      "A\tB\tC\t0.5\n",
      "A\tB\tB\t0.0\n",
      "A\tB\tA\t0.5\n",
      "A\tA\tC\t0.5\n",
      "A\tA\tB\t0.5\n",
      "A\tA\tA\t0.0\n"
     ]
    }
   ],
   "source": [
    "guest = DiscreteDistribution({'A': 0.33, 'B': 0.33, 'C': 0.33})\n",
    "prize = DiscreteDistribution({'A': 0.33, 'B': 0.33, 'C': 0.33})\n",
    "monty = ConditionalProbabilityTable(\n",
    "    [['A', 'A', 'A', 0.0],\n",
    "     ['A', 'A', 'B', 0.5],\n",
    "     ['A', 'A', 'C', 0.5],\n",
    "     ['A', 'B', 'A', 0.5],\n",
    "     ['A', 'B', 'B', 0.0],\n",
    "     ['A', 'B', 'C', 0.5],\n",
    "     ['A', 'C', 'A', 0.5],\n",
    "     ['A', 'C', 'B', 0.5],\n",
    "     ['A', 'C', 'C', 0.0],\n",
    "     ['B', 'A', 'A', 0.0],\n",
    "     ['B', 'A', 'B', 0.5],\n",
    "     ['B', 'A', 'C', 0.5],\n",
    "     ['B', 'B', 'A', 0.5],\n",
    "     ['B', 'B', 'B', 0.0],\n",
    "     ['B', 'B', 'C', 0.5],\n",
    "     ['B', 'C', 'A', 0.5],\n",
    "     ['B', 'C', 'B', 0.5],\n",
    "     ['B', 'C', 'C', 0.0],\n",
    "     ['C', 'A', 'A', 0.0],\n",
    "     ['C', 'A', 'B', 0.5],\n",
    "     ['C', 'A', 'C', 0.5],\n",
    "     ['C', 'B', 'A', 0.5],\n",
    "     ['C', 'B', 'B', 0.0],\n",
    "     ['C', 'B', 'C', 0.5],\n",
    "     ['C', 'C', 'A', 0.5],\n",
    "     ['C', 'C', 'B', 0.5],\n",
    "     ['C', 'C', 'C', 0.0]], parents=[guest, prize]\n",
    "    )\n",
    "\n",
    "print monty"
   ]
  },
  {
   "cell_type": "code",
   "execution_count": 25,
   "metadata": {
    "collapsed": false
   },
   "outputs": [
    {
     "name": "stdout",
     "output_type": "stream",
     "text": [
      "-0.69314718056\n",
      "-inf\n"
     ]
    }
   ],
   "source": [
    "print monty.log_probability( ('A', 'A', 'C') )\n",
    "print monty.log_probability( ('A', 'B', 'B') )"
   ]
  },
  {
   "cell_type": "markdown",
   "metadata": {},
   "source": [
    "The reason which we need the parent distributions to be explicit distributions is so that we can have seamless conversion from the conditional table to the joint table."
   ]
  },
  {
   "cell_type": "code",
   "execution_count": 26,
   "metadata": {
    "collapsed": false
   },
   "outputs": [
    {
     "name": "stdout",
     "output_type": "stream",
     "text": [
      "A\tA\tA\t0.0\n",
      "A\tA\tB\t0.0555555555556\n",
      "A\tA\tC\t0.0555555555556\n",
      "A\tB\tA\t0.0555555555556\n",
      "A\tB\tB\t0.0\n",
      "A\tB\tC\t0.0555555555556\n",
      "A\tC\tA\t0.0555555555556\n",
      "A\tC\tB\t0.0555555555556\n",
      "A\tC\tC\t0.0\n",
      "B\tA\tA\t0.0\n",
      "B\tA\tB\t0.0555555555556\n",
      "B\tA\tC\t0.0555555555556\n",
      "B\tB\tA\t0.0555555555556\n",
      "B\tB\tB\t0.0\n",
      "B\tB\tC\t0.0555555555556\n",
      "B\tC\tA\t0.0555555555556\n",
      "B\tC\tB\t0.0555555555556\n",
      "B\tC\tC\t0.0\n",
      "C\tA\tA\t0.0\n",
      "C\tA\tB\t0.0555555555556\n",
      "C\tA\tC\t0.0555555555556\n",
      "C\tB\tA\t0.0555555555556\n",
      "C\tB\tB\t0.0\n",
      "C\tB\tC\t0.0555555555556\n",
      "C\tC\tA\t0.0555555555556\n",
      "C\tC\tB\t0.0555555555556\n",
      "C\tC\tC\t0.0\n"
     ]
    }
   ],
   "source": [
    "print monty.joint()"
   ]
  },
  {
   "cell_type": "markdown",
   "metadata": {},
   "source": [
    "There are 18 non-zero entries in the table, each of equal weight. 1 / 18 is 0.556, so this makes sense. The joint distribution is it's own object, which can be stored and used later if desired."
   ]
  },
  {
   "cell_type": "code",
   "execution_count": 27,
   "metadata": {
    "collapsed": false
   },
   "outputs": [
    {
     "name": "stdout",
     "output_type": "stream",
     "text": [
      "<type 'pomegranate.distributions.JointProbabilityTable'>\n"
     ]
    }
   ],
   "source": [
    "a = monty.joint()\n",
    "print type(a)"
   ]
  },
  {
   "cell_type": "code",
   "execution_count": 28,
   "metadata": {
    "collapsed": false
   },
   "outputs": [
    {
     "data": {
      "text/plain": [
       "-inf"
      ]
     },
     "execution_count": 28,
     "metadata": {},
     "output_type": "execute_result"
    }
   ],
   "source": [
    "a.log_probability( ('C', 'A', 'A') )"
   ]
  },
  {
   "cell_type": "markdown",
   "metadata": {},
   "source": [
    "Both conditional and joint distributions can be trained in the same manner as the other distributions."
   ]
  },
  {
   "cell_type": "code",
   "execution_count": 29,
   "metadata": {
    "collapsed": false
   },
   "outputs": [
    {
     "name": "stdout",
     "output_type": "stream",
     "text": [
      "A\tA\tA\t0.0\n",
      "A\tA\tB\t0.0\n",
      "A\tA\tC\t0.0\n",
      "A\tB\tA\t0.166666666667\n",
      "A\tB\tB\t0.0\n",
      "A\tB\tC\t0.166666666667\n",
      "A\tC\tA\t0.0\n",
      "A\tC\tB\t0.0\n",
      "A\tC\tC\t0.0\n",
      "B\tA\tA\t0.0\n",
      "B\tA\tB\t0.0\n",
      "B\tA\tC\t0.0\n",
      "B\tB\tA\t0.166666666667\n",
      "B\tB\tB\t0.0\n",
      "B\tB\tC\t0.0\n",
      "B\tC\tA\t0.0\n",
      "B\tC\tB\t0.0\n",
      "B\tC\tC\t0.0\n",
      "C\tA\tA\t0.0\n",
      "C\tA\tB\t0.0\n",
      "C\tA\tC\t0.0\n",
      "C\tB\tA\t0.0\n",
      "C\tB\tB\t0.0\n",
      "C\tB\tC\t0.0\n",
      "C\tC\tA\t0.333333333333\n",
      "C\tC\tB\t0.166666666667\n",
      "C\tC\tC\t0.0\n"
     ]
    }
   ],
   "source": [
    "data = [['A', 'B', 'C'],\n",
    "        ['B', 'B', 'A'],\n",
    "        ['A', 'B', 'A'],\n",
    "        ['C', 'C', 'B'],\n",
    "        ['C', 'C', 'A'],\n",
    "        ['C', 'C', 'A']]\n",
    "\n",
    "a.fit(data)\n",
    "print a"
   ]
  },
  {
   "cell_type": "code",
   "execution_count": 30,
   "metadata": {
    "collapsed": false
   },
   "outputs": [
    {
     "name": "stdout",
     "output_type": "stream",
     "text": [
      "C\tC\tC\t0.0\n",
      "C\tC\tB\t0.333333333333\n",
      "C\tC\tA\t0.666666666667\n",
      "C\tB\tC\t0.333333333333\n",
      "C\tB\tB\t0.333333333333\n",
      "C\tB\tA\t0.333333333333\n",
      "C\tA\tC\t0.333333333333\n",
      "C\tA\tB\t0.333333333333\n",
      "C\tA\tA\t0.333333333333\n",
      "B\tC\tC\t0.333333333333\n",
      "B\tC\tB\t0.333333333333\n",
      "B\tC\tA\t0.333333333333\n",
      "B\tB\tC\t0.0\n",
      "B\tB\tB\t0.0\n",
      "B\tB\tA\t1.0\n",
      "B\tA\tC\t0.333333333333\n",
      "B\tA\tB\t0.333333333333\n",
      "B\tA\tA\t0.333333333333\n",
      "A\tC\tC\t0.333333333333\n",
      "A\tC\tB\t0.333333333333\n",
      "A\tC\tA\t0.333333333333\n",
      "A\tB\tC\t0.5\n",
      "A\tB\tB\t0.0\n",
      "A\tB\tA\t0.5\n",
      "A\tA\tC\t0.333333333333\n",
      "A\tA\tB\t0.333333333333\n",
      "A\tA\tA\t0.333333333333\n"
     ]
    }
   ],
   "source": [
    "monty.fit(data)\n",
    "print monty"
   ]
  },
  {
   "cell_type": "markdown",
   "metadata": {},
   "source": [
    "In the cases of conditional probability tables, if parent tuples haven't been seen before, it assumes a uniform distribution over them, explaining the prevalence of 0.3333... entries."
   ]
  },
  {
   "cell_type": "markdown",
   "metadata": {
    "collapsed": true
   },
   "source": [
    "## Serialization"
   ]
  },
  {
   "cell_type": "markdown",
   "metadata": {},
   "source": [
    "Distributions (except tables right now) support serialization to JSONs using `to_json()` and `Distribution.from_json( json )`. We can see a few examples easily."
   ]
  },
  {
   "cell_type": "code",
   "execution_count": 31,
   "metadata": {
    "collapsed": false
   },
   "outputs": [
    {
     "name": "stdout",
     "output_type": "stream",
     "text": [
      "{\n",
      "    \"frozen\" : false,\n",
      "    \"class\" : \"Distribution\",\n",
      "    \"parameters\" : [\n",
      "        5.0,\n",
      "        2.0\n",
      "    ],\n",
      "    \"name\" : \"NormalDistribution\"\n",
      "}\n"
     ]
    }
   ],
   "source": [
    "print NormalDistribution( 5, 2 ).to_json()"
   ]
  },
  {
   "cell_type": "code",
   "execution_count": 32,
   "metadata": {
    "collapsed": false
   },
   "outputs": [
    {
     "name": "stdout",
     "output_type": "stream",
     "text": [
      "{\n",
      "    \"frozen\" : false,\n",
      "    \"class\" : \"Distribution\",\n",
      "    \"parameters\" : [\n",
      "        {\n",
      "            \"A\" : 0.5,\n",
      "            \"C\" : 0.25,\n",
      "            \"B\" : 0.25\n",
      "        }\n",
      "    ],\n",
      "    \"name\" : \"DiscreteDistribution\"\n",
      "}\n"
     ]
    }
   ],
   "source": [
    "print DiscreteDistribution( {'A': 0.5, 'B': 0.25, 'C': 0.25} ).to_json()"
   ]
  },
  {
   "cell_type": "code",
   "execution_count": 33,
   "metadata": {
    "collapsed": false
   },
   "outputs": [
    {
     "name": "stdout",
     "output_type": "stream",
     "text": [
      "{\n",
      "    \"frozen\" : false,\n",
      "    \"class\" : \"Distribution\",\n",
      "    \"parameters\" : [\n",
      "        5.0,\n",
      "        2.0\n",
      "    ],\n",
      "    \"name\" : \"GammaDistribution\"\n",
      "}\n"
     ]
    }
   ],
   "source": [
    "print Distribution.from_json( GammaDistribution( 5, 2 ).to_json() )"
   ]
  },
  {
   "cell_type": "code",
   "execution_count": 34,
   "metadata": {
    "collapsed": false
   },
   "outputs": [
    {
     "name": "stdout",
     "output_type": "stream",
     "text": [
      "{\n",
      "    \"frozen\" : false,\n",
      "    \"class\" : \"Distribution\",\n",
      "    \"parameters\" : [\n",
      "        [\n",
      "            5.0,\n",
      "            6.0,\n",
      "            7.0,\n",
      "            3.0,\n",
      "            5.0,\n",
      "            7.0,\n",
      "            3.0,\n",
      "            3.0,\n",
      "            5.0,\n",
      "            2.0\n",
      "        ],\n",
      "        1.0,\n",
      "        [\n",
      "            0.1,\n",
      "            0.1,\n",
      "            0.1,\n",
      "            0.1,\n",
      "            0.1,\n",
      "            0.1,\n",
      "            0.1,\n",
      "            0.1,\n",
      "            0.1,\n",
      "            0.1\n",
      "        ]\n",
      "    ],\n",
      "    \"name\" : \"GaussianKernelDensity\"\n",
      "}\n"
     ]
    }
   ],
   "source": [
    "print Distribution.from_json( GaussianKernelDensity( [5,6,7,3,5,7,3,3,5,2] ).to_json() )"
   ]
  }
 ],
 "metadata": {
  "kernelspec": {
   "display_name": "Python 2",
   "language": "python",
   "name": "python2"
  },
  "language_info": {
   "codemirror_mode": {
    "name": "ipython",
    "version": 2
   },
   "file_extension": ".py",
   "mimetype": "text/x-python",
   "name": "python",
   "nbconvert_exporter": "python",
   "pygments_lexer": "ipython2",
   "version": "2.7.10"
  }
 },
 "nbformat": 4,
 "nbformat_minor": 0
}
