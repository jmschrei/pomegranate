{
 "cells": [
  {
   "cell_type": "markdown",
   "metadata": {},
   "source": [
    "# General Mixture Models"
   ]
  },
  {
   "cell_type": "markdown",
   "metadata": {},
   "source": [
    "author: Jacob Schreiber <br>\n",
    "contact: jmschreiber91@gmail.com"
   ]
  },
  {
   "cell_type": "markdown",
   "metadata": {},
   "source": [
    "It is frequently the case that the data you have is not explained by a single underlying distribution. If we want to try to recover the underlying distributions, we need to have a model which has multiple components. An example is the following data."
   ]
  },
  {
   "cell_type": "code",
   "execution_count": 5,
   "metadata": {
    "collapsed": false
   },
   "outputs": [
    {
     "name": "stdout",
     "output_type": "stream",
     "text": [
      "Populating the interactive namespace from numpy and matplotlib\n"
     ]
    },
    {
     "name": "stderr",
     "output_type": "stream",
     "text": [
      "WARNING: pylab import has clobbered these variables: ['random', 'log']\n",
      "`%matplotlib` prevents importing * from pylab and numpy\n"
     ]
    }
   ],
   "source": [
    "from pomegranate import *\n",
    "%pylab inline\n",
    "import numpy as np"
   ]
  },
  {
   "cell_type": "code",
   "execution_count": 6,
   "metadata": {
    "collapsed": false
   },
   "outputs": [
    {
     "data": {
      "text/plain": [
       "(array([   1.,    0.,    0.,   10.,   13.,   28.,   26.,   30.,   38.,\n",
       "          28.,   21.,   21.,   21.,   20.,   85.,  149.,  151.,   77.,\n",
       "          27.,    4.]),\n",
       " array([ -7.30907852,  -6.36311627,  -5.41715401,  -4.47119176,\n",
       "         -3.5252295 ,  -2.57926725,  -1.633305  ,  -0.68734274,\n",
       "          0.25861951,   1.20458177,   2.15054402,   3.09650628,\n",
       "          4.04246853,   4.98843078,   5.93439304,   6.88035529,\n",
       "          7.82631755,   8.7722798 ,   9.71824206,  10.66420431,  11.61016656]),\n",
       " <a list of 20 Patch objects>)"
      ]
     },
     "execution_count": 6,
     "metadata": {},
     "output_type": "execute_result"
    },
    {
     "data": {
      "image/png": "[encoded data removed]",
      "text/plain": [
       "<matplotlib.figure.Figure at 0x7f11efbeced0>"
      ]
     },
     "metadata": {},
     "output_type": "display_data"
    }
   ],
   "source": [
    "data = np.concatenate( (np.random.randn(250, 1) * 2.75 + 1.25, np.random.randn(500, 1) * 1.2 + 7.85) )\n",
    "np.random.shuffle(data)\n",
    "plt.hist( data, edgecolor='c', color='c', bins=20 )"
   ]
  },
  {
   "cell_type": "markdown",
   "metadata": {},
   "source": [
    "We can create our initial estimate of what this distribution is a General Mixture Model. This is a model which is comprised of multiple distributions, and weights on those distributions representing the prior probability of a point falling under that distribution given no knowledge of the point itself (defaults to equal). We can have univariate mixture models by using univariate distributions, or multivariate distributions by using multivariate distributions."
   ]
  },
  {
   "cell_type": "markdown",
   "metadata": {},
   "source": [
    "## Gaussian Mixture Models"
   ]
  },
  {
   "cell_type": "code",
   "execution_count": 7,
   "metadata": {
    "collapsed": false
   },
   "outputs": [],
   "source": [
    "d = GeneralMixtureModel( [NormalDistribution(2.5, 1), NormalDistribution(8, 1)] )"
   ]
  },
  {
   "cell_type": "markdown",
   "metadata": {},
   "source": [
    "We can now predict the class labels of each point under this mixture. "
   ]
  },
  {
   "cell_type": "code",
   "execution_count": 8,
   "metadata": {
    "collapsed": false
   },
   "outputs": [
    {
     "name": "stdout",
     "output_type": "stream",
     "text": [
      "[1 1 1 1 0]\n",
      "507 1 labels, 243 0 labels\n"
     ]
    }
   ],
   "source": [
    "labels = d.predict( data )\n",
    "print labels[:5]\n",
    "print \"{} 1 labels, {} 0 labels\".format( labels.sum(), labels.shape[0] - labels.sum() )"
   ]
  },
  {
   "cell_type": "markdown",
   "metadata": {},
   "source": [
    "This is fairly close to the number of underlying points from each distribution, off by 17 in each label. We still don't know if the labels are accurate, just the number of labels."
   ]
  },
  {
   "cell_type": "code",
   "execution_count": 9,
   "metadata": {
    "collapsed": false
   },
   "outputs": [
    {
     "data": {
      "text/plain": [
       "(array([  9.,   8.,  20.,  29.,  36.,  48.,  46.,  54.,  61.,  53.,  40.,\n",
       "         35.,  21.,  16.,  15.,  11.,   1.,   2.,   1.,   1.]),\n",
       " array([  5.33097483,   5.64493442,   5.95889401,   6.27285359,\n",
       "          6.58681318,   6.90077277,   7.21473235,   7.52869194,\n",
       "          7.84265153,   8.15661111,   8.4705707 ,   8.78453029,\n",
       "          9.09848987,   9.41244946,   9.72640904,  10.04036863,\n",
       "         10.35432822,  10.6682878 ,  10.98224739,  11.29620698,  11.61016656]),\n",
       " <a list of 20 Patch objects>)"
      ]
     },
     "execution_count": 9,
     "metadata": {},
     "output_type": "execute_result"
    },
    {
     "data": {
      "image/png": "[encoded data removed]",
      "text/plain": [
       "<matplotlib.figure.Figure at 0x7f11f2bcd710>"
      ]
     },
     "metadata": {},
     "output_type": "display_data"
    }
   ],
   "source": [
    "plt.hist( data[ labels == 0 ], edgecolor='r', color='r', bins=20 )\n",
    "plt.hist( data[ labels == 1 ], edgecolor='c', color='c', bins=20 )"
   ]
  },
  {
   "cell_type": "markdown",
   "metadata": {},
   "source": [
    "It is slightly more difficult to update the underlying components of the model because we don't have labels indicating which point came from which distribution. We could try to use the labels inferred from the model. It seems to cleanly split it, but what if our initial estimate was not very good? It could be difficult to get a good update if we had a bad prior. \n",
    "\n",
    "Another possibility is to predict the probability of each point under each component, to get a softer estimate of the labels. Lets take a look."
   ]
  },
  {
   "cell_type": "code",
   "execution_count": 10,
   "metadata": {
    "collapsed": false
   },
   "outputs": [
    {
     "name": "stdout",
     "output_type": "stream",
     "text": [
      "[[  1.28630159e-08   9.99999987e-01]\n",
      " [  3.14180327e-10   1.00000000e+00]\n",
      " [  1.28508601e-04   9.99871491e-01]\n",
      " [  5.37380480e-07   9.99999463e-01]\n",
      " [  9.99999998e-01   2.39509083e-09]]\n",
      "[ 242.73703674  507.26296326]\n"
     ]
    }
   ],
   "source": [
    "labels = d.predict_proba( data )\n",
    "print labels[:5]\n",
    "print labels.sum(axis=0)"
   ]
  },
  {
   "cell_type": "markdown",
   "metadata": {},
   "source": [
    "This is slightly closer to the truth, with 15.2 off instead of 17, around 10% closer.\n",
    "\n",
    "This is the beginning of a common unsupervised training algorithm called <b>expectation maximization</b>. It has two steps, <b>expectation</b> and <b>maximization</b>. The <b>expectation</b> step involves what we just did--assigning weights based on the probability of each point being generated by each component. The next step, <b>maximization</b>, is maximizing the probability that the distribution generated these points but performing weighted MLE.\n",
    "\n",
    "This process must be iterated until convergence. Sometimes this requires only a single update, but for overlapping distributions (such as this one) it can sometimes take many iterations."
   ]
  },
  {
   "cell_type": "code",
   "execution_count": 11,
   "metadata": {
    "collapsed": false
   },
   "outputs": [
    {
     "name": "stdout",
     "output_type": "stream",
     "text": [
      "Improvement: 892.969216325\n",
      "Improvement: 0.786696085199\n",
      "Improvement: 0.0368066512267\n",
      "Total Improvement: 893.792719061\n"
     ]
    },
    {
     "data": {
      "text/plain": [
       "893.7927190612211"
      ]
     },
     "execution_count": 11,
     "metadata": {},
     "output_type": "execute_result"
    }
   ],
   "source": [
    "d.fit( data, verbose=True )"
   ]
  },
  {
   "cell_type": "markdown",
   "metadata": {},
   "source": [
    "## Multivariate Gaussian Mixture Models"
   ]
  },
  {
   "cell_type": "markdown",
   "metadata": {},
   "source": [
    "We can do the same with multivariate distributions just as easily."
   ]
  },
  {
   "cell_type": "code",
   "execution_count": 12,
   "metadata": {
    "collapsed": true
   },
   "outputs": [],
   "source": [
    "mu = np.arange(5)\n",
    "cov = np.eye(5)\n",
    "\n",
    "mgs = [ MultivariateGaussianDistribution( mu*i, cov ) for i in range(5) ]\n",
    "gmm = GeneralMixtureModel( mgs )"
   ]
  },
  {
   "cell_type": "code",
   "execution_count": 13,
   "metadata": {
    "collapsed": true
   },
   "outputs": [],
   "source": [
    "data = numpy.random.randn(1000, 5) * 5\n",
    "for i in range(5):\n",
    "    data[i::5] += np.arange(5)*i"
   ]
  },
  {
   "cell_type": "markdown",
   "metadata": {},
   "source": [
    "Lets see how well some points fit under the mixture model."
   ]
  },
  {
   "cell_type": "code",
   "execution_count": 14,
   "metadata": {
    "collapsed": false
   },
   "outputs": [
    {
     "name": "stdout",
     "output_type": "stream",
     "text": [
      "Point 0: logp -92.9968217129\n",
      "Point 1: logp -95.9044220626\n",
      "Point 2: logp -19.5299139507\n",
      "Point 3: logp -28.2330753263\n",
      "Point 4: logp -30.5658500441\n",
      "Point 5: logp -109.57535738\n",
      "Point 6: logp -54.4032830472\n",
      "Point 7: logp -204.647149088\n",
      "Point 8: logp -228.971188173\n",
      "Point 9: logp -52.1138274966\n"
     ]
    }
   ],
   "source": [
    "for i in range(10):\n",
    "    print \"Point {}: logp {}\".format( i, gmm.log_probability(data[i]) )"
   ]
  },
  {
   "cell_type": "code",
   "execution_count": 15,
   "metadata": {
    "collapsed": false
   },
   "outputs": [
    {
     "name": "stdout",
     "output_type": "stream",
     "text": [
      "Improvement: 44541.6683755\n",
      "Improvement: 30.6096878561\n",
      "Improvement: 11.5923550805\n",
      "Improvement: 6.24301245829\n",
      "Improvement: 3.90149691583\n",
      "Improvement: 2.65858549903\n",
      "Improvement: 1.93523543866\n",
      "Improvement: 1.50763034672\n",
      "Improvement: 1.25218891462\n",
      "Improvement: 1.0923188329\n",
      "Improvement: 0.986870608411\n",
      "Total Improvement: 44603.4477575\n"
     ]
    },
    {
     "data": {
      "text/plain": [
       "44603.44775749489"
      ]
     },
     "execution_count": 15,
     "metadata": {},
     "output_type": "execute_result"
    }
   ],
   "source": [
    "gmm.fit(data, verbose=True, stop_threshold=1)"
   ]
  },
  {
   "cell_type": "markdown",
   "metadata": {},
   "source": [
    "Now lets see how well the previous points fit."
   ]
  },
  {
   "cell_type": "code",
   "execution_count": 16,
   "metadata": {
    "collapsed": false
   },
   "outputs": [
    {
     "name": "stdout",
     "output_type": "stream",
     "text": [
      "Point 0: logp -15.7580845989\n",
      "Point 1: logp -16.114044174\n",
      "Point 2: logp -14.0475691373\n",
      "Point 3: logp -14.7997614439\n",
      "Point 4: logp -14.6995141746\n",
      "Point 5: logp -17.9272784665\n",
      "Point 6: logp -15.3165691235\n",
      "Point 7: logp -20.1189037538\n",
      "Point 8: logp -22.3676868448\n",
      "Point 9: logp -15.9103605907\n"
     ]
    }
   ],
   "source": [
    "for i in range(10):\n",
    "    print \"Point {}: logp {}\".format( i, gmm.log_probability(data[i]) )"
   ]
  },
  {
   "cell_type": "markdown",
   "metadata": {},
   "source": [
    "Looks like they're being fit significantly better than before! Training works."
   ]
  },
  {
   "cell_type": "markdown",
   "metadata": {},
   "source": [
    "## Discrete Mixture Models"
   ]
  },
  {
   "cell_type": "markdown",
   "metadata": {},
   "source": [
    "In addition to having general mixture models over continuous distributions, we can also have mixture models over discrete distributions. This is useful in many bioinformatics contexts, specifically sequence analysis. Lets use the toy analysis of trying to analyze CG island distribution.\n",
    "\n",
    "The problem is the following; DNA is made up of long sequences the four canonical nucleotides, abbreviated 'A', 'C', 'G', and 'T'. These nucleotides are not distributed randomly, and there is significant amounts of structure in the sequence. A major field in bioinformatics is trying to interpret this structure. One structured element is the CG content, where the Cs and the Gs appear more commonly than in the background. If we want to try to determine CG percentages in these islands, we can use a mixture model."
   ]
  },
  {
   "cell_type": "code",
   "execution_count": 17,
   "metadata": {
    "collapsed": false
   },
   "outputs": [],
   "source": [
    "d1 = DiscreteDistribution( {'A' : 0.25, 'C': 0.25, 'G' : 0.25, 'T': 0.25 } ) # Background\n",
    "d2 = DiscreteDistribution( {'A' : 0.05, 'C': 0.45, 'G' : 0.45, 'T': 0.05 } ) # CG rich regions\n",
    "gmm = GeneralMixtureModel( [d1, d2] )"
   ]
  },
  {
   "cell_type": "code",
   "execution_count": 18,
   "metadata": {
    "collapsed": false
   },
   "outputs": [
    {
     "data": {
      "text/plain": [
       "3.4766541840931495"
      ]
     },
     "execution_count": 18,
     "metadata": {},
     "output_type": "execute_result"
    }
   ],
   "source": [
    "seq = numpy.array(list('CGACATCTGACTACGGCGCGCCTACTACTTGATCGATACGGCGTCAGCGACGACGATGATCGGCATCAGTCACTAC'))\n",
    "gmm.fit(seq)"
   ]
  },
  {
   "cell_type": "code",
   "execution_count": 19,
   "metadata": {
    "collapsed": false
   },
   "outputs": [
    {
     "name": "stdout",
     "output_type": "stream",
     "text": [
      "[ {\n",
      "    \"frozen\" :false,\n",
      "    \"class\" :\"Distribution\",\n",
      "    \"parameters\" :[\n",
      "        {\n",
      "            \"A\" :0.3500000000000001,\n",
      "            \"C\" :0.19999999999999993,\n",
      "            \"T\" :0.29166666666666674,\n",
      "            \"G\" :0.15833333333333327\n",
      "        }\n",
      "    ],\n",
      "    \"name\" :\"DiscreteDistribution\"\n",
      "}\n",
      " {\n",
      "    \"frozen\" :false,\n",
      "    \"class\" :\"Distribution\",\n",
      "    \"parameters\" :[\n",
      "        {\n",
      "            \"A\" :0.0905172413793103,\n",
      "            \"C\" :0.46551724137931033,\n",
      "            \"T\" :0.07543103448275859,\n",
      "            \"G\" :0.3685344827586208\n",
      "        }\n",
      "    ],\n",
      "    \"name\" :\"DiscreteDistribution\"\n",
      "}]\n",
      "\n",
      "[ 0.56390977  0.43609023]\n"
     ]
    }
   ],
   "source": [
    "print gmm.distributions\n",
    "print\n",
    "print numpy.exp(gmm.weights)"
   ]
  },
  {
   "cell_type": "markdown",
   "metadata": {},
   "source": [
    "Looks like in this case the concept was sound, that there many CG rich regions, but our initial estimates of the  percentages were off. We can use a GMM like the one above to both identify and study the composition of these regions at the same time, updating the parameters of the distributions using expectation-maximization. We will go into a more complex way of dong this using HMMs in the next tutorial."
   ]
  },
  {
   "cell_type": "markdown",
   "metadata": {},
   "source": [
    "## Serialization"
   ]
  },
  {
   "cell_type": "markdown",
   "metadata": {},
   "source": [
    "General Mixture Models support serialization to JSONs using `to_json()` and `from_json( json )`. This is useful is you want to train a GMM on large amounts of data, taking a significant amount of time, and then use this model in the future without having to repeat this computationally intensive step."
   ]
  },
  {
   "cell_type": "code",
   "execution_count": 20,
   "metadata": {
    "collapsed": false
   },
   "outputs": [
    {
     "name": "stdout",
     "output_type": "stream",
     "text": [
      "{\n",
      "    \"weights\" : [\n",
      "        -0.5728610146854433,\n",
      "        -0.8299061176753344\n",
      "    ],\n",
      "    \"distributions\" : [\n",
      "        {\n",
      "            \"frozen\" : false,\n",
      "            \"class\" : \"Distribution\",\n",
      "            \"parameters\" : [\n",
      "                {\n",
      "                    \"A\" : 0.3500000000000001,\n",
      "                    \"C\" : 0.19999999999999993,\n",
      "                    \"T\" : 0.29166666666666674,\n",
      "                    \"G\" : 0.15833333333333327\n",
      "                }\n",
      "            ],\n",
      "            \"name\" : \"DiscreteDistribution\"\n",
      "        },\n",
      "        {\n",
      "            \"frozen\" : false,\n",
      "            \"class\" : \"Distribution\",\n",
      "            \"parameters\" : [\n",
      "                {\n",
      "                    \"A\" : 0.0905172413793103,\n",
      "                    \"C\" : 0.46551724137931033,\n",
      "                    \"T\" : 0.07543103448275859,\n",
      "                    \"G\" : 0.3685344827586208\n",
      "                }\n",
      "            ],\n",
      "            \"name\" : \"DiscreteDistribution\"\n",
      "        }\n",
      "    ],\n",
      "    \"class\" : \"GeneralMixtureModel\"\n",
      "}\n"
     ]
    }
   ],
   "source": [
    "print gmm.to_json()"
   ]
  },
  {
   "cell_type": "markdown",
   "metadata": {},
   "source": [
    "Not the prettiest thing to look at right now. However, we can easily load it and use it immediately."
   ]
  },
  {
   "cell_type": "code",
   "execution_count": 21,
   "metadata": {
    "collapsed": false
   },
   "outputs": [
    {
     "data": {
      "text/plain": [
       "array([ {\n",
       "    \"frozen\" :false,\n",
       "    \"class\" :\"Distribution\",\n",
       "    \"parameters\" :[\n",
       "        {\n",
       "            \"A\" :0.3500000000000001,\n",
       "            \"C\" :0.19999999999999993,\n",
       "            \"T\" :0.29166666666666674,\n",
       "            \"G\" :0.15833333333333327\n",
       "        }\n",
       "    ],\n",
       "    \"name\" :\"DiscreteDistribution\"\n",
       "},\n",
       "       {\n",
       "    \"frozen\" :false,\n",
       "    \"class\" :\"Distribution\",\n",
       "    \"parameters\" :[\n",
       "        {\n",
       "            \"A\" :0.0905172413793103,\n",
       "            \"C\" :0.46551724137931033,\n",
       "            \"T\" :0.07543103448275859,\n",
       "            \"G\" :0.3685344827586208\n",
       "        }\n",
       "    ],\n",
       "    \"name\" :\"DiscreteDistribution\"\n",
       "}], dtype=object)"
      ]
     },
     "execution_count": 21,
     "metadata": {},
     "output_type": "execute_result"
    }
   ],
   "source": [
    "gmm_2 = GeneralMixtureModel.from_json( gmm.to_json() )\n",
    "gmm_2.distributions"
   ]
  },
  {
   "cell_type": "markdown",
   "metadata": {},
   "source": [
    "`gmm_2` is now ready to go, as if it was the original model!"
   ]
  },
  {
   "cell_type": "markdown",
   "metadata": {},
   "source": [
    "## Concluding Remarks"
   ]
  },
  {
   "cell_type": "markdown",
   "metadata": {},
   "source": [
    "General Mixture Models are extremely powerful tools for unsupervised learning. pomegranate makes it easy to define, fit, and make predictions using these models. All the examples above have used the same distribution type for all the components of the mixture, but that is not a requirement, if your application requires varied distributions."
   ]
  }
 ],
 "metadata": {
  "kernelspec": {
   "display_name": "Python 2",
   "language": "python",
   "name": "python2"
  },
  "language_info": {
   "codemirror_mode": {
    "name": "ipython",
    "version": 2
   },
   "file_extension": ".py",
   "mimetype": "text/x-python",
   "name": "python",
   "nbconvert_exporter": "python",
   "pygments_lexer": "ipython2",
   "version": "2.7.11"
  }
 },
 "nbformat": 4,
 "nbformat_minor": 0
}
