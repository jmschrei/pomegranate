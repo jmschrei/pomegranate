{
 "cells": [
  {
   "cell_type": "markdown",
   "metadata": {},
   "source": [
    "# pomegranate and parallelization\n",
    "\n",
    "pomegranate supports parallelization through a set of built in functions based off of joblib. All computationally intensive functions in pomegranate are implemented in cython with the global interpreter lock (GIL) released, allowing for multithreading to be used for efficient parallel processing. The following functions can be called for parallelization:\n",
    "\n",
    "1. fit\n",
    "2. summarize\n",
    "3. predict\n",
    "4. predict_proba\n",
    "5. predict_log_proba\n",
    "6. log_probability\n",
    "7. probability\n",
    "\n",
    "These functions can all be simply parallelized by passing in `n_jobs=X` to the method calls. This tutorial will demonstrate how to use those calls. First we'll look at a simple multivariate Gaussian mixture model, and compare its performance to sklearn. Then we'll look at a hidden Markov model with Gaussian emissions, and lastly we'll look at a mixture of Gaussian HMMs. These can all utilize the build-in parallelization that pomegranate has.\n",
    "\n",
    "Let's dive right in!"
   ]
  },
  {
   "cell_type": "code",
   "execution_count": 1,
   "metadata": {},
   "outputs": [
    {
     "name": "stdout",
     "output_type": "stream",
     "text": [
      "Populating the interactive namespace from numpy and matplotlib\n"
     ]
    }
   ],
   "source": [
    "%pylab inline\n",
    "from sklearn.mixture import GaussianMixture\n",
    "from pomegranate import *\n",
    "import seaborn, time\n",
    "seaborn.set_style('whitegrid')"
   ]
  },
  {
   "cell_type": "code",
   "execution_count": 2,
   "metadata": {},
   "outputs": [],
   "source": [
    "def create_dataset(n_samples, n_dim, n_classes, alpha=1):\n",
    "    \"\"\"Create a random dataset with n_samples in each class.\"\"\"\n",
    "    \n",
    "    X = numpy.concatenate([numpy.random.normal(i*alpha, 1, size=(n_samples, n_dim)) for i in range(n_classes)])\n",
    "    y = numpy.concatenate([numpy.zeros(n_samples) + i for i in range(n_classes)])\n",
    "    idx = numpy.arange(X.shape[0])\n",
    "    numpy.random.shuffle(idx)\n",
    "    return X[idx], y[idx]"
   ]
  },
  {
   "cell_type": "markdown",
   "metadata": {},
   "source": [
    "## 1. General Mixture Models\n",
    "\n",
    "pomegranate has a very efficient implementation of mixture models, particularly Gaussian mixture models. Lets take a look at how fast pomegranate is versus sklearn, and then see how much faster parallelization can get it to be."
   ]
  },
  {
   "cell_type": "code",
   "execution_count": 3,
   "metadata": {},
   "outputs": [
    {
     "name": "stdout",
     "output_type": "stream",
     "text": [
      "sklearn GMM\n"
     ]
    },
    {
     "name": "stderr",
     "output_type": "stream",
     "text": [
      "/home/jmschr/anaconda2/lib/python2.7/site-packages/sklearn/mixture/base.py:237: ConvergenceWarning: Initialization 1 did not converge. Try different init parameters, or increase max_iter, tol or check for degenerate data.\n",
      "  % (init + 1), ConvergenceWarning)\n"
     ]
    },
    {
     "name": "stdout",
     "output_type": "stream",
     "text": [
      "1 loop, best of 3: 37 s per loop\n",
      "\n",
      "pomegranate GMM\n",
      "1 loop, best of 3: 23.6 s per loop\n",
      "\n",
      "pomegranate GMM (4 jobs)\n",
      "1 loop, best of 3: 10.6 s per loop\n"
     ]
    }
   ],
   "source": [
    "n, d, k = 1000000, 5, 3\n",
    "X, y = create_dataset(n, d, k)\n",
    "\n",
    "print \"sklearn GMM\"\n",
    "%timeit GaussianMixture(n_components=k, covariance_type='full', max_iter=15, tol=1e-10).fit(X)\n",
    "print \n",
    "print \"pomegranate GMM\"\n",
    "%timeit GeneralMixtureModel.from_samples(MultivariateGaussianDistribution, k, X, max_iterations=15, stop_threshold=1e-10)\n",
    "print\n",
    "print \"pomegranate GMM (4 jobs)\"\n",
    "%timeit GeneralMixtureModel.from_samples(MultivariateGaussianDistribution, k, X, n_jobs=4, max_iterations=15, stop_threshold=1e-10)"
   ]
  },
  {
   "cell_type": "markdown",
   "metadata": {},
   "source": [
    "It looks like on a large dataset not only is pomegranate faster than sklearn at performing 15 iterations of EM on 3 million 5 dimensional datapoints with 3 clusters, but the parallelization is able to help in speeding things up. \n",
    "\n",
    "Lets now take a look at the time it takes to make predictions using GMMs. Lets fit the model to a small amount of data, and then predict a larger amount of data drawn from the same underlying distributions."
   ]
  },
  {
   "cell_type": "code",
   "execution_count": 4,
   "metadata": {},
   "outputs": [],
   "source": [
    "d, k = 25, 2\n",
    "X, y = create_dataset(1000, d, k)\n",
    "a = GaussianMixture(k, n_init=1, max_iter=25).fit(X)\n",
    "b = GeneralMixtureModel.from_samples(MultivariateGaussianDistribution, k, X, max_iterations=25)"
   ]
  },
  {
   "cell_type": "code",
   "execution_count": 5,
   "metadata": {},
   "outputs": [
    {
     "name": "stdout",
     "output_type": "stream",
     "text": [
      "sklearn GMM\n",
      "1 loop, best of 3: 2.12 s per loop\n",
      "\n",
      "pomegranate GMM\n",
      "1 loop, best of 3: 1.68 s per loop\n",
      "\n",
      "pomegranate GMM (4 jobs)\n",
      "1 loop, best of 3: 1.59 s per loop\n"
     ]
    }
   ],
   "source": [
    "del X, y\n",
    "n = 1000000\n",
    "X, y = create_dataset(n, d, k)\n",
    "\n",
    "print \"sklearn GMM\"\n",
    "%timeit -n 1 a.predict_proba(X)\n",
    "print\n",
    "print \"pomegranate GMM\"\n",
    "%timeit -n 1 b.predict_proba(X)\n",
    "print\n",
    "print \"pomegranate GMM (4 jobs)\"\n",
    "%timeit -n 1 b.predict_proba(X, n_jobs=4)"
   ]
  },
  {
   "cell_type": "markdown",
   "metadata": {},
   "source": [
    "It looks like pomegranate can be slightly slower than sklearn when using a single processor, but that it can be parallelized to get faster performance. At the same time, predictions at this level happen so quickly (millions per second) that this may not be the most reliable test for parallelization.\n",
    "\n",
    "To ensure that we're getting the exact same results just faster, lets subtract the predictions from each other and make sure that the sum is equal to 0."
   ]
  },
  {
   "cell_type": "code",
   "execution_count": 6,
   "metadata": {},
   "outputs": [
    {
     "name": "stdout",
     "output_type": "stream",
     "text": [
      "0.0\n"
     ]
    }
   ],
   "source": [
    "print (b.predict_proba(X) - b.predict_proba(X, n_jobs=4)).sum()"
   ]
  },
  {
   "cell_type": "markdown",
   "metadata": {},
   "source": [
    "Great, no difference between the two.\n",
    "\n",
    "Lets now make sure that pomegranate and sklearn are learning basically the same thing. Lets fit both models to some 2 dimensional 2 component data and make sure that they both extract the underlying clusters by plotting them."
   ]
  },
  {
   "cell_type": "code",
   "execution_count": 7,
   "metadata": {},
   "outputs": [
    {
     "data": {
      "text/plain": [
       "<matplotlib.collections.PathCollection at 0x7f4e62e02210>"
      ]
     },
     "execution_count": 7,
     "metadata": {},
     "output_type": "execute_result"
    },
    {
     "data": {
      "image/png": "[encoded data removed]",
      "text/plain": [
       "<matplotlib.figure.Figure at 0x7f4e64e5be50>"
      ]
     },
     "metadata": {},
     "output_type": "display_data"
    }
   ],
   "source": [
    "d, k = 2, 2\n",
    "X, y = create_dataset(1000, d, k, alpha=2)\n",
    "a = GaussianMixture(k, n_init=1, max_iter=25).fit(X)\n",
    "b = GeneralMixtureModel.from_samples(MultivariateGaussianDistribution, k, X, max_iterations=25)\n",
    "\n",
    "y1, y2 = a.predict(X), b.predict(X)\n",
    "\n",
    "plt.figure(figsize=(16,6))\n",
    "plt.subplot(121)\n",
    "plt.title(\"sklearn clusters\", fontsize=14)\n",
    "plt.scatter(X[y1==0, 0], X[y1==0, 1], color='m', edgecolor='m')\n",
    "plt.scatter(X[y1==1, 0], X[y1==1, 1], color='c', edgecolor='c')\n",
    "\n",
    "plt.subplot(122)\n",
    "plt.title(\"pomegranate clusters\", fontsize=14)\n",
    "plt.scatter(X[y2==0, 0], X[y2==0, 1], color='m', edgecolor='m')\n",
    "plt.scatter(X[y2==1, 0], X[y2==1, 1], color='c', edgecolor='c')"
   ]
  },
  {
   "cell_type": "markdown",
   "metadata": {},
   "source": [
    "It looks like we're getting the same basic results for the two. The two algorithms are initialized a bit differently, and so it can be difficult to directly compare the results between them, but it looks like they're getting roughly the same results."
   ]
  },
  {
   "cell_type": "markdown",
   "metadata": {},
   "source": [
    "## 3. Multivariate Gaussian HMM\n",
    "\n",
    "Now let's move on to training a hidden Markov model with multivariate Gaussian emissions with a diagonal covariance matrix. We'll randomly generate some Gaussian distributed numbers and use pomegranate with either one or four threads to fit our model to the data."
   ]
  },
  {
   "cell_type": "code",
   "execution_count": 8,
   "metadata": {},
   "outputs": [
    {
     "name": "stdout",
     "output_type": "stream",
     "text": [
      "pomegranate Gaussian HMM (1 job)\n",
      "1 loop, best of 1: 22.1 s per loop\n",
      "\n",
      "pomegranate Gaussian HMM (2 jobs)\n",
      "1 loop, best of 1: 12.9 s per loop\n",
      "\n",
      "pomegranate Gaussian HMM (2 jobs)\n",
      "1 loop, best of 1: 8.37 s per loop\n"
     ]
    }
   ],
   "source": [
    "X = numpy.random.randn(1000, 500, 50)\n",
    "\n",
    "print \"pomegranate Gaussian HMM (1 job)\"\n",
    "%timeit -n 1 -r 1 HiddenMarkovModel.from_samples(NormalDistribution, 5, X, max_iterations=5)\n",
    "print\n",
    "print \"pomegranate Gaussian HMM (2 jobs)\"\n",
    "%timeit -n 1 -r 1 HiddenMarkovModel.from_samples(NormalDistribution, 5, X, max_iterations=5, n_jobs=2)\n",
    "print\n",
    "print \"pomegranate Gaussian HMM (2 jobs)\"\n",
    "%timeit -n 1 -r 1 HiddenMarkovModel.from_samples(NormalDistribution, 5, X, max_iterations=5, n_jobs=4)"
   ]
  },
  {
   "cell_type": "markdown",
   "metadata": {},
   "source": [
    "All we had to do was pass in the n_jobs parameter to the fit function in order to get a speed improvement. It looks like we're getting a really good speed improvement, as well! This is mostly because the HMM algorithms perform a lot more operations than the other models, and so spend the vast majority of time with the GIL released. You may not notice as strong speedups when using a MultivariateGaussianDistribution because BLAS uses multithreaded operations already internally, even when only one job is specified.\n",
    "\n",
    "Now lets look at the prediction function to make sure the we're getting speedups there as well. You'll have to use a wrapper function to parallelize the predictions for a HMM because it returns an annotated sequence rather than a single value like a classic machine learning model might."
   ]
  },
  {
   "cell_type": "code",
   "execution_count": 9,
   "metadata": {},
   "outputs": [
    {
     "name": "stdout",
     "output_type": "stream",
     "text": [
      "pomegranate Gaussian HMM (1 job)\n",
      "1 loop, best of 3: 3.22 s per loop\n",
      "\n",
      "pomegranate Gaussian HMM (2 jobs)\n",
      "1 loop, best of 3: 1.93 s per loop\n"
     ]
    }
   ],
   "source": [
    "model = HiddenMarkovModel.from_samples(NormalDistribution, 5, X, max_iterations=2, verbose=False)\n",
    "\n",
    "print \"pomegranate Gaussian HMM (1 job)\"\n",
    "%timeit predict_proba(model, X)\n",
    "print\n",
    "print \"pomegranate Gaussian HMM (2 jobs)\"\n",
    "%timeit predict_proba(model, X, n_jobs=2)"
   ]
  },
  {
   "cell_type": "markdown",
   "metadata": {},
   "source": [
    "Great, we're getting a really good speedup on that as well! Looks like the parallel processing is more efficient with a bigger, more complex model, than with a simple one. This can make sense, because all inference/training is more complex, and so there is more time with the GIL released compared to with the simpler operations."
   ]
  },
  {
   "cell_type": "markdown",
   "metadata": {},
   "source": [
    "## 4. Mixture of Hidden Markov Models\n",
    "\n",
    "Let's stack another layer onto this model by making it a mixture of these hidden Markov models, instead of a single one. At this point we're sticking a multivariate Gaussian HMM into a mixture and we're going to train this big thing in parallel."
   ]
  },
  {
   "cell_type": "code",
   "execution_count": 13,
   "metadata": {},
   "outputs": [],
   "source": [
    "def create_model(mus):\n",
    "    n = mus.shape[0]\n",
    "    \n",
    "    starts = numpy.zeros(n)\n",
    "    starts[0] = 1.\n",
    "    \n",
    "    ends = numpy.zeros(n)\n",
    "    ends[-1] = 0.5\n",
    "    \n",
    "    transition_matrix = numpy.zeros((n, n))\n",
    "    distributions = []\n",
    "    \n",
    "    for i in range(n):\n",
    "        transition_matrix[i, i] = 0.5\n",
    "        \n",
    "        if i < n - 1:\n",
    "            transition_matrix[i, i+1] = 0.5\n",
    "    \n",
    "        distribution = IndependentComponentsDistribution([NormalDistribution(mu, 1) for mu in mus[i]])\n",
    "        distributions.append(distribution)\n",
    "    \n",
    "    model = HiddenMarkovModel.from_matrix(transition_matrix, distributions, starts, ends)\n",
    "    return model\n",
    "    \n",
    "\n",
    "def create_mixture(mus):\n",
    "    hmms = [create_model(mu) for mu in mus]\n",
    "    return GeneralMixtureModel(hmms)\n",
    "\n",
    "n, d = 50, 10\n",
    "mus = [(numpy.random.randn(d, n)*0.2 + numpy.random.randn(n)*2).T for i in range(2)]"
   ]
  },
  {
   "cell_type": "code",
   "execution_count": 14,
   "metadata": {},
   "outputs": [
    {
     "name": "stdout",
     "output_type": "stream",
     "text": [
      "pomegranate Mixture of Gaussian HMMs (1 job)\n",
      "1 loop, best of 3: 3 s per loop\n",
      "\n",
      "pomegranate Mixture of Gaussian HMMs (2 jobs)\n",
      "1 loop, best of 3: 1.83 s per loop\n"
     ]
    }
   ],
   "source": [
    "model = create_mixture(mus)\n",
    "X = numpy.random.randn(400, 150, d)\n",
    "\n",
    "print \"pomegranate Mixture of Gaussian HMMs (1 job)\"\n",
    "%timeit model.fit(X, max_iterations=5)\n",
    "print\n",
    "\n",
    "model = create_mixture(mus)\n",
    "print \"pomegranate Mixture of Gaussian HMMs (2 jobs)\"\n",
    "%timeit model.fit(X, max_iterations=5, n_jobs=2)"
   ]
  },
  {
   "cell_type": "markdown",
   "metadata": {},
   "source": [
    "Looks like we're getting a really nice speed improvement when training this complex model. Let's take a look now at the time it takes to do inference with it."
   ]
  },
  {
   "cell_type": "code",
   "execution_count": 15,
   "metadata": {},
   "outputs": [
    {
     "name": "stdout",
     "output_type": "stream",
     "text": [
      "pomegranate Mixture of Gaussian HMMs (1 job)\n",
      "1 loop, best of 3: 598 ms per loop\n",
      "\n",
      "pomegranate Mixture of Gaussian HMMs (2 jobs)\n",
      "1 loop, best of 3: 411 ms per loop\n"
     ]
    }
   ],
   "source": [
    "model = create_mixture(mus)\n",
    "\n",
    "print \"pomegranate Mixture of Gaussian HMMs (1 job)\"\n",
    "%timeit model.predict_proba(X)\n",
    "print\n",
    "\n",
    "model = create_mixture(mus)\n",
    "print \"pomegranate Mixture of Gaussian HMMs (2 jobs)\"\n",
    "%timeit model.predict_proba(X, n_jobs=2)"
   ]
  },
  {
   "cell_type": "markdown",
   "metadata": {},
   "source": [
    "We're getting a good speed improvement here too through parallelization."
   ]
  },
  {
   "cell_type": "markdown",
   "metadata": {},
   "source": [
    "## Conclusions\n",
    "\n",
    "Hopefully you'll find pomegranate useful in your work! Parallelization should allow you to train complex models faster than before. Keep in mind though that there is an overhead to using parallel processing, and so it's possible that on some smaller examples it does not work as well. In general, the bigger the dataset, the closer to a linear speedup you'll get with pomegranate.\n",
    "\n",
    "If you have any interesting examples of how you've used pomegranate in your work, I'd love to hear about them. In addition I'd like to hear any feedback you may have on features you'd like to see. Please shoot me an email. Good luck!"
   ]
  }
 ],
 "metadata": {
  "kernelspec": {
   "display_name": "Python 2",
   "language": "python",
   "name": "python2"
  },
  "language_info": {
   "codemirror_mode": {
    "name": "ipython",
    "version": 2
   },
   "file_extension": ".py",
   "mimetype": "text/x-python",
   "name": "python",
   "nbconvert_exporter": "python",
   "pygments_lexer": "ipython2",
   "version": "2.7.14"
  }
 },
 "nbformat": 4,
 "nbformat_minor": 1
}
