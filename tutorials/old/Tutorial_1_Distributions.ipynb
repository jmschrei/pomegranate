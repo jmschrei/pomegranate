{
 "cells": [
  {
   "cell_type": "markdown",
   "metadata": {},
   "source": [
    "# Pomegranate Tutorial 1: Distributions"
   ]
  },
  {
   "cell_type": "markdown",
   "metadata": {},
   "source": [
    "author: Jacob Schreiber <br>\n",
    "contact: jmschreiber91@gmail.com"
   ]
  },
  {
   "cell_type": "markdown",
   "metadata": {},
   "source": [
    "This tutorial will cover the various distributions that are implemented in pomegranate. These distributions can be used by themselves, or more typically as a part of a larger compositional model like a hidden Markov model. \n",
    "\n",
    "The distributions that are currently available:\n",
    "\n",
    "- Univariate Distributions\n",
    "  1. UniformDistribution\n",
    "  2. BernoulliDistribution\n",
    "  2. NormalDistribution\n",
    "  3. LogNormalDistribution\n",
    "  4. ExponentialDistribution\n",
    "  5. PoissonDistribution\n",
    "  6. BetaDistribution\n",
    "  7. GammaDistribution\n",
    "  8. DiscreteDistribution\n",
    "  \n",
    "- Univariate Kernel Densities\n",
    "  1. GaussianKernelDensity\n",
    "  2. UniformKernelDensity\n",
    "  3. TriangleKernelDensity\n",
    "  \n",
    "- Multivariate Distributions\n",
    "  1. IndependentComponentsDistribution\n",
    "  2. Dirichlet Distribution\n",
    "  3. MultivariateGaussianDistribution\n",
    "  4. ConditionalProbabilityTable\n",
    "  5. JointProbabilityTable\n",
    "\n",
    "The following methods are supported by all distributions:\n",
    "\n",
    "```\n",
    "1. d.probability(X): Return the probability of a sample under the distribution or a vector of samples\n",
    "2. d.log_probability(X): Return the log probability of a sample under the distribution or a vector of samples\n",
    "3. d.fit(X, weights=None, inertia): Use MLE estimates to update the parameters of the distribution. Optional weight vector is accepted, or inertia that pushes parameters from where they currently are to the update that portion of the way.\n",
    "4. d.summarize(X, weights=None): Extract and update the stored sufficient statistics on a data set with optional weights, but don't update the parameters yet\n",
    "5. d.from_summaries(X, inertia=0.0): Use the stored sufficient statistics to do a parameter update\n",
    "6. d.sample(n=1): Generate a sample, or a vector of samples, from the distribution\n",
    "\n",
    "7. d.to_json(): Serialize the distribution to a string json\n",
    "8. Distribution.from_json(s): Load up a stored distriibution, either from a file if passed a filename that ends in '.json', or from the string passed in itself.\n",
    "\n",
    "9. d.copy(): Make a deep copy of the distribution\n",
    "10. d.freeze(): Freeze the distribution, making 'fit' and 'from_summaries' not change model parameters\n",
    "11. d.thaw(): Unfreeze the distribution so that it can be updated agin.\n",
    "```\n",
    "\n",
    "Univariate distributions also have a `plot( n=1000, **kwargs )` command, where you can plot a histogram of `n` randomly generated samples from the distribution, which will pass matplotlib keyword arguments to the `plt.hist` function. \n",
    "\n",
    "Lets look at a few examples."
   ]
  },
  {
   "cell_type": "markdown",
   "metadata": {},
   "source": [
    "## The Normal Distribution"
   ]
  },
  {
   "cell_type": "code",
   "execution_count": 1,
   "metadata": {},
   "outputs": [
    {
     "name": "stdout",
     "output_type": "stream",
     "text": [
      "Populating the interactive namespace from numpy and matplotlib\n"
     ]
    }
   ],
   "source": [
    "from pomegranate import *\n",
    "%pylab inline"
   ]
  },
  {
   "cell_type": "markdown",
   "metadata": {},
   "source": [
    "Lets start off by looking at a normal distribution. It is easy to specify, and take a look at."
   ]
  },
  {
   "cell_type": "code",
   "execution_count": 2,
   "metadata": {},
   "outputs": [
    {
     "data": {
      "image/png": "[encoded data removed]",
      "text/plain": [
       "<matplotlib.figure.Figure at 0x7fae34260150>"
      ]
     },
     "metadata": {},
     "output_type": "display_data"
    }
   ],
   "source": [
    "d = NormalDistribution( 5, 2 )\n",
    "d.plot( n=100000, edgecolor='c', color='c', bins=50 )"
   ]
  },
  {
   "cell_type": "markdown",
   "metadata": {},
   "source": [
    "We can then calculate the log probability of some points under this distribution."
   ]
  },
  {
   "cell_type": "code",
   "execution_count": 3,
   "metadata": {},
   "outputs": [
    {
     "name": "stdout",
     "output_type": "stream",
     "text": [
      "-3.612085713764219\n",
      "-1.612085713764219\n",
      "-3.612085713764219\n"
     ]
    }
   ],
   "source": [
    "print d.log_probability( 1 )\n",
    "print d.log_probability( 5 )\n",
    "print d.log_probability( 9 )"
   ]
  },
  {
   "cell_type": "markdown",
   "metadata": {},
   "source": [
    "We can also fit this distribution to some data we have."
   ]
  },
  {
   "cell_type": "code",
   "execution_count": 4,
   "metadata": {
    "collapsed": true
   },
   "outputs": [],
   "source": [
    "data = np.random.randn(10000) * 0.4 + 9"
   ]
  },
  {
   "cell_type": "code",
   "execution_count": 5,
   "metadata": {},
   "outputs": [
    {
     "name": "stdout",
     "output_type": "stream",
     "text": [
      "[9.004974667786882, 0.39447571955036087]\n"
     ]
    },
    {
     "data": {
      "image/png": "[encoded data removed]",
      "text/plain": [
       "<matplotlib.figure.Figure at 0x7fadff224b10>"
      ]
     },
     "metadata": {},
     "output_type": "display_data"
    }
   ],
   "source": [
    "d.fit( data )\n",
    "d.plot( n=100000, edgecolor='c', color='c', bins=50 )\n",
    "print d.parameters"
   ]
  },
  {
   "cell_type": "markdown",
   "metadata": {},
   "source": [
    "We generated data from a normal distribution with mean 9 and standard deviation 0.4, and we can see that the distribution object was able to recover it. This is not surprising given the amount of data it received.\n",
    "\n",
    "The fitting process discards the previous parameters, and uses a pure MLE estimate on the new data. In this case, it just takes the mean and variance of the new data, discarding its previous parameters. It does not matter if the previous distribution was `NormalDistribution(1, 5)` or `NormalDistribution(10000000, 10000000)`, they would both recover the same parameters after.\n",
    "\n",
    "A way of taking into account current parameters is by using inertia, where the update is equal to `previous parameters * inertia + new parameters * ( 1 - inertia )`. This allows the update to take into account prior parameters a bit. Lets see an example."
   ]
  },
  {
   "cell_type": "code",
   "execution_count": 6,
   "metadata": {},
   "outputs": [
    {
     "name": "stdout",
     "output_type": "stream",
     "text": [
      "d -- mu: 9.00497466779 sigma 0.39447571955\n",
      "e -- mu: 104.502487334 sigma 0.697237859775\n"
     ]
    }
   ],
   "source": [
    "d = NormalDistribution( 10, 1 )\n",
    "e = NormalDistribution( 200, 1 )\n",
    "\n",
    "d.fit( data, inertia=0.0 ) # The default setting\n",
    "e.fit( data, inertia=0.5 )\n",
    "\n",
    "print \"d -- mu: {} sigma {}\".format( *d.parameters )\n",
    "print \"e -- mu: {} sigma {}\".format( *e.parameters )"
   ]
  },
  {
   "cell_type": "markdown",
   "metadata": {},
   "source": [
    "Out of core updates are also supported for distributions. This means that we can update a distribution using an amount of data which cannot fit into memory normally, but still produce an exact update. This is done by summarizing the dataset into sufficient statistics at each step, and then producing an update at the end. "
   ]
  },
  {
   "cell_type": "code",
   "execution_count": 7,
   "metadata": {},
   "outputs": [
    {
     "name": "stdout",
     "output_type": "stream",
     "text": [
      "d -- mu: 9.00497466779 sigma 0.39447571955\n"
     ]
    }
   ],
   "source": [
    "d = NormalDistribution( 105, 12 )\n",
    "\n",
    "for i in range(10):\n",
    "    d.summarize( data[i::10] )\n",
    "\n",
    "d.from_summaries()\n",
    "print \"d -- mu: {} sigma {}\".format( *d.parameters )"
   ]
  },
  {
   "cell_type": "markdown",
   "metadata": {},
   "source": [
    "In this particular case, the data can all fit in memory, but it doesn't necessarily have to. You just have to call `summarize`, then load up the next set of data, and continue.\n",
    "\n",
    "If we want to weight points, we can easily pass in a weight vector. Weights must be non-negative, and the sum of the weight vector must be greater than 0. Numerical stability issues can arise if you have entirely small weight vectors, so try to avoid that if possible."
   ]
  },
  {
   "cell_type": "code",
   "execution_count": 8,
   "metadata": {},
   "outputs": [
    {
     "name": "stdout",
     "output_type": "stream",
     "text": [
      "d -- mu: 9.00249539503 sigma 0.395023883825\n"
     ]
    }
   ],
   "source": [
    "d = NormalDistribution( 105, 12 )\n",
    "weights = np.random.exponential( 100, 10000 )\n",
    "d.fit( data, weights )\n",
    "\n",
    "print \"d -- mu: {} sigma {}\".format( *d.parameters )"
   ]
  },
  {
   "cell_type": "markdown",
   "metadata": {},
   "source": [
    "It doesn't change much in this case since the data was drawn from a perfect normal distribution, but it illustrates the possibility. The analog for summarization is the following:"
   ]
  },
  {
   "cell_type": "code",
   "execution_count": 9,
   "metadata": {},
   "outputs": [
    {
     "name": "stdout",
     "output_type": "stream",
     "text": [
      "d -- mu: 9.00249539503 sigma 0.395023883826\n"
     ]
    }
   ],
   "source": [
    "d = NormalDistribution( 105, 12 )\n",
    "\n",
    "for i in range(10):\n",
    "    d.summarize( data[i::10], weights=weights[i::10] )\n",
    "\n",
    "d.from_summaries()\n",
    "print \"d -- mu: {} sigma {}\".format( *d.parameters )"
   ]
  },
  {
   "cell_type": "markdown",
   "metadata": {},
   "source": [
    "We can also easily sample from distributions by calling the `sample` function. `plot` does this internally when we call it, but to be explicit lets reproduce that."
   ]
  },
  {
   "cell_type": "code",
   "execution_count": 10,
   "metadata": {},
   "outputs": [
    {
     "data": {
      "text/plain": [
       "(array([   3.,    4.,    7.,   20.,   57.,  114.,  202.,  362.,  574.,\n",
       "         786., 1033., 1135., 1265., 1229., 1061.,  819.,  539.,  356.,\n",
       "         246.,  110.,   39.,   29.,    5.,    3.,    2.]),\n",
       " array([ 58.28767007,  62.01813627,  65.74860246,  69.47906866,\n",
       "         73.20953485,  76.94000105,  80.67046725,  84.40093344,\n",
       "         88.13139964,  91.86186583,  95.59233203,  99.32279823,\n",
       "        103.05326442, 106.78373062, 110.51419681, 114.24466301,\n",
       "        117.97512921, 121.7055954 , 125.4360616 , 129.16652779,\n",
       "        132.89699399, 136.62746019, 140.35792638, 144.08839258,\n",
       "        147.81885877, 151.54932497]),\n",
       " <a list of 25 Patch objects>)"
      ]
     },
     "execution_count": 10,
     "metadata": {},
     "output_type": "execute_result"
    },
    {
     "data": {
      "image/png": "[encoded data removed]",
      "text/plain": [
       "<matplotlib.figure.Figure at 0x7fadff0ec710>"
      ]
     },
     "metadata": {},
     "output_type": "display_data"
    }
   ],
   "source": [
    "d = NormalDistribution( 105, 12 )\n",
    "samples = [ d.sample() for i in range(10000) ]\n",
    "plt.hist( samples, edgecolor='c', color='c', bins=25 )"
   ]
  },
  {
   "cell_type": "markdown",
   "metadata": {},
   "source": [
    "## The Discrete Distribution"
   ]
  },
  {
   "cell_type": "markdown",
   "metadata": {},
   "source": [
    "A notable deviant from the numerics logic is the Discrete Distribution. Instead of passing parameters as floats, you instead pass in a dictionary where keys can be ~any object~ and values are the probability of them occurring. If you try to calculate the log probability of an item not present in the distribution, the default behavior is to return negative infinity."
   ]
  },
  {
   "cell_type": "code",
   "execution_count": 11,
   "metadata": {},
   "outputs": [
    {
     "name": "stdout",
     "output_type": "stream",
     "text": [
      "-2.30258509299\n",
      "-0.69314718056\n",
      "-inf\n"
     ]
    }
   ],
   "source": [
    "d = DiscreteDistribution({'A': 0.1, 'C': 0.25, 'G': 0.50, 'T': 0.15})\n",
    "print d.log_probability( 'A' )\n",
    "print d.log_probability( 'G' )\n",
    "print d.log_probability( '????' )"
   ]
  },
  {
   "cell_type": "markdown",
   "metadata": {},
   "source": [
    "Updating a discrete distributon is the same as updating other distributions."
   ]
  },
  {
   "cell_type": "code",
   "execution_count": 12,
   "metadata": {},
   "outputs": [
    {
     "name": "stdout",
     "output_type": "stream",
     "text": [
      "logp(A) = -0.826678573184\n",
      "logp(C) = -1.85629799037\n",
      "logp(G) = -1.56861591791\n",
      "logp(T) = -1.6199092123\n",
      "[{'A': 0.4375, 'C': 0.15625, 'T': 0.19791666666666666, 'G': 0.20833333333333334}]\n"
     ]
    }
   ],
   "source": [
    "items = list('ACGATACACTGAATGACAGCAGTCACTGACAGTAGTACGAGTAGTAGCAGAGAGTAATAAAGAATTAATATATGACACTACGAAAAAAATGCATCG')\n",
    "d.fit( items )\n",
    "\n",
    "for char in 'ACGT':\n",
    "    print \"logp({}) = {}\".format( char, d.log_probability( char ) )\n",
    "\n",
    "print d.parameters"
   ]
  },
  {
   "cell_type": "markdown",
   "metadata": {},
   "source": [
    "We can also take a look at the JSON serialization. JSONs are the perfect way to store these models given their human interpretability, and the ability to recursively store JSONs within other JSONs, such as more complicated models (such as HMMs) will need to store the JSON of each distribution. It is useful to store these models after the computationally intensive task of training them, so that it need not be repeated."
   ]
  },
  {
   "cell_type": "code",
   "execution_count": 13,
   "metadata": {},
   "outputs": [
    {
     "name": "stdout",
     "output_type": "stream",
     "text": [
      "{\n",
      "    \"frozen\" :false,\n",
      "    \"dtype\" :\"str\",\n",
      "    \"class\" :\"Distribution\",\n",
      "    \"parameters\" :[\n",
      "        {\n",
      "            \"A\" :0.4375,\n",
      "            \"C\" :0.15625,\n",
      "            \"T\" :0.19791666666666666,\n",
      "            \"G\" :0.20833333333333334\n",
      "        }\n",
      "    ],\n",
      "    \"name\" :\"DiscreteDistribution\"\n",
      "}\n"
     ]
    }
   ],
   "source": [
    "print d.to_json()"
   ]
  },
  {
   "cell_type": "markdown",
   "metadata": {},
   "source": [
    "## The Kernel Density"
   ]
  },
  {
   "cell_type": "markdown",
   "metadata": {},
   "source": [
    "The Gaussian Kernel Density is a non-parametric distribution which stores a series of points, their associated weights, and the bandwidth representing the range of influence of each point. This will become apparent with an example."
   ]
  },
  {
   "cell_type": "code",
   "execution_count": 14,
   "metadata": {},
   "outputs": [
    {
     "data": {
      "image/png": "[encoded data removed]",
      "text/plain": [
       "<matplotlib.figure.Figure at 0x7fadff224410>"
      ]
     },
     "metadata": {},
     "output_type": "display_data"
    }
   ],
   "source": [
    "d = GaussianKernelDensity( [0.5, 1.2, 4.2, 1.9, 5.4, 3.4], bandwidth=1 )\n",
    "d.plot( n=100000, edgecolor='c', color='c', bins=100 )"
   ]
  },
  {
   "cell_type": "markdown",
   "metadata": {},
   "source": [
    "Changing the bandwidth parameter is equivalent to reducing the variance on a Gaussian. It makes the densities more central around the points, but can cause overfitting."
   ]
  },
  {
   "cell_type": "code",
   "execution_count": 15,
   "metadata": {},
   "outputs": [
    {
     "data": {
      "image/png": "[encoded data removed]",
      "text/plain": [
       "<matplotlib.figure.Figure at 0x7fadfef01d50>"
      ]
     },
     "metadata": {},
     "output_type": "display_data"
    }
   ],
   "source": [
    "d = GaussianKernelDensity( [0.5, 1.2, 4.2, 1.9, 5.4, 3.4], bandwidth=0.2 )\n",
    "d.plot( n=100000, edgecolor='c', color='c', bins=100 )"
   ]
  },
  {
   "cell_type": "markdown",
   "metadata": {},
   "source": [
    "We can easily see the influence of weights by weighting a single point. "
   ]
  },
  {
   "cell_type": "code",
   "execution_count": 16,
   "metadata": {},
   "outputs": [
    {
     "data": {
      "image/png": "[encoded data removed]",
      "text/plain": [
       "<matplotlib.figure.Figure at 0x7fadfed20b10>"
      ]
     },
     "metadata": {},
     "output_type": "display_data"
    }
   ],
   "source": [
    "d = GaussianKernelDensity( [0.5, 1.2, 4.2, 1.9, 5.4, 3.4], weights=[1, 1, 1, 3, 1, 1], bandwidth=0.2 )\n",
    "d.plot( n=100000, edgecolor='c', color='c', bins=100 )"
   ]
  },
  {
   "cell_type": "markdown",
   "metadata": {},
   "source": [
    "In addition to the Gaussian kernel density, there is a Triangle kernel density, which has a slightly different shape. Mostly I liked how they looked like pointy hats, so I implemented it."
   ]
  },
  {
   "cell_type": "code",
   "execution_count": 17,
   "metadata": {},
   "outputs": [
    {
     "data": {
      "image/png": "[encoded data removed]",
      "text/plain": [
       "<matplotlib.figure.Figure at 0x7fadfee8c810>"
      ]
     },
     "metadata": {},
     "output_type": "display_data"
    }
   ],
   "source": [
    "d = TriangleKernelDensity( [0.5, 1.2, 4.2, 1.9, 5.4, 3.4], weights=[1, 1, 1, 3, 1, 1], bandwidth=0.5 )\n",
    "d.plot( n=500000, edgecolor='c', color='c', bins=250 )"
   ]
  },
  {
   "cell_type": "markdown",
   "metadata": {},
   "source": [
    "## Independent Components Distribution"
   ]
  },
  {
   "cell_type": "markdown",
   "metadata": {},
   "source": [
    "Sometimes, a univariate distribution isn't good enough. Many times data comes in the form of multiple, independent, dimensions, each with their own distribution. We can model this with a multivariate distribution which contains a tuple of independent components. \n",
    "\n",
    "A common example may be to look at data whose signal is normally distributed, and whose duration is modelled by an exponential. "
   ]
  },
  {
   "cell_type": "code",
   "execution_count": 18,
   "metadata": {},
   "outputs": [
    {
     "name": "stdout",
     "output_type": "stream",
     "text": [
      "0\n",
      "-3.612085713764219\n"
     ]
    }
   ],
   "source": [
    "d = IndependentComponentsDistribution([ NormalDistribution(10, 1), ExponentialDistribution(0.5) ])\n",
    "print d.log_probability( (11, 3) )"
   ]
  },
  {
   "cell_type": "markdown",
   "metadata": {},
   "source": [
    "We can also weight the distributions. In this example, lets say that the signal is far more important than the duration."
   ]
  },
  {
   "cell_type": "code",
   "execution_count": 19,
   "metadata": {},
   "outputs": [
    {
     "name": "stdout",
     "output_type": "stream",
     "text": [
      "0\n",
      "-6.449962780172767\n"
     ]
    }
   ],
   "source": [
    "d = IndependentComponentsDistribution([ NormalDistribution(10, 1), ExponentialDistribution(0.5) ], weights=[3, 1])\n",
    "print d.log_probability( (11, 3) )"
   ]
  },
  {
   "cell_type": "markdown",
   "metadata": {},
   "source": [
    "We see that the point becomes more probable, because we care more about the good fit to the signal dimension (the normal distribution) than it poorly fits the duration (exponential) distribution. You must be careful with the weightings though, because they don't have to sum to 1. In this sense, `weights = [3,1]` is not the same as `weights = [0.75, 0.25]`. "
   ]
  },
  {
   "cell_type": "markdown",
   "metadata": {},
   "source": [
    "We can do updates in the same manner. Drawing sampels from a Gaussian with `mu = 12` and `sigma = 2`, and an exponential with `mu = 5` (0.2 in pomegranate notation, which is more prominent), we can recover the underlying distributions with 1000 points."
   ]
  },
  {
   "cell_type": "code",
   "execution_count": 20,
   "metadata": {},
   "outputs": [
    {
     "name": "stdout",
     "output_type": "stream",
     "text": [
      "[12.160898634047232, 2.0366665283768683] [0.20419702218012306]\n"
     ]
    }
   ],
   "source": [
    "data = numpy.zeros((1000, 2))\n",
    "data[:,0] = np.random.randn(1000) * 2 + 12 \n",
    "data[:,1] = np.random.exponential(5, 1000)\n",
    "d.fit(data)\n",
    "\n",
    "print d.parameters[0][0].parameters, d.parameters[0][1].parameters"
   ]
  },
  {
   "cell_type": "markdown",
   "metadata": {},
   "source": [
    "## Multivariate Gaussian Distribution"
   ]
  },
  {
   "cell_type": "markdown",
   "metadata": {},
   "source": [
    "It's not always good enough to have independent distributions, as many signals are heavily correlated. A simple multivariate Gaussian has been written, as this is the most common use case, with full covariance updates. You provide a vector of mus, and a covariance matrix, and you're good to go! Unfortunately, plotting is not natively supported for this distribution."
   ]
  },
  {
   "cell_type": "code",
   "execution_count": 21,
   "metadata": {},
   "outputs": [
    {
     "name": "stdout",
     "output_type": "stream",
     "text": [
      "[ 0.73749922  5.11476927 11.18206336 16.53134358 20.93125287]\n"
     ]
    }
   ],
   "source": [
    "d = MultivariateGaussianDistribution( np.arange(5) * 5, np.eye(5) )\n",
    "print d.sample()"
   ]
  },
  {
   "cell_type": "code",
   "execution_count": 22,
   "metadata": {},
   "outputs": [
    {
     "name": "stdout",
     "output_type": "stream",
     "text": [
      "[[0.02377337215938058, 7.969241783095424, 16.00711337421143, 23.988157982680665, 32.022657302705106], [[0.9431449057331389, -0.001642776696889797, 0.017314356941345806, 0.01096538884848701, -0.03258674233349018], [-0.001642776696889797, 0.9767716288924349, 0.018965950499477913, -0.007272981779940892, 0.04475422098013223], [0.017314356941345806, 0.018965950499477913, 0.9370010959472275, 0.018596776777878403, -0.028357435495068785], [0.01096538884848701, -0.007272981779940892, 0.018596776777878403, 1.0080029155391967, 0.020456741158268413], [-0.03258674233348995, 0.04475422098004492, -0.028357435495010578, 0.020456741158268413, 1.0468826718300115]]]\n"
     ]
    }
   ],
   "source": [
    "data = np.random.randn(1000, 5) + np.arange(5) * 8\n",
    "\n",
    "d.fit(data)\n",
    "print d.parameters"
   ]
  },
  {
   "cell_type": "code",
   "execution_count": 23,
   "metadata": {},
   "outputs": [
    {
     "name": "stdout",
     "output_type": "stream",
     "text": [
      "[ 1.34675139  7.52499761 14.4882111  25.46624009 32.03538407]\n"
     ]
    }
   ],
   "source": [
    "print d.sample()"
   ]
  },
  {
   "cell_type": "markdown",
   "metadata": {},
   "source": [
    "## Conditional Probability Table"
   ]
  },
  {
   "cell_type": "markdown",
   "metadata": {},
   "source": [
    "Tables are a different type of multivariate distribution. In essence, a multivariate discrete distribution. To use them, we define the values, and give probabilities which sum to 1 for each instance of the parents. They must be linked to parent distributions (which can also be conditional probability tables). Large networks of tables are called Bayesian networks!\n",
    "\n",
    "Lets code up the Monty Hall problem very quickly, without inference (see Bayesian Network introduction for the inference component)."
   ]
  },
  {
   "cell_type": "code",
   "execution_count": 24,
   "metadata": {},
   "outputs": [
    {
     "name": "stdout",
     "output_type": "stream",
     "text": [
      "A\tA\tA\t0.0\n",
      "A\tA\tB\t0.5\n",
      "A\tA\tC\t0.5\n",
      "A\tB\tA\t0.5\n",
      "A\tB\tB\t0.0\n",
      "A\tB\tC\t0.5\n",
      "A\tC\tA\t0.5\n",
      "A\tC\tB\t0.5\n",
      "A\tC\tC\t0.0\n",
      "B\tA\tA\t0.0\n",
      "B\tA\tB\t0.5\n",
      "B\tA\tC\t0.5\n",
      "B\tB\tA\t0.5\n",
      "B\tB\tB\t0.0\n",
      "B\tB\tC\t0.5\n",
      "B\tC\tA\t0.5\n",
      "B\tC\tB\t0.5\n",
      "B\tC\tC\t0.0\n",
      "C\tA\tA\t0.0\n",
      "C\tA\tB\t0.5\n",
      "C\tA\tC\t0.5\n",
      "C\tB\tA\t0.5\n",
      "C\tB\tB\t0.0\n",
      "C\tB\tC\t0.5\n",
      "C\tC\tA\t0.5\n",
      "C\tC\tB\t0.5\n",
      "C\tC\tC\t0.0\n"
     ]
    }
   ],
   "source": [
    "guest = DiscreteDistribution({'A': 0.33, 'B': 0.33, 'C': 0.33})\n",
    "prize = DiscreteDistribution({'A': 0.33, 'B': 0.33, 'C': 0.33})\n",
    "monty = ConditionalProbabilityTable(\n",
    "    [['A', 'A', 'A', 0.0],\n",
    "     ['A', 'A', 'B', 0.5],\n",
    "     ['A', 'A', 'C', 0.5],\n",
    "     ['A', 'B', 'A', 0.5],\n",
    "     ['A', 'B', 'B', 0.0],\n",
    "     ['A', 'B', 'C', 0.5],\n",
    "     ['A', 'C', 'A', 0.5],\n",
    "     ['A', 'C', 'B', 0.5],\n",
    "     ['A', 'C', 'C', 0.0],\n",
    "     ['B', 'A', 'A', 0.0],\n",
    "     ['B', 'A', 'B', 0.5],\n",
    "     ['B', 'A', 'C', 0.5],\n",
    "     ['B', 'B', 'A', 0.5],\n",
    "     ['B', 'B', 'B', 0.0],\n",
    "     ['B', 'B', 'C', 0.5],\n",
    "     ['B', 'C', 'A', 0.5],\n",
    "     ['B', 'C', 'B', 0.5],\n",
    "     ['B', 'C', 'C', 0.0],\n",
    "     ['C', 'A', 'A', 0.0],\n",
    "     ['C', 'A', 'B', 0.5],\n",
    "     ['C', 'A', 'C', 0.5],\n",
    "     ['C', 'B', 'A', 0.5],\n",
    "     ['C', 'B', 'B', 0.0],\n",
    "     ['C', 'B', 'C', 0.5],\n",
    "     ['C', 'C', 'A', 0.5],\n",
    "     ['C', 'C', 'B', 0.5],\n",
    "     ['C', 'C', 'C', 0.0]], parents=[guest, prize]\n",
    "    )\n",
    "\n",
    "print monty"
   ]
  },
  {
   "cell_type": "code",
   "execution_count": 25,
   "metadata": {},
   "outputs": [
    {
     "name": "stdout",
     "output_type": "stream",
     "text": [
      "-0.69314718056\n",
      "-inf\n"
     ]
    }
   ],
   "source": [
    "print monty.log_probability( ('A', 'A', 'C') )\n",
    "print monty.log_probability( ('A', 'B', 'B') )"
   ]
  },
  {
   "cell_type": "markdown",
   "metadata": {},
   "source": [
    "The reason which we need the parent distributions to be explicit distributions is so that we can have seamless conversion from the conditional table to the joint table."
   ]
  },
  {
   "cell_type": "code",
   "execution_count": 26,
   "metadata": {},
   "outputs": [
    {
     "name": "stdout",
     "output_type": "stream",
     "text": [
      "A\tA\tA\t0.0\n",
      "A\tA\tB\t0.0555555555556\n",
      "A\tA\tC\t0.0555555555556\n",
      "A\tB\tA\t0.0555555555556\n",
      "A\tB\tB\t0.0\n",
      "A\tB\tC\t0.0555555555556\n",
      "A\tC\tA\t0.0555555555556\n",
      "A\tC\tB\t0.0555555555556\n",
      "A\tC\tC\t0.0\n",
      "B\tA\tA\t0.0\n",
      "B\tA\tB\t0.0555555555556\n",
      "B\tA\tC\t0.0555555555556\n",
      "B\tB\tA\t0.0555555555556\n",
      "B\tB\tB\t0.0\n",
      "B\tB\tC\t0.0555555555556\n",
      "B\tC\tA\t0.0555555555556\n",
      "B\tC\tB\t0.0555555555556\n",
      "B\tC\tC\t0.0\n",
      "C\tA\tA\t0.0\n",
      "C\tA\tB\t0.0555555555556\n",
      "C\tA\tC\t0.0555555555556\n",
      "C\tB\tA\t0.0555555555556\n",
      "C\tB\tB\t0.0\n",
      "C\tB\tC\t0.0555555555556\n",
      "C\tC\tA\t0.0555555555556\n",
      "C\tC\tB\t0.0555555555556\n",
      "C\tC\tC\t0.0\n"
     ]
    }
   ],
   "source": [
    "print monty.joint()"
   ]
  },
  {
   "cell_type": "markdown",
   "metadata": {},
   "source": [
    "There are 18 non-zero entries in the table, each of equal weight. 1 / 18 is 0.556, so this makes sense. The joint distribution is it's own object, which can be stored and used later if desired."
   ]
  },
  {
   "cell_type": "code",
   "execution_count": 27,
   "metadata": {},
   "outputs": [
    {
     "name": "stdout",
     "output_type": "stream",
     "text": [
      "<type 'pomegranate.distributions.JointProbabilityTable.JointProbabilityTable'>\n"
     ]
    }
   ],
   "source": [
    "a = monty.joint()\n",
    "print type(a)"
   ]
  },
  {
   "cell_type": "code",
   "execution_count": 28,
   "metadata": {},
   "outputs": [
    {
     "data": {
      "text/plain": [
       "-inf"
      ]
     },
     "execution_count": 28,
     "metadata": {},
     "output_type": "execute_result"
    }
   ],
   "source": [
    "a.log_probability( ('C', 'A', 'A') )"
   ]
  },
  {
   "cell_type": "markdown",
   "metadata": {},
   "source": [
    "Both conditional and joint distributions can be trained in the same manner as the other distributions."
   ]
  },
  {
   "cell_type": "code",
   "execution_count": 29,
   "metadata": {},
   "outputs": [
    {
     "name": "stdout",
     "output_type": "stream",
     "text": [
      "A\tA\tA\t0.0\n",
      "A\tA\tB\t0.0\n",
      "A\tA\tC\t0.0\n",
      "A\tB\tA\tinf\n",
      "A\tB\tB\t0.0\n",
      "A\tB\tC\tinf\n",
      "A\tC\tA\t0.0\n",
      "A\tC\tB\t0.0\n",
      "A\tC\tC\t0.0\n",
      "B\tA\tA\t0.0\n",
      "B\tA\tB\t0.0\n",
      "B\tA\tC\t0.0\n",
      "B\tB\tA\tinf\n",
      "B\tB\tB\t0.0\n",
      "B\tB\tC\t0.0\n",
      "B\tC\tA\t0.0\n",
      "B\tC\tB\t0.0\n",
      "B\tC\tC\t0.0\n",
      "C\tA\tA\t0.0\n",
      "C\tA\tB\t0.0\n",
      "C\tA\tC\t0.0\n",
      "C\tB\tA\t0.0\n",
      "C\tB\tB\t0.0\n",
      "C\tB\tC\t0.0\n",
      "C\tC\tA\tinf\n",
      "C\tC\tB\tinf\n",
      "C\tC\tC\t0.0\n"
     ]
    }
   ],
   "source": [
    "data = [['A', 'B', 'C'],\n",
    "        ['B', 'B', 'A'],\n",
    "        ['A', 'B', 'A'],\n",
    "        ['C', 'C', 'B'],\n",
    "        ['C', 'C', 'A'],\n",
    "        ['C', 'C', 'A']]\n",
    "\n",
    "a.fit(data)\n",
    "print a"
   ]
  },
  {
   "cell_type": "code",
   "execution_count": 30,
   "metadata": {},
   "outputs": [
    {
     "name": "stdout",
     "output_type": "stream",
     "text": [
      "A\tA\tA\t0.333333333333\n",
      "A\tA\tB\t0.333333333333\n",
      "A\tA\tC\t0.333333333333\n",
      "A\tB\tA\t0.5\n",
      "A\tB\tB\t0.0\n",
      "A\tB\tC\t0.5\n",
      "A\tC\tA\t0.333333333333\n",
      "A\tC\tB\t0.333333333333\n",
      "A\tC\tC\t0.333333333333\n",
      "B\tA\tA\t0.333333333333\n",
      "B\tA\tB\t0.333333333333\n",
      "B\tA\tC\t0.333333333333\n",
      "B\tB\tA\t1.0\n",
      "B\tB\tB\t0.0\n",
      "B\tB\tC\t0.0\n",
      "B\tC\tA\t0.333333333333\n",
      "B\tC\tB\t0.333333333333\n",
      "B\tC\tC\t0.333333333333\n",
      "C\tA\tA\t0.333333333333\n",
      "C\tA\tB\t0.333333333333\n",
      "C\tA\tC\t0.333333333333\n",
      "C\tB\tA\t0.333333333333\n",
      "C\tB\tB\t0.333333333333\n",
      "C\tB\tC\t0.333333333333\n",
      "C\tC\tA\t0.666666666667\n",
      "C\tC\tB\t0.333333333333\n",
      "C\tC\tC\t0.0\n"
     ]
    }
   ],
   "source": [
    "monty.fit(data)\n",
    "print monty"
   ]
  },
  {
   "cell_type": "markdown",
   "metadata": {},
   "source": [
    "In the cases of conditional probability tables, if parent tuples haven't been seen before, it assumes a uniform distribution over them, explaining the prevalence of 0.3333... entries."
   ]
  },
  {
   "cell_type": "markdown",
   "metadata": {
    "collapsed": true
   },
   "source": [
    "## Serialization"
   ]
  },
  {
   "cell_type": "markdown",
   "metadata": {},
   "source": [
    "Distributions (except tables right now) support serialization to JSONs using `to_json()` and `Distribution.from_json( json )`. We can see a few examples easily."
   ]
  },
  {
   "cell_type": "code",
   "execution_count": 31,
   "metadata": {},
   "outputs": [
    {
     "name": "stdout",
     "output_type": "stream",
     "text": [
      "{\n",
      "    \"frozen\" :false,\n",
      "    \"class\" :\"Distribution\",\n",
      "    \"parameters\" :[\n",
      "        5.0,\n",
      "        2.0\n",
      "    ],\n",
      "    \"name\" :\"NormalDistribution\"\n",
      "}\n"
     ]
    }
   ],
   "source": [
    "print NormalDistribution( 5, 2 ).to_json()"
   ]
  },
  {
   "cell_type": "code",
   "execution_count": 32,
   "metadata": {},
   "outputs": [
    {
     "name": "stdout",
     "output_type": "stream",
     "text": [
      "{\n",
      "    \"frozen\" :false,\n",
      "    \"dtype\" :\"str\",\n",
      "    \"class\" :\"Distribution\",\n",
      "    \"parameters\" :[\n",
      "        {\n",
      "            \"A\" :0.5,\n",
      "            \"C\" :0.25,\n",
      "            \"B\" :0.25\n",
      "        }\n",
      "    ],\n",
      "    \"name\" :\"DiscreteDistribution\"\n",
      "}\n"
     ]
    }
   ],
   "source": [
    "print DiscreteDistribution( {'A': 0.5, 'B': 0.25, 'C': 0.25} ).to_json()"
   ]
  },
  {
   "cell_type": "code",
   "execution_count": 33,
   "metadata": {},
   "outputs": [
    {
     "name": "stdout",
     "output_type": "stream",
     "text": [
      "{\n",
      "    \"frozen\" :false,\n",
      "    \"class\" :\"Distribution\",\n",
      "    \"parameters\" :[\n",
      "        5.0,\n",
      "        2.0\n",
      "    ],\n",
      "    \"name\" :\"GammaDistribution\"\n",
      "}\n"
     ]
    }
   ],
   "source": [
    "print Distribution.from_json( GammaDistribution( 5, 2 ).to_json() )"
   ]
  },
  {
   "cell_type": "code",
   "execution_count": 34,
   "metadata": {},
   "outputs": [
    {
     "name": "stdout",
     "output_type": "stream",
     "text": [
      "{\n",
      "    \"frozen\" :false,\n",
      "    \"class\" :\"Distribution\",\n",
      "    \"parameters\" :[\n",
      "        [\n",
      "            5.0,\n",
      "            6.0,\n",
      "            7.0,\n",
      "            3.0,\n",
      "            5.0,\n",
      "            7.0,\n",
      "            3.0,\n",
      "            3.0,\n",
      "            5.0,\n",
      "            2.0\n",
      "        ],\n",
      "        1.0,\n",
      "        [\n",
      "            0.1,\n",
      "            0.1,\n",
      "            0.1,\n",
      "            0.1,\n",
      "            0.1,\n",
      "            0.1,\n",
      "            0.1,\n",
      "            0.1,\n",
      "            0.1,\n",
      "            0.1\n",
      "        ]\n",
      "    ],\n",
      "    \"name\" :\"GaussianKernelDensity\"\n",
      "}\n"
     ]
    }
   ],
   "source": [
    "print Distribution.from_json( GaussianKernelDensity( [5,6,7,3,5,7,3,3,5,2] ).to_json() )"
   ]
  }
 ],
 "metadata": {
  "kernelspec": {
   "display_name": "Python 2",
   "language": "python",
   "name": "python2"
  },
  "language_info": {
   "codemirror_mode": {
    "name": "ipython",
    "version": 2
   },
   "file_extension": ".py",
   "mimetype": "text/x-python",
   "name": "python",
   "nbconvert_exporter": "python",
   "pygments_lexer": "ipython2",
   "version": "2.7.14"
  }
 },
 "nbformat": 4,
 "nbformat_minor": 1
}
