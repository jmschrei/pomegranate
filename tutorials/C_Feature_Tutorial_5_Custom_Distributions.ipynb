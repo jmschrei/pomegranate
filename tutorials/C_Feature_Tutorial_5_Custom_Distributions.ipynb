{
 "cells": [
  {
   "cell_type": "markdown",
   "metadata": {},
   "source": [
    "## Custom Distributions\n",
    "\n",
    "author: Jacob Schreiber <br>\n",
    "contact: jmschreiber91@gmail.com\n",
    "\n",
    "One of the main implementation details of pomegranate is that it decouples the mathematics behind the various models from the likelihood functions that are used in them. For example, the class probabilities calculated for mixture models and Bayes' classifiers involve multiplying a likelihood function and a prior probability. Typically, this likelihood function is assumed to be Gaussian, but there is no algorithmic requirement that it be any specific probability distribution. This is why pomegranate is much more flexible than other packages in terms of the types of distributions that various models can be built using.\n",
    "\n",
    "However, a major limitation in pomegranate for a long time was that while users were free to use any of the built in distributions to build models, they could not define their own in Python. The reason behind this is the Cython backend, which essentially required that the distributions be implemented in Cython.\n",
    "\n",
    "Fortunatly, a recent patch has allowed users to define their own custom distributions. This means that users can define their own distributions, entirely in Python, and plug them in to existing models without modification. This tutorial will show you how to do that."
   ]
  },
  {
   "cell_type": "code",
   "execution_count": 1,
   "metadata": {},
   "outputs": [
    {
     "name": "stdout",
     "output_type": "stream",
     "text": [
      "Fri Jan 10 2020 \n",
      "\n",
      "numpy 1.18.1\n",
      "scipy 1.4.1\n",
      "pomegranate 0.12.0\n",
      "\n",
      "compiler   : Clang 10.0.0 (clang-1000.11.45.5)\n",
      "system     : Darwin\n",
      "release    : 17.7.0\n",
      "machine    : x86_64\n",
      "processor  : i386\n",
      "CPU cores  : 4\n",
      "interpreter: 64bit\n"
     ]
    }
   ],
   "source": [
    "%matplotlib inline\n",
    "import time\n",
    "import pandas\n",
    "import random\n",
    "import numpy\n",
    "import matplotlib.pyplot as plt\n",
    "import seaborn; seaborn.set_style('whitegrid')\n",
    "import itertools\n",
    "\n",
    "from pomegranate import *\n",
    "\n",
    "random.seed(0)\n",
    "numpy.random.seed(0)\n",
    "numpy.set_printoptions(suppress=True)\n",
    "\n",
    "%load_ext watermark\n",
    "%watermark -m -n -p numpy,scipy,pomegranate"
   ]
  },
  {
   "cell_type": "markdown",
   "metadata": {},
   "source": [
    "### Building a new normal distribution\n",
    "\n",
    "Let's start off by building a custom normal distribution. Our goal is to build a pure Python object that has the exact same functionality as the normal distribution that is currently implemented, to demonstrate that the internals are all working correctly."
   ]
  },
  {
   "cell_type": "code",
   "execution_count": 2,
   "metadata": {},
   "outputs": [],
   "source": [
    "import scipy.stats\n",
    "\n",
    "class NormalDistribution2():\n",
    "    def __init__(self, mu, std):\n",
    "        self.mu = mu\n",
    "        self.std = std\n",
    "        self.parameters = (self.mu, self.std)\n",
    "        self.d = 1\n",
    "        self.summaries = numpy.zeros(3)\n",
    "\n",
    "    def log_probability(self, X):\n",
    "        return scipy.stats.norm.logpdf(X, self.mu, self.std)\n",
    "\n",
    "    def summarize(self, X, w=None):\n",
    "        if w is None:\n",
    "            w = numpy.ones(X.shape[0])\n",
    "\n",
    "        X = X.reshape(X.shape[0])\n",
    "        self.summaries[0] += w.sum()\n",
    "        self.summaries[1] += X.dot(w)\n",
    "        self.summaries[2] += (X ** 2.).dot(w)\n",
    "\n",
    "    def from_summaries(self, inertia=0.0):\n",
    "        self.mu = self.summaries[1] / self.summaries[0]\n",
    "        self.std = self.summaries[2] / self.summaries[0] - self.summaries[1] ** 2 / (self.summaries[0] ** 2)\n",
    "        self.std = numpy.sqrt(self.std)\n",
    "        self.parameters = (self.mu, self.std)\n",
    "        self.clear_summaries()\n",
    "\n",
    "    def clear_summaries(self, inertia=0.0):\n",
    "        self.summaries = numpy.zeros(3)\n",
    "\n",
    "    @classmethod\n",
    "    def from_samples(cls, X, weights=None):\n",
    "        d = NormalDistribution2(0, 0)\n",
    "        d.summarize(X, weights)\n",
    "        d.from_summaries()\n",
    "        return d\n",
    "\n",
    "    @classmethod\n",
    "    def blank(cls):\n",
    "        return NormalDistribution2(0, 0)"
   ]
  },
  {
   "cell_type": "markdown",
   "metadata": {},
   "source": [
    "The custom objects have a few requirements.\n",
    "\n",
    "(1) An attribute, `d`, that stores the number of dimensions represented by the distribution. For univariate distributions like this normal distribution, this should just be 1.\n",
    "\n",
    "\n",
    "(2) A method, `log_probability(X)`, that takes in a vector of shape (n_samples,) or a matrix of shape (n_samples, d) if multivariate, and returns the log probability of each sample. In this case we're just using the built-in scipy function for calculating log probabilities under a normal distribution for simplicity.\n",
    "\n",
    "(3) A method, `summarize(X, weights=None)`, that takes in a vector of shape (n_samples,) or a matrix of shape (n_samples, d) if multivariate, calculates the sufficient statistics of that batch, and adds them to the growing sufficient statistics. In the case of a normal distribution, our sufficient statistics are the sum of the weights, the sum of the weighted points, and the sum of the weighted points squared. \n",
    "\n",
    "(4) A method, `from_summaries(inertia=0.0)`, that takes uses the stored sufficient statistics in order to update the model parameters. This should also clear the stored sufficient statistics for the next iteration of training.\n",
    "\n",
    "(5) A method, `clear_summaries()`, that clears the stored sufficient statistics. Here, all we're doing is resetting the three stored summaries to 0.\n",
    "\n",
    "(6) A class method, `from_samples(X, weights=None)` that rreturns a distribution that has been fit to the data. Generally this will initialize a dummy distribution and then overwrite the initial parameters using those derived from the data.\n",
    "\n",
    "(7) A class method, `blank()` or `blank(d)` if multivariate, that creates a dummy distribution with the appropriate number of parameters. Here we return a distribution with a mean and a variance of 0. These dummies generally aren't meant to be used.\n",
    "\n",
    "Let's test this against the built in distributions!"
   ]
  },
  {
   "cell_type": "code",
   "execution_count": 3,
   "metadata": {},
   "outputs": [
    {
     "data": {
      "text/plain": [
       "(-77.23179709134088, -77.23179709134129)"
      ]
     },
     "execution_count": 3,
     "metadata": {},
     "output_type": "execute_result"
    }
   ],
   "source": [
    "NormalDistribution(2.532, 8.211).log_probability(102.563), NormalDistribution2(2.532, 8.211).log_probability(102.563)"
   ]
  },
  {
   "cell_type": "markdown",
   "metadata": {},
   "source": [
    "Looks good so far. Looks like there might be a small difference at very smalll precisions."
   ]
  },
  {
   "cell_type": "code",
   "execution_count": 4,
   "metadata": {},
   "outputs": [
    {
     "name": "stdout",
     "output_type": "stream",
     "text": [
      "[0.8729100873003006, 0.5756744412108401]\n",
      "(0.8729100873002954, 0.5756744412108428)\n"
     ]
    }
   ],
   "source": [
    "X = numpy.random.normal(0.872, 0.57721, size=100000)\n",
    "\n",
    "print(NormalDistribution.from_samples(X).parameters)\n",
    "print(NormalDistribution2.from_samples(X).parameters)"
   ]
  },
  {
   "cell_type": "markdown",
   "metadata": {},
   "source": [
    "Great! Now let's try putting this into a more complex model."
   ]
  },
  {
   "cell_type": "code",
   "execution_count": 5,
   "metadata": {},
   "outputs": [
    {
     "name": "stdout",
     "output_type": "stream",
     "text": [
      "[1] Improvement: 27.262773607714053\tTime (s): 0.000407\n",
      "[2] Improvement: 8.072984397975915\tTime (s): 0.0006638\n",
      "[3] Improvement: 3.6296182644623514\tTime (s): 0.0005722\n",
      "[4] Improvement: 1.9879748588534767\tTime (s): 0.0005398\n",
      "[5] Improvement: 1.2248102842011122\tTime (s): 0.0005431\n",
      "Total Improvement: 42.17816141320691\n",
      "Total Time (s): 0.0040\n"
     ]
    }
   ],
   "source": [
    "X = numpy.random.normal(0, 1, size=(1000, 1))\n",
    "X[::2] += 1\n",
    "\n",
    "model1 = GeneralMixtureModel.from_samples(NormalDistribution, 2, X, max_iterations=5, init='first-k', verbose=True)"
   ]
  },
  {
   "cell_type": "code",
   "execution_count": 6,
   "metadata": {},
   "outputs": [
    {
     "name": "stdout",
     "output_type": "stream",
     "text": [
      "[1] Improvement: 27.26277360771337\tTime (s): 0.002283\n",
      "[2] Improvement: 8.072984397971823\tTime (s): 0.002548\n",
      "[3] Improvement: 3.6296182644625787\tTime (s): 0.002187\n",
      "[4] Improvement: 1.9879748588559778\tTime (s): 0.002138\n",
      "[5] Improvement: 1.2248102842013395\tTime (s): 0.002576\n",
      "Total Improvement: 42.17816141320509\n",
      "Total Time (s): 0.0160\n"
     ]
    }
   ],
   "source": [
    "model2 = GeneralMixtureModel.from_samples(NormalDistribution2, 2, X, max_iterations=5, init='first-k', verbose=True)"
   ]
  },
  {
   "cell_type": "code",
   "execution_count": 7,
   "metadata": {},
   "outputs": [
    {
     "data": {
      "text/plain": [
       "(-1528.71286897159, -1528.712868971989)"
      ]
     },
     "execution_count": 7,
     "metadata": {},
     "output_type": "execute_result"
    }
   ],
   "source": [
    "model1.log_probability(X).sum(), model2.log_probability(X).sum()"
   ]
  },
  {
   "cell_type": "markdown",
   "metadata": {},
   "source": [
    "Great! It looks like both for fitting a mixture model and performing inference that our new Python distribution is identical to the built-in one. Now, how much slower is it to use the Python object versus the Cython one?"
   ]
  },
  {
   "cell_type": "code",
   "execution_count": 8,
   "metadata": {},
   "outputs": [
    {
     "name": "stdout",
     "output_type": "stream",
     "text": [
      "1.64 s ± 102 ms per loop (mean ± std. dev. of 7 runs, 1 loop each)\n",
      "12.1 s ± 737 ms per loop (mean ± std. dev. of 7 runs, 1 loop each)\n"
     ]
    }
   ],
   "source": [
    "X = numpy.random.normal(0, 1, size=(300000, 1))\n",
    "X[::2] += 1\n",
    "\n",
    "%timeit GeneralMixtureModel.from_samples(NormalDistribution, 2, X, max_iterations=100, init='first-k')\n",
    "%timeit GeneralMixtureModel.from_samples(NormalDistribution2, 2, X, max_iterations=100, init='first-k')"
   ]
  },
  {
   "cell_type": "markdown",
   "metadata": {},
   "source": [
    "It looks like it can be a fair bit slower. Another drawback of using a Python distibution is that it may be less efficient to do multi-threaded parallelism, because the Python object requires the GIL. However, many numpy operations will drop the GIL and so can actually be used with multi-threading, but that isn't guaranteed."
   ]
  },
  {
   "cell_type": "code",
   "execution_count": 9,
   "metadata": {},
   "outputs": [
    {
     "name": "stdout",
     "output_type": "stream",
     "text": [
      "1.6 s ± 7.76 ms per loop (mean ± std. dev. of 7 runs, 1 loop each)\n",
      "12 s ± 720 ms per loop (mean ± std. dev. of 7 runs, 1 loop each)\n"
     ]
    }
   ],
   "source": [
    "%timeit GeneralMixtureModel.from_samples(NormalDistribution, 2, X, max_iterations=100, init='first-k', n_jobs=2)\n",
    "%timeit GeneralMixtureModel.from_samples(NormalDistribution2, 2, X, max_iterations=100, init='first-k', n_jobs=2)"
   ]
  },
  {
   "cell_type": "markdown",
   "metadata": {},
   "source": [
    "This distribution acts exactly like any other distribution. If we want to use a different distribution to model different features, we can use a mix of custom and built-in distrbutions with ease."
   ]
  },
  {
   "cell_type": "code",
   "execution_count": 10,
   "metadata": {},
   "outputs": [
    {
     "name": "stdout",
     "output_type": "stream",
     "text": [
      "[1] Improvement: 23.311879238614438\tTime (s): 0.1243\n",
      "[2] Improvement: 6.699529281400373\tTime (s): 0.1171\n",
      "[3] Improvement: 3.0210554091190716\tTime (s): 0.1278\n",
      "[4] Improvement: 1.7027921401574986\tTime (s): 0.1284\n",
      "[5] Improvement: 1.0990971926314614\tTime (s): 0.128\n",
      "[6] Improvement: 0.7793100178469103\tTime (s): 0.1179\n",
      "[7] Improvement: 0.5912596644188852\tTime (s): 0.1501\n",
      "[8] Improvement: 0.468752338889999\tTime (s): 0.1177\n",
      "[9] Improvement: 0.3796901625521514\tTime (s): 0.1326\n",
      "[10] Improvement: 0.30861288860546665\tTime (s): 0.1318\n",
      "[11] Improvement: 0.24885399990603219\tTime (s): 0.1276\n",
      "[12] Improvement: 0.19804543157511034\tTime (s): 0.1194\n",
      "[13] Improvement: 0.15545944917175802\tTime (s): 0.1291\n",
      "[14] Improvement: 0.12065643278288007\tTime (s): 0.1178\n",
      "[15] Improvement: 0.09298774676676658\tTime (s): 0.1293\n",
      "Total Improvement: 39.1779813944388\n",
      "Total Time (s): 2.0407\n"
     ]
    }
   ],
   "source": [
    "X = numpy.random.normal(0, 1, size=(500, 3))\n",
    "X[::2] += 1\n",
    "X[:,1] = numpy.abs(X[:,1])\n",
    "\n",
    "distributions = [NormalDistribution, ExponentialDistribution, NormalDistribution2]\n",
    "model = GeneralMixtureModel.from_samples(distributions, 2, X, verbose=True)"
   ]
  },
  {
   "cell_type": "markdown",
   "metadata": {},
   "source": [
    "### Building a new distribution, the Student T Distribution\n",
    "\n",
    "There have been a few requests to add in the Student T distribution to pomegranate. This is, essentially, a version of the normal distribution that has a heavy tail to reduce the effect of outliers on the model. Now, instead of waiting for me to find time to add it, you can add it in yourself! Here is an example of what a custom student T distribution might look like."
   ]
  },
  {
   "cell_type": "code",
   "execution_count": 11,
   "metadata": {},
   "outputs": [],
   "source": [
    "class StudentTDistribution():\n",
    "    def __init__(self, mu, std, df=1.0):\n",
    "        self.mu = mu\n",
    "        self.std = std\n",
    "        self.df = df\n",
    "        self.parameters = (self.mu, self.std)\n",
    "        self.d = 1\n",
    "        self.summaries = numpy.zeros(3)\n",
    "\n",
    "    def probability(self, X):\n",
    "        return numpy.exp(self.log_probability(X))\n",
    "        \n",
    "    def log_probability(self, X):\n",
    "        return scipy.stats.t.logpdf(X, self.df, self.mu, self.std)\n",
    "\n",
    "    def summarize(self, X, w=None):\n",
    "        if w is None:\n",
    "            w = numpy.ones(X.shape[0])\n",
    "\n",
    "        X = X.reshape(X.shape[0])\n",
    "        self.summaries[0] += w.sum()\n",
    "        self.summaries[1] += X.dot(w)\n",
    "        self.summaries[2] += (X ** 2.).dot(w)\n",
    "\n",
    "    def from_summaries(self, inertia=0.0):\n",
    "        self.mu = self.summaries[1] / self.summaries[0]\n",
    "        self.std = self.summaries[2] / self.summaries[0] - self.summaries[1] ** 2 / (self.summaries[0] ** 2)\n",
    "        self.std = numpy.sqrt(self.std)\n",
    "        self.parameters = (self.mu, self.std)\n",
    "        self.clear_summaries()\n",
    "\n",
    "    def clear_summaries(self, inertia=0.0):\n",
    "        self.summaries = numpy.zeros(3)\n",
    "\n",
    "    @classmethod\n",
    "    def from_samples(cls, X, weights=None, df=1):\n",
    "        d = StudentTDistribution(0, 0, df)\n",
    "        d.summarize(X, weights)\n",
    "        d.from_summaries()\n",
    "        return d\n",
    "\n",
    "    @classmethod\n",
    "    def blank(cls):\n",
    "        return StudentTDistribution(0, 0)"
   ]
  },
  {
   "cell_type": "markdown",
   "metadata": {},
   "source": [
    "The primary difference between the Student T distribution and the normal distribution is the degree of freedom parameter that has to be set in advance---it is not meant to be learned from the data. The higher this parameter, the more like a normal distribution it is."
   ]
  },
  {
   "cell_type": "code",
   "execution_count": 12,
   "metadata": {},
   "outputs": [
    {
     "data": {
      "image/png": "[encoded data removed]",
      "text/plain": [
       "<Figure size 504x288 with 1 Axes>"
      ]
     },
     "metadata": {},
     "output_type": "display_data"
    }
   ],
   "source": [
    "dn = NormalDistribution(0, 1)\n",
    "dt1 = StudentTDistribution(0, 1, 1)\n",
    "dt3 = StudentTDistribution(0, 1, 3)\n",
    "dt8 = StudentTDistribution(0, 1, 8)\n",
    "\n",
    "x = numpy.arange(-6, 6, 0.1)\n",
    "\n",
    "plt.figure(figsize=(7, 4))\n",
    "plt.plot(x, dn.probability(x), label=\"Normal\")\n",
    "plt.plot(x, dt1.probability(x), label=\"Student T, df=1\")\n",
    "plt.plot(x, dt3.probability(x), label=\"Student T, df=3\")\n",
    "plt.plot(x, dt8.probability(x), label=\"Student T, df=8\")\n",
    "plt.ylabel(\"Probability\", fontsize=12)\n",
    "plt.legend(fontsize=12)\n",
    "plt.show()"
   ]
  },
  {
   "cell_type": "markdown",
   "metadata": {},
   "source": [
    "Let's stick it in a mixture model now and see what the normal and the Student T versions look like."
   ]
  },
  {
   "cell_type": "code",
   "execution_count": 13,
   "metadata": {},
   "outputs": [
    {
     "data": {
      "image/png": "[encoded data removed]",
      "text/plain": [
       "<Figure size 504x288 with 1 Axes>"
      ]
     },
     "metadata": {},
     "output_type": "display_data"
    }
   ],
   "source": [
    "X = numpy.random.normal(-2, 1, size=(1000, 1))\n",
    "X[::2] += 4\n",
    "\n",
    "modeln = GeneralMixtureModel.from_samples(NormalDistribution, 2, X)\n",
    "modelt = GeneralMixtureModel.from_samples(StudentTDistribution, 2, X)\n",
    "\n",
    "x = numpy.arange(-15, 15, 0.1)\n",
    "\n",
    "plt.figure(figsize=(7, 4))\n",
    "plt.plot(x, modeln.probability(x), label=\"Normal Mixture\")\n",
    "plt.plot(x, modelt.probability(x), label=\"Student T Mixture\")\n",
    "plt.ylabel(\"Probability\", fontsize=12)\n",
    "plt.legend(fontsize=12)\n",
    "plt.show()"
   ]
  },
  {
   "cell_type": "markdown",
   "metadata": {
    "collapsed": true
   },
   "source": [
    "The results look reasonable. The Student T distributions have a smaller valley separating the peaks because they have heavier tails. Additionally, the peaks are closer together for the Student T distribution because the heavier tails assign more credit from points in one cluster to the distribution modeling the other cluster. This pulls the centers together slightly."
   ]
  },
  {
   "cell_type": "markdown",
   "metadata": {},
   "source": [
    "### Block Distributions\n",
    "\n",
    "Currently, pomegranate supports distributions where the features are either independent, through `IndependentComponentsDistribution`, or have a Gaussian covariance structure, as in `MultivariateGaussianDistribution`. However, sometimes one would want to model their features in blocks, where the covariance amongst features in the block are accounted for. When all your variables are Gaussian, this is simply having an enforced block structure on your covariance matrix. In the more general case, this can take the form of a Bayesian network. \n",
    "\n",
    "This new custom support allows us to do that easily. "
   ]
  },
  {
   "cell_type": "code",
   "execution_count": 14,
   "metadata": {},
   "outputs": [],
   "source": [
    "class BlockGaussianDistribution():\n",
    "    def __init__(self, distributions):\n",
    "        self.distributions = distributions\n",
    "        self.d = sum([d.d for d in distributions])\n",
    "        \n",
    "    def log_probability(self, X):\n",
    "        i, log_probability = 0, numpy.zeros(X.shape[0])\n",
    "        for distribution in self.distributions:\n",
    "            log_probability += distribution.log_probability(X[:, i:i+distribution.d].copy())\n",
    "            i += distribution.d\n",
    "        return log_probability\n",
    "    \n",
    "    def summarize(self, X, w=None):\n",
    "        i = 0\n",
    "        for distribution in self.distributions:\n",
    "            distribution.summarize(X[:, i:i+distribution.d].copy(), w)\n",
    "            i += distribution.d\n",
    "    \n",
    "    def from_summaries(self, inertia=0.0):\n",
    "        for distribution in self.distributions:\n",
    "            distribution.from_summaries(inertia)\n",
    "\n",
    "    @classmethod\n",
    "    def from_samples(cls, X, weights=None, ds=[]):\n",
    "        distributions = [MultivariateGaussianDistribution.blank(d) for d in ds]\n",
    "        d = BlockGaussianDistribution(distributions)\n",
    "        d.summarize(X, weights)\n",
    "        d.from_summaries()\n",
    "        return d\n",
    "\n",
    "    @classmethod\n",
    "    def blank(cls, ds):\n",
    "        distributions = [MultivariateGaussianDistribution.blank(d) for d in ds]\n",
    "        return BlockGaussianDistribution(distributions)"
   ]
  },
  {
   "cell_type": "markdown",
   "metadata": {},
   "source": [
    "In the code above, `BlockGaussianDistribution` creates multiple `MultivariateGaussianDistribution` objects, each modeling a different set of features. The probability of an example is then the product of the probability of each set of features under their respective distribution.\n",
    "\n",
    "To evaluate this, let's look at the diabetes data set. This is normally a regression task, so we'll have to binarize the response using the median value. Additionally, the data has been scaled for us already, so we'll have to go ahead an unscale it for the purposes of our demonstration."
   ]
  },
  {
   "cell_type": "code",
   "execution_count": 15,
   "metadata": {},
   "outputs": [],
   "source": [
    "from sklearn.datasets import load_diabetes\n",
    "from sklearn.model_selection import train_test_split\n",
    "\n",
    "from pomegranate import LogNormalDistribution, BernoulliDistribution, NormalDistribution\n",
    "\n",
    "data = load_diabetes()\n",
    "X, y = data.data, data.target\n",
    "X[:,1] = (X[:,1] - X[:,1].min()) / (X[:,1].max() - X[:,1].min())\n",
    "X[:,0] -= X[:,0].min() - 0.001\n",
    "X[:,2] -= X[:,2].min() - 0.001\n",
    "X[:,3] -= X[:,3].min() - 0.001\n",
    "y = y > numpy.median(y)\n",
    "\n",
    "X_train, X_test, y_train, y_test = train_test_split(X, y, test_size=0.2, random_state=1)"
   ]
  },
  {
   "cell_type": "markdown",
   "metadata": {},
   "source": [
    "The first four variables correspond to age, sex, BMI, and average blood pressure. The remaining six features are different blood serum measurements. In this example, let's use univariate distributions to model the first four variables, and a multivariate Gaussian with a full covariance matrix to model the last six.\n",
    "\n",
    "To get a sense for what distributions might be a good fit for the first four features, we can visualize the training data."
   ]
  },
  {
   "cell_type": "code",
   "execution_count": 16,
   "metadata": {},
   "outputs": [
    {
     "name": "stderr",
     "output_type": "stream",
     "text": [
      "/Users/ksachdeva/Desktop/Dev/myoss/pomegranate/env/lib/python3.7/site-packages/ipykernel_launcher.py:11: MatplotlibDeprecationWarning: \n",
      "The 'normed' kwarg was deprecated in Matplotlib 2.1 and will be removed in 3.1. Use 'density' instead.\n",
      "  # This is added back by InteractiveShellApp.init_path()\n"
     ]
    },
    {
     "data": {
      "image/png": "[encoded data removed]",
      "text/plain": [
       "<Figure size 1008x144 with 4 Axes>"
      ]
     },
     "metadata": {},
     "output_type": "display_data"
    }
   ],
   "source": [
    "import matplotlib.pyplot as plt\n",
    "\n",
    "names = 'Age', 'Sex', 'BMI', 'Average Blood Pressure'\n",
    "plt.figure(figsize=(14, 2))\n",
    "\n",
    "for i in range(4):\n",
    "    plt.subplot(1, 4, i+1)\n",
    "    \n",
    "    x = numpy.arange(0.01, 0.3 if i != 1 else 1, 0.01)\n",
    "    \n",
    "    plt.hist(X_train[:,i], bins=10, normed=True)\n",
    "    plt.plot(x, LogNormalDistribution.from_samples(X_train[:,i]).probability(x), label=\"LogNormal\")\n",
    "    plt.plot(x, NormalDistribution.from_samples(X_train[:,i]).probability(x), label=\"Normal\")\n",
    "    plt.title(names[i], fontsize=12)\n",
    "    \n",
    "plt.legend(loc=(1.05, 0.4))\n",
    "plt.show()"
   ]
  },
  {
   "cell_type": "markdown",
   "metadata": {},
   "source": [
    "It looks like age and BMI may be better modeled by a normal distribution than a log normal distribution, but that average blood pressure is better modeled with a log normal distribution. Due to the binary nature of sex in this data set, a Bernoulli distribution seems like the right choice.\n",
    "\n",
    "Let's now train a Bayes' classifier using our custom block distribution! To evaluate its performance, let's compare against a model that simply uses a single multivariate Gaussian distribution per class."
   ]
  },
  {
   "cell_type": "code",
   "execution_count": 17,
   "metadata": {},
   "outputs": [
    {
     "data": {
      "text/plain": [
       "(0.7303370786516854, 0.6966292134831461)"
      ]
     },
     "execution_count": 17,
     "metadata": {},
     "output_type": "execute_result"
    }
   ],
   "source": [
    "ds = [BlockGaussianDistribution([NormalDistribution.blank(),\n",
    "                                 BernoulliDistribution.blank(),\n",
    "                                 NormalDistribution.blank(),\n",
    "                                 LogNormalDistribution.blank(),\n",
    "                                 MultivariateGaussianDistribution.blank(6)]) for j in range(2)]\n",
    "model = BayesClassifier(ds)\n",
    "model.fit(X_train, y_train)\n",
    "\n",
    "model2 = BayesClassifier.from_samples(MultivariateGaussianDistribution, X_train, y_train)\n",
    "\n",
    "model.score(X_test, y_test), model2.score(X_test, y_test)"
   ]
  },
  {
   "cell_type": "markdown",
   "metadata": {},
   "source": [
    "It looks like the custom distribution can outperform the simpler, full covariance Gaussian, in this setting."
   ]
  }
 ],
 "metadata": {
  "kernelspec": {
   "display_name": "Python 3",
   "language": "python",
   "name": "python3"
  },
  "language_info": {
   "codemirror_mode": {
    "name": "ipython",
    "version": 3
   },
   "file_extension": ".py",
   "mimetype": "text/x-python",
   "name": "python",
   "nbconvert_exporter": "python",
   "pygments_lexer": "ipython3",
   "version": "3.7.4"
  },
  "toc": {
   "base_numbering": 1,
   "nav_menu": {},
   "number_sections": true,
   "sideBar": true,
   "skip_h1_title": false,
   "title_cell": "Table of Contents",
   "title_sidebar": "Contents",
   "toc_cell": false,
   "toc_position": {},
   "toc_section_display": true,
   "toc_window_display": false
  }
 },
 "nbformat": 4,
 "nbformat_minor": 2
}
