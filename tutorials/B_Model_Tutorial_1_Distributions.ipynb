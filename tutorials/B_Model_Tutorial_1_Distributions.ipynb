{
 "cells": [
  {
   "cell_type": "markdown",
   "metadata": {},
   "source": [
    "## Probability Distributions"
   ]
  },
  {
   "cell_type": "markdown",
   "metadata": {},
   "source": [
    "author: Jacob Schreiber <br>\n",
    "contact: jmschreiber91@gmail.com"
   ]
  },
  {
   "cell_type": "markdown",
   "metadata": {},
   "source": [
    "This tutorial will cover the various distributions that are implemented in pomegranate. These distributions can be used by themselves, or more typically as a part of a larger compositional model like a hidden Markov model. \n",
    "\n",
    "The distributions that are currently available:\n",
    "\n",
    "Univariate Distributions\n",
    "    1. BernoulliDistribution\n",
    "    2. BetaDistribution\n",
    "    3. DiscreteDistribution\n",
    "    4. ExponentialDistribution\n",
    "    5. GammaDistribution\n",
    "    6. LogNormalDistribution\n",
    "    7. NormalDistribution\n",
    "    8. PoissonDistribution\n",
    "    9. UniformDistribution\n",
    "  \n",
    "Univariate Kernel Densities\n",
    "    1. GaussianKernelDensity\n",
    "    2. UniformKernelDensity\n",
    "    3. TriangleKernelDensity\n",
    "  \n",
    "Multivariate Distributions\n",
    "    1. IndependentComponentsDistribution\n",
    "    2. Dirichlet Distribution\n",
    "    3. MultivariateGaussianDistribution\n",
    "    4. ConditionalProbabilityTable\n",
    "    5. JointProbabilityTable\n",
    "\n",
    "The following methods are supported by all distributions:\n",
    "\n",
    "```\n",
    "1. d.probability(X): Return the probability of a sample under the distribution or a vector of samples\n",
    "2. d.log_probability(X): Return the log probability of a sample under the distribution or a vector of samples\n",
    "3. d.fit(X, weights=None, inertia): Use MLE estimates to update the parameters of the distribution. Optional weight vector is accepted, or inertia that pushes parameters from where they currently are to the update that portion of the way.\n",
    "4. d.summarize(X, weights=None): Extract and update the stored sufficient statistics on a data set with optional weights, but don't update the parameters yet\n",
    "5. d.from_summaries(X, inertia=0.0): Use the stored sufficient statistics to do a parameter update\n",
    "6. d.sample(n=1): Generate a sample, or a vector of samples, from the distribution\n",
    "\n",
    "7. d.to_json(): Serialize the distribution to a string json\n",
    "8. Distribution.from_json(s): Load up a stored distriibution, either from a file if passed a filename that ends in '.json', or from the string passed in itself.\n",
    "\n",
    "9. d.copy(): Make a deep copy of the distribution\n",
    "10. d.freeze(): Freeze the distribution, making 'fit' and 'from_summaries' not change model parameters\n",
    "11. d.thaw(): Unfreeze the distribution so that it can be updated agin.\n",
    "```\n",
    "\n",
    "Univariate distributions also have a `plot(n=1000, **kwargs)` command, where you can plot a histogram of `n` randomly generated samples from the distribution, which will pass matplotlib keyword arguments to the `plt.hist` function. \n",
    "\n",
    "Lets look at a few examples."
   ]
  },
  {
   "cell_type": "code",
   "execution_count": 1,
   "metadata": {},
   "outputs": [
    {
     "name": "stdout",
     "output_type": "stream",
     "text": [
      "Fri Jan 10 2020 \n",
      "\n",
      "numpy 1.18.1\n",
      "scipy 1.4.1\n",
      "pomegranate 0.12.0\n",
      "\n",
      "compiler   : Clang 10.0.0 (clang-1000.11.45.5)\n",
      "system     : Darwin\n",
      "release    : 17.7.0\n",
      "machine    : x86_64\n",
      "processor  : i386\n",
      "CPU cores  : 4\n",
      "interpreter: 64bit\n"
     ]
    }
   ],
   "source": [
    "%matplotlib inline\n",
    "import matplotlib.pyplot as plt\n",
    "import seaborn; seaborn.set_style('whitegrid')\n",
    "import numpy\n",
    "\n",
    "from pomegranate import *\n",
    "\n",
    "numpy.random.seed(0)\n",
    "numpy.set_printoptions(suppress=True)\n",
    "\n",
    "%load_ext watermark\n",
    "%watermark -m -n -p numpy,scipy,pomegranate"
   ]
  },
  {
   "cell_type": "markdown",
   "metadata": {},
   "source": [
    "## The API\n",
    "\n",
    "### Initialization\n",
    "\n",
    "Let's first look at an example of using the methods in the API. First, we can create probability distributions by passing in the parameters if we know them."
   ]
  },
  {
   "cell_type": "code",
   "execution_count": 2,
   "metadata": {},
   "outputs": [],
   "source": [
    "d = NormalDistribution(5, 2)\n",
    "d2 = ExponentialDistribution(5)\n",
    "d3 = LogNormalDistribution(2, 0.4)"
   ]
  },
  {
   "cell_type": "markdown",
   "metadata": {},
   "source": [
    "If what you have is data and you'd like to fit your distribution to the data, rather than having parameters beforehand, you can use the `from_samples` class method to pass in the points and optional weights."
   ]
  },
  {
   "cell_type": "code",
   "execution_count": 3,
   "metadata": {},
   "outputs": [],
   "source": [
    "x = numpy.random.normal(10, 1, size=100)\n",
    "\n",
    "d4 = NormalDistribution.from_samples(x)\n",
    "d5 = ExponentialDistribution.from_samples(x)\n",
    "d6 = LogNormalDistribution.from_samples(x)"
   ]
  },
  {
   "cell_type": "markdown",
   "metadata": {},
   "source": [
    "If the data is univariate we can pass in a simple vector. If our data is multivariate and we'd like to fit a multivariate distribution we can pass in a matrix."
   ]
  },
  {
   "cell_type": "code",
   "execution_count": 4,
   "metadata": {},
   "outputs": [
    {
     "data": {
      "text/plain": [
       "(array([9.94235563, 9.96112858, 9.99785915]),\n",
       " array([[ 0.98534191, -0.01989778, -0.03028855],\n",
       "        [-0.01989778,  0.95247322,  0.0396411 ],\n",
       "        [-0.03028855,  0.0396411 ,  0.88819551]]))"
      ]
     },
     "execution_count": 4,
     "metadata": {},
     "output_type": "execute_result"
    }
   ],
   "source": [
    "x = numpy.random.normal(10, 1, size=(1000, 3))\n",
    "\n",
    "d7 = MultivariateGaussianDistribution.from_samples(x)\n",
    "d7.mu, d7.cov"
   ]
  },
  {
   "cell_type": "markdown",
   "metadata": {},
   "source": [
    "If we want to model our multivariate data with a different distribution on each feature, assuming that each feature is independent of each other, we can use an IndependentComponentsDistribution. This can be done either by passing in the distributions to the initialization, or as `from_samples`."
   ]
  },
  {
   "cell_type": "code",
   "execution_count": 5,
   "metadata": {},
   "outputs": [
    {
     "data": {
      "text/plain": [
       "{\n",
       "    \"class\" : \"Distribution\",\n",
       "    \"name\" : \"IndependentComponentsDistribution\",\n",
       "    \"parameters\" : [\n",
       "        [\n",
       "            {\n",
       "                \"class\" : \"Distribution\",\n",
       "                \"name\" : \"NormalDistribution\",\n",
       "                \"parameters\" : [\n",
       "                    10.05980801553448,\n",
       "                    1.0078822447166023\n",
       "                ],\n",
       "                \"frozen\" : false\n",
       "            },\n",
       "            {\n",
       "                \"class\" : \"Distribution\",\n",
       "                \"name\" : \"ExponentialDistribution\",\n",
       "                \"parameters\" : [\n",
       "                    0.09940547566677038\n",
       "                ],\n",
       "                \"frozen\" : false\n",
       "            },\n",
       "            {\n",
       "                \"class\" : \"Distribution\",\n",
       "                \"name\" : \"LogNormalDistribution\",\n",
       "                \"parameters\" : [\n",
       "                    2.303462554064328,\n",
       "                    0.1012880395101563\n",
       "                ],\n",
       "                \"frozen\" : false\n",
       "            }\n",
       "        ],\n",
       "        [\n",
       "            1.0,\n",
       "            1.0,\n",
       "            1.0\n",
       "        ]\n",
       "    ],\n",
       "    \"frozen\" : false\n",
       "}"
      ]
     },
     "execution_count": 5,
     "metadata": {},
     "output_type": "execute_result"
    }
   ],
   "source": [
    "d8 = IndependentComponentsDistribution([d4, d5, d6])\n",
    "d8"
   ]
  },
  {
   "cell_type": "markdown",
   "metadata": {},
   "source": [
    "If we wanted to learn a multivariate Gaussian distribution but with a forced diagonal covariance matrix we can model each feature are independent normal distributions, like such."
   ]
  },
  {
   "cell_type": "code",
   "execution_count": 6,
   "metadata": {},
   "outputs": [
    {
     "data": {
      "text/plain": [
       "{\n",
       "    \"class\" : \"Distribution\",\n",
       "    \"name\" : \"IndependentComponentsDistribution\",\n",
       "    \"parameters\" : [\n",
       "        [\n",
       "            {\n",
       "                \"class\" : \"Distribution\",\n",
       "                \"name\" : \"NormalDistribution\",\n",
       "                \"parameters\" : [\n",
       "                    9.942355632560583,\n",
       "                    0.9926439000824223\n",
       "                ],\n",
       "                \"frozen\" : false\n",
       "            },\n",
       "            {\n",
       "                \"class\" : \"Distribution\",\n",
       "                \"name\" : \"NormalDistribution\",\n",
       "                \"parameters\" : [\n",
       "                    9.96112857784113,\n",
       "                    0.9759473472188426\n",
       "                ],\n",
       "                \"frozen\" : false\n",
       "            },\n",
       "            {\n",
       "                \"class\" : \"Distribution\",\n",
       "                \"name\" : \"NormalDistribution\",\n",
       "                \"parameters\" : [\n",
       "                    9.997859147101435,\n",
       "                    0.9424412506637966\n",
       "                ],\n",
       "                \"frozen\" : false\n",
       "            }\n",
       "        ],\n",
       "        [\n",
       "            1.0,\n",
       "            1.0,\n",
       "            1.0\n",
       "        ]\n",
       "    ],\n",
       "    \"frozen\" : false\n",
       "}"
      ]
     },
     "execution_count": 6,
     "metadata": {},
     "output_type": "execute_result"
    }
   ],
   "source": [
    "d8.from_samples(x, distributions=NormalDistribution)"
   ]
  },
  {
   "cell_type": "markdown",
   "metadata": {},
   "source": [
    "Note that the distributions here are displaying the mean and standard deviation, whereas the `MultivariateGaussianDistribution` is showing the mean and ~covariance~, which is the standard deviation squared. When adjusted accordingly, the means here line up with the vector of means from before, and the standard deviations are equal to the square root of the diagonal of the covariance matrix.\n",
    "\n",
    "Lastly, if we wanted to learn an independent components distribution with different distributions on each feature, we can pass in a list of distributions."
   ]
  },
  {
   "cell_type": "code",
   "execution_count": 7,
   "metadata": {},
   "outputs": [
    {
     "data": {
      "text/plain": [
       "{\n",
       "    \"class\" : \"Distribution\",\n",
       "    \"name\" : \"IndependentComponentsDistribution\",\n",
       "    \"parameters\" : [\n",
       "        [\n",
       "            {\n",
       "                \"class\" : \"Distribution\",\n",
       "                \"name\" : \"NormalDistribution\",\n",
       "                \"parameters\" : [\n",
       "                    9.942355632560583,\n",
       "                    0.9926439000824223\n",
       "                ],\n",
       "                \"frozen\" : false\n",
       "            },\n",
       "            {\n",
       "                \"class\" : \"Distribution\",\n",
       "                \"name\" : \"ExponentialDistribution\",\n",
       "                \"parameters\" : [\n",
       "                    0.10039023111442362\n",
       "                ],\n",
       "                \"frozen\" : false\n",
       "            },\n",
       "            {\n",
       "                \"class\" : \"Distribution\",\n",
       "                \"name\" : \"LogNormalDistribution\",\n",
       "                \"parameters\" : [\n",
       "                    2.297868979078352,\n",
       "                    0.09529758318186476\n",
       "                ],\n",
       "                \"frozen\" : false\n",
       "            }\n",
       "        ],\n",
       "        [\n",
       "            1.0,\n",
       "            1.0,\n",
       "            1.0\n",
       "        ]\n",
       "    ],\n",
       "    \"frozen\" : false\n",
       "}"
      ]
     },
     "execution_count": 7,
     "metadata": {},
     "output_type": "execute_result"
    }
   ],
   "source": [
    "d8.from_samples(x, distributions=[NormalDistribution, ExponentialDistribution, LogNormalDistribution])"
   ]
  },
  {
   "cell_type": "markdown",
   "metadata": {},
   "source": [
    "### Plotting\n",
    "\n",
    "If we want to visualize them, we can use the plot command, which randomly draws samples from the model and plots the histogram of those samples."
   ]
  },
  {
   "cell_type": "code",
   "execution_count": 8,
   "metadata": {},
   "outputs": [
    {
     "data": {
      "image/png": "[encoded data removed]",
      "text/plain": [
       "<Figure size 864x288 with 6 Axes>"
      ]
     },
     "metadata": {},
     "output_type": "display_data"
    }
   ],
   "source": [
    "plt.figure(figsize=(12, 4))\n",
    "plt.subplot(231)\n",
    "plt.title(\"Normal Distribution\", fontsize=14)\n",
    "d.plot(1000, edgecolor='c', color='c', bins=20)\n",
    "\n",
    "plt.subplot(232)\n",
    "plt.title(\"Exponential Distribution\", fontsize=14)\n",
    "d2.plot(1000, edgecolor='m', color='m', bins=20)\n",
    "\n",
    "plt.subplot(233)\n",
    "plt.title(\"Log Normal Distribution\", fontsize=14)\n",
    "d3.plot(1000, edgecolor='g', color='g', bins=20)\n",
    "\n",
    "plt.subplot(234)\n",
    "plt.title(\"Fit Normal Distribution\", fontsize=14)\n",
    "d4.plot(1000, edgecolor='c', color='c', bins=20)\n",
    "\n",
    "plt.subplot(235)\n",
    "plt.title(\"Fit Exponential Distribution\", fontsize=14)\n",
    "d5.plot(1000, edgecolor='m', color='m', bins=20)\n",
    "\n",
    "plt.subplot(236)\n",
    "plt.title(\"Fit Log Normal Distribution\", fontsize=14)\n",
    "d6.plot(1000, edgecolor='g', color='g', bins=20)\n",
    "\n",
    "plt.tight_layout()\n",
    "plt.show()"
   ]
  },
  {
   "cell_type": "markdown",
   "metadata": {},
   "source": [
    "Naturally, if you wanted smoother probability distributions, you could calculate the probability at each point along a given grid and plot those probabilities."
   ]
  },
  {
   "cell_type": "code",
   "execution_count": 9,
   "metadata": {},
   "outputs": [
    {
     "data": {
      "image/png": "[encoded data removed]",
      "text/plain": [
       "<Figure size 1008x216 with 6 Axes>"
      ]
     },
     "metadata": {},
     "output_type": "display_data"
    }
   ],
   "source": [
    "x1 = numpy.arange(-1, 11.1, 0.1)\n",
    "x2 = numpy.arange(0, 2, 0.1)\n",
    "x3 = numpy.arange(0, 20, 0.1)\n",
    "\n",
    "plt.figure(figsize=(14, 3))\n",
    "plt.subplot(231)\n",
    "plt.title(\"Normal Distribution\", fontsize=14)\n",
    "plt.fill_between(x1, 0, d.probability(x1), color='c')\n",
    "\n",
    "plt.subplot(232)\n",
    "plt.title(\"Exponential Distribution\", fontsize=14)\n",
    "plt.fill_between(x2, 0, d2.probability(x2), color='m')\n",
    "\n",
    "plt.subplot(233)\n",
    "plt.title(\"Log Normal Distribution\", fontsize=14)\n",
    "plt.fill_between(x3, 0, d3.probability(x3), color='g')\n",
    "\n",
    "plt.subplot(234)\n",
    "plt.title(\"Fit Normal Distribution\", fontsize=14)\n",
    "plt.fill_between(x3, 0, d4.probability(x3), color='c')\n",
    "\n",
    "plt.subplot(235)\n",
    "plt.title(\"Fit Exponential Distribution\", fontsize=14)\n",
    "plt.fill_between(x3, 0, d5.probability(x3), color='m')\n",
    "\n",
    "plt.subplot(236)\n",
    "plt.title(\"Fit Log Normal Distribution\", fontsize=14)\n",
    "plt.fill_between(x3, 0, d6.probability(x3), color='g')\n",
    "\n",
    "plt.tight_layout()\n",
    "plt.show()"
   ]
  },
  {
   "cell_type": "markdown",
   "metadata": {},
   "source": [
    "### Probability / Log Probability\n",
    "\n",
    "All distributions can calculate probabilities and log probabilities using those respective methods. Different distributions will give very different probabilities."
   ]
  },
  {
   "cell_type": "code",
   "execution_count": 10,
   "metadata": {},
   "outputs": [
    {
     "data": {
      "text/plain": [
       "(0.026995483256604804, 0.03368973499542734, 3.7167987868372287e-06)"
      ]
     },
     "execution_count": 10,
     "metadata": {},
     "output_type": "execute_result"
    }
   ],
   "source": [
    "d.probability(1), d2.probability(1), d3.probability(1)"
   ]
  },
  {
   "cell_type": "markdown",
   "metadata": {},
   "source": [
    "A vector of values can also be passed in."
   ]
  },
  {
   "cell_type": "code",
   "execution_count": 11,
   "metadata": {},
   "outputs": [
    {
     "data": {
      "text/plain": [
       "array([0.02699548, 0.19947114, 0.12098536, 0.0647588 , 0.12098536])"
      ]
     },
     "execution_count": 11,
     "metadata": {},
     "output_type": "execute_result"
    }
   ],
   "source": [
    "d.probability([1, 5, 7, 8, 3])"
   ]
  },
  {
   "cell_type": "markdown",
   "metadata": {},
   "source": [
    "The same works for multivariate data."
   ]
  },
  {
   "cell_type": "code",
   "execution_count": 12,
   "metadata": {},
   "outputs": [
    {
     "data": {
      "text/plain": [
       "(0.026023208688747114, 0.0019422749531612764)"
      ]
     },
     "execution_count": 12,
     "metadata": {},
     "output_type": "execute_result"
    }
   ],
   "source": [
    "d7.probability([[9, 10, 11]]), d8.probability([[9, 10, 11]])"
   ]
  },
  {
   "cell_type": "markdown",
   "metadata": {},
   "source": [
    "For the independent components distribution the probability is the multiplication of the probabilities for all three dimensions."
   ]
  },
  {
   "cell_type": "code",
   "execution_count": 13,
   "metadata": {},
   "outputs": [
    {
     "data": {
      "text/plain": [
       "0.0019422749531612768"
      ]
     },
     "execution_count": 13,
     "metadata": {},
     "output_type": "execute_result"
    }
   ],
   "source": [
    "d8.distributions[0].probability(9) * d8.distributions[1].probability(10) * d8.distributions[2].probability(11)"
   ]
  },
  {
   "cell_type": "markdown",
   "metadata": {},
   "source": [
    "### Fitting"
   ]
  },
  {
   "cell_type": "markdown",
   "metadata": {},
   "source": [
    "Probability distributions can be fit directly to data, as shown above, using the `from_samples` class method. However, a fit distribution can also be fit to new data using the `fit` method. This method uses maximum likelihood estimates to derive new parameters and is not affected by the current values of the distribution unless an inertia is set, which defines the proportion of the original distribution to use, the default being 0."
   ]
  },
  {
   "cell_type": "code",
   "execution_count": 14,
   "metadata": {},
   "outputs": [
    {
     "data": {
      "text/plain": [
       "{\n",
       "    \"class\" :\"Distribution\",\n",
       "    \"name\" :\"NormalDistribution\",\n",
       "    \"parameters\" :[\n",
       "        5.906921950798634,\n",
       "        2.000502667681352\n",
       "    ],\n",
       "    \"frozen\" :false\n",
       "}"
      ]
     },
     "execution_count": 14,
     "metadata": {},
     "output_type": "execute_result"
    }
   ],
   "source": [
    "X = numpy.random.normal(6, 2, size=1000,)\n",
    "\n",
    "d = NormalDistribution(100, 1)\n",
    "d.fit(X)\n",
    "d"
   ]
  },
  {
   "cell_type": "code",
   "execution_count": 15,
   "metadata": {},
   "outputs": [
    {
     "data": {
      "text/plain": [
       "{\n",
       "    \"class\" :\"Distribution\",\n",
       "    \"name\" :\"NormalDistribution\",\n",
       "    \"parameters\" :[\n",
       "        52.95346097539932,\n",
       "        1.500251333840676\n",
       "    ],\n",
       "    \"frozen\" :false\n",
       "}"
      ]
     },
     "execution_count": 15,
     "metadata": {},
     "output_type": "execute_result"
    }
   ],
   "source": [
    "d = NormalDistribution(100, 1)\n",
    "d.fit(X, inertia=0.5)\n",
    "d"
   ]
  },
  {
   "cell_type": "markdown",
   "metadata": {},
   "source": [
    "The fit method can also be given weights, in which case weighted maximum likelihood estimates are used. This is how expectation-maximization is done for compositional models. In this next example we'll give 50 samples with mean 5 and 50 samples with mean 9 and weight those samples with mean 9 as 4 times more than those with weight 5. If the samples were unweighted one would expect the result to be 7. However, with the higher magnitude samples being weighted more heavily, the result will actually be closer to 9."
   ]
  },
  {
   "cell_type": "code",
   "execution_count": 16,
   "metadata": {},
   "outputs": [
    {
     "data": {
      "text/plain": [
       "{\n",
       "    \"class\" :\"Distribution\",\n",
       "    \"name\" :\"NormalDistribution\",\n",
       "    \"parameters\" :[\n",
       "        8.228881313766124,\n",
       "        2.5257422669054432\n",
       "    ],\n",
       "    \"frozen\" :false\n",
       "}"
      ]
     },
     "execution_count": 16,
     "metadata": {},
     "output_type": "execute_result"
    }
   ],
   "source": [
    "X = numpy.random.normal(5, 2, size=100,)\n",
    "X[50:] += 4\n",
    "\n",
    "w = numpy.ones(100)\n",
    "w[:50] = 0.25\n",
    "\n",
    "d = NormalDistribution(10, 1)\n",
    "d.fit(X, w)\n",
    "d"
   ]
  },
  {
   "cell_type": "markdown",
   "metadata": {},
   "source": [
    "## Discrete Distributions"
   ]
  },
  {
   "cell_type": "markdown",
   "metadata": {},
   "source": [
    "A notable deviant from the numerics logic is the Discrete Distribution. Instead of passing parameters as floats, you instead pass in a dictionary where keys can be any objects and values are the probability of them occurring. Internally the objects that are the keys get converted to integer indices to an array whose values are the probability of that integer occuring. All models store a keymap that converts the inputs to those models to the indices of the discrete distribution. If you try to calculate the log probability of an item not present in the distribution, the default behavior is to return negative infinity, or 0.0 probability."
   ]
  },
  {
   "cell_type": "code",
   "execution_count": 18,
   "metadata": {},
   "outputs": [
    {
     "name": "stdout",
     "output_type": "stream",
     "text": [
      "0.10000000000000002\n",
      "0.5\n",
      "0.0\n"
     ]
    }
   ],
   "source": [
    "d = DiscreteDistribution({'A': 0.1, 'C': 0.25, 'G': 0.50, 'T': 0.15})\n",
    "print(d.probability( 'A'))\n",
    "print(d.probability( 'G'))\n",
    "print(d.probability('????'))"
   ]
  },
  {
   "cell_type": "markdown",
   "metadata": {},
   "source": [
    "Updating a discrete distributon is the same as updating other distributions."
   ]
  },
  {
   "cell_type": "code",
   "execution_count": 19,
   "metadata": {},
   "outputs": [
    {
     "ename": "SyntaxError",
     "evalue": "Missing parentheses in call to 'print'. Did you mean print(d.parameters[0])? (<ipython-input-19-7c05880e7290>, line 5)",
     "output_type": "error",
     "traceback": [
      "\u001b[0;36m  File \u001b[0;32m\"<ipython-input-19-7c05880e7290>\"\u001b[0;36m, line \u001b[0;32m5\u001b[0m\n\u001b[0;31m    print d.parameters[0]\u001b[0m\n\u001b[0m          ^\u001b[0m\n\u001b[0;31mSyntaxError\u001b[0m\u001b[0;31m:\u001b[0m Missing parentheses in call to 'print'. Did you mean print(d.parameters[0])?\n"
     ]
    }
   ],
   "source": [
    "X = list('ACGATACACTGAATGACAGCAGTCACTGACAGTAGTACGAGTAGTAGCAGAGAGTAATAAAGAATTAATATATGACACTACGAAAAAAATGCATCG')\n",
    "\n",
    "d.fit(X)\n",
    "\n",
    "print d.parameters[0]\n",
    "print 1. * numpy.unique(X, return_counts=True)[1] / len(X)"
   ]
  },
  {
   "cell_type": "markdown",
   "metadata": {},
   "source": [
    "### The Kernel Density"
   ]
  },
  {
   "cell_type": "markdown",
   "metadata": {},
   "source": [
    "The Gaussian Kernel Density is a non-parametric distribution that, instead of parameters, stores the data points that it was trained on directly. When initializing a kernel density you simply pass in the points. These points are converted to a probability distribution by essentially dropping some probability distribution on top of each point and then dividing the density by the number of points, ensuring that the area still integrates to 1. We can see this in action with the Gaussian kernel density which drops a normal distribution on each point with standard deviation equal to the bandwidth."
   ]
  },
  {
   "cell_type": "code",
   "execution_count": 20,
   "metadata": {},
   "outputs": [
    {
     "data": {
      "image/png": "[encoded data removed]",
      "text/plain": [
       "<Figure size 432x288 with 1 Axes>"
      ]
     },
     "metadata": {},
     "output_type": "display_data"
    }
   ],
   "source": [
    "d = GaussianKernelDensity( [0.5, 1.2, 4.2, 1.9, 5.4, 3.4], bandwidth=1 )\n",
    "d.plot(n=100000, edgecolor='c', color='c', bins=50)\n",
    "plt.show()"
   ]
  },
  {
   "cell_type": "markdown",
   "metadata": {},
   "source": [
    "Changing the bandwidth parameter is equivalent to reducing the variance on a Gaussian. It makes the densities more central around the points, but can cause overfitting."
   ]
  },
  {
   "cell_type": "code",
   "execution_count": 21,
   "metadata": {
    "scrolled": true
   },
   "outputs": [
    {
     "data": {
      "image/png": "[encoded data removed]",
      "text/plain": [
       "<Figure size 432x288 with 1 Axes>"
      ]
     },
     "metadata": {},
     "output_type": "display_data"
    }
   ],
   "source": [
    "d = GaussianKernelDensity( [0.5, 1.2, 4.2, 1.9, 5.4, 3.4], bandwidth=0.2 )\n",
    "d.plot(n=100000, edgecolor='c', color='c', bins=50)"
   ]
  },
  {
   "cell_type": "markdown",
   "metadata": {},
   "source": [
    "Passing in weights can change the influence of each sample for the final probability distribution."
   ]
  },
  {
   "cell_type": "code",
   "execution_count": 22,
   "metadata": {
    "scrolled": true
   },
   "outputs": [
    {
     "data": {
      "image/png": "[encoded data removed]",
      "text/plain": [
       "<Figure size 432x288 with 1 Axes>"
      ]
     },
     "metadata": {},
     "output_type": "display_data"
    }
   ],
   "source": [
    "d = GaussianKernelDensity( [0.5, 1.2, 4.2, 1.9, 5.4, 3.4], weights=[1, 1, 1, 3, 1, 1], bandwidth=0.2 )\n",
    "d.plot( n=100000, edgecolor='c', color='c', bins=100 )"
   ]
  },
  {
   "cell_type": "markdown",
   "metadata": {},
   "source": [
    "## Out-of-core learning\n",
    "\n",
    "Distributions also have the `summarize` and `from_summaries` method that implement out-of-core learning. More will be available in the out-of-core learning tutorial, but the gist is that you can train on an amount of data that doesn't fit in memory and still yield exact updates. This works for any model in pomegranate, but lets illustrate it for an independent components distribution made up of three very different distributions."
   ]
  },
  {
   "cell_type": "code",
   "execution_count": 23,
   "metadata": {},
   "outputs": [
    {
     "data": {
      "text/plain": [
       "{\n",
       "    \"class\" : \"Distribution\",\n",
       "    \"name\" : \"IndependentComponentsDistribution\",\n",
       "    \"parameters\" : [\n",
       "        [\n",
       "            {\n",
       "                \"class\" : \"Distribution\",\n",
       "                \"name\" : \"NormalDistribution\",\n",
       "                \"parameters\" : [\n",
       "                    15.975331623897382,\n",
       "                    0.9839454537443147\n",
       "                ],\n",
       "                \"frozen\" : false\n",
       "            },\n",
       "            {\n",
       "                \"class\" : \"Distribution\",\n",
       "                \"name\" : \"ExponentialDistribution\",\n",
       "                \"parameters\" : [\n",
       "                    0.06273786783336628\n",
       "                ],\n",
       "                \"frozen\" : false\n",
       "            },\n",
       "            {\n",
       "                \"class\" : \"Distribution\",\n",
       "                \"name\" : \"LogNormalDistribution\",\n",
       "                \"parameters\" : [\n",
       "                    2.7687181529109424,\n",
       "                    0.06401250783319416\n",
       "                ],\n",
       "                \"frozen\" : false\n",
       "            }\n",
       "        ],\n",
       "        [\n",
       "            1.0,\n",
       "            1.0,\n",
       "            1.0\n",
       "        ]\n",
       "    ],\n",
       "    \"frozen\" : false\n",
       "}"
      ]
     },
     "execution_count": 23,
     "metadata": {},
     "output_type": "execute_result"
    }
   ],
   "source": [
    "from pomegranate import *\n",
    "import numpy\n",
    "\n",
    "X = numpy.random.normal(16, 1, size=(1000, 3))\n",
    "\n",
    "d = IndependentComponentsDistribution([NormalDistribution(5, 1), \n",
    "                                       ExponentialDistribution(7), \n",
    "                                       LogNormalDistribution(0.6, 0.3)])\n",
    "\n",
    "d2 = d.copy()\n",
    "\n",
    "d.summarize(X[:500])\n",
    "d.summarize(X[500:])\n",
    "d.from_summaries()\n",
    "d"
   ]
  },
  {
   "cell_type": "code",
   "execution_count": 24,
   "metadata": {},
   "outputs": [
    {
     "data": {
      "text/plain": [
       "{\n",
       "    \"class\" : \"Distribution\",\n",
       "    \"name\" : \"IndependentComponentsDistribution\",\n",
       "    \"parameters\" : [\n",
       "        [\n",
       "            {\n",
       "                \"class\" : \"Distribution\",\n",
       "                \"name\" : \"NormalDistribution\",\n",
       "                \"parameters\" : [\n",
       "                    15.975331623897368,\n",
       "                    0.9839454537444303\n",
       "                ],\n",
       "                \"frozen\" : false\n",
       "            },\n",
       "            {\n",
       "                \"class\" : \"Distribution\",\n",
       "                \"name\" : \"ExponentialDistribution\",\n",
       "                \"parameters\" : [\n",
       "                    0.06273786783336632\n",
       "                ],\n",
       "                \"frozen\" : false\n",
       "            },\n",
       "            {\n",
       "                \"class\" : \"Distribution\",\n",
       "                \"name\" : \"LogNormalDistribution\",\n",
       "                \"parameters\" : [\n",
       "                    2.7687181529109472,\n",
       "                    0.06401250783306929\n",
       "                ],\n",
       "                \"frozen\" : false\n",
       "            }\n",
       "        ],\n",
       "        [\n",
       "            1.0,\n",
       "            1.0,\n",
       "            1.0\n",
       "        ]\n",
       "    ],\n",
       "    \"frozen\" : false\n",
       "}"
      ]
     },
     "execution_count": 24,
     "metadata": {},
     "output_type": "execute_result"
    }
   ],
   "source": [
    "d2.fit(X)\n",
    "d2"
   ]
  },
  {
   "cell_type": "markdown",
   "metadata": {},
   "source": [
    "We can also take a look at the JSON serialization. JSONs are the perfect way to store these models given their human interpretability, and the ability to recursively store JSONs within other JSONs, such as more complicated models (such as HMMs) will need to store the JSON of each distribution. It is useful to store these models after the computationally intensive task of training them, so that it need not be repeated."
   ]
  },
  {
   "cell_type": "code",
   "execution_count": 26,
   "metadata": {},
   "outputs": [
    {
     "name": "stdout",
     "output_type": "stream",
     "text": [
      "{\n",
      "    \"class\" : \"Distribution\",\n",
      "    \"name\" : \"IndependentComponentsDistribution\",\n",
      "    \"parameters\" : [\n",
      "        [\n",
      "            {\n",
      "                \"class\" : \"Distribution\",\n",
      "                \"name\" : \"NormalDistribution\",\n",
      "                \"parameters\" : [\n",
      "                    15.975331623897368,\n",
      "                    0.9839454537444303\n",
      "                ],\n",
      "                \"frozen\" : false\n",
      "            },\n",
      "            {\n",
      "                \"class\" : \"Distribution\",\n",
      "                \"name\" : \"ExponentialDistribution\",\n",
      "                \"parameters\" : [\n",
      "                    0.06273786783336632\n",
      "                ],\n",
      "                \"frozen\" : false\n",
      "            },\n",
      "            {\n",
      "                \"class\" : \"Distribution\",\n",
      "                \"name\" : \"LogNormalDistribution\",\n",
      "                \"parameters\" : [\n",
      "                    2.7687181529109472,\n",
      "                    0.06401250783306929\n",
      "                ],\n",
      "                \"frozen\" : false\n",
      "            }\n",
      "        ],\n",
      "        [\n",
      "            1.0,\n",
      "            1.0,\n",
      "            1.0\n",
      "        ]\n",
      "    ],\n",
      "    \"frozen\" : false\n",
      "}\n"
     ]
    }
   ],
   "source": [
    "print(d.to_json())"
   ]
  },
  {
   "cell_type": "markdown",
   "metadata": {
    "collapsed": true
   },
   "source": [
    "## Serialization"
   ]
  },
  {
   "cell_type": "markdown",
   "metadata": {},
   "source": [
    "Distributions (except tables right now) support serialization to JSONs using `to_json()` and `Distribution.from_json(json)`. We can see a few examples easily."
   ]
  },
  {
   "cell_type": "code",
   "execution_count": 27,
   "metadata": {},
   "outputs": [
    {
     "name": "stdout",
     "output_type": "stream",
     "text": [
      "{\n",
      "    \"class\" :\"Distribution\",\n",
      "    \"name\" :\"NormalDistribution\",\n",
      "    \"parameters\" :[\n",
      "        5.0,\n",
      "        2.0\n",
      "    ],\n",
      "    \"frozen\" :false\n",
      "}\n"
     ]
    }
   ],
   "source": [
    "print(NormalDistribution(5, 2).to_json())"
   ]
  },
  {
   "cell_type": "code",
   "execution_count": 28,
   "metadata": {},
   "outputs": [
    {
     "name": "stdout",
     "output_type": "stream",
     "text": [
      "{\n",
      "    \"class\" :\"Distribution\",\n",
      "    \"dtype\" :\"str\",\n",
      "    \"name\" :\"DiscreteDistribution\",\n",
      "    \"parameters\" :[\n",
      "        {\n",
      "            \"A\" :0.5,\n",
      "            \"B\" :0.25,\n",
      "            \"C\" :0.25\n",
      "        }\n",
      "    ],\n",
      "    \"frozen\" :false\n",
      "}\n"
     ]
    }
   ],
   "source": [
    "print(DiscreteDistribution({'A': 0.5, 'B': 0.25, 'C': 0.25}).to_json())"
   ]
  },
  {
   "cell_type": "code",
   "execution_count": 29,
   "metadata": {},
   "outputs": [
    {
     "name": "stdout",
     "output_type": "stream",
     "text": [
      "{\n",
      "    \"class\" :\"Distribution\",\n",
      "    \"name\" :\"GammaDistribution\",\n",
      "    \"parameters\" :[\n",
      "        5.0,\n",
      "        2.0\n",
      "    ],\n",
      "    \"frozen\" :false\n",
      "}\n"
     ]
    }
   ],
   "source": [
    "print(GammaDistribution(5, 2).to_json())"
   ]
  },
  {
   "cell_type": "markdown",
   "metadata": {},
   "source": [
    "We can load them up using the base Distribution class. This is done because, when storing compositional models, they typically don't know what type of distribution is being stored."
   ]
  },
  {
   "cell_type": "code",
   "execution_count": 30,
   "metadata": {},
   "outputs": [
    {
     "data": {
      "text/plain": [
       "0.05399096651320961"
      ]
     },
     "execution_count": 30,
     "metadata": {},
     "output_type": "execute_result"
    }
   ],
   "source": [
    "NormalDistribution(1, 1).probability(3)"
   ]
  },
  {
   "cell_type": "code",
   "execution_count": 31,
   "metadata": {},
   "outputs": [
    {
     "data": {
      "text/plain": [
       "0.05399096651320961"
      ]
     },
     "execution_count": 31,
     "metadata": {},
     "output_type": "execute_result"
    }
   ],
   "source": [
    "Distribution.from_json(NormalDistribution(1, 1).to_json()).probability(3)"
   ]
  },
  {
   "cell_type": "code",
   "execution_count": null,
   "metadata": {},
   "outputs": [],
   "source": []
  }
 ],
 "metadata": {
  "kernelspec": {
   "display_name": "Python 3",
   "language": "python",
   "name": "python3"
  },
  "language_info": {
   "codemirror_mode": {
    "name": "ipython",
    "version": 3
   },
   "file_extension": ".py",
   "mimetype": "text/x-python",
   "name": "python",
   "nbconvert_exporter": "python",
   "pygments_lexer": "ipython3",
   "version": "3.7.4"
  },
  "toc": {
   "base_numbering": 1,
   "nav_menu": {},
   "number_sections": true,
   "sideBar": true,
   "skip_h1_title": false,
   "title_cell": "Table of Contents",
   "title_sidebar": "Contents",
   "toc_cell": false,
   "toc_position": {},
   "toc_section_display": true,
   "toc_window_display": false
  }
 },
 "nbformat": 4,
 "nbformat_minor": 1
}
