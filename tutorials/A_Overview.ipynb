{
 "cells": [
  {
   "cell_type": "markdown",
   "metadata": {},
   "source": [
    "## pomegranate: fast and flexible probabilistic modelling\n",
    "\n",
    "Author: Jacob Schreiber <br>\n",
    "Contact: <jmschreiber91@gmail.com>"
   ]
  },
  {
   "cell_type": "code",
   "execution_count": 1,
   "metadata": {},
   "outputs": [
    {
     "name": "stdout",
     "output_type": "stream",
     "text": [
      "Fri Jan 10 2020 \n",
      "\n",
      "numpy 1.18.1\n",
      "scipy 1.4.1\n",
      "pomegranate 0.12.0\n",
      "\n",
      "compiler   : Clang 10.0.0 (clang-1000.11.45.5)\n",
      "system     : Darwin\n",
      "release    : 17.7.0\n",
      "machine    : x86_64\n",
      "processor  : i386\n",
      "CPU cores  : 4\n",
      "interpreter: 64bit\n"
     ]
    }
   ],
   "source": [
    "%matplotlib inline\n",
    "import time\n",
    "import pandas\n",
    "import random\n",
    "import numpy\n",
    "import matplotlib.pyplot as plt\n",
    "import seaborn; seaborn.set_style('whitegrid')\n",
    "import itertools\n",
    "\n",
    "from pomegranate import *\n",
    "\n",
    "random.seed(0)\n",
    "numpy.random.seed(0)\n",
    "numpy.set_printoptions(suppress=True)\n",
    "\n",
    "%load_ext watermark\n",
    "%watermark -m -n -p numpy,scipy,pomegranate"
   ]
  },
  {
   "cell_type": "markdown",
   "metadata": {},
   "source": [
    "pomegranate is a probabilistic modeling library for Python that aims to be easy to use, flexible, and fast. It is easy to use because it maintains a consistent and minimal API that mirrors the scikit-learn API when possible. It is flexible because it allows complicated probabilistic models to be built from simpler ones by easily stacking components on top of each other. It is fast due to its Cython backend which allows for fast numerics and multi-threading without cluttering the interface. pomegranate was developed at the University of Washington with the generous support from the following organizations:\n",
    "\n",
    "<a href=\"https://escience.washington.edu/\">\n",
    "<img src=\"https://escience.washington.edu/wp-content/uploads/2015/10/eScience_Logo_HR.png\" width=\"50%\">\n",
    "</a>\n",
    "\n",
    "<a href=\"http://msdse.org/\">\n",
    "<img src=\"http://msdse.org/images/msdse.jpg\" width=\"50%\">\n",
    "</a>\n",
    "\n",
    "<a href=\"https://numfocus.org/\">\n",
    "<img src=\"https://numfocus.org/wp-content/uploads/2017/07/NumFocus_LRG.png\" width=\"30%\">\n",
    "</a>"
   ]
  },
  {
   "cell_type": "markdown",
   "metadata": {},
   "source": [
    "### The API\n",
    "\n",
    "One of the core tenant of pomegranate is that everything is fundamentally a probability distribution and should be treated the same way. Most people are familiar with simple probability distributions such as the normal or the uniform distribution. However, a mixture of many simple distributions is still a probability distribution because the density under it still adds up to 1. A hidden Markov model is still a probability distribution over sequences because the probability of all potential sequences must add up to 1. A Bayesian network is literally a probability distribution that has been factorized along a graphical structure, with a discrete Bayesian network factorizing a very large joint probability table and a linear Gaussian Bayesian network factorizing a multivariate Gaussian distribution that has many 0's in the inverse covariance matrix.\n",
    "\n",
    "A benefit of considering all methods as probability distributions is that it simplifies and unifies the API across all of the models. The common API is the following methods. Let's specify some distribution and take a look."
   ]
  },
  {
   "cell_type": "code",
   "execution_count": 2,
   "metadata": {},
   "outputs": [],
   "source": [
    "model = NormalDistribution(5, 1)"
   ]
  },
  {
   "cell_type": "markdown",
   "metadata": {},
   "source": [
    "***model.probability(X)*** and ***model.log_probability(X)***\n",
    "\n",
    "These methods return the probability of a single sample or a vector of probabilities if provided a vector of samples. This is equal to P(D|M) where D is the data and M is the model."
   ]
  },
  {
   "cell_type": "code",
   "execution_count": 3,
   "metadata": {},
   "outputs": [
    {
     "name": "stdout",
     "output_type": "stream",
     "text": [
      "[0.24197072 0.24197072 0.05399097]\n",
      "[-1.41893853 -1.41893853 -2.91893853]\n"
     ]
    }
   ],
   "source": [
    "print(model.probability([4., 6., 7.]))\n",
    "print(model.log_probability([4., 6., 7.]))"
   ]
  },
  {
   "cell_type": "markdown",
   "metadata": {},
   "source": [
    "***model.sample(n=1)***\n",
    "\n",
    "This method will return a random sample from the probability distribution or a vector of random samples if n is set to be greater than 1."
   ]
  },
  {
   "cell_type": "code",
   "execution_count": 4,
   "metadata": {},
   "outputs": [
    {
     "data": {
      "text/plain": [
       "array([6.76405235, 5.40015721, 5.97873798, 7.2408932 , 6.86755799,\n",
       "       4.02272212, 5.95008842, 4.84864279, 4.89678115, 5.4105985 ])"
      ]
     },
     "execution_count": 4,
     "metadata": {},
     "output_type": "execute_result"
    }
   ],
   "source": [
    "model.sample(n=10)"
   ]
  },
  {
   "cell_type": "markdown",
   "metadata": {},
   "source": [
    "***model.fit(X, weights=None, inertia=0.0, other arguments)***\n",
    "\n",
    "This method will fit the distribution to the data. For simple distributions and Bayesian networks this corresponds to weighted maximum likelihood estimates. For other compositional distributions such as hidden Markov models this corresponds to an iterative expectation-maximization allgorithm. Optionally, weights can be provided for each of the samples. Different models will have different arguments that can be specified as well."
   ]
  },
  {
   "cell_type": "code",
   "execution_count": 5,
   "metadata": {},
   "outputs": [
    {
     "data": {
      "text/plain": [
       "{\n",
       "    \"class\" :\"Distribution\",\n",
       "    \"name\" :\"NormalDistribution\",\n",
       "    \"parameters\" :[\n",
       "        7.036955079959913,\n",
       "        2.0668514243367655\n",
       "    ],\n",
       "    \"frozen\" :false\n",
       "}"
      ]
     },
     "execution_count": 5,
     "metadata": {},
     "output_type": "execute_result"
    }
   ],
   "source": [
    "X = numpy.random.normal(7, 2, size=(100,))\n",
    "\n",
    "model.fit(X)\n",
    "model"
   ]
  },
  {
   "cell_type": "markdown",
   "metadata": {},
   "source": [
    "***model.summary(X, weights=None)***\n",
    "\n",
    "This method implements the first part of the fitting process, which is summarizing a batch of data down to its sufficient statistics and storing them. These sufficient statistics are additive and will be updated for each successive batch that's seen. The sufficient statistics can be reset either through a call to `from_summaries` or a call to `clear_summaries`. "
   ]
  },
  {
   "cell_type": "code",
   "execution_count": 6,
   "metadata": {},
   "outputs": [
    {
     "data": {
      "text/plain": [
       "{\n",
       "    \"class\" :\"Distribution\",\n",
       "    \"name\" :\"NormalDistribution\",\n",
       "    \"parameters\" :[\n",
       "        7.036955079959913,\n",
       "        2.0668514243367655\n",
       "    ],\n",
       "    \"frozen\" :false\n",
       "}"
      ]
     },
     "execution_count": 6,
     "metadata": {},
     "output_type": "execute_result"
    }
   ],
   "source": [
    "X = numpy.random.normal(8, 1.5, size=(100,))\n",
    "\n",
    "model.summarize(X)\n",
    "model"
   ]
  },
  {
   "cell_type": "markdown",
   "metadata": {},
   "source": [
    "***model.from_summaries(inertia=0.0)***\n",
    "\n",
    "This method implements the second part of the fitting process, which is using the stored sufficient statistics in order to update the model parameters."
   ]
  },
  {
   "cell_type": "code",
   "execution_count": 7,
   "metadata": {},
   "outputs": [
    {
     "data": {
      "text/plain": [
       "{\n",
       "    \"class\" :\"Distribution\",\n",
       "    \"name\" :\"NormalDistribution\",\n",
       "    \"parameters\" :[\n",
       "        8.068146018374335,\n",
       "        1.4490322240381275\n",
       "    ],\n",
       "    \"frozen\" :false\n",
       "}"
      ]
     },
     "execution_count": 7,
     "metadata": {},
     "output_type": "execute_result"
    }
   ],
   "source": [
    "model.from_summaries()\n",
    "model"
   ]
  },
  {
   "cell_type": "markdown",
   "metadata": {},
   "source": [
    "***model.clear_summaries()***\n",
    "\n",
    "This method resets the sufficient statistics stored to the model."
   ]
  },
  {
   "cell_type": "code",
   "execution_count": 8,
   "metadata": {},
   "outputs": [
    {
     "data": {
      "text/plain": [
       "{\n",
       "    \"class\" :\"Distribution\",\n",
       "    \"name\" :\"NormalDistribution\",\n",
       "    \"parameters\" :[\n",
       "        8.068146018374335,\n",
       "        1.4490322240381275\n",
       "    ],\n",
       "    \"frozen\" :false\n",
       "}"
      ]
     },
     "execution_count": 8,
     "metadata": {},
     "output_type": "execute_result"
    }
   ],
   "source": [
    "X = numpy.random.normal(3, 0.2, size=(100,))\n",
    "\n",
    "model.summarize(X)\n",
    "model.clear_summaries()\n",
    "model.from_summaries()\n",
    "model"
   ]
  },
  {
   "cell_type": "markdown",
   "metadata": {},
   "source": [
    "***Model.from_samples(distributions, n_components, X, weights=None)*** or ***Model.from_samples(X, weights=None)***\n",
    "\n",
    "This class method will initialize and then fit the parameters of a model to some data. This differs from the `fit` function in that the `fit` function will update the parameters of a pre-defined model whereas the `from_samples` method will initialize a model to data and return the best parameters given the data."
   ]
  },
  {
   "cell_type": "code",
   "execution_count": 9,
   "metadata": {},
   "outputs": [
    {
     "data": {
      "text/plain": [
       "{\n",
       "    \"class\" :\"Distribution\",\n",
       "    \"name\" :\"NormalDistribution\",\n",
       "    \"parameters\" :[\n",
       "        5.878631757664192,\n",
       "        1.0120288481111088\n",
       "    ],\n",
       "    \"frozen\" :false\n",
       "}"
      ]
     },
     "execution_count": 9,
     "metadata": {},
     "output_type": "execute_result"
    }
   ],
   "source": [
    "X = numpy.random.normal(6, 1, size=(250, 1))\n",
    "\n",
    "model = NormalDistribution.from_samples(X)\n",
    "model"
   ]
  },
  {
   "cell_type": "code",
   "execution_count": 10,
   "metadata": {},
   "outputs": [
    {
     "data": {
      "text/plain": [
       "{\n",
       "    \"class\" : \"GeneralMixtureModel\",\n",
       "    \"distributions\" : [\n",
       "        {\n",
       "            \"class\" : \"Distribution\",\n",
       "            \"name\" : \"NormalDistribution\",\n",
       "            \"parameters\" : [\n",
       "                5.901815709887363,\n",
       "                0.47865628749453537\n",
       "            ],\n",
       "            \"frozen\" : false\n",
       "        },\n",
       "        {\n",
       "            \"class\" : \"Distribution\",\n",
       "            \"name\" : \"NormalDistribution\",\n",
       "            \"parameters\" : [\n",
       "                5.175959799664007,\n",
       "                0.8774489898709738\n",
       "            ],\n",
       "            \"frozen\" : false\n",
       "        },\n",
       "        {\n",
       "            \"class\" : \"Distribution\",\n",
       "            \"name\" : \"NormalDistribution\",\n",
       "            \"parameters\" : [\n",
       "                6.9902780582522634,\n",
       "                0.597808757836137\n",
       "            ],\n",
       "            \"frozen\" : false\n",
       "        }\n",
       "    ],\n",
       "    \"weights\" : [\n",
       "        0.3148521575093671,\n",
       "        0.42381846635660686,\n",
       "        0.261329376134026\n",
       "    ]\n",
       "}"
      ]
     },
     "execution_count": 10,
     "metadata": {},
     "output_type": "execute_result"
    }
   ],
   "source": [
    "model = GeneralMixtureModel.from_samples(NormalDistribution, 3, X)\n",
    "model"
   ]
  },
  {
   "cell_type": "markdown",
   "metadata": {},
   "source": [
    "***model.to_json(separators=(',', ' :'), indent=4)***\n",
    "\n",
    "This method returns the JSON serialization of the distribution as a string."
   ]
  },
  {
   "cell_type": "code",
   "execution_count": 11,
   "metadata": {},
   "outputs": [
    {
     "name": "stdout",
     "output_type": "stream",
     "text": [
      "{\n",
      "    \"class\" : \"GeneralMixtureModel\",\n",
      "    \"distributions\" : [\n",
      "        {\n",
      "            \"class\" : \"Distribution\",\n",
      "            \"name\" : \"NormalDistribution\",\n",
      "            \"parameters\" : [\n",
      "                5.901815709887363,\n",
      "                0.47865628749453537\n",
      "            ],\n",
      "            \"frozen\" : false\n",
      "        },\n",
      "        {\n",
      "            \"class\" : \"Distribution\",\n",
      "            \"name\" : \"NormalDistribution\",\n",
      "            \"parameters\" : [\n",
      "                5.175959799664007,\n",
      "                0.8774489898709738\n",
      "            ],\n",
      "            \"frozen\" : false\n",
      "        },\n",
      "        {\n",
      "            \"class\" : \"Distribution\",\n",
      "            \"name\" : \"NormalDistribution\",\n",
      "            \"parameters\" : [\n",
      "                6.9902780582522634,\n",
      "                0.597808757836137\n",
      "            ],\n",
      "            \"frozen\" : false\n",
      "        }\n",
      "    ],\n",
      "    \"weights\" : [\n",
      "        0.3148521575093671,\n",
      "        0.42381846635660686,\n",
      "        0.261329376134026\n",
      "    ]\n",
      "}\n"
     ]
    }
   ],
   "source": [
    "print(model.to_json())"
   ]
  },
  {
   "cell_type": "markdown",
   "metadata": {},
   "source": [
    "***Model.from_json(s)***\n",
    "\n",
    "This class method returns the deserialization of the JSON string back to the model object. s can either be the JSON string or a filename ending in `.json` to read from."
   ]
  },
  {
   "cell_type": "code",
   "execution_count": 12,
   "metadata": {},
   "outputs": [
    {
     "data": {
      "text/plain": [
       "{\n",
       "    \"class\" :\"Distribution\",\n",
       "    \"name\" :\"NormalDistribution\",\n",
       "    \"parameters\" :[\n",
       "        5.0,\n",
       "        2.0\n",
       "    ],\n",
       "    \"frozen\" :false\n",
       "}"
      ]
     },
     "execution_count": 12,
     "metadata": {},
     "output_type": "execute_result"
    }
   ],
   "source": [
    "model = NormalDistribution(5, 2)\n",
    "\n",
    "model2 = Distribution.from_json(model.to_json())\n",
    "model2"
   ]
  },
  {
   "cell_type": "markdown",
   "metadata": {},
   "source": [
    "Compositional models, i.e., those that are not simple distributions, have three additional methods whose named are inspired by scikit-learn. These methods relate to the posterior probabilities P(M|D) of each of the components of the model given some data."
   ]
  },
  {
   "cell_type": "code",
   "execution_count": 13,
   "metadata": {},
   "outputs": [
    {
     "data": {
      "text/plain": [
       "{\n",
       "    \"class\" : \"GeneralMixtureModel\",\n",
       "    \"distributions\" : [\n",
       "        {\n",
       "            \"class\" : \"Distribution\",\n",
       "            \"name\" : \"ExponentialDistribution\",\n",
       "            \"parameters\" : [\n",
       "                5.0\n",
       "            ],\n",
       "            \"frozen\" : false\n",
       "        },\n",
       "        {\n",
       "            \"class\" : \"Distribution\",\n",
       "            \"name\" : \"ExponentialDistribution\",\n",
       "            \"parameters\" : [\n",
       "                0.3\n",
       "            ],\n",
       "            \"frozen\" : false\n",
       "        }\n",
       "    ],\n",
       "    \"weights\" : [\n",
       "        0.5,\n",
       "        0.5\n",
       "    ]\n",
       "}"
      ]
     },
     "execution_count": 13,
     "metadata": {},
     "output_type": "execute_result"
    }
   ],
   "source": [
    "d1 = ExponentialDistribution(5.0)\n",
    "d2 = ExponentialDistribution(0.3)\n",
    "\n",
    "model = GeneralMixtureModel([d1, d2])\n",
    "model"
   ]
  },
  {
   "cell_type": "markdown",
   "metadata": {},
   "source": [
    "***model.predict(X)***\n",
    "\n",
    "This method returns the most likely component for each sample. In the case of a mixture model it returns the component that is most likely, in the case of a hidden Markov model it returns the most likely component for each observation in the sequence."
   ]
  },
  {
   "cell_type": "code",
   "execution_count": 14,
   "metadata": {},
   "outputs": [
    {
     "data": {
      "text/plain": [
       "array([1, 0, 0, 0, 1, 0, 0, 1, 0, 1], dtype=int32)"
      ]
     },
     "execution_count": 14,
     "metadata": {},
     "output_type": "execute_result"
    }
   ],
   "source": [
    "X = numpy.random.exponential(3, size=(10,1))\n",
    "\n",
    "model.predict(X)"
   ]
  },
  {
   "cell_type": "markdown",
   "metadata": {},
   "source": [
    "***model.predict_proba(X)***\n",
    "\n",
    "This method returns the probability of each component for each sample. It is similar to the `predict` method except that it returns the probabilities instead of simply the most likely component."
   ]
  },
  {
   "cell_type": "code",
   "execution_count": 15,
   "metadata": {},
   "outputs": [
    {
     "data": {
      "text/plain": [
       "array([[0.00046883, 0.99953117],\n",
       "       [0.74132615, 0.25867385],\n",
       "       [0.58846532, 0.41153468],\n",
       "       [0.89449455, 0.10550545],\n",
       "       [0.        , 1.        ],\n",
       "       [0.94041259, 0.05958741],\n",
       "       [0.50991095, 0.49008905],\n",
       "       [0.00002574, 0.99997426],\n",
       "       [0.83434281, 0.16565719],\n",
       "       [0.        , 1.        ]])"
      ]
     },
     "execution_count": 15,
     "metadata": {},
     "output_type": "execute_result"
    }
   ],
   "source": [
    "model.predict_proba(X)"
   ]
  },
  {
   "cell_type": "markdown",
   "metadata": {},
   "source": [
    "***model.predict_log_proba(X)***\n",
    "\n",
    "Like predict_proba except that it returns the log probabilities instead of the probabilities."
   ]
  },
  {
   "cell_type": "code",
   "execution_count": 16,
   "metadata": {},
   "outputs": [
    {
     "data": {
      "text/plain": [
       "array([[ -7.66527111,  -0.00046894],\n",
       "       [ -0.29931461,  -1.35218726],\n",
       "       [ -0.53023729,  -0.88786198],\n",
       "       [ -0.11149647,  -2.24899266],\n",
       "       [-46.97709403,   0.        ],\n",
       "       [ -0.06143657,  -2.820311  ],\n",
       "       [ -0.67351918,  -0.71316817],\n",
       "       [-10.56732239,  -0.00002574],\n",
       "       [ -0.18111092,  -1.79783472],\n",
       "       [-27.30692393,  -0.        ]])"
      ]
     },
     "execution_count": 16,
     "metadata": {},
     "output_type": "execute_result"
    }
   ],
   "source": [
    "model.predict_log_proba(X)"
   ]
  },
  {
   "cell_type": "markdown",
   "metadata": {},
   "source": [
    "### Flexibility\n",
    "\n",
    "#### Modeling different features as different distributions\n",
    "\n",
    "A second benefit of treating all models as probability distributions is that it greatly increases the flexibility that pomegranate provides. When people build naive Bayes classifiers, they typically will use a Gaussian distribution. However, there's no reason that one has to use a Gaussian distribution, you can drop in any type of distribution that you'd like. For example:"
   ]
  },
  {
   "cell_type": "code",
   "execution_count": 17,
   "metadata": {},
   "outputs": [],
   "source": [
    "X = numpy.random.normal(5, 1, size=(100, 2))\n",
    "X[50:] += 1\n",
    "\n",
    "y = numpy.zeros(100)\n",
    "y[50:] = 1\n",
    "\n",
    "model1 = NaiveBayes.from_samples(NormalDistribution, X, y)\n",
    "model2 = NaiveBayes.from_samples(LogNormalDistribution, X, y)"
   ]
  },
  {
   "cell_type": "markdown",
   "metadata": {},
   "source": [
    "It is easy to drop in whatever probability distribution you'd like because it should be easy. Mathematically, the naive Bayes model relies on Bayes' rule, which says:\n",
    "\n",
    "\\begin{equation}\n",
    "P(M|D) = \\frac{P(D|M)P(M)}{P(D)}\n",
    "\\end{align}\n",
    "\n",
    "Because the \"naive\" part of a \"naive\" Bayes model means that the model treats each feature independently, we can rewrite the $P(D|M)$ aspect as the product of these probabilities over all $d$ features:\n",
    "\n",
    "\\begin{equation}\n",
    "P(M|D) = \\frac{P(M) \\prod\\limits_{i=1}^{d} P(D_{i}|M)}{P(D)}\n",
    "\\end{equation}\n",
    "\n",
    "Now, because each feature is independent, they can be modeled by different probability distributions."
   ]
  },
  {
   "cell_type": "code",
   "execution_count": 18,
   "metadata": {},
   "outputs": [
    {
     "data": {
      "image/png": "[encoded data removed]",
      "text/plain": [
       "<Figure size 1008x288 with 1 Axes>"
      ]
     },
     "metadata": {},
     "output_type": "display_data"
    }
   ],
   "source": [
    "mu = numpy.random.normal(7, 2, size=1000)\n",
    "std = numpy.random.lognormal(-0.8, 0.8, size=1000)\n",
    "dur = numpy.random.exponential(50, size=1000)\n",
    "\n",
    "data = numpy.concatenate([numpy.random.normal(mu_, std_, int(t)) for mu_, std_, t in zip(mu, std, dur)])\n",
    "\n",
    "plt.figure(figsize=(14, 4))\n",
    "plt.title(\"Randomly Generated Signal\", fontsize=16)\n",
    "plt.plot(data)\n",
    "plt.xlabel(\"Time\", fontsize=14)\n",
    "plt.ylabel(\"Signal\", fontsize=14)\n",
    "plt.xlim(0, 3000)\n",
    "plt.show()"
   ]
  },
  {
   "cell_type": "markdown",
   "metadata": {},
   "source": [
    "If someone was trying to model this signal, they could potentially try to segment it and then extract properties of those segments, such as the mean, the variance, and the duration. We can plot what thos would look like:"
   ]
  },
  {
   "cell_type": "code",
   "execution_count": 19,
   "metadata": {},
   "outputs": [
    {
     "data": {
      "image/png": "[encoded data removed]",
      "text/plain": [
       "<Figure size 864x216 with 3 Axes>"
      ]
     },
     "metadata": {},
     "output_type": "display_data"
    }
   ],
   "source": [
    "plt.figure(figsize=(12, 3))\n",
    "plt.subplot(131)\n",
    "plt.title(\"mu\", fontsize=14)\n",
    "plt.hist(mu, bins=numpy.arange(0, 15))\n",
    "\n",
    "plt.subplot(132)\n",
    "plt.title(\"sigma\", fontsize=14)\n",
    "plt.hist(std, bins=numpy.arange(0.00, 1.75, 0.05))\n",
    "\n",
    "plt.subplot(133)\n",
    "plt.title(\"Duration\", fontsize=14)\n",
    "plt.hist(dur, bins=numpy.arange(0, 150, 10))\n",
    "plt.show()"
   ]
  },
  {
   "cell_type": "markdown",
   "metadata": {},
   "source": [
    "We can see that the mean of the segments does have a Gaussian distribution, but that neither the standard deviation or the duration do. It would be suboptimal to assume all features were Gaussian, as a simple Gaussian naive Bayes model would. pomegranate allows you to define a different distribution for each feature, like the following:"
   ]
  },
  {
   "cell_type": "code",
   "execution_count": 20,
   "metadata": {},
   "outputs": [
    {
     "data": {
      "text/plain": [
       "{\n",
       "    \"class\" : \"NaiveBayes\",\n",
       "    \"models\" : [\n",
       "        {\n",
       "            \"class\" : \"Distribution\",\n",
       "            \"name\" : \"IndependentComponentsDistribution\",\n",
       "            \"parameters\" : [\n",
       "                [\n",
       "                    {\n",
       "                        \"class\" : \"Distribution\",\n",
       "                        \"name\" : \"NormalDistribution\",\n",
       "                        \"parameters\" : [\n",
       "                            6.905835442537852,\n",
       "                            2.09604452629164\n",
       "                        ],\n",
       "                        \"frozen\" : false\n",
       "                    },\n",
       "                    {\n",
       "                        \"class\" : \"Distribution\",\n",
       "                        \"name\" : \"LogNormalDistribution\",\n",
       "                        \"parameters\" : [\n",
       "                            -0.880499005246798,\n",
       "                            0.7642112111076668\n",
       "                        ],\n",
       "                        \"frozen\" : false\n",
       "                    },\n",
       "                    {\n",
       "                        \"class\" : \"Distribution\",\n",
       "                        \"name\" : \"ExponentialDistribution\",\n",
       "                        \"parameters\" : [\n",
       "                            0.01979944881580867\n",
       "                        ],\n",
       "                        \"frozen\" : false\n",
       "                    }\n",
       "                ],\n",
       "                [\n",
       "                    1.0,\n",
       "                    1.0,\n",
       "                    1.0\n",
       "                ]\n",
       "            ],\n",
       "            \"frozen\" : false\n",
       "        },\n",
       "        {\n",
       "            \"class\" : \"Distribution\",\n",
       "            \"name\" : \"IndependentComponentsDistribution\",\n",
       "            \"parameters\" : [\n",
       "                [\n",
       "                    {\n",
       "                        \"class\" : \"Distribution\",\n",
       "                        \"name\" : \"NormalDistribution\",\n",
       "                        \"parameters\" : [\n",
       "                            8.03534029261696,\n",
       "                            2.063613757125447\n",
       "                        ],\n",
       "                        \"frozen\" : false\n",
       "                    },\n",
       "                    {\n",
       "                        \"class\" : \"Distribution\",\n",
       "                        \"name\" : \"LogNormalDistribution\",\n",
       "                        \"parameters\" : [\n",
       "                            -1.2016720901139963,\n",
       "                            0.5891919855702662\n",
       "                        ],\n",
       "                        \"frozen\" : false\n",
       "                    },\n",
       "                    {\n",
       "                        \"class\" : \"Distribution\",\n",
       "                        \"name\" : \"ExponentialDistribution\",\n",
       "                        \"parameters\" : [\n",
       "                            0.010167268183697146\n",
       "                        ],\n",
       "                        \"frozen\" : false\n",
       "                    }\n",
       "                ],\n",
       "                [\n",
       "                    1.0,\n",
       "                    1.0,\n",
       "                    1.0\n",
       "                ]\n",
       "            ],\n",
       "            \"frozen\" : false\n",
       "        }\n",
       "    ],\n",
       "    \"weights\" : [\n",
       "        0.4,\n",
       "        0.6\n",
       "    ]\n",
       "}"
      ]
     },
     "execution_count": 20,
     "metadata": {},
     "output_type": "execute_result"
    }
   ],
   "source": [
    "X1 = numpy.array([numpy.random.normal(7, 2, size=400),\n",
    "                  numpy.random.lognormal(-0.8, 0.8, size=400),\n",
    "                  numpy.random.exponential(50, size=400)]).T\n",
    "\n",
    "X2 = numpy.array([numpy.random.normal(8, 2, size=600),\n",
    "                  numpy.random.lognormal(-1.2, 0.6, size=600),\n",
    "                  numpy.random.exponential(100, size=600)]).T\n",
    "\n",
    "X = numpy.concatenate([X1, X2])\n",
    "y = numpy.zeros(1000)\n",
    "y[400:] = 1\n",
    "\n",
    "NaiveBayes.from_samples([NormalDistribution, LogNormalDistribution, ExponentialDistribution], X, y)"
   ]
  },
  {
   "cell_type": "markdown",
   "metadata": {},
   "source": [
    "Modeling each feature independently is allowed for naive Bayes, mixtures, and hidden Markov models. This is very useful when trying to capture different dynamics in different features.\n",
    "\n",
    "#### Stacking models on top of each other\n",
    "\n",
    "Next, another feature that emerges when you treat all models as probability distributions is that they can be easily stacked within each other. For example, if a mixture is just a probability distribution, then naturally you should be able to make a mixture Bayes classifier by dropping a `GeneralMixtureModel` into a `BayesClassifier` just as easily as a Gaussian Bayes classifier by dropping a `MultivariateGaussianDistribution` into the `BayesClassifier`."
   ]
  },
  {
   "cell_type": "code",
   "execution_count": 23,
   "metadata": {},
   "outputs": [
    {
     "name": "stdout",
     "output_type": "stream",
     "text": [
      "-4012.4121095570604\n",
      "-3904.723017794966\n"
     ]
    }
   ],
   "source": [
    "X = numpy.concatenate([numpy.random.normal((5, 1), 1, size=(200, 2)),\n",
    "                       numpy.random.normal((6, 4), 1, size=(200, 2)),\n",
    "                       numpy.random.normal((3, 5), 1, size=(350, 2)),\n",
    "                       numpy.random.normal((7, 6), 1, size=(250, 2))])\n",
    "\n",
    "y = numpy.zeros(1000)\n",
    "y[400:] = 1\n",
    "\n",
    "model = BayesClassifier.from_samples(MultivariateGaussianDistribution, X, y)\n",
    "print(model.log_probability(X).sum())\n",
    "\n",
    "\n",
    "d1 = GeneralMixtureModel.from_samples(MultivariateGaussianDistribution, 2, X[y == 0])\n",
    "d2 = GeneralMixtureModel.from_samples(MultivariateGaussianDistribution, 2, X[y == 1])\n",
    "model2 = BayesClassifier([d1, d2], [0.4, 0.6])\n",
    "print(model2.log_probability(X).sum())"
   ]
  },
  {
   "cell_type": "markdown",
   "metadata": {},
   "source": [
    "In this case we build data that intentionally has 4 clusters, of which each class is composed of two of the clusters. A simple normal distribution is unlikely to capture this well, but a mixture model is built specifically to model distributions that are composed of multiple parts. We can see that the correspond log probability is much higher when we incorporate the mixture model in. There is an implementation detail that doesn't allow you yet to pass in a compositional model into the `from_samples` method quite yet, but in this case it is fairly simple to break up the data such that we build the model ourselves."
   ]
  },
  {
   "cell_type": "markdown",
   "metadata": {},
   "source": [
    "### Speed\n",
    "\n",
    "pomegranate uses a Cython backend for the computationally intensive aspects of the calculation, both dramatically speeding up calculations and allowing for multithreading to be utilized.\n",
    "\n",
    "#### numpy\n",
    "\n",
    "pomegranate used to be consistently faster than numpy at fitting probability distributions to data, when compared to performing the same operations in numpy. However, due to consistent improvements in numpy, it is now a more complicated picture. For example, let's look at fitting a normal distribution to 1,000 samples."
   ]
  },
  {
   "cell_type": "code",
   "execution_count": 24,
   "metadata": {},
   "outputs": [
    {
     "name": "stdout",
     "output_type": "stream",
     "text": [
      "152 µs ± 0 ns per loop (mean ± std. dev. of 1 run, 1 loop each)\n",
      "336 µs ± 0 ns per loop (mean ± std. dev. of 1 run, 1 loop each)\n"
     ]
    }
   ],
   "source": [
    "X = numpy.random.normal(4, 1, size=1000)\n",
    "\n",
    "%timeit -n 1 -r 1 numpy.mean(X), numpy.std(X)\n",
    "%timeit -n 1 -r 1 NormalDistribution.from_samples(X)"
   ]
  },
  {
   "cell_type": "markdown",
   "metadata": {},
   "source": [
    "pomegranate appears to be a bit faster, but the total amount of time is negligble one way or another. If we increase the size of the data we're using to 10 million samples:"
   ]
  },
  {
   "cell_type": "code",
   "execution_count": 25,
   "metadata": {},
   "outputs": [
    {
     "name": "stdout",
     "output_type": "stream",
     "text": [
      "52.9 ms ± 903 µs per loop (mean ± std. dev. of 7 runs, 10 loops each)\n",
      "67.8 ms ± 577 µs per loop (mean ± std. dev. of 7 runs, 10 loops each)\n"
     ]
    }
   ],
   "source": [
    "X = numpy.random.normal(4, 1, size=10000000)\n",
    "\n",
    "%timeit numpy.mean(X), numpy.std(X)\n",
    "%timeit NormalDistribution.from_samples(X)"
   ]
  },
  {
   "cell_type": "markdown",
   "metadata": {},
   "source": [
    "It looks like pomegranate is more comparable to numpy.\n",
    "\n",
    "Let's now look at fitting a multivariate Gaussian distribution. The calculation of a covariance matrix requires a dot product, which numpy accelerates using BLAS. pomegranate uses a Cython wrapper of BLAS and so can take advantage of those speed improvements. Let's look at fitting to one million data points with 3 dimensions."
   ]
  },
  {
   "cell_type": "code",
   "execution_count": 26,
   "metadata": {},
   "outputs": [
    {
     "name": "stdout",
     "output_type": "stream",
     "text": [
      "51.2 ms ± 838 µs per loop (mean ± std. dev. of 7 runs, 10 loops each)\n",
      "33.2 ms ± 247 µs per loop (mean ± std. dev. of 7 runs, 10 loops each)\n"
     ]
    }
   ],
   "source": [
    "X = numpy.random.normal(4, 1, size=(1000000, 3))\n",
    "\n",
    "%timeit numpy.mean(X, axis=0), numpy.cov(X, rowvar=False, ddof=0)\n",
    "%timeit MultivariateGaussianDistribution.from_samples(X)"
   ]
  },
  {
   "cell_type": "markdown",
   "metadata": {},
   "source": [
    "It looks like pomegranate is around the same speed here. However, if we fit to a 1000 dimensional sample rather than a 3 dimensional one:"
   ]
  },
  {
   "cell_type": "code",
   "execution_count": 27,
   "metadata": {},
   "outputs": [
    {
     "name": "stdout",
     "output_type": "stream",
     "text": [
      "2.45 s ± 76.8 ms per loop (mean ± std. dev. of 7 runs, 1 loop each)\n",
      "4.99 s ± 612 ms per loop (mean ± std. dev. of 7 runs, 1 loop each)\n"
     ]
    }
   ],
   "source": [
    "X = numpy.random.normal(4, 1, size=(100000, 1000))\n",
    "\n",
    "%timeit numpy.mean(X, axis=0), numpy.cov(X, rowvar=False, ddof=0)\n",
    "%timeit MultivariateGaussianDistribution.from_samples(X)"
   ]
  },
  {
   "cell_type": "markdown",
   "metadata": {},
   "source": [
    "Now it looks like pomegranate is slower than numpy.\n",
    "\n",
    "The main take-away when compared to numpy is that pomegranate and numpy appear to perform similarly. As the samples become larger numpy becomes faster than pomegranate, but they're both within an order of magnitude of each other one way or another. If you're trying to do basic operations on a large amount of data, you may want to stick with using numpy."
   ]
  },
  {
   "cell_type": "markdown",
   "metadata": {},
   "source": [
    "#### scipy\n",
    "\n",
    "scipy can be used to calculate probabilities of samples given a distribution. This corresponds to the `probability` and `log_probability` functions in pomegranate. Let's see how long it takes to calculate these probabilities in the two packages given a normal distrubution."
   ]
  },
  {
   "cell_type": "code",
   "execution_count": 29,
   "metadata": {},
   "outputs": [
    {
     "name": "stdout",
     "output_type": "stream",
     "text": [
      "581 ms ± 12.5 ms per loop (mean ± std. dev. of 7 runs, 1 loop each)\n",
      "47.2 ms ± 883 µs per loop (mean ± std. dev. of 7 runs, 10 loops each)\n",
      "\n",
      "logp difference: -3.990151116406437e-06\n"
     ]
    }
   ],
   "source": [
    "from scipy.stats import norm\n",
    "\n",
    "d = NormalDistribution(0, 1)\n",
    "x = numpy.random.normal(0, 1, size=(10000000,))\n",
    "\n",
    "%timeit norm.logpdf(x, 0, 1)\n",
    "%timeit NormalDistribution(0, 1).log_probability(x)\n",
    "\n",
    "print(\"\\nlogp difference: {}\".format((norm.logpdf(x, 0, 1) - NormalDistribution(0, 1).log_probability(x)).sum()))"
   ]
  },
  {
   "cell_type": "markdown",
   "metadata": {},
   "source": [
    "Looks like it can be significantly faster. Let's also look at a large multivariate normal distribution with 2500 dimensions."
   ]
  },
  {
   "cell_type": "code",
   "execution_count": 30,
   "metadata": {},
   "outputs": [
    {
     "name": "stdout",
     "output_type": "stream",
     "text": [
      "3.39 s ± 25.1 ms per loop (mean ± std. dev. of 7 runs, 1 loop each)\n",
      "796 ms ± 6.07 ms per loop (mean ± std. dev. of 7 runs, 1 loop each)\n",
      "171 ms ± 1.5 ms per loop (mean ± std. dev. of 7 runs, 10 loops each)\n",
      "\n",
      "logp difference: 8.183596946764737e-07\n"
     ]
    }
   ],
   "source": [
    "from scipy.stats import multivariate_normal\n",
    "\n",
    "dim = 2500\n",
    "n = 1000\n",
    "\n",
    "mu = numpy.random.normal(6, 1, size=dim)\n",
    "cov = numpy.eye(dim)\n",
    "\n",
    "X = numpy.random.normal(8, 1, size=(n, dim))\n",
    "\n",
    "d = MultivariateGaussianDistribution(mu, cov)\n",
    "\n",
    "%timeit multivariate_normal.logpdf(X, mu, cov)\n",
    "%timeit MultivariateGaussianDistribution(mu, cov).log_probability(X)\n",
    "%timeit d.log_probability(X)\n",
    "\n",
    "print(\"\\nlogp difference: {}\".format((multivariate_normal.logpdf(X, mu, cov) - d.log_probability(X)).sum()))"
   ]
  },
  {
   "cell_type": "markdown",
   "metadata": {},
   "source": [
    "One of the reasons which pomegranate can be so fast at calculating log probabilities is that it is able to cache parts of the logpdf equation so that it doesn't need to do all of the calculations each time. For example, let's look at the Normal distribution pdf equation:\n",
    "\n",
    "\\begin{equation}\n",
    "P(X|\\mu, \\sigma) = \\frac{1}{\\sqrt{2\\pi}\\sigma} exp \\left( -\\frac{(x - \\mu)^{2}}{2\\sigma^{2}} \\right) \\\\\n",
    "\\end{equation}\n",
    "\n",
    "We can take the log of this to simplify it.\n",
    "\n",
    "\\begin{equation}\n",
    "logP(X|\\mu, \\sigma) = -\\log \\left(\\sqrt{2\\pi}\\sigma \\right) - \\frac{(x-\\mu)^{2}}{2\\sigma^{2}}\n",
    "\\end{equation}\n",
    "\n",
    "pomegranate speeds up this calculation by caching $-\\log(\\sqrt{2\\pi}\\sigma)$ and $2\\sigma^{2}$ when the object is created. This means that the equation is simplified to the following:\n",
    "\n",
    "\\begin{equation}\n",
    "logP(X|\\mu, \\sigma) = \\alpha - \\frac{(x - \\mu)^{2}}{\\beta}\n",
    "\\end{equation}\n",
    "\n",
    "We don't need to calculate any logs or exponentials here, just a difference, a multiplication, a division, and a subtraction."
   ]
  },
  {
   "cell_type": "markdown",
   "metadata": {},
   "source": [
    "#### scikit-learn\n",
    "\n",
    "scikit-learn and pomegranate overlap when it comes to naive Bayes classifiers and mixture models. In pomegranate, both of these model types can be used with any distribution, allowing mixtures of exponentials or log-normals to be made just as easily as mixtures of Gaussians, whereas in scikit-learn only Gaussians or multinomials are allowed. Let's compare speed of the overlap."
   ]
  },
  {
   "cell_type": "code",
   "execution_count": 33,
   "metadata": {},
   "outputs": [
    {
     "name": "stderr",
     "output_type": "stream",
     "text": [
      "/Users/ksachdeva/Desktop/Dev/myoss/pomegranate/env/lib/python3.7/site-packages/sklearn/mixture/_base.py:267: ConvergenceWarning: Initialization 1 did not converge. Try different init parameters, or increase max_iter, tol or check for degenerate data.\n",
      "  % (init + 1), ConvergenceWarning)\n",
      "/Users/ksachdeva/Desktop/Dev/myoss/pomegranate/env/lib/python3.7/site-packages/sklearn/mixture/_base.py:267: ConvergenceWarning: Initialization 1 did not converge. Try different init parameters, or increase max_iter, tol or check for degenerate data.\n",
      "  % (init + 1), ConvergenceWarning)\n",
      "/Users/ksachdeva/Desktop/Dev/myoss/pomegranate/env/lib/python3.7/site-packages/sklearn/mixture/_base.py:267: ConvergenceWarning: Initialization 1 did not converge. Try different init parameters, or increase max_iter, tol or check for degenerate data.\n",
      "  % (init + 1), ConvergenceWarning)\n",
      "/Users/ksachdeva/Desktop/Dev/myoss/pomegranate/env/lib/python3.7/site-packages/sklearn/mixture/_base.py:267: ConvergenceWarning: Initialization 1 did not converge. Try different init parameters, or increase max_iter, tol or check for degenerate data.\n",
      "  % (init + 1), ConvergenceWarning)\n",
      "/Users/ksachdeva/Desktop/Dev/myoss/pomegranate/env/lib/python3.7/site-packages/sklearn/mixture/_base.py:267: ConvergenceWarning: Initialization 1 did not converge. Try different init parameters, or increase max_iter, tol or check for degenerate data.\n",
      "  % (init + 1), ConvergenceWarning)\n",
      "/Users/ksachdeva/Desktop/Dev/myoss/pomegranate/env/lib/python3.7/site-packages/sklearn/mixture/_base.py:267: ConvergenceWarning: Initialization 1 did not converge. Try different init parameters, or increase max_iter, tol or check for degenerate data.\n",
      "  % (init + 1), ConvergenceWarning)\n",
      "/Users/ksachdeva/Desktop/Dev/myoss/pomegranate/env/lib/python3.7/site-packages/sklearn/mixture/_base.py:267: ConvergenceWarning: Initialization 1 did not converge. Try different init parameters, or increase max_iter, tol or check for degenerate data.\n",
      "  % (init + 1), ConvergenceWarning)\n",
      "/Users/ksachdeva/Desktop/Dev/myoss/pomegranate/env/lib/python3.7/site-packages/sklearn/mixture/_base.py:267: ConvergenceWarning: Initialization 1 did not converge. Try different init parameters, or increase max_iter, tol or check for degenerate data.\n",
      "  % (init + 1), ConvergenceWarning)\n"
     ]
    },
    {
     "name": "stdout",
     "output_type": "stream",
     "text": [
      "1.79 s ± 160 ms per loop (mean ± std. dev. of 7 runs, 1 loop each)\n",
      "1.43 s ± 107 ms per loop (mean ± std. dev. of 7 runs, 1 loop each)\n"
     ]
    }
   ],
   "source": [
    "from sklearn.mixture import GaussianMixture\n",
    "\n",
    "X = numpy.random.normal(8, 1, size=(10000, 100))\n",
    "\n",
    "%timeit model1 = GaussianMixture(5, max_iter=10).fit(X)\n",
    "%timeit model2 = GeneralMixtureModel.from_samples(MultivariateGaussianDistribution, 5, X, max_iterations=10)"
   ]
  },
  {
   "cell_type": "markdown",
   "metadata": {},
   "source": [
    "It looks like the two are approximately the same speed on a single thread. Let's look at naive Bayes now."
   ]
  },
  {
   "cell_type": "code",
   "execution_count": 34,
   "metadata": {},
   "outputs": [
    {
     "name": "stdout",
     "output_type": "stream",
     "text": [
      "1.14 s ± 104 ms per loop (mean ± std. dev. of 7 runs, 1 loop each)\n",
      "1.37 s ± 10.5 ms per loop (mean ± std. dev. of 7 runs, 1 loop each)\n"
     ]
    }
   ],
   "source": [
    "from sklearn.naive_bayes import GaussianNB\n",
    "\n",
    "X = numpy.random.normal(8, 1, size=(100000, 500))\n",
    "X[:50000] += 1\n",
    "\n",
    "y = numpy.zeros(100000)\n",
    "y[:50000] = 1\n",
    "\n",
    "%timeit GaussianNB().fit(X, y)\n",
    "%timeit NaiveBayes.from_samples(NormalDistribution, X, y)"
   ]
  },
  {
   "cell_type": "markdown",
   "metadata": {},
   "source": [
    "It looks like scikit-learn is a bit faster when it comes to training a Gaussian naive Bayes model. \n",
    "\n",
    "Much like with the comparisons to numpy, if scikit-learn has something easily implemented, it's likely better to try to use their implementation. The goal of pomegranate is not to step on the feet of these other packages, but rather to provide similarly-fast implementations that extend to other probability distributions. For example, you can train a log normal naive Bayes in the following manner:"
   ]
  },
  {
   "cell_type": "code",
   "execution_count": 35,
   "metadata": {},
   "outputs": [],
   "source": [
    "model = NaiveBayes.from_samples(LogNormalDistribution, X, y)"
   ]
  },
  {
   "cell_type": "markdown",
   "metadata": {},
   "source": [
    "No such functionality yet exists in scikit-learn to train naive Bayes models for arbitrary distributions."
   ]
  }
 ],
 "metadata": {
  "kernelspec": {
   "display_name": "Python 3",
   "language": "python",
   "name": "python3"
  },
  "language_info": {
   "codemirror_mode": {
    "name": "ipython",
    "version": 3
   },
   "file_extension": ".py",
   "mimetype": "text/x-python",
   "name": "python",
   "nbconvert_exporter": "python",
   "pygments_lexer": "ipython3",
   "version": "3.7.4"
  },
  "toc": {
   "base_numbering": 1,
   "nav_menu": {},
   "number_sections": true,
   "sideBar": true,
   "skip_h1_title": false,
   "title_cell": "Table of Contents",
   "title_sidebar": "Contents",
   "toc_cell": false,
   "toc_position": {},
   "toc_section_display": true,
   "toc_window_display": false
  }
 },
 "nbformat": 4,
 "nbformat_minor": 1
}
