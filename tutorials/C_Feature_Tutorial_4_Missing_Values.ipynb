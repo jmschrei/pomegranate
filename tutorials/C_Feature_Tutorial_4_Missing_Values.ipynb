{
 "cells": [
  {
   "cell_type": "markdown",
   "metadata": {},
   "source": [
    "## Missing Value Support\n",
    "\n",
    "author: Jacob Schreiber <br>\n",
    "contact:\n",
    "jmschreiber91@gmail.com\n",
    "\n",
    "The majority of machine learning algorithms assume that they are operating on a\n",
    "fully observed data set. In contast, a great deal of data sets in the real world\n",
    "are missing some values. Sometimes, this missingness is missing at random (MAR),\n",
    "which means that there is no important pattern to the missingness, and sometimes\n",
    "the missingness itself can be interpreted as a feature. For example, in the\n",
    "Titanic data set, males were more likely to have missing records than females\n",
    "were, and those without children were more likely to have missing records. \n",
    "\n",
    "A\n",
    "common approach to bridging this gap is to impute the missing values and then\n",
    "treat the entire data set as observed. For continuous features this is commonly\n",
    "done by replacing the missing values with the mean or median of the column. For\n",
    "categorical variables it is commonly done by replacing the missing values with\n",
    "the most common category observed in that column. While these techniques are\n",
    "simple and allow for almost any ML algorithm to be run, they are frequently\n",
    "suboptimal. Consider the follow simple example of continuous data that is\n",
    "bimodally distributed:"
   ]
  },
  {
   "cell_type": "code",
   "execution_count": null,
   "metadata": {},
   "outputs": [],
   "source": [
    "%matplotlib inline\n",
    "import time\n",
    "import pandas\n",
    "import random\n",
    "import numpy\n",
    "import matplotlib.pyplot as plt\n",
    "import seaborn; seaborn.set_style('whitegrid')\n",
    "import itertools\n",
    "\n",
    "from pomegranate import *\n",
    "\n",
    "random.seed(0)\n",
    "numpy.random.seed(0)\n",
    "numpy.set_printoptions(suppress=True)\n",
    "\n",
    "%load_ext watermark\n",
    "%watermark -m -n -p numpy,scipy,pomegranate"
   ]
  },
  {
   "cell_type": "code",
   "execution_count": null,
   "metadata": {},
   "outputs": [],
   "source": [
    "%pylab inline\n",
    "from pomegranate import *\n",
    "import seaborn\n",
    "seaborn.set_style('whitegrid')\n",
    "numpy.random.seed(0)"
   ]
  },
  {
   "cell_type": "code",
   "execution_count": null,
   "metadata": {},
   "outputs": [],
   "source": [
    "X = numpy.concatenate([numpy.random.normal(0, 1, size=(1000)), numpy.random.normal(6, 1, size=(1250))])\n",
    "\n",
    "plt.title(\"Bimodal Distribution\", fontsize=14)\n",
    "plt.hist(X, bins=numpy.arange(-3, 9, 0.1), alpha=0.6)\n",
    "plt.ylabel(\"Count\", fontsize=14)\n",
    "plt.yticks(fontsize=12)\n",
    "plt.xlabel(\"Value\", fontsize=14)\n",
    "plt.yticks(fontsize=12)\n",
    "plt.vlines(numpy.mean(X), 0, 80, color='r', label=\"Mean\")\n",
    "plt.vlines(numpy.median(X), 0, 80, color='b', label=\"Median\")\n",
    "plt.legend(fontsize=14)\n",
    "plt.show()"
   ]
  },
  {
   "cell_type": "markdown",
   "metadata": {},
   "source": [
    "The data peaks around 0 and around 6. Replacing the missing values with ~3 will\n",
    "be inserting values into the data set that mostly don't exist in the observed\n",
    "values. The median is slightly better, but will still cause the imputed values\n",
    "to be in one of the two clusters. This has the effect of essentially increasing\n",
    "the variance of the appropriate distribution. Let's take a look at what the\n",
    "distribution looks like if we add 500 missing values and then impute them using\n",
    "the mean of the observed values."
   ]
  },
  {
   "cell_type": "code",
   "execution_count": null,
   "metadata": {},
   "outputs": [],
   "source": [
    "X = numpy.concatenate([X, [numpy.nan]*500])\n",
    "X_imp = X.copy()\n",
    "X_imp[numpy.isnan(X_imp)] = numpy.mean(X_imp[~numpy.isnan(X_imp)])\n",
    "\n",
    "plt.title(\"Bimodal Distribution\", fontsize=14)\n",
    "plt.hist(X_imp, bins=numpy.arange(-3, 9, 0.1), alpha=0.6)\n",
    "plt.ylabel(\"Count\", fontsize=14)\n",
    "plt.yticks(fontsize=12)\n",
    "plt.xlabel(\"Value\", fontsize=14)\n",
    "plt.yticks(fontsize=12)\n",
    "plt.vlines(numpy.mean(X), 0, 80, color='r', label=\"Mean\")\n",
    "plt.vlines(numpy.median(X), 0, 80, color='b', label=\"Median\")\n",
    "plt.legend(fontsize=14)\n",
    "plt.show()"
   ]
  },
  {
   "cell_type": "markdown",
   "metadata": {},
   "source": [
    "It doesn't appear to be that great. We can see the issue with increased variance\n",
    "by trying to fit a Gaussian mixture model to the data with the imputed values,\n",
    "versus fitting it to the data and ignoring missing values."
   ]
  },
  {
   "cell_type": "code",
   "execution_count": null,
   "metadata": {},
   "outputs": [],
   "source": [
    "x = numpy.arange(-3, 9, 0.1)\n",
    "model1 = GeneralMixtureModel.from_samples(NormalDistribution, 2, X_imp.reshape(X_imp.shape[0], 1))\n",
    "model2 = GeneralMixtureModel.from_samples(NormalDistribution, 2, X.reshape(X.shape[0], 1))\n",
    "p1 = model1.probability(x.reshape(x.shape[0], 1))\n",
    "p2 = model2.probability(x.reshape(x.shape[0], 1))\n",
    "\n",
    "plt.figure(figsize=(12, 3))\n",
    "plt.subplot(121)\n",
    "plt.title(\"Mean Impute Missing Values\", fontsize=14)\n",
    "plt.hist(X_imp, bins=x, alpha=0.6, density=True)\n",
    "plt.plot(x, p1, color='b')\n",
    "plt.ylabel(\"Count\", fontsize=14); plt.yticks(fontsize=12)\n",
    "plt.xlabel(\"Value\", fontsize=14); plt.yticks(fontsize=12)\n",
    "\n",
    "plt.subplot(122)\n",
    "plt.title(\"Ignore Missing Values\", fontsize=14)\n",
    "plt.hist(X[~numpy.isnan(X)], bins=x, alpha=0.6, density=True)\n",
    "plt.plot(x, p2, color='b')\n",
    "plt.ylabel(\"Count\", fontsize=14); plt.yticks(fontsize=12)\n",
    "plt.xlabel(\"Value\", fontsize=14); plt.yticks(fontsize=12)\n",
    "plt.show()"
   ]
  },
  {
   "cell_type": "markdown",
   "metadata": {},
   "source": [
    "When we impute the missing values, it seems that one component is fit properly\n",
    "and one has drastically increased variance. In contrast, when we ignore the\n",
    "missing values, we fit a model that represents the underlying data much more\n",
    "faithfully.\n",
    "\n",
    "At this point, you may think that as long as the data comes from a\n",
    "single distribution it shouldn't matter if you do a mean imputation of the data.\n",
    "However, this has the effect of shrinking the variance inappropriately. Let's\n",
    "take a look quickly at data drawn from a single Gaussian."
   ]
  },
  {
   "cell_type": "code",
   "execution_count": null,
   "metadata": {},
   "outputs": [],
   "source": [
    "X = numpy.concatenate([numpy.random.normal(0, 1, size=(750)), [numpy.nan]*250])\n",
    "X_imp = X.copy()\n",
    "X_imp[numpy.isnan(X_imp)] = numpy.mean(X_imp[~numpy.isnan(X_imp)])\n",
    "\n",
    "x = numpy.arange(-3, 3, 0.1)\n",
    "d1 = NormalDistribution.from_samples(X_imp)\n",
    "d2 = NormalDistribution.from_samples(X)\n",
    "p1 = d1.probability(x.reshape(x.shape[0], 1))\n",
    "p2 = d2.probability(x.reshape(x.shape[0], 1))\n",
    "\n",
    "plt.figure(figsize=(12, 3))\n",
    "plt.subplot(121)\n",
    "plt.title(\"Mean Impute Missing Values\", fontsize=14)\n",
    "plt.hist(X_imp, bins=x, alpha=0.6, density=True, label=\"$\\sigma$ = {:4.4}\".format(d1.parameters[1]))\n",
    "plt.plot(x, p1, color='b')\n",
    "plt.ylabel(\"Count\", fontsize=14); plt.yticks(fontsize=12)\n",
    "plt.xlabel(\"Value\", fontsize=14); plt.yticks(fontsize=12)\n",
    "plt.legend(fontsize=14)\n",
    "\n",
    "plt.subplot(122)\n",
    "plt.title(\"Ignore Missing Values\", fontsize=14)\n",
    "plt.hist(X[~numpy.isnan(X)], bins=x, alpha=0.6, density=True, label=\"$\\sigma$ = {:4.4}\".format(d2.parameters[1]))\n",
    "plt.plot(x, p2, color='b')\n",
    "plt.ylabel(\"Count\", fontsize=14); plt.yticks(fontsize=12)\n",
    "plt.xlabel(\"Value\", fontsize=14); plt.yticks(fontsize=12)\n",
    "plt.legend(fontsize=14)\n",
    "plt.show()"
   ]
  },
  {
   "cell_type": "markdown",
   "metadata": {},
   "source": [
    "Even when the data is all drawn from a single, Gaussian, distribution, it is not\n",
    "a great idea to do mean imputation. We can see that the standard deviation of\n",
    "the learned distribution is significantly smaller than the true standard\n",
    "deviation (of 1), whereas if the missing data is ignored the value is closer.\n",
    "\n",
    "This might all be intuitive for a single variable. However, the concept of only\n",
    "collecting sufficient statistics from values that are present in the data and\n",
    "ignoring the missing values can be used in much more complicated, and/or\n",
    "multivariate models. Let's take a look at how well one can estimate the\n",
    "covariance matrix of a multivariate Gaussian distribution using these two\n",
    "strategies."
   ]
  },
  {
   "cell_type": "code",
   "execution_count": null,
   "metadata": {},
   "outputs": [],
   "source": [
    "n, d, steps = 1000, 10, 50\n",
    "diffs1 = numpy.zeros(int(steps*0.86))\n",
    "diffs2 = numpy.zeros(int(steps*0.86))\n",
    "\n",
    "X = numpy.random.normal(6, 3, size=(n, d))\n",
    "\n",
    "for k, size in enumerate(range(0, int(n*d*0.86), n*d / steps)):\n",
    "    idxs = numpy.random.choice(numpy.arange(n*d), replace=False, size=size)\n",
    "    i, j = idxs / d, idxs % d\n",
    "\n",
    "    cov_true = numpy.cov(X, rowvar=False, bias=True)\n",
    "    X_nan = X.copy()\n",
    "    X_nan[i, j] = numpy.nan\n",
    "\n",
    "    X_mean = X_nan.copy()\n",
    "    for col in range(d):\n",
    "        mask = numpy.isnan(X_mean[:,col])\n",
    "        X_mean[mask, col] = X_mean[~mask, col].mean()\n",
    "\n",
    "    diff = numpy.abs(numpy.cov(X_mean, rowvar=False, bias=True) - cov_true).sum()\n",
    "    diffs1[k] = diff\n",
    "\n",
    "    dist = MultivariateGaussianDistribution.from_samples(X_nan)\n",
    "    diff = numpy.abs(numpy.array(dist.parameters[1]) - cov_true).sum()\n",
    "    diffs2[k] = diff"
   ]
  },
  {
   "cell_type": "code",
   "execution_count": null,
   "metadata": {},
   "outputs": [],
   "source": [
    "plt.title(\"Error in Multivariate Gaussian Covariance Matrix\", fontsize=16)\n",
    "plt.plot(diffs1, label=\"Mean\")\n",
    "plt.plot(diffs2, label=\"Ignore\")\n",
    "\n",
    "plt.xlabel(\"Percentage Missing\", fontsize=14)\n",
    "plt.ylabel(\"L1 Errors\", fontsize=14)\n",
    "plt.xticks(range(0, 51, 10), numpy.arange(0, 5001, 1000) / 5000.)\n",
    "plt.xlim(0, 50)\n",
    "plt.legend(fontsize=14)\n",
    "plt.show()"
   ]
  },
  {
   "cell_type": "markdown",
   "metadata": {},
   "source": [
    "In even the simplest case of Gaussian distributed data with a diagonal\n",
    "covariance matrix, it is more accurate to use the ignoring strategy rather than\n",
    "imputing the mean. When the data set is mostly unobserved the mean imputation\n",
    "strategy tends to do better in this case, but only because there is so little\n",
    "data for the ignoring strategy to actually train on. The deflation of the\n",
    "variance benefits the mean imputation strategy because all of the off-diagonal\n",
    "elements should be 0, but are likely to be artificially high when there are only\n",
    "few examples of the pairs of the variables co-existing in the dataset. This\n",
    "weakness in the ignoring strategy also makes it more likely to encounter linear\n",
    "algebra errors, such as a non-invertable covariance matrix.\n",
    "\n",
    "This long introduction is a way of saying that pomegranate uses a strategy of\n",
    "ignoring missing values instead of attempting to impute them, followed by\n",
    "fitting to the newly complete data set. There are other imputation strategies,\n",
    "such as those based on EM, that would be a natural fit with the types of\n",
    "probabilistic models implemented in pomegranate. While those have not yet been\n",
    "added, they would be a good addition that I hope to get to this year.\n",
    "\n",
    "Let's now\n",
    "take a look at how to use missing values in some pomegranate models!\n",
    "\n",
    "### 1. Distributions\n",
    "\n",
    "We've seen some examples of fitting distributions to\n",
    "missing data. For univariate distributions, the missing values are simply\n",
    "ignored when fitting to the data."
   ]
  },
  {
   "cell_type": "code",
   "execution_count": null,
   "metadata": {},
   "outputs": [],
   "source": [
    "X = numpy.random.randn(100)\n",
    "X_nan = numpy.concatenate([X, [numpy.nan]*100])\n",
    "\n",
    "print( \"Fitting only to observed values:\")\n",
    "print( NormalDistribution.from_samples(X))\n",
    "print( \"Fitting to observed and missing values:\")\n",
    "print( NormalDistribution.from_samples(X_nan))"
   ]
  },
  {
   "cell_type": "markdown",
   "metadata": {},
   "source": [
    "This may seem to be an obvious thing to do. However, it suggests a way for\n",
    "dealing with multivariate data being modeled with an\n",
    "IndependentComponentsDistribution when some of the features are missing.\n",
    "Specifically, treat each column independently, and update based on the observed\n",
    "values, regardless of if there is an unobserved value in the same sample but\n",
    "another column. For example:"
   ]
  },
  {
   "cell_type": "code",
   "execution_count": null,
   "metadata": {},
   "outputs": [],
   "source": [
    "X = numpy.random.normal(0, 1, size=(500, 3))\n",
    "idxs = numpy.random.choice(1500, replace=False, size=500)\n",
    "i, j = idxs // 3, idxs % 3\n",
    "X[i, j] = numpy.nan\n",
    "\n",
    "d = IndependentComponentsDistribution.from_samples(X, distributions=[NormalDistribution]*3)\n",
    "d"
   ]
  },
  {
   "cell_type": "markdown",
   "metadata": {},
   "source": [
    "Easy. As we saw above, we can do the same to learn a multivariate Gaussian\n",
    "distribution in the presence of missing data. Again, we don't need to change\n",
    "anything about how we interact with the data, and there are no flags to toggle.\n",
    "The last aspect is that the probability of missing data under any univariate\n",
    "distribution is 1, for the purposes of downstream algorithms."
   ]
  },
  {
   "cell_type": "code",
   "execution_count": null,
   "metadata": {},
   "outputs": [],
   "source": [
    "NormalDistribution(1, 2).probability(numpy.nan)"
   ]
  },
  {
   "cell_type": "markdown",
   "metadata": {},
   "source": [
    "In an IndependentComponentsDistribution, this just means that when multiplying\n",
    "together the probabilities of each feature to get the total probability, that\n",
    "some dimensions don't factor into the calculation."
   ]
  },
  {
   "cell_type": "code",
   "execution_count": null,
   "metadata": {},
   "outputs": [],
   "source": [
    "d.probability((numpy.nan, 2, 3))"
   ]
  },
  {
   "cell_type": "code",
   "execution_count": null,
   "metadata": {},
   "outputs": [],
   "source": [
    "d.distributions[1].probability(2) * d.distributions[2].probability(3)"
   ]
  },
  {
   "cell_type": "markdown",
   "metadata": {},
   "source": [
    "### 2. K-Means Clustering\n",
    "\n",
    "K-means clustering mostly serves a helper role in\n",
    "initializing mixture models and hidden Markov models. However, it can still be\n",
    "used by itself if desired. In addition to having the same parallelization and\n",
    "out-of-core capabilities of the main models, it also supports missing values\n",
    "now."
   ]
  },
  {
   "cell_type": "code",
   "execution_count": null,
   "metadata": {},
   "outputs": [],
   "source": [
    "X = numpy.concatenate([numpy.random.normal(0, 1, size=(50, 2)), numpy.random.normal(3, 1, size=(75, 2))])\n",
    "X_nan = X.copy()\n",
    "\n",
    "idxs = numpy.random.choice(250, replace=False, size=50)\n",
    "i, j = idxs // 2, idxs % 2\n",
    "X_nan[i, j] = numpy.nan"
   ]
  },
  {
   "cell_type": "markdown",
   "metadata": {},
   "source": [
    "Just like the other models, you don't need to change the method calls in order\n",
    "to handle missing data. You can fit a K-means model to data sets with missing\n",
    "values and make predictions on samples with missing values in the same way you\n",
    "would without missing values. The prediction step will assign samples to the\n",
    "nearest centroid in the dimensions that are observed, ignoring the missing\n",
    "values."
   ]
  },
  {
   "cell_type": "code",
   "execution_count": null,
   "metadata": {},
   "outputs": [],
   "source": [
    "model1 = Kmeans.from_samples(2, X)\n",
    "model2 = Kmeans.from_samples(2, X_nan)\n",
    "\n",
    "y1 = model1.predict(X)\n",
    "y2 = model2.predict(X_nan)\n",
    "\n",
    "plt.figure(figsize=(14, 6))\n",
    "plt.subplot(121)\n",
    "plt.title(\"Fit w/o Missing Values\", fontsize=16)\n",
    "plt.scatter(X[y1 == 0,0], X[y1 == 0,1], color='b')\n",
    "plt.scatter(X[y1 == 1,0], X[y1 == 1,1], color='r')\n",
    "\n",
    "plt.subplot(122)\n",
    "plt.title(\"Fit w/ Missing Values\", fontsize=16)\n",
    "plt.scatter(X[y2 == 0,0], X[y2 == 0,1], color='b')\n",
    "plt.scatter(X[y2 == 1,0], X[y2 == 1,1], color='r')\n",
    "plt.show()"
   ]
  },
  {
   "cell_type": "markdown",
   "metadata": {},
   "source": [
    "We can see that there are some blue points in the red cluster on the right plot\n",
    "because those samples are entirely NaN. Any sample that is entirely NaN is\n",
    "assigned to cluster 0. Otherwise, it's still able to identify the two clusters\n",
    "even there there are many missing values.\n",
    "\n",
    "### 3. General Mixture Models\n",
    "\n",
    "Missing value support for mixture models follows\n",
    "that of k-means fairly closely. Essentially, one passes in a data set containing\n",
    "missing values denoted as `numpy.nan` and they get used appropriately for the\n",
    "fit and predict steps. All methods automatically handle missing values\n",
    "appropriately without any additional flags or methods. \n",
    "\n",
    "Since training is an\n",
    "iterative procedure that involves calculating the probabilities of samples given\n",
    "each component, multivariate Gaussian mixtures will be much slower when handling\n",
    "missing values than they would be when using only observed values. This is\n",
    "because an inverse covariance matrix has to be calculated by subsetting the\n",
    "covariance matrix and inverting it based only on the observed dimensions for\n",
    "each sample. Each sample, then, needs its own matrix inversion. Since there is\n",
    "no single inverse covariance matrix, one also cannot use BLAS or a GPU to\n",
    "accelerate this step."
   ]
  },
  {
   "cell_type": "code",
   "execution_count": null,
   "metadata": {},
   "outputs": [],
   "source": [
    "X = numpy.concatenate([numpy.random.normal(0, 1, size=(1000, 10)), numpy.random.normal(2, 1, size=(1250, 10))])\n",
    "\n",
    "idxs = numpy.random.choice(22500, replace=False, size=5000)\n",
    "i, j = idxs // 10, idxs % 10\n",
    "\n",
    "X_nan = X.copy()\n",
    "X_nan[i, j] = numpy.nan\n",
    "\n",
    "%timeit GeneralMixtureModel.from_samples(MultivariateGaussianDistribution, 2, X, max_iterations=10)\n",
    "%timeit GeneralMixtureModel.from_samples(MultivariateGaussianDistribution, 2, X_nan, max_iterations=10)"
   ]
  },
  {
   "cell_type": "markdown",
   "metadata": {},
   "source": [
    "However, if one was modeling each dimension independently, there should be no\n",
    "hit at all!"
   ]
  },
  {
   "cell_type": "code",
   "execution_count": null,
   "metadata": {},
   "outputs": [],
   "source": [
    "%timeit -n 100 GeneralMixtureModel.from_samples([NormalDistribution]*2, 2, X, max_iterations=10)\n",
    "%timeit -n 100 GeneralMixtureModel.from_samples([NormalDistribution]*2, 2, X_nan, max_iterations=10)"
   ]
  },
  {
   "cell_type": "markdown",
   "metadata": {},
   "source": [
    "### 4. Naive Bayes / Bayes Classifiers\n",
    "\n",
    "Support for these models mirrors what's been seen before. However, since the\n",
    "fitting step does not involve calculating probabilities of samples, it should be\n",
    "no slower to train them on data sets involving missing values than to train them\n",
    "on dense data sets."
   ]
  },
  {
   "cell_type": "code",
   "execution_count": null,
   "metadata": {},
   "outputs": [],
   "source": [
    "y = numpy.concatenate([numpy.zeros(1000), numpy.ones(1250)])\n",
    "\n",
    "%timeit -n 100 BayesClassifier.from_samples(MultivariateGaussianDistribution, X, y)\n",
    "%timeit -n 100 BayesClassifier.from_samples(MultivariateGaussianDistribution, X_nan, y)"
   ]
  },
  {
   "cell_type": "markdown",
   "metadata": {},
   "source": [
    "Since pomegranate also has semi-supervised learning built-in, this means that\n",
    "one can now fit Bayes classifiers on data sets with missingness in both the\n",
    "labels and in the values! Since semi-supervised learning does rely on EM, it\n",
    "will be slower to train multivariate Gaussian models with missing values than\n",
    "not to."
   ]
  },
  {
   "cell_type": "code",
   "execution_count": null,
   "metadata": {},
   "outputs": [],
   "source": [
    "idx = numpy.random.choice(2250, replace=False, size=750)\n",
    "y_nan = y.copy()\n",
    "y_nan[idx] = -1\n",
    "\n",
    "model = BayesClassifier.from_samples(MultivariateGaussianDistribution, X_nan, y_nan, verbose=True)"
   ]
  },
  {
   "cell_type": "code",
   "execution_count": null,
   "metadata": {},
   "outputs": [],
   "source": [
    "%timeit BayesClassifier.from_samples(MultivariateGaussianDistribution, X, y_nan)\n",
    "%timeit BayesClassifier.from_samples(MultivariateGaussianDistribution, X_nan, y_nan)"
   ]
  },
  {
   "cell_type": "markdown",
   "metadata": {},
   "source": [
    "### 5. Hidden Markov Models\n",
    "\n",
    "Hidden Markov models are slightly different from\n",
    "the others, in that they operate over sequences. This adds another level of\n",
    "complication to the model because the forward and backward algorithms are needed\n",
    "in order to identify the best component for each observation. Typically this\n",
    "involves calculating the probability of each observation given each state, and\n",
    "taking the sum of all paths through the model, multiplying the transition\n",
    "probability of each edge crossed by the emission probability of the state you\n",
    "transition to emitting the next character. If this is a univariate model and the\n",
    "character is missing, you ignore the emission probability and just multiply by\n",
    "the transition probability. This is easily done by having the probability of\n",
    "missing values be 1 under all univariate models."
   ]
  },
  {
   "cell_type": "code",
   "execution_count": null,
   "metadata": {},
   "outputs": [],
   "source": [
    "d1 = DiscreteDistribution({'A': 0.25, 'B': 0.75})\n",
    "d2 = DiscreteDistribution({'A': 0.67, 'B': 0.33})\n",
    "\n",
    "s1 = State(d1, name=\"s1\")\n",
    "s2 = State(d2, name=\"s2\")\n",
    "\n",
    "model = HiddenMarkovModel()\n",
    "model.add_states(s1, s2)\n",
    "model.add_transition(model.start, s1, 1.0)\n",
    "model.add_transition(s1, s1, 0.5)\n",
    "model.add_transition(s1, s2, 0.5)\n",
    "model.add_transition(s2, s2, 0.5)\n",
    "model.add_transition(s2, s1, 0.5)\n",
    "model.bake()"
   ]
  },
  {
   "cell_type": "markdown",
   "metadata": {},
   "source": [
    "Now let's run the forward algorithm on a simple sequence."
   ]
  },
  {
   "cell_type": "code",
   "execution_count": null,
   "metadata": {},
   "outputs": [],
   "source": [
    "numpy.exp(model.forward(['A', 'B', 'A', 'A']))"
   ]
  },
  {
   "cell_type": "markdown",
   "metadata": {},
   "source": [
    "Let's see what happens when we remove one of the characters."
   ]
  },
  {
   "cell_type": "code",
   "execution_count": null,
   "metadata": {},
   "outputs": [],
   "source": [
    "numpy.exp(model.forward(['A', 'nan', 'A', 'A']))"
   ]
  },
  {
   "cell_type": "markdown",
   "metadata": {},
   "source": [
    "We can see that initially the first character is aligned to s1 because there is\n",
    "a 100% chance of going from the start state to s1. The value is 0.25 because it\n",
    "is equal to the transition probability (1.0) multiplied by the emission\n",
    "probability (0.25). In the next step, you can see that the probability is\n",
    "equally diffused between two options, staying in the current state (transition\n",
    "probability of 0.5) and moving to s2 (also transition probability of 0.5). Since\n",
    "the character is missing, there is no emission probability to multiply by. \n",
    "\n",
    "If\n",
    "we want to decode the sequence we can call the same methods as before."
   ]
  },
  {
   "cell_type": "code",
   "execution_count": null,
   "metadata": {},
   "outputs": [],
   "source": [
    "model.predict(['A', 'A', 'B', 'B', 'A', 'A'])"
   ]
  },
  {
   "cell_type": "code",
   "execution_count": null,
   "metadata": {},
   "outputs": [],
   "source": [
    "model.predict(['A', 'nan', 'B', 'B', 'nan', 'A'])"
   ]
  },
  {
   "cell_type": "markdown",
   "metadata": {},
   "source": [
    "Fitting is pretty much the same story as the previous models. Like the Bayes\n",
    "classifiers, one can now train a hidden Markov model in a supervised manner,\n",
    "having some observations in the sequence missing, but also labels on each\n",
    "observation. Labeled missing data can still be used to train the transition\n",
    "parameters.\n",
    "\n",
    "### 6. Bayesian Networks\n",
    "\n",
    "Bayesian networks could previously handle missing data\n",
    "in the `predict` and `predict_proba` methods. In fact, handling missing data was\n",
    "the area in which they excelled. However, one couldn't calculate the probability\n",
    "of a sample containing missing values, fit a Bayesian network to incomplete data\n",
    "sets, or learn the structure of a network on incomplete data sets. The new\n",
    "missing value support allows all of these things (except Chow-Liu tree building\n",
    "on missing data sets)! To be clear, there is a very common iterative technique\n",
    "for fitting/learning models on incomplete data sets using an iterative EM based\n",
    "approach. This does not do that. This only ignores sufficient statistics from\n",
    "missing samples, and so is not an iterative approach.\n",
    "\n",
    "Learning the structure of\n",
    "a network on an incomplete data set should take a similar amount of time as\n",
    "learning it on a complete data set. If you are indicating missing values in\n",
    "numeric data sets, you will have to convert your data set to floats, whereas\n",
    "previously integers would be fine. If your data set is complete, there is no\n",
    "need."
   ]
  },
  {
   "cell_type": "code",
   "execution_count": null,
   "metadata": {},
   "outputs": [],
   "source": [
    "X = numpy.random.randint(3, size=(500, 10)).astype('float64')\n",
    "\n",
    "idxs = numpy.random.choice(5000, replace=False, size=2000)\n",
    "i, j = idxs // 10, idxs % 10\n",
    "X_nan = X.copy()\n",
    "X_nan[i, j] = numpy.nan\n",
    "\n",
    "%timeit -n 100 BayesianNetwork.from_samples(X, algorithm='exact')\n",
    "%timeit -n 100 BayesianNetwork.from_samples(X_nan, algorithm='exact')"
   ]
  },
  {
   "cell_type": "markdown",
   "metadata": {},
   "source": [
    "## Conclusions\n",
    "\n",
    "Missing value support has been added to pomegranate as of\n",
    "v0.9.0! A lot of care was taken to make the interface as simple to the end user\n",
    "while not compromising on speed. While multivariate Gaussian distributions, and\n",
    "the compositional models that are built on top of them, may be slower on\n",
    "incomplete data sets than on complete ones, everything else should take a\n",
    "similar amount of time!\n",
    "\n",
    "The implemented missing value support focuses on\n",
    "ignoring data that is missing. Another approach that works well is to use an EM\n",
    "based algorithm to impute the missing values based on the observed values and\n",
    "the model and fit to that complete data set. This works well in the framework of\n",
    "probabilistic modeling and is a natural addition to pomegranate that I hope to\n",
    "add in the coming year.\n",
    "\n",
    "As always, feedback and questions are always welcome!"
   ]
  }
 ],
 "metadata": {},
 "nbformat": 4,
 "nbformat_minor": 2
}
